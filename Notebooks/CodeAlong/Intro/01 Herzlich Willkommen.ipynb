{
 "cells": [
  {
   "cell_type": "markdown",
   "id": "478584506378a0d2",
   "metadata": {
    "lang": "de",
    "slideshow": {
     "slide_type": "slide"
    },
    "tags": [
     "slide"
    ]
   },
   "source": [
    "\n",
    "<img src=\"data:image/png;base64,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\"\n",
    "     style=\"display:block;margin:auto;width:5%\"/>\n",
    "<br>\n",
    "\n",
    "<div style=\"text-align:center; font-size:200%;\">\n",
    " <b>Herzlich Willkommen!</b>\n",
    "</div>\n",
    "<br/>\n",
    "<div style=\"text-align:center; font-size:120%;\">Dr. Matthias Hölzl</div>\n",
    "<br/>\n",
    "<div style=\"text-align:center;\">Coding-Akademie München</div>\n",
    "<br/>\n",
    "<!-- 01 Herzlich Willkommen.ipynb -->\n",
    "<!-- slides/module_110_introduction/topic_110_welcome_embedded.cpp -->"
   ]
  },
  {
   "cell_type": "markdown",
   "id": "7b4475f1ff1111a5",
   "metadata": {
    "lang": "de",
    "slideshow": {
     "slide_type": "slide"
    },
    "tags": [
     "slide"
    ]
   },
   "source": [
    "# Herzlich Willkommen!\n",
    "\n",
    "Ich freue mich, Sie beim Kurs **Modernes Embedded C++** begrüßen zu dürfen.\n",
    "\n",
    "Wir werden in diesem Kurs viele spannende Themen zur Entwicklung von modernen\n",
    "C++-Programmen besprechen: Testen, Design-Patterns, Software-Architektur mit\n",
    "SOLID und GRASP und mehr.\n",
    "\n",
    "Der Kurs besteht aus Video-Material, Workshops und Live-Sessions. Am Anfang\n",
    "jeder Woche erhalten Sie Videos hier auf Memberspot, in denen die Kursinhalte\n",
    "besprochen werden. Zu vielen der Videos gibt es Workshops, die Sie im Laufe\n",
    "der Woche selbständig bearbeiten sollten. Hier können Sie die in den Videos\n",
    "besprochenen Techniken in der Praxis üben und vertiefen.\n",
    "\n",
    "Jeden Freitag treffen wir uns zu einer zweistündigen Live-Session, in der wir\n",
    "über die Inhalte der Woche diskutieren. Hier können Sie Fragen stellen,\n",
    "weitergehende Themen diskutieren, wir können zusammen live codieren, usw.\n",
    "\n",
    "Alle Inhalte zum Kurs finden Sie im zugehörigen [GitHub\n",
    "Repository](https://github.com/Coding-Academy-Munich/embedded-cpp-de/tree/master).\n",
    "Falls Sie mit Git vertraut sind, ist der beste Weg, um mit den Materialien zu\n",
    "arbeiten, das Repository zu klonen. Falls Sie nicht mit Git arbeiten, können\n",
    "Sie den Inhalt des Repositories als Zip-Datei herunterladen, indem Sie\n",
    "entweder auf die [Repository Home\n",
    "Page](https://github.com/Coding-Academy-Munich/embedded-cpp-de/tree/master)\n",
    "gehen, den grünen Button \"<> Code\" anklicken und \"Download ZIP\" auswählen,\n",
    "oder indem Sie [diesen\n",
    "Link](https://github.com/Coding-Academy-Munich/embedded-cpp-de/archive/refs/heads/master.zip)\n",
    "anklicken. Allerdings aktualisiere ich die Folien wahrscheinlich mehrmals\n",
    "während des Kurses; um diese Aktualisierungen zu bekommen, müssen Sie das ZIP\n",
    "Archiv nach den Updates neu herunterladen.\n",
    "\n",
    "Wir verwenden Jupyter Notebooks für die Folien des Kurses. Diese Notebooks\n",
    "erlauben die interaktive Ausführung von Code, direkt aus den Folien heraus.\n",
    "Alle Notebooks zum Kurs sind in den Kursmaterialien enthalten. In der\n",
    "Intro-Sektion finden Sie Videos, wie Sie die Notebooks mit einem Docker-Image\n",
    "auf Ihrem Rechner ausführen können. Jedes Notebook gibt es in zwei Varianten:\n",
    "Als fertige Folien, in denen der komplette Code und die Lösung aller Aufgaben\n",
    "enthalten sind, und als Code-Along, in dem Teile des Quellcodes und die\n",
    "Lösungen der Aufgaben fehlen. Ich verwende die Code-Alongs in den Videos, und\n",
    "Sie können diese Notebooks gerne verwenden, wenn Sie zusammen mit mir bei den\n",
    "Live-Coding Teilen der Videos mitmachen wollen (was ich Ihnen sehr empfehlen\n",
    "würde). Die Notebooks sind im Ordner \"Notebooks\" in den Kursmaterialien, mit\n",
    "Folien und Code-Alongs in Unterordnern.\n",
    "\n",
    "Falls Sie die Folien nur ansehen wollen, ohne selber beim Live-Coding\n",
    "mitzumachen, gibt es auch eine HTML-Version davon. Diese ist im Ordner `Html`\n",
    "zu finden, ebenfalls mit den Unterordnern `CodeAlong` und `Folien`.\n",
    "\n",
    "Wir haben eine experimentelle weitere Möglichkeit, wie Sie mit den Notebooks\n",
    "arbeiten können: Unter [https://jh1.mhoelzl.de/](https://jh1.mhoelzl.de/)\n",
    "haben wir einen JupyterLab Server installiert, auf dem Sie sich mit dem Namen\n",
    "aus Ihrer Email-Adresse in Kleinbuchstaben einloggen können. Falls Ihre\n",
    "Email-Adresse, z.B. `Max.Mustermann@example.com` ist, so ist ihr Login-Name\n",
    "`max.mustermann`. Beim ersten Login können Sie selber ein Passwort vergeben,\n",
    "um sich einzuloggen. Danach können Sie mit [folgendem\n",
    "Link](https://jh1.mhoelzl.de/hub/user-redirect/git-pull?repo=https%3A%2F%2Fgithub.com%2FCoding-Academy-Munich%2Fembedded-cpp-de&urlpath=lab%2Ftree%2Fembedded-cpp-de%2FNotebooks%2FFolien%2FIntro%2F11+Arbeiten+mit+Notebooks.ipynb&branch=master)\n",
    "den Inhalt des GitHub Repositories auf den Server kopieren und mit den\n",
    "interaktiven Folien arbeiten. Mit dem gleichen Link können Sie auch die\n",
    "Folien auf dem Server aktualisieren, wenn es eine neue Version gibt.\n",
    "\n",
    "Ich wünsche Ihnen viel Spaß und Erfolg bei dem Kurs!\n",
    "\n",
    "Matthias Hölzl"
   ]
  }
 ],
 "metadata": {
  "kernelspec": {
   "display_name": "C++17",
   "language": "C++17",
   "name": "xcpp17"
  },
  "language_info": {
   "codemirror_mode": "text/x-c++src",
   "file_extension": ".cpp",
   "mimetype": "text/x-c++src",
   "name": "c++",
   "version": "17"
  }
 },
 "nbformat": 4,
 "nbformat_minor": 5
}
