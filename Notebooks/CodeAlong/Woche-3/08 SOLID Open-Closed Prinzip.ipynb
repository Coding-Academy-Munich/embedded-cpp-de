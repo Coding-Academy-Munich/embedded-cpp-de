{
 "cells": [
  {
   "cell_type": "markdown",
   "id": "c84dcf11c29bd031",
   "metadata": {
    "lang": "de",
    "slideshow": {
     "slide_type": "slide"
    },
    "tags": [
     "slide"
    ]
   },
   "source": [
    "\n",
    "<img src=\"data:image/png;base64,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\"\n",
    "     style=\"display:block;margin:auto;width:5%\"/>\n",
    "<br>\n",
    "\n",
    "<div style=\"text-align:center; font-size:200%;\">\n",
    " <b>SOLID: Open-Closed Prinzip</b>\n",
    "</div>\n",
    "<br/>\n",
    "<div style=\"text-align:center; font-size:120%;\">Dr. Matthias Hölzl</div>\n",
    "<br/>\n",
    "<div style=\"text-align:center;\">Coding-Akademie München</div>\n",
    "<br/>\n",
    "<!-- 08 SOLID Open-Closed Prinzip.ipynb -->\n",
    "<!-- slides/module_500_solid_grasp/topic_330_solid_ocp.cpp -->"
   ]
  },
  {
   "cell_type": "markdown",
   "id": "6d6d0c3384564cee",
   "metadata": {
    "lang": "de",
    "slideshow": {
     "slide_type": "slide"
    },
    "tags": [
     "slide"
    ]
   },
   "source": [
    "\n",
    "# Open-Closed Prinzip (SOLID)\n",
    "\n",
    "Klassen sollen\n",
    "\n",
    "- Offen für Erweiterung\n",
    "- Geschlossen für Modifikation\n",
    "\n",
    "sein."
   ]
  },
  {
   "cell_type": "code",
   "execution_count": null,
   "id": "c72e4accf40f20a4",
   "metadata": {
    "slideshow": {
     "slide_type": "subslide"
    },
    "tags": [
     "keep",
     "subslide"
    ]
   },
   "outputs": [],
   "source": [
    "enum class MovieKindV0\n",
    "{\n",
    "    Regular,\n",
    "    Children,\n",
    "};"
   ]
  },
  {
   "cell_type": "code",
   "execution_count": null,
   "id": "a0ee650c342d197c",
   "metadata": {
    "tags": [
     "keep"
    ]
   },
   "outputs": [],
   "source": [
    "#include <iostream>"
   ]
  },
  {
   "cell_type": "code",
   "execution_count": null,
   "id": "2c60718cf863056a",
   "metadata": {
    "slideshow": {
     "slide_type": "subslide"
    },
    "tags": [
     "keep",
     "subslide"
    ]
   },
   "outputs": [],
   "source": [
    "class MovieV0\n",
    "{\n",
    "public:\n",
    "    explicit MovieV0(std::string title, MovieKindV0 kind = MovieKindV0::Regular)\n",
    "        : title_(std::move(title)), kind_(kind)\n",
    "    {}\n",
    "\n",
    "    std::string GetTitle() const { return title_; }\n",
    "    MovieKindV0 GetKind() const { return kind_; }\n",
    "\n",
    "    double ComputePrice() const\n",
    "    {\n",
    "        switch (kind_) {\n",
    "        case MovieKindV0::Regular: return 4.99;\n",
    "        case MovieKindV0::Children: return 5.99;\n",
    "        default: return 0.0;\n",
    "        }\n",
    "    }\n",
    "\n",
    "    void PrintInfo() const\n",
    "    {\n",
    "        std::cout << title_ << \" costs \" << ComputePrice() << std::endl;\n",
    "    }\n",
    "\n",
    "private:\n",
    "    std::string title_;\n",
    "    MovieKindV0 kind_;\n",
    "};"
   ]
  },
  {
   "cell_type": "code",
   "execution_count": null,
   "id": "456da0b1da4d3692",
   "metadata": {
    "lines_to_next_cell": 2,
    "slideshow": {
     "slide_type": "subslide"
    },
    "tags": [
     "keep",
     "subslide"
    ]
   },
   "outputs": [],
   "source": [
    "MovieV0 m1(\"Casablanca\");\n",
    "MovieV0 m2(\"Shrek\", MovieKindV0::Children);"
   ]
  },
  {
   "cell_type": "code",
   "execution_count": null,
   "id": "2f2307fb523816b9",
   "metadata": {
    "tags": [
     "keep"
    ]
   },
   "outputs": [],
   "source": [
    "m1.PrintInfo();\n",
    "m2.PrintInfo();"
   ]
  },
  {
   "cell_type": "markdown",
   "id": "7012a447331bf2b6",
   "metadata": {
    "lang": "de",
    "lines_to_next_cell": 2,
    "slideshow": {
     "slide_type": "subslide"
    },
    "tags": [
     "subslide"
    ]
   },
   "source": [
    "\n",
    "<img src=\"img/movie_v0.svg\" alt=\"MovieV0\"\n",
    "     style=\"display:block;margin:auto;width:50%\"/>"
   ]
  },
  {
   "cell_type": "markdown",
   "id": "77316076626eaade",
   "metadata": {
    "lang": "de",
    "slideshow": {
     "slide_type": "subslide"
    },
    "tags": [
     "subslide"
    ]
   },
   "source": [
    "\n",
    "Was passiert, wenn wir eine neue Filmart hinzufügen wollen?"
   ]
  },
  {
   "cell_type": "code",
   "execution_count": null,
   "id": "d4082cf0c1c687e9",
   "metadata": {
    "lines_to_next_cell": 2,
    "tags": [
     "start"
    ]
   },
   "outputs": [],
   "source": [
    "enum class MovieKind\n",
    "{\n",
    "    Regular,\n",
    "    Children,\n",
    "};"
   ]
  },
  {
   "cell_type": "code",
   "execution_count": null,
   "id": "acff41ab481cb8da",
   "metadata": {
    "lines_to_next_cell": 2,
    "slideshow": {
     "slide_type": "subslide"
    },
    "tags": [
     "start",
     "subslide"
    ]
   },
   "outputs": [],
   "source": [
    "class MovieV1\n",
    "{\n",
    "public:\n",
    "    explicit MovieV1(std::string title, MovieKind kind = MovieKind::Regular)\n",
    "        : title_(std::move(title)), kind_(kind)\n",
    "    {}\n",
    "\n",
    "    std::string GetTitle() const { return title_; }\n",
    "    MovieKind GetKind() const { return kind_; }\n",
    "\n",
    "    double ComputePrice() const\n",
    "    {\n",
    "        switch (kind_) {\n",
    "        case MovieKind::Regular: return 4.99;\n",
    "        case MovieKind::Children: return 5.99;\n",
    "        default: return 0.0;\n",
    "        }\n",
    "    }\n",
    "\n",
    "    void PrintInfo() const\n",
    "    {\n",
    "        std::cout << title_ << \" costs \" << ComputePrice() << std::endl;\n",
    "    }\n",
    "\n",
    "private:\n",
    "    std::string title_;\n",
    "    MovieKind kind_;\n",
    "};"
   ]
  },
  {
   "cell_type": "code",
   "execution_count": null,
   "id": "00119e9f6d5b6914",
   "metadata": {
    "slideshow": {
     "slide_type": "subslide"
    },
    "tags": [
     "keep",
     "subslide"
    ]
   },
   "outputs": [],
   "source": [
    "MovieV1 m1(\"Casablanca\");\n",
    "MovieV1 m2(\"Shrek\", MovieKind::Children);\n",
    "// MovieV1 m3(\"Brand New\", MovieKind::NewRelease);"
   ]
  },
  {
   "cell_type": "code",
   "execution_count": null,
   "id": "002bc178fe34359b",
   "metadata": {
    "tags": [
     "keep"
    ]
   },
   "outputs": [],
   "source": [
    "m1.PrintInfo();\n",
    "m2.PrintInfo();\n",
    "// m3.PrintInfo();"
   ]
  },
  {
   "cell_type": "markdown",
   "id": "8036a684ce529089",
   "metadata": {
    "lang": "de",
    "slideshow": {
     "slide_type": "subslide"
    },
    "tags": [
     "subslide"
    ]
   },
   "source": [
    "\n",
    "<img src=\"img/movie_v1.svg\" alt=\"MovieV1\"\n",
    "     style=\"display:block;margin:auto;width:50%\"/>"
   ]
  },
  {
   "cell_type": "markdown",
   "id": "06046b71a83f882d",
   "metadata": {
    "lang": "de",
    "slideshow": {
     "slide_type": "subslide"
    },
    "tags": [
     "subslide"
    ]
   },
   "source": [
    "\n",
    "## OCP-Verletzung\n",
    "\n",
    "- Neue Filmarten erfordern Änderungen an `MovieV1`\n",
    "- `MovieV1` ist nicht geschlossen für Modifikation"
   ]
  },
  {
   "cell_type": "markdown",
   "id": "a4dda57c88ce329b",
   "metadata": {
    "lang": "de",
    "slideshow": {
     "slide_type": "subslide"
    },
    "tags": [
     "subslide"
    ]
   },
   "source": [
    "\n",
    "## Auflösung (Versuch 1: Vererbung)\n",
    "\n",
    "- Neue Filmarten werden als neue Klassen implementiert\n",
    "- `MovieV2` wird abstrakt\n",
    "- `MovieV2` ist geschlossen für Modifikation"
   ]
  },
  {
   "cell_type": "code",
   "execution_count": null,
   "id": "b5300d696653c9c9",
   "metadata": {
    "slideshow": {
     "slide_type": "subslide"
    },
    "tags": [
     "subslide",
     "keep"
    ]
   },
   "outputs": [],
   "source": [
    "class MovieV2\n",
    "{\n",
    "public:\n",
    "    explicit MovieV2(std::string title) : title_(std::move(title)) {}\n",
    "    MovieV2(const MovieV2&) = delete;\n",
    "    MovieV2& operator=(const MovieV2&) = delete;\n",
    "    MovieV2(MovieV2&&) = delete;\n",
    "    MovieV2& operator=(MovieV2&&) = delete;\n",
    "    virtual ~MovieV2() = default;\n",
    "\n",
    "    std::string GetTitle() const { return title_; }\n",
    "\n",
    "    virtual double ComputePrice() const = 0;\n",
    "\n",
    "    void PrintInfo() const\n",
    "    {\n",
    "        std::cout << title_ << \" costs \" << ComputePrice() << std::endl;\n",
    "    }\n",
    "\n",
    "private:\n",
    "    std::string title_;\n",
    "};"
   ]
  },
  {
   "cell_type": "code",
   "execution_count": null,
   "id": "d511760b8b2721ce",
   "metadata": {
    "slideshow": {
     "slide_type": "subslide"
    },
    "tags": [
     "subslide",
     "keep"
    ]
   },
   "outputs": [],
   "source": [
    "class RegularMovie : public MovieV2\n",
    "{\n",
    "public:\n",
    "    explicit RegularMovie(std::string title) : MovieV2(std::move(title)) {}\n",
    "\n",
    "    double ComputePrice() const override { return 4.99; }\n",
    "};"
   ]
  },
  {
   "cell_type": "code",
   "execution_count": null,
   "id": "4dadc26f01f048dd",
   "metadata": {
    "tags": [
     "keep"
    ]
   },
   "outputs": [],
   "source": [
    "class ChildrenMovie : public MovieV2\n",
    "{\n",
    "public:\n",
    "    explicit ChildrenMovie(std::string title) : MovieV2(std::move(title)) {}\n",
    "\n",
    "    double ComputePrice() const override { return 5.99; }\n",
    "};"
   ]
  },
  {
   "cell_type": "code",
   "execution_count": null,
   "id": "4f0e59ff78d46456",
   "metadata": {
    "tags": [
     "keep"
    ]
   },
   "outputs": [],
   "source": [
    "class NewReleaseMovie : public MovieV2\n",
    "{\n",
    "public:\n",
    "    explicit NewReleaseMovie(std::string title) : MovieV2(std::move(title)) {}\n",
    "\n",
    "    double ComputePrice() const override { return 6.99; }\n",
    "};"
   ]
  },
  {
   "cell_type": "code",
   "execution_count": null,
   "id": "9f1cce12a8565858",
   "metadata": {
    "slideshow": {
     "slide_type": "subslide"
    },
    "tags": [
     "subslide",
     "keep"
    ]
   },
   "outputs": [],
   "source": [
    "RegularMovie m1(\"Casablanca\");\n",
    "ChildrenMovie m2(\"Shrek\");\n",
    "NewReleaseMovie m3(\"Brand New\");"
   ]
  },
  {
   "cell_type": "code",
   "execution_count": null,
   "id": "801ba4c7e5773527",
   "metadata": {
    "tags": [
     "keep"
    ]
   },
   "outputs": [],
   "source": [
    "m1.PrintInfo();\n",
    "m2.PrintInfo();\n",
    "m3.PrintInfo();"
   ]
  },
  {
   "cell_type": "code",
   "execution_count": null,
   "id": "f3d71df75011a1ac",
   "metadata": {
    "tags": [
     "keep"
    ]
   },
   "outputs": [],
   "source": [
    "const MovieV2* movie{&m1};\n",
    "movie->PrintInfo();\n",
    "movie = &m2;\n",
    "movie->PrintInfo();\n",
    "movie = &m3;\n",
    "movie->PrintInfo();"
   ]
  },
  {
   "cell_type": "markdown",
   "id": "bc5890a630297156",
   "metadata": {
    "lang": "de",
    "lines_to_next_cell": 2,
    "slideshow": {
     "slide_type": "subslide"
    },
    "tags": [
     "subslide"
    ]
   },
   "source": [
    "\n",
    "<img src=\"img/movie_v2.svg\" alt=\"MovieV0\"\n",
    "     style=\"display:block;margin:auto;width:100%\"/>"
   ]
  },
  {
   "cell_type": "markdown",
   "id": "4ef4a80f6515a20b",
   "metadata": {
    "lang": "de",
    "slideshow": {
     "slide_type": "subslide"
    },
    "tags": [
     "subslide"
    ]
   },
   "source": [
    "\n",
    "- `MovieV2` ist offen für Erweiterung\n",
    "- Neue Filmarten können hinzugefügt werden, ohne die bestehenden Klassen zu\n",
    "  ändern\n",
    "- Aber: Die Vererbungshierarchie umfasst die ganze Klasse\n",
    "  - Nur eine Art von Variabilität\n",
    "- Was ist, wenn wir für andere Zwecke eine andere Klassifikation brauchen?\n",
    "  - Z.B. DVD, BluRay, Online?\n",
    "- Mehrfachvererbung?\n",
    "- Produkt von Klassen?\n",
    "  - `ChildrenDVD`, `ChildrenBluRay`, `ChildrenOnline`, ..."
   ]
  },
  {
   "cell_type": "markdown",
   "id": "8d0dcafbc7b47890",
   "metadata": {
    "lang": "de",
    "lines_to_next_cell": 2,
    "slideshow": {
     "slide_type": "subslide"
    },
    "tags": [
     "subslide"
    ]
   },
   "source": [
    "\n",
    "## Bessere Auflösung: Strategy Pattern\n",
    "\n",
    "- Das Strategy-Pattern erlaubt es uns, die Vererbung auf kleinere Teile der\n",
    "  Klasse anzuwenden\n",
    "- In fast allen Fällen ist das die bessere Lösung!\n",
    "- Vererbung ist ein sehr mächtiges Werkzeug\n",
    "- Aber je kleiner und lokaler wir unsere Vererbungshierarchien halten, desto\n",
    "  besser"
   ]
  },
  {
   "cell_type": "markdown",
   "id": "ee77ccda44199d51",
   "metadata": {
    "lang": "de",
    "slideshow": {
     "slide_type": "slide"
    },
    "tags": [
     "slide"
    ]
   },
   "source": [
    "\n",
    "## Workshop: Smart Home Device Control System\n",
    "\n",
    "In diesem Workshop arbeiten wir mit einem Szenario, das ein Smart Home\n",
    "Gerätesteuerungssystem betrifft. Die Herausforderung? Das vorhandene System\n",
    "verletzt das OCP, und es liegt an uns, das zu korrigieren."
   ]
  },
  {
   "cell_type": "markdown",
   "id": "0e99c855f369b493",
   "metadata": {
    "lang": "de",
    "slideshow": {
     "slide_type": "subslide"
    },
    "tags": [
     "subslide"
    ]
   },
   "source": [
    "\n",
    "### Szenario\n",
    "\n",
    "Stellen Sie sich ein Smart-Home-System vor. Dieses System steuert verschiedene\n",
    "Geräte: Lichter, Thermostate, Sicherheitskameras und intelligente Schlösser.\n",
    "Jede Art von Gerät hat ihren eigenen einzigartigen Steuermechanismus und\n",
    "Automatisierungsregeln.\n",
    "\n",
    "Nun muss das Steuerungssystem des Smart Homes diese Geräte verwalten. Das\n",
    "Problem mit dem aktuellen System ist die Verwendung eines Enums zur Bestimmung\n",
    "des Gerätetyps und basierend darauf seiner Steuermethode. Dieser Ansatz ist\n",
    "nicht skalierbar und verletzt das OCP. Was passiert, wenn ein neuer Typ von\n",
    "Smart-Gerät zum Zuhause hinzugefügt wird? Oder was passiert, wenn sich der\n",
    "Steuermechanismus für Thermostate ändert? Die aktuelle Code-Struktur erfordert\n",
    "Änderungen an mehreren Stellen."
   ]
  },
  {
   "cell_type": "code",
   "execution_count": null,
   "id": "71a12c6d97d810e7",
   "metadata": {
    "slideshow": {
     "slide_type": "subslide"
    },
    "tags": [
     "keep",
     "subslide"
    ]
   },
   "outputs": [],
   "source": [
    "#include <iostream>\n",
    "#include <string>"
   ]
  },
  {
   "cell_type": "code",
   "execution_count": null,
   "id": "1013e68f6cb043e8",
   "metadata": {
    "tags": [
     "keep"
    ]
   },
   "outputs": [],
   "source": [
    "enum class DeviceType\n",
    "{\n",
    "    Light,\n",
    "    Thermostat,\n",
    "    SecurityCamera,\n",
    "    SmartLock\n",
    "};"
   ]
  },
  {
   "cell_type": "code",
   "execution_count": null,
   "id": "b012bf37ffe843ec",
   "metadata": {
    "slideshow": {
     "slide_type": "subslide"
    },
    "tags": [
     "keep",
     "subslide"
    ]
   },
   "outputs": [],
   "source": [
    "class DeviceV0\n",
    "{\n",
    "public:\n",
    "    DeviceV0(DeviceType type) : type_(type) {}\n",
    "\n",
    "    std::string Control()\n",
    "    {\n",
    "        switch (type_) {\n",
    "        case DeviceType::Light: return \"Turning light on/off.\";\n",
    "        case DeviceType::Thermostat: return \"Adjusting temperature.\";\n",
    "        case DeviceType::SecurityCamera: return \"Activating motion detection.\";\n",
    "        case DeviceType::SmartLock: return \"Locking/Unlocking door.\";\n",
    "        default: return \"Unknown device control!\";\n",
    "        }\n",
    "    }\n",
    "\n",
    "    std::string GetStatus() const\n",
    "    {\n",
    "        switch (type_) {\n",
    "        case DeviceType::Light: return \"Light is on/off.\";\n",
    "        case DeviceType::Thermostat: return \"Current temperature: 22°C.\";\n",
    "        case DeviceType::SecurityCamera: return \"Camera is active/inactive.\";\n",
    "        case DeviceType::SmartLock: return \"Door is locked/unlocked.\";\n",
    "        default: return \"Unknown device status!\";\n",
    "        }\n",
    "    }\n",
    "\n",
    "private:\n",
    "    DeviceType type_;\n",
    "};"
   ]
  },
  {
   "cell_type": "code",
   "execution_count": null,
   "id": "2fe7d148a8a2b63a",
   "metadata": {
    "slideshow": {
     "slide_type": "subslide"
    },
    "tags": [
     "keep",
     "subslide"
    ]
   },
   "outputs": [],
   "source": [
    "std::vector<DeviceV0> devicesOriginal = {\n",
    "    DeviceV0{DeviceType::Light}, DeviceV0{DeviceType::Thermostat}, DeviceV0{DeviceType::SecurityCamera}};"
   ]
  },
  {
   "cell_type": "code",
   "execution_count": null,
   "id": "4d357040ebd1bceb",
   "metadata": {
    "tags": [
     "keep"
    ]
   },
   "outputs": [],
   "source": [
    "void ManageDevices(std::vector<DeviceV0>& devices)\n",
    "{\n",
    "    for (DeviceV0& device : devices) {\n",
    "        std::cout << device.Control() << \" \" << device.GetStatus() << \"\\n\";\n",
    "    }\n",
    "}"
   ]
  },
  {
   "cell_type": "code",
   "execution_count": null,
   "id": "553a8a41552c684b",
   "metadata": {
    "tags": [
     "keep"
    ]
   },
   "outputs": [],
   "source": [
    "ManageDevices(devicesOriginal);"
   ]
  },
  {
   "cell_type": "markdown",
   "id": "536ed71511162336",
   "metadata": {
    "lang": "de",
    "slideshow": {
     "slide_type": "subslide"
    },
    "tags": [
     "subslide"
    ]
   },
   "source": [
    "\n",
    "- Beseitigen Sie das Problem mit der OCP-Verletzung im vorhandenen Code\n",
    "- Sie können entweder den vorhandenen Code ändern oder eine neue Lösung von\n",
    "  Grund auf neu erstellen"
   ]
  }
 ],
 "metadata": {
  "kernelspec": {
   "display_name": "C++17",
   "language": "C++17",
   "name": "xcpp17"
  },
  "language_info": {
   "codemirror_mode": "text/x-c++src",
   "file_extension": ".cpp",
   "mimetype": "text/x-c++src",
   "name": "c++",
   "version": "17"
  }
 },
 "nbformat": 4,
 "nbformat_minor": 5
}
