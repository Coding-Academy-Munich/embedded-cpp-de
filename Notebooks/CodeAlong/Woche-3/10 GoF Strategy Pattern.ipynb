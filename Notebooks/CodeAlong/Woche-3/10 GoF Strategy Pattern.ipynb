{
 "cells": [
  {
   "cell_type": "markdown",
   "id": "3f11df2a487d24f1",
   "metadata": {
    "lang": "de",
    "slideshow": {
     "slide_type": "slide"
    },
    "tags": [
     "slide"
    ]
   },
   "source": [
    "\n",
    "<img src=\"data:image/png;base64,iVBORw0KGgoAAAANSUhEUgAAAEAAAABACAYAAACqaXHeAAAABHNCSVQICAgIfAhkiAAAAAlwSFlzAAACkwAAApMBv+Bu1wAAABl0RVh0U29mdHdhcmUAd3d3Lmlua3NjYXBlLm9yZ5vuPBoAAAumSURBVHic1Vt7WFRlGv99ZwYGZoABVGCQS2gqqVikbImauanrqm31aNaz1SYhdtu85LqumTjenloto9ZWS+yiWZZPW7aaaWghXjC8cF0uclHuAwwwA3Ofc779A0HGGZgzZway318z53u/93vP73zn/d73O99L8Ctg6QcF8yjBK5TQSYRCSihKAOw3e/vv+iQpxjiYtpDBHOy5vXljRCzZAWBuHyK1lNB16Usm7AchdDBsGhQCXvx3fpBVjDUAVgLw5tElk+GY5R+8MD5vgE0bWAKUSsrUDs9/mlCyHUCIi905gB6ghFmdnhKnGgj7gAEkYOkHhTMo4dIATHBTVTuAN32Mvmn/WjbK5AHTbOBxApI+KogUW7mtAHnGw6rLALJqz9K4I55U6jECntmXJ/M1YDUlZA0AH0/pdYAMgFuxZ+k9RZ5Q5j4BlJKlHxYsBPA2JYh03yResFBCd1nF3IZPkuLb3VHkFgEpHxYmAFwagER39LiBVoBuag8s3Xlo0SJWiAJBBDy393K42CreQAmWAGCE6PAsaC5AVuxZOiHT1Z4uEbByxznfTj+/ZQDWAfB3dbCBBz1CCZalp9xdxbcHbwKSd+c9zDDkXQAxgmwbPJgpobs5RvL6R8mxHc6EnRKQnJ4bTyiTRige8Ix9g4Z6SrAxoi4uXakkXF9CfRLw8s7iISaJOZVQ8jIAkbvWyKVi3BXuhzvDZAgLlCDIzwsy7y61OjOLTqMV9W0mVDcbUFLfiYZ2j8U8OV3+Ie6co0aHBKR8WDAfoPsBBLozMiHAvTFyPBAbjNhwPxAXPE5tqxHnr7bhdHErTJY+HyBfcAC2D6+Pe+3W2WBn0o2l7Qz4JS19YkKUPxber0CYXOKOGnQarTie34KMghawnHsJIiVEmZ4St7H3NQcE5GcDuE/oIFKJCM9MG46JMXKhKhyiRm3Ex5k1qFUL2y4ws2zxycJyU217+8M4kFLbfd3m3V6yJy+GgGwXaqQiSIK/zx+BkaEyoSr6hFwqRuLoYKg0JjS08fcPlEJ18Vpt3vH8snitwaQASDUKvrvQ3S7uLUwoGSnUwOhhvlgxJwYyH7f9ZZ/wEhEs/X0UvvStx6kitTNxY7Vak32qqDzBwrJTeq5yuLO3kA0BDEfFHON6cBgWKMHyOXcM6M13gxDgicRwdJpY/FLuOA3QGU05R/NKwzR644MOmm2MFDsQcAk+Xgxenh0NPx+3VfEGAbB4egRatGZUNul7rrMsV5lZUtVW0aRO4KvL7Tj+icRwhLrp6YVAzBAkPRgBLzEDULQV1TWe/jjrYnRFk3qiS3rcMWKUQobE0UEu99MZWZSrdGjVWWC2cpD7eiFqqA/Cg1zbRhjq741RIZKi1w6dVRjMVkGRqlsELEgIcymbqmzS47tLKpTU6cBR+zU9VC7BrAlDMXVMEBgnUVNJfac2Jf10+5mShnEumm0DwQSMVsgwIlTKS5bjKL7KbsBPRWr0F8qoNCZ8llWHs6VteH5mFIJlXnYyzVqzZdt/CyveOnolFkCAMOtvQrAPmBobzEuOoxS7M6pxysnN90ZVkx5vHq6AusPcc81o4egXZ6sropZ9wd24eY9A0AwQiwji7+BH/rc5KuRe17o8RrvOgvdPXMfaR0biYlWb6s87T4mvNWsFxyl9QRABI0KkkIidT57GdhNOFLQIGQIAUNmkK/rd+iPi3OvNYwQrcQJhBPB894/lNoMTkMBQioaL12orc6/XJ4I69rNiEYNRYV2zsLjOPiDy8RIhJsQfFiuHclXfM1AQAQoe6z7LUeRVuzz19TXq9pyTRRWTbMJXBwgJ8MH/ti8AADBP7cWti8r4yCDkbHkEje0GKF76vE89gggIdOCdb0WjxgS9ifdGLdUYjdnHckujOgym6f0JMoTAz0cMP5+bNvjf+N1htEDEMJB6iyCTdN0aIUCAb1e71mCx0yeIAImX8/e/XWc/mCNYWbY4o7DcUtOqmcxHfmLMUPyy5U821zR7/wIAiPzrQUyMGYpvV83saQuV+/a0i576yC7+GLAAnjgJkSioKq/katnFopIh1C8I8B78cBoQSACfLSq5rE/VlvrmlvM/Zl2IN1st0wAAGjUgEuVAPiQcIvHw/vReqmqBPHkfwgKlKH17YddYyfsAdL0CjRoD5Mn7EH/HEPy8fh5UGgNGv3oIABxGn4IIaOMxvRWBEsh8RNAZb/oBnd6Q8/3pc6Ht2g77uJ1lE9DapIe3JBMBwZNAiMNdFY5SaA0W+PnctKHDaOlxglaWg9bAQWeyAgAodfzud0MQAY08dmwZQjAhKgDny9rAclzl6ZzLreXXa52lqVKYTdOhbmyA1D8XUr9E9LFx26Q1YuzqrwHAbgUAgMKaNoxd/TUs1v5nqyACKnrl4P1hXnwI+8nxy+fOXMyfzFE6gvcAlCqg0yqg7yhSREeIG3SsXSBkZTmH6383jBa23/ZuCMoFqpr0vPxASIC3aMqdftM4SgURfXdMyLiKnU+P+eqlKaqwAInTPTAhEESAlaW4co1fkLMlaQYem+J67hIxLACHNz0BX4kYj0+NDS3d8Xjw1kfHVXiJGY+eEhGcDWaVtvIbgBAcSl2IlQvu4/1hZPLYCJx/NwnRoTe31gOkEvLaovtHFv/zUebJiYoSITY7tE9ox6sNOpSr+PkCEUOw44XZyH4vGXMSRkIscjzs2OhhSH91PrLeWYyIYY6zzZGKIK8vVs2NzVw7Szte4Vct1P5u2DyT53fnzeEYcoxnXxoVJCpct+CuOOLKNy8ArR0GnCuqRXWTBnqTBYpgP0wcrUBs5FCX9FisHJLeOVp04FKjAgzDb4OCYhcOLnmp+68g52SxsEU/nsumdarmOIVsPpL/GO9S/2B/X8y/f5SQoW1Q2dCG/2QWjoOJbYNUehoyeSJcvCeXhDlKGy8VFlfklpT1pKkrdp3AlPGRLj89d2GysHh222EYugKeIOh1D0BvqESAvBUS30l89fD1AYaahsbMfd8c9c8tLpvSO0fvNJjxSOpXaNbw8weeAKXA4u2HcaGk7pYWbgS0bZPQqsoBa6nho8uGAI4h1lvH6ujszDp4NEP9Q1b2dIvV6jA8LatVY87az9EyCCRwlGLZ+z/g4E/9nJJj2QS0NodCqz4PSnW3tvb+Y0MAJbSi+7eFtZb8kHU+/+D3GdM6dJ0Rzgy7fLUB01Z+ior6Nl43IgQGkxWLNn+NnYdz+Ih7w2SajJYGHXTabODGniyD8t5Cdu47afeVo4VlFZKL+cUPUlCXP/bJZRLsXj4PT85wa7veDpevNmDx9u9QUNUkTAFhShAQaAbjPxeHnu15d+zXr1lbJoFyZ+HmAYk5CSPx9vOzMDZ6mDtq0KzRY9uX5/DuNxecJjZOQbABP6Zusr3kCDM3zgPIZ3DziAxDCB6bGouUufGYee8IiFz48nylvBGfnshD+rEr0Bn57S71Aw7ANkzl1kGp7P+ITA/+oAwGx2wAhUcOSYUEyvBQfAymxUUhNnIIokLkCPL3ASEErVoDWrR6FFY14dLVBpy8cg1ltR7LfXJAsRwnU887anT+SGYp7wFl0gD0u1l5G6IewFpkrN8P9F19wn9Ozt74MLjfxEFJA0Dfg8FnK86ucf+gpA0eV3qjXfQiKN2M2/KoLI6AIctwYr3nj8raYJYyHJTZANwuh6VxBQyzAideP+1qR/fqBR7alACGpoGSX+u4vBqEbEbgmJ04NIjH5W1BCWZtWghK3gIQ5b4+XrCAYBeodyoy/qFxR5HnaoZmb5eB068GBqFkhsUK/JR6m5TM3IrZWyLB0a0A9XzRFCWrcHL97Vk0ZYeHNs4AYdIA6n7ZHCFvQixPw7Flt3/ZnA2USgZnmKcBCCycJAfAsH/DCaXADMg5Bqd2eN4bQTCZ1wCEb+nszxBhBY6n/rZLZ+0wY/MYiGjfxdMEtaBY5yx89SQGl4BudGWbrwCYBEAKkGIAn8HK7sLPykEtn/8/zE19fO7n0IAAAAAASUVORK5CYII=\"\n",
    "     style=\"display:block;margin:auto;width:5%\"/>\n",
    "<br>\n",
    "\n",
    "<div style=\"text-align:center; font-size:200%;\">\n",
    " <b>GoF: Strategy Pattern</b>\n",
    "</div>\n",
    "<br/>\n",
    "<div style=\"text-align:center; font-size:120%;\">Dr. Matthias Hölzl</div>\n",
    "<br/>\n",
    "<div style=\"text-align:center;\">Coding-Akademie München</div>\n",
    "<br/>\n",
    "<!-- 10 GoF Strategy Pattern.ipynb -->\n",
    "<!-- slides/module_450_design_patterns/topic_200_strategy.cpp -->"
   ]
  },
  {
   "cell_type": "markdown",
   "id": "6d590633c00d3032",
   "metadata": {
    "lang": "de",
    "lines_to_next_cell": 2,
    "slideshow": {
     "slide_type": "subslide"
    },
    "tags": [
     "subslide"
    ]
   },
   "source": [
    "\n",
    "### Zweck\n",
    "\n",
    "- Austauschbare Algorithmen / austauschbares Verhalten\n",
    "- Algorithmen unabhängig von Klassen, die sie verwenden"
   ]
  },
  {
   "cell_type": "markdown",
   "id": "0a38cdf05c04ee48",
   "metadata": {
    "lang": "de",
    "slideshow": {
     "slide_type": "subslide"
    },
    "tags": [
     "subslide"
    ]
   },
   "source": [
    "\n",
    "### Auch bekannt als\n",
    "\n",
    "Policy"
   ]
  },
  {
   "cell_type": "markdown",
   "id": "e82bddc0f3c57782",
   "metadata": {
    "lang": "de",
    "slideshow": {
     "slide_type": "slide"
    },
    "tags": [
     "slide"
    ]
   },
   "source": [
    "\n",
    "### Motivation\n",
    "\n",
    "- Wir wollen einen Text in einem Feld mit begrenzter Breite darstellen\n",
    "- Dafür gibt es verschiedene Möglichkeiten:\n",
    "  - Abschneiden nach einer bestimmten Anzahl von Zeichen (mit/ohne Ellipse)\n",
    "  - Umbruch nach einer bestimmten Anzahl von Zeichen\n",
    "    - Umbruch mitten im Wort\n",
    "    - Umbruch bei Leerzeichen (greedy/dynamische Programmierung)"
   ]
  },
  {
   "cell_type": "markdown",
   "id": "d5c4ea8974be5030",
   "metadata": {
    "lang": "de",
    "lines_to_next_cell": 2,
    "slideshow": {
     "slide_type": "subslide"
    },
    "tags": [
     "subslide"
    ]
   },
   "source": [
    "\n",
    "## Struktur\n",
    "\n",
    "<img src=\"img/pat_strategy.svg\"\n",
    "     style=\"display:block;margin:auto;width:80%\"/>"
   ]
  },
  {
   "cell_type": "markdown",
   "id": "cb6aa29f6e2d2487",
   "metadata": {
    "lang": "de",
    "lines_to_next_cell": 2,
    "slideshow": {
     "slide_type": "subslide"
    },
    "tags": [
     "subslide"
    ]
   },
   "source": [
    "\n",
    "## Teilnehmer\n",
    "\n",
    "- `Strategy`\n",
    "  - gemeinsames Interface für alle unterstützten Algorithmen\n",
    "- `ConcreteStrategy`\n",
    "  - implementiert den Algorithmus\n",
    "- `Context`\n",
    "  - wird mit einem `ConcreteStrategy`-Objekt konfiguriert\n",
    "  - kennt sein `Strategy`-Objekt\n",
    "  - optional: Interface, das der Strategie Zugriff die Kontext-Daten ermöglicht"
   ]
  },
  {
   "cell_type": "code",
   "execution_count": null,
   "id": "a0ee650c342d197c",
   "metadata": {
    "slideshow": {
     "slide_type": "subslide"
    },
    "tags": [
     "subslide",
     "keep"
    ]
   },
   "outputs": [],
   "source": [
    "#include <iostream>"
   ]
  },
  {
   "cell_type": "code",
   "execution_count": null,
   "id": "0b20e876e42ef6e6",
   "metadata": {
    "slideshow": {
     "slide_type": "subslide"
    },
    "tags": [
     "keep",
     "subslide"
    ]
   },
   "outputs": [],
   "source": [
    "class Strategy {\n",
    "public:\n",
    "    virtual ~Strategy() = default;\n",
    "\n",
    "    virtual float AlgorithmInterface() = 0;\n",
    "};"
   ]
  },
  {
   "cell_type": "code",
   "execution_count": null,
   "id": "54783b57f6f0e812",
   "metadata": {
    "slideshow": {
     "slide_type": "subslide"
    },
    "tags": [
     "subslide",
     "keep"
    ]
   },
   "outputs": [],
   "source": [
    "#include <memory>"
   ]
  },
  {
   "cell_type": "code",
   "execution_count": null,
   "id": "54ef362fcbb3e2eb",
   "metadata": {
    "tags": [
     "keep"
    ]
   },
   "outputs": [],
   "source": [
    "class Context{\n",
    "public:\n",
    "    Context(std::unique_ptr<Strategy> strategy) : strategy_(std::move(strategy)) {}\n",
    "\n",
    "    float ContextInterface() { return strategy_->AlgorithmInterface(); }\n",
    "\n",
    "    void SetStrategy(std::unique_ptr<Strategy> strategy) {\n",
    "        strategy_ = std::move(strategy);\n",
    "    }\n",
    "\n",
    "private:\n",
    "    std::unique_ptr<Strategy> strategy_;\n",
    "};"
   ]
  },
  {
   "cell_type": "code",
   "execution_count": null,
   "id": "3dd04fdfbd0e8b51",
   "metadata": {
    "slideshow": {
     "slide_type": "subslide"
    },
    "tags": [
     "keep",
     "subslide"
    ]
   },
   "outputs": [],
   "source": [
    "class ConcreteStrategyA : public Strategy {\n",
    "public:\n",
    "    float AlgorithmInterface() override {\n",
    "        return 1.5;\n",
    "    }\n",
    "};"
   ]
  },
  {
   "cell_type": "code",
   "execution_count": null,
   "id": "0ee308aea1862735",
   "metadata": {
    "tags": [
     "keep"
    ]
   },
   "outputs": [],
   "source": [
    "class ConcreteStrategyB : public Strategy {\n",
    "public:\n",
    "    float AlgorithmInterface() override {\n",
    "        return 2.0;\n",
    "    }\n",
    "};"
   ]
  },
  {
   "cell_type": "code",
   "execution_count": null,
   "id": "80bede1cc0831bf7",
   "metadata": {
    "slideshow": {
     "slide_type": "subslide"
    },
    "tags": [
     "keep",
     "subslide"
    ]
   },
   "outputs": [],
   "source": [
    "Context context{std::make_unique<ConcreteStrategyA>()};"
   ]
  },
  {
   "cell_type": "code",
   "execution_count": null,
   "id": "c2229a7539e728be",
   "metadata": {
    "tags": [
     "keep"
    ]
   },
   "outputs": [],
   "source": [
    "std::cout << \"Strategy A: \" << context.ContextInterface() << \"\\n\";"
   ]
  },
  {
   "cell_type": "code",
   "execution_count": null,
   "id": "58ae6ec5ad320801",
   "metadata": {
    "tags": [
     "keep"
    ]
   },
   "outputs": [],
   "source": [
    "context.SetStrategy(std::make_unique<ConcreteStrategyB>());"
   ]
  },
  {
   "cell_type": "code",
   "execution_count": null,
   "id": "22cad83f351131b4",
   "metadata": {
    "tags": [
     "keep"
    ]
   },
   "outputs": [],
   "source": [
    "std::cout << \"Strategy B: \" << context.ContextInterface() << \"\\n\";"
   ]
  },
  {
   "cell_type": "markdown",
   "id": "edd47549755a086c",
   "metadata": {
    "lang": "de",
    "slideshow": {
     "slide_type": "subslide"
    },
    "tags": [
     "subslide"
    ]
   },
   "source": [
    "\n",
    "### Interaktionen\n",
    "\n",
    "- Strategie und Kontext interagieren, um den gewählten Algorithmus zu implementieren.\n",
    "  - Kontext kann Daten an Strategie übergeben\n",
    "  - Kontext kann sich selber an Strategie übergeben\n",
    "- Ein Kontext leitet Anfragen seiner Clients an seine Strategie weiter. [...]"
   ]
  },
  {
   "cell_type": "markdown",
   "id": "be9cc9b0802a015e",
   "metadata": {
    "lang": "de",
    "slideshow": {
     "slide_type": "subslide"
    },
    "tags": [
     "subslide"
    ]
   },
   "source": [
    "\n",
    "### Implementierung\n",
    "\n",
    "- `ConcreteStrategy` benötigt effizienten Zugriff auf alle benötigten Daten\n",
    "- ..."
   ]
  },
  {
   "cell_type": "markdown",
   "id": "087cb260cc860d4b",
   "metadata": {
    "lang": "de",
    "slideshow": {
     "slide_type": "subslide"
    },
    "tags": [
     "subslide"
    ]
   },
   "source": [
    "\n",
    "## Beispielcode: Textumbruch für ein Blog"
   ]
  },
  {
   "cell_type": "code",
   "execution_count": null,
   "id": "b800cfb1d8372c87",
   "metadata": {
    "slideshow": {
     "slide_type": "subslide"
    },
    "tags": [
     "keep",
     "subslide"
    ]
   },
   "outputs": [],
   "source": [
    "class TextWrapStrategy {\n",
    "public:\n",
    "    TextWrapStrategy() = default;\n",
    "    virtual ~TextWrapStrategy() = default;\n",
    "\n",
    "    virtual std::vector<std::string> Wrap(const std::string& text, int width) = 0;\n",
    "};"
   ]
  },
  {
   "cell_type": "code",
   "execution_count": null,
   "id": "da5a3252928659b9",
   "metadata": {
    "slideshow": {
     "slide_type": "subslide"
    },
    "tags": [
     "subslide",
     "keep"
    ]
   },
   "outputs": [],
   "source": [
    "class TruncationStrategy : public TextWrapStrategy {\n",
    "public:\n",
    "    std::vector<std::string> Wrap(const std::string& text, int width) override {\n",
    "        if (text.size() <= width) {\n",
    "            return {text};\n",
    "        }\n",
    "        return {text.substr(0, width - 3) + \"...\"};\n",
    "    }\n",
    "};"
   ]
  },
  {
   "cell_type": "code",
   "execution_count": null,
   "id": "8f3c114d770ab6b1",
   "metadata": {
    "slideshow": {
     "slide_type": "subslide"
    },
    "tags": [
     "subslide",
     "keep"
    ]
   },
   "outputs": [],
   "source": [
    "class BreakAnywhereStrategy : public TextWrapStrategy {\n",
    "public:\n",
    "    std::vector<std::string> Wrap(const std::string& text, int width) override {\n",
    "        std::string remainingText{text};\n",
    "        std::vector<std::string> lines;\n",
    "        while (remainingText.size() > width) {\n",
    "            lines.push_back(remainingText.substr(0, width));\n",
    "            remainingText = remainingText.substr(width);\n",
    "        }\n",
    "        lines.push_back(remainingText);\n",
    "        return lines;\n",
    "    }\n",
    "};"
   ]
  },
  {
   "cell_type": "code",
   "execution_count": null,
   "id": "123263eef4262714",
   "metadata": {
    "slideshow": {
     "slide_type": "subslide"
    },
    "tags": [
     "subslide",
     "keep"
    ]
   },
   "outputs": [],
   "source": [
    "class BreakOnSpaceStrategy : public TextWrapStrategy {\n",
    "public:\n",
    "    std::vector<std::string> Wrap(const std::string& text, int width) override {\n",
    "        std::vector<std::string> lines;\n",
    "        std::string remainingText{text};\n",
    "        while (remainingText.size() > width) {\n",
    "            auto pos = remainingText.find_last_of(' ', width);\n",
    "            if (pos == std::string::npos) {\n",
    "                pos = width;\n",
    "            }\n",
    "            lines.push_back(remainingText.substr(0, pos));\n",
    "            remainingText = remainingText.substr(pos + 1);\n",
    "        }\n",
    "        lines.push_back(remainingText);\n",
    "        return lines;\n",
    "    }\n",
    "};"
   ]
  },
  {
   "cell_type": "code",
   "execution_count": null,
   "id": "d3c83bdffb0a067f",
   "metadata": {
    "slideshow": {
     "slide_type": "subslide"
    },
    "tags": [
     "keep",
     "subslide"
    ]
   },
   "outputs": [],
   "source": [
    "class BlogPost {\n",
    "public:\n",
    "    BlogPost(\n",
    "        const std::string& author, const std::string& title, const std::string& text)\n",
    "        : author_{author}, title_{title}, text_{text} {}\n",
    "\n",
    "    const std::string& GetAuthor() const { return author_; }\n",
    "    const std::string& GetTitle() const { return title_; }\n",
    "    const std::string& GetText() const { return text_; }\n",
    "\n",
    "private:\n",
    "    std::string author_;\n",
    "    std::string title_;\n",
    "    std::string text_;\n",
    "};"
   ]
  },
  {
   "cell_type": "code",
   "execution_count": null,
   "id": "261d5908058bcd5a",
   "metadata": {
    "slideshow": {
     "slide_type": "subslide"
    },
    "tags": [
     "keep",
     "subslide"
    ]
   },
   "outputs": [],
   "source": [
    "class Blog {\n",
    "public:\n",
    "    Blog(std::unique_ptr<TextWrapStrategy> strategy) : strategy_{std::move(strategy)} {}\n",
    "\n",
    "    void Print(int width) {\n",
    "        for (const auto& post : posts_) {\n",
    "            std::cout << std::string(width, '-') << \"\\n\";\n",
    "            std::cout << \"Title: \" << post.GetTitle() << \"\\n\";\n",
    "            std::cout << \"Author: \" << post.GetAuthor() << \"\\n\";\n",
    "            for (const auto& line : strategy_->Wrap(post.GetText(), width)) {\n",
    "                std::cout << line << \"\\n\";\n",
    "            }\n",
    "            std::cout << std::string(width, '-') << \"\\n\";\n",
    "        }\n",
    "    }\n",
    "\n",
    "    void AddPost(const BlogPost& post) { posts_.push_back(post); }\n",
    "\n",
    "    void SetStrategy(std::unique_ptr<TextWrapStrategy> strategy) {\n",
    "        strategy_ = std::move(strategy);\n",
    "    }\n",
    "\n",
    "private:\n",
    "    std::vector<BlogPost> posts_;\n",
    "    std::unique_ptr<TextWrapStrategy> strategy_;\n",
    "};"
   ]
  },
  {
   "cell_type": "code",
   "execution_count": null,
   "id": "f590516e7655fad2",
   "metadata": {
    "slideshow": {
     "slide_type": "subslide"
    },
    "tags": [
     "keep",
     "subslide"
    ]
   },
   "outputs": [],
   "source": [
    "std::string firstPost{\"This is my first post. This is my first post. This is my first \"\n",
    "                      \"post. This is my first post. This is my first post. This is my \"\n",
    "                      \"first post. This is my first post. This is my first post. \"};\n",
    "std::string secondPost{\n",
    "    \"This is my second post. This is my second post. This is my second post. This is \"\n",
    "    \"my second post. This is my second post. This is my second post. This is my second \"\n",
    "    \"post. This is my second post. This is my second post. This is my second post. \"\n",
    "    \"This is my second post. This is my second post. \"}"
   ]
  },
  {
   "cell_type": "code",
   "execution_count": null,
   "id": "df69ae7000834710",
   "metadata": {
    "slideshow": {
     "slide_type": "subslide"
    },
    "tags": [
     "keep",
     "subslide"
    ]
   },
   "outputs": [],
   "source": [
    "Blog blog{std::make_unique<TruncationStrategy>()};"
   ]
  },
  {
   "cell_type": "code",
   "execution_count": null,
   "id": "1921907887eac529",
   "metadata": {
    "tags": [
     "keep"
    ]
   },
   "outputs": [],
   "source": [
    "blog.AddPost({\"John Doe\", \"My first post\", firstPost});\n",
    "blog.AddPost({\"Jane Doe\", \"My second post\", secondPost});"
   ]
  },
  {
   "cell_type": "code",
   "execution_count": null,
   "id": "0cd85a6949dfafe1",
   "metadata": {
    "tags": [
     "keep"
    ]
   },
   "outputs": [],
   "source": [
    "blog.Print(40);"
   ]
  },
  {
   "cell_type": "code",
   "execution_count": null,
   "id": "b55c962d05a3a72b",
   "metadata": {
    "slideshow": {
     "slide_type": "subslide"
    },
    "tags": [
     "keep",
     "subslide"
    ]
   },
   "outputs": [],
   "source": [
    "blog.SetStrategy(std::make_unique<BreakAnywhereStrategy>());"
   ]
  },
  {
   "cell_type": "code",
   "execution_count": null,
   "id": "0cf76b7d73734573",
   "metadata": {
    "tags": [
     "keep"
    ]
   },
   "outputs": [],
   "source": [
    "blog.Print(40);"
   ]
  },
  {
   "cell_type": "code",
   "execution_count": null,
   "id": "a80a47e7005947a3",
   "metadata": {
    "slideshow": {
     "slide_type": "subslide"
    },
    "tags": [
     "keep",
     "subslide"
    ]
   },
   "outputs": [],
   "source": [
    "blog.SetStrategy(std::make_unique<BreakOnSpaceStrategy>());"
   ]
  },
  {
   "cell_type": "code",
   "execution_count": null,
   "id": "7d43d70e9d0fe799",
   "metadata": {
    "tags": [
     "keep"
    ]
   },
   "outputs": [],
   "source": [
    "blog.Print(40);"
   ]
  },
  {
   "cell_type": "markdown",
   "id": "f2c409bcbe934dea",
   "metadata": {
    "lang": "de",
    "slideshow": {
     "slide_type": "subslide"
    },
    "tags": [
     "subslide"
    ]
   },
   "source": [
    "\n",
    "### Anwendbarkeit\n",
    "\n",
    "- Konfiguration von Objekten mit einer von mehreren Verhaltensweisen\n",
    "- Verschiedene Varianten eines Algorithmus\n",
    "- Kapseln von Daten mit Algorithmus (Client muss Daten nicht kennen)\n",
    "- Vermeidung von bedingten Anweisungen zur Auswahl eines Algorithmus"
   ]
  },
  {
   "cell_type": "markdown",
   "id": "2854b2bd37905646",
   "metadata": {
    "lang": "de",
    "slideshow": {
     "slide_type": "subslide"
    },
    "tags": [
     "subslide"
    ]
   },
   "source": [
    "\n",
    "### Konsequenzen\n",
    "\n",
    "- Familien wiederverwendbarer, verwandter Algorithmen\n",
    "- Alternative zu Vererbung\n",
    "- Auswahl einer Strategie ohne bedingte Anweisungen\n",
    "- Context/Clients muss die möglichen Strategien kennen\n",
    "- Kommunikations-Overhead zwischen Strategie und Kontext\n",
    "- Erhöhte Anzahl von Objekten"
   ]
  },
  {
   "cell_type": "markdown",
   "id": "1b64b5fc707c0683",
   "metadata": {
    "lang": "de",
    "slideshow": {
     "slide_type": "subslide"
    },
    "tags": [
     "subslide"
    ]
   },
   "source": [
    "\n",
    "### C++ Implementierungs-Tipp\n",
    "\n",
    "In C++ kann das Strategy Pattern oft einfach durch ein Funktions-Objekt als\n",
    "Member implementiert werden:"
   ]
  },
  {
   "cell_type": "code",
   "execution_count": null,
   "id": "a026b25f9b2b0937",
   "metadata": {
    "slideshow": {
     "slide_type": "subslide"
    },
    "tags": [
     "keep",
     "subslide"
    ]
   },
   "outputs": [],
   "source": [
    "class FunBlog {\n",
    "public:\n",
    "    using Strategy = std::function<std::vector<std::string>(const std::string&, int)>;\n",
    "\n",
    "    FunBlog(Strategy strategy) : strategy_{std::move(strategy)} {}\n",
    "\n",
    "    void Print(int width) {\n",
    "        for (const auto& post : posts_) {\n",
    "            std::cout << std::string(width, '-') << \"\\n\";\n",
    "            std::cout << \"Title: \" << post.GetTitle() << \"\\n\";\n",
    "            std::cout << \"Author: \" << post.GetAuthor() << \"\\n\";\n",
    "            for (const auto& line : strategy_(post.GetText(), width)) {\n",
    "                std::cout << line << \"\\n\";\n",
    "            }\n",
    "            std::cout << std::string(width, '-') << \"\\n\";\n",
    "        }\n",
    "    }\n",
    "\n",
    "    void AddPost(const BlogPost& post) { posts_.push_back(post); }\n",
    "    void SetStrategy(Strategy strategy) { strategy_ = std::move(strategy); }\n",
    "\n",
    "private:\n",
    "    std::vector<BlogPost> posts_;\n",
    "    Strategy strategy_;\n",
    "};"
   ]
  },
  {
   "cell_type": "code",
   "execution_count": null,
   "id": "17ed9542582615af",
   "metadata": {
    "slideshow": {
     "slide_type": "subslide"
    },
    "tags": [
     "keep",
     "subslide"
    ]
   },
   "outputs": [],
   "source": [
    "std::vector<std::string> TruncateLines(const std::string& text, int width) {\n",
    "    if (text.size() <= width) {\n",
    "        return {text};\n",
    "    }\n",
    "    return {text.substr(0, width - 3) + \"...\"};\n",
    "}"
   ]
  },
  {
   "cell_type": "markdown",
   "id": "cbf2753d6b8eb9ee",
   "metadata": {
    "lang": "de",
    "slideshow": {
     "slide_type": "subslide"
    },
    "tags": [
     "subslide"
    ]
   },
   "source": [
    "\n",
    "- Hier haben wir eine Funktion `TruncateLines()` definiert, die die gleiche\n",
    "  Funktionalität hat wie unsere `TruncationStrategy`\n",
    "- Allerdings ist sie jetzt als freie Funktion definiert"
   ]
  },
  {
   "cell_type": "code",
   "execution_count": null,
   "id": "0d9c507d5f6f6b5e",
   "metadata": {
    "tags": [
     "keep"
    ]
   },
   "outputs": [],
   "source": [
    "FunBlog blog{TruncateLines};"
   ]
  },
  {
   "cell_type": "code",
   "execution_count": null,
   "id": "025d4b67dbb9346b",
   "metadata": {
    "tags": [
     "keep"
    ]
   },
   "outputs": [],
   "source": [
    "blog.AddPost({\"John Doe\", \"My first post\", firstPost});\n",
    "blog.AddPost({\"Jane Doe\", \"My second post\", secondPost});"
   ]
  },
  {
   "cell_type": "code",
   "execution_count": null,
   "id": "56d7da8e770f5cbf",
   "metadata": {
    "tags": [
     "keep"
    ]
   },
   "outputs": [],
   "source": [
    "blog.Print(40);"
   ]
  },
  {
   "cell_type": "code",
   "execution_count": null,
   "id": "4a32e0c2326ccf52",
   "metadata": {
    "slideshow": {
     "slide_type": "subslide"
    },
    "tags": [
     "keep",
     "subslide"
    ]
   },
   "outputs": [],
   "source": [
    "#include <algorithm>"
   ]
  },
  {
   "cell_type": "code",
   "execution_count": null,
   "id": "4a9500a02e5b78d5",
   "metadata": {
    "tags": [
     "keep"
    ]
   },
   "outputs": [],
   "source": [
    "blog.SetStrategy(\n",
    "    [](const std::string& text, int width) -> std::vector<std::string> {\n",
    "        if (text.size() <= width) {\n",
    "            return {text};\n",
    "        }\n",
    "        return {text.substr(0, width - 3) + \"...\"};\n",
    "    });"
   ]
  },
  {
   "cell_type": "code",
   "execution_count": null,
   "id": "ba4525d2023b1fd1",
   "metadata": {
    "tags": [
     "keep"
    ]
   },
   "outputs": [],
   "source": [
    "blog.Print(40);"
   ]
  },
  {
   "cell_type": "markdown",
   "id": "7494ca1fdb2b70de",
   "metadata": {
    "lang": "de",
    "slideshow": {
     "slide_type": "slide"
    },
    "tags": [
     "slide"
    ]
   },
   "source": [
    "\n",
    "## Mini-Workshop: Vorhersagen\n",
    "\n",
    "Sie wollen ein System schreiben, das Vorhersagen für Aktienkurse treffen kann.\n",
    "\n",
    "Schreiben Sie dazu eine Klasse `Predictor` mit einer Methode\n",
    "\n",
    "```cpp\n",
    "virtual float Predict(const std::vector<float>& values) const\n",
    "```\n",
    "\n",
    "Verwenden Sie das Strategy Pattern, um mindestens zwei verschiedene\n",
    "Vorhersage-Varianten zu ermöglichen:\n",
    "\n",
    "- Die Vorhersage ist der Mittelwert aller Werte aus `values`\n",
    "- Die Vorhersage ist der letzte Wert in `values` (oder 0, wenn `values` leer ist)\n",
    "\n",
    "Testen Sie Ihre Implementierung mit einigen Beispieldaten."
   ]
  }
 ],
 "metadata": {
  "kernelspec": {
   "display_name": "C++17",
   "language": "C++17",
   "name": "xcpp17"
  },
  "language_info": {
   "codemirror_mode": "text/x-c++src",
   "file_extension": ".cpp",
   "mimetype": "text/x-c++src",
   "name": "c++",
   "version": "17"
  }
 },
 "nbformat": 4,
 "nbformat_minor": 5
}
