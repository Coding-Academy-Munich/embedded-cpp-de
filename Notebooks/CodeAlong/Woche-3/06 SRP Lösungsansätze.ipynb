{
 "cells": [
  {
   "cell_type": "markdown",
   "id": "4863d965d7ef00f0",
   "metadata": {
    "lang": "de",
    "slideshow": {
     "slide_type": "slide"
    },
    "tags": [
     "slide"
    ]
   },
   "source": [
    "\n",
    "<img src=\"data:image/png;base64,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\"\n",
    "     style=\"display:block;margin:auto;width:5%\"/>\n",
    "<br>\n",
    "\n",
    "<div style=\"text-align:center; font-size:200%;\">\n",
    " <b>SRP: Lösungsansätze</b>\n",
    "</div>\n",
    "<br/>\n",
    "<div style=\"text-align:center; font-size:120%;\">Dr. Matthias Hölzl</div>\n",
    "<br/>\n",
    "<div style=\"text-align:center;\">Coding-Akademie München</div>\n",
    "<br/>\n",
    "<!-- 06 SRP Lösungsansätze.ipynb -->\n",
    "<!-- slides/module_500_solid_grasp/topic_280_srp_resolutions.cpp -->"
   ]
  },
  {
   "cell_type": "markdown",
   "id": "a3784da772abc7d1",
   "metadata": {
    "lang": "de",
    "slideshow": {
     "slide_type": "subslide"
    },
    "tags": [
     "subslide"
    ]
   },
   "source": [
    "\n",
    "## Ein Änderungsgrund?\n",
    "\n",
    "<img src=\"img/book_01.svg\"\n",
    "     style=\"display:block;margin:auto;width:35%\"/>\n"
   ]
  },
  {
   "cell_type": "markdown",
   "id": "2b58e20e2a392c3b",
   "metadata": {
    "lang": "de",
    "slideshow": {
     "slide_type": "subslide"
    },
    "tags": [
     "subslide"
    ]
   },
   "source": [
    "\n",
    "## Verletzung des SRPs\n",
    "\n",
    "<img src=\"img/book_02.svg\"\n",
    "     style=\"display:block;margin:auto;width:60%\"/>"
   ]
  },
  {
   "cell_type": "code",
   "execution_count": null,
   "id": "0f1291a962b079eb",
   "metadata": {
    "slideshow": {
     "slide_type": "subslide"
    },
    "tags": [
     "keep",
     "subslide"
    ]
   },
   "outputs": [],
   "source": [
    "#include <string>\n",
    "#include <iostream>"
   ]
  },
  {
   "cell_type": "code",
   "execution_count": null,
   "id": "5960bb4e9439472e",
   "metadata": {
    "tags": [
     "keep"
    ]
   },
   "outputs": [],
   "source": [
    "class Book\n",
    "{\n",
    "public:\n",
    "    Book(const std::string& title, const std::string& author, int pages)\n",
    "        : title{title}, author{author}, pages{pages}\n",
    "    {}\n",
    "\n",
    "    void print() {\n",
    "        // Lots of code that handles the printer\n",
    "        std::cout << \"Printing \" << title << \" to printer.\" << std::endl;\n",
    "    }\n",
    "\n",
    "    void save() {\n",
    "        // Lots of code that handles the database\n",
    "        std::cout << \"Saving \" << title << \" to database.\" << std::endl;\n",
    "    }\n",
    "\n",
    "private:\n",
    "    std::string title;\n",
    "    std::string author;\n",
    "    int pages;\n",
    "}"
   ]
  },
  {
   "cell_type": "code",
   "execution_count": null,
   "id": "ba2e14077cbb3c63",
   "metadata": {
    "slideshow": {
     "slide_type": "subslide"
    },
    "tags": [
     "subslide"
    ]
   },
   "outputs": [],
   "source": []
  },
  {
   "cell_type": "code",
   "execution_count": null,
   "id": "532259a968ff9565",
   "metadata": {},
   "outputs": [],
   "source": []
  },
  {
   "cell_type": "code",
   "execution_count": null,
   "id": "abb77babac5962a0",
   "metadata": {},
   "outputs": [],
   "source": []
  },
  {
   "cell_type": "markdown",
   "id": "49368071a3998cb1",
   "metadata": {
    "lang": "de",
    "slideshow": {
     "slide_type": "subslide"
    },
    "tags": [
     "subslide"
    ]
   },
   "source": [
    "\n",
    "## Auflösung der SRP-Verletzung (Version 1a)\n",
    "\n",
    "Vorschlag von Robert C. Martin in Clean Architecture:\n",
    "\n",
    "<img src=\"img/book_resolution_1a_srp.svg\"\n",
    "     style=\"display:block;margin:auto;width:40%\"/>"
   ]
  },
  {
   "cell_type": "code",
   "execution_count": null,
   "id": "ccf34ecde15e56dd",
   "metadata": {
    "slideshow": {
     "slide_type": "subslide"
    },
    "tags": [
     "keep",
     "subslide"
    ]
   },
   "outputs": [],
   "source": [
    "class BookV1\n",
    "{\n",
    "public:\n",
    "    BookV1(const std::string& title, const std::string& author, int pages)\n",
    "        : title{title}, author{author}, pages{pages}\n",
    "    {}\n",
    "\n",
    "    std::string get_title() const { return title; }\n",
    "    std::string get_author() const { return author; }\n",
    "    int get_pages() const { return pages; }\n",
    "\n",
    "private:\n",
    "    std::string title;\n",
    "    std::string author;\n",
    "    int pages;\n",
    "}"
   ]
  },
  {
   "cell_type": "code",
   "execution_count": null,
   "id": "e7f8bc7555ffd8db",
   "metadata": {
    "slideshow": {
     "slide_type": "subslide"
    },
    "tags": [
     "keep",
     "subslide"
    ]
   },
   "outputs": [],
   "source": [
    "class BookPrinterV1a\n",
    "{\n",
    "public:\n",
    "    BookPrinterV1a(const BookV1& book)\n",
    "        : book{&book}\n",
    "    {}\n",
    "\n",
    "    void print() {\n",
    "        // Lots of code that handles the printer\n",
    "        std::cout << \"Printing \" << book->get_title() << \" to printer.\" << std::endl;\n",
    "    }\n",
    "\n",
    "private:\n",
    "    const BookV1* book;\n",
    "}"
   ]
  },
  {
   "cell_type": "code",
   "execution_count": null,
   "id": "053051308bcf6bc7",
   "metadata": {
    "slideshow": {
     "slide_type": "subslide"
    },
    "tags": [
     "keep",
     "subslide"
    ]
   },
   "outputs": [],
   "source": [
    "class BookDatabaseV1a\n",
    "{\n",
    "public:\n",
    "    BookDatabaseV1a(const BookV1& book)\n",
    "        : book{&book}\n",
    "    {}\n",
    "\n",
    "    void save() {\n",
    "        // Lots of code that handles the database\n",
    "        std::cout << \"Saving \" << book->get_title() << \" to database.\" << std::endl;\n",
    "    }\n",
    "\n",
    "private:\n",
    "    const BookV1* book;\n",
    "}"
   ]
  },
  {
   "cell_type": "code",
   "execution_count": null,
   "id": "dec5ee27cb61ae38",
   "metadata": {
    "slideshow": {
     "slide_type": "subslide"
    },
    "tags": [
     "subslide"
    ]
   },
   "outputs": [],
   "source": []
  },
  {
   "cell_type": "code",
   "execution_count": null,
   "id": "e34b74a6c1af2b60",
   "metadata": {},
   "outputs": [],
   "source": []
  },
  {
   "cell_type": "code",
   "execution_count": null,
   "id": "7b9e70cbf55b7aac",
   "metadata": {},
   "outputs": [],
   "source": []
  },
  {
   "cell_type": "code",
   "execution_count": null,
   "id": "fbe6f86437f67eb9",
   "metadata": {},
   "outputs": [],
   "source": []
  },
  {
   "cell_type": "code",
   "execution_count": null,
   "id": "8c3223ea29040bf0",
   "metadata": {},
   "outputs": [],
   "source": []
  },
  {
   "cell_type": "markdown",
   "id": "286852f775f3bce0",
   "metadata": {
    "lang": "de",
    "slideshow": {
     "slide_type": "subslide"
    },
    "tags": [
     "subslide"
    ]
   },
   "source": [
    "\n",
    "## Auflösung der SRP-Verletzung (Version 1a mit Fassade)\n",
    "\n",
    "<img src=\"img/book_resolution_1a_srp_facade.svg\"\n",
    "     style=\"display:block;margin:auto;width:50%\"/>"
   ]
  },
  {
   "cell_type": "code",
   "execution_count": null,
   "id": "d267dd0283f48af7",
   "metadata": {
    "slideshow": {
     "slide_type": "subslide"
    },
    "tags": [
     "keep",
     "subslide"
    ]
   },
   "outputs": [],
   "source": [
    "class BookPrinterFacadeV1a\n",
    "{\n",
    "public:\n",
    "    BookPrinterFacadeV1a(const BookV1& book)\n",
    "        : book_printer{book}, book_database{book}\n",
    "    {}\n",
    "\n",
    "    void print() {\n",
    "        book_printer.print();\n",
    "    }\n",
    "\n",
    "    void save() {\n",
    "        book_database.save();\n",
    "    }\n",
    "\n",
    "private:\n",
    "    BookPrinterV1a book_printer;\n",
    "    BookDatabaseV1a book_database;\n",
    "}"
   ]
  },
  {
   "cell_type": "code",
   "execution_count": null,
   "id": "6f0ed88af067048f",
   "metadata": {
    "slideshow": {
     "slide_type": "subslide"
    },
    "tags": [
     "subslide"
    ]
   },
   "outputs": [],
   "source": []
  },
  {
   "cell_type": "code",
   "execution_count": null,
   "id": "427fa970cf17c5fd",
   "metadata": {},
   "outputs": [],
   "source": []
  },
  {
   "cell_type": "code",
   "execution_count": null,
   "id": "008a50de32b5acf8",
   "metadata": {},
   "outputs": [],
   "source": []
  },
  {
   "cell_type": "markdown",
   "id": "44ff965c5b4380cc",
   "metadata": {
    "lang": "de",
    "slideshow": {
     "slide_type": "subslide"
    },
    "tags": [
     "subslide"
    ]
   },
   "source": [
    "\n",
    "## Auflösung der SRP-Verletzung (Version 1b)\n",
    "\n",
    "<img src=\"img/book_resolution_1_srp.svg\"\n",
    "     style=\"display:block;margin:auto;width:50%\"/>"
   ]
  },
  {
   "cell_type": "code",
   "execution_count": null,
   "id": "feea120c2deab994",
   "metadata": {
    "slideshow": {
     "slide_type": "subslide"
    },
    "tags": [
     "keep",
     "subslide"
    ]
   },
   "outputs": [],
   "source": [
    "class BookPrinterV1b\n",
    "{\n",
    "public:\n",
    "    void print(const BookV1& book) {\n",
    "        // Lots of code that handles the printer\n",
    "        std::cout << \"Printing \" << book.get_title() << \" to printer.\\n\";\n",
    "    }\n",
    "}"
   ]
  },
  {
   "cell_type": "code",
   "execution_count": null,
   "id": "a4691ba479a02803",
   "metadata": {
    "tags": [
     "keep"
    ]
   },
   "outputs": [],
   "source": [
    "class BookDatabaseV1b\n",
    "{\n",
    "public:\n",
    "    void save(const BookV1& book) {\n",
    "        // Lots of code that handles the database\n",
    "        std::cout << \"Saving \" << book.get_title() << \" to database.\\n\";\n",
    "    }\n",
    "}"
   ]
  },
  {
   "cell_type": "code",
   "execution_count": null,
   "id": "c5feb8aa9b5869ef",
   "metadata": {
    "slideshow": {
     "slide_type": "subslide"
    },
    "tags": [
     "subslide"
    ]
   },
   "outputs": [],
   "source": []
  },
  {
   "cell_type": "code",
   "execution_count": null,
   "id": "60cf5125afc730f6",
   "metadata": {},
   "outputs": [],
   "source": []
  },
  {
   "cell_type": "code",
   "execution_count": null,
   "id": "e0eae3fe256b4006",
   "metadata": {},
   "outputs": [],
   "source": []
  },
  {
   "cell_type": "code",
   "execution_count": null,
   "id": "abfbd910dfec252a",
   "metadata": {},
   "outputs": [],
   "source": []
  },
  {
   "cell_type": "code",
   "execution_count": null,
   "id": "7a0de25cc908a95f",
   "metadata": {},
   "outputs": [],
   "source": []
  },
  {
   "cell_type": "markdown",
   "id": "e85b3dc0f2058625",
   "metadata": {
    "lang": "de",
    "slideshow": {
     "slide_type": "subslide"
    },
    "tags": [
     "subslide"
    ]
   },
   "source": [
    "\n",
    "## Auflösung der SRP-Verletzung (Version 1b mit Facade)\n",
    "\n",
    "<img src=\"img/book_resolution_1_srp_facade.svg\"\n",
    "     style=\"display:block;margin:auto;width:50%\"/>"
   ]
  },
  {
   "cell_type": "code",
   "execution_count": null,
   "id": "57c25def523e4d7d",
   "metadata": {
    "slideshow": {
     "slide_type": "subslide"
    },
    "tags": [
     "subslide",
     "keep"
    ]
   },
   "outputs": [],
   "source": [
    "class BookFacadeV1b {\n",
    "public:\n",
    "    BookFacadeV1b(const BookV1& book) : book{&book} {}\n",
    "\n",
    "    void print() {\n",
    "        book_printer.print(*book);\n",
    "    }\n",
    "\n",
    "    void save() {\n",
    "        book_database.save(*book);\n",
    "    }\n",
    "\n",
    "private:\n",
    "    const BookV1* book;\n",
    "    BookPrinterV1b book_printer;\n",
    "    BookDatabaseV1b book_database;\n",
    "}"
   ]
  },
  {
   "cell_type": "code",
   "execution_count": null,
   "id": "6b3baf5e8e9331ff",
   "metadata": {
    "slideshow": {
     "slide_type": "subslide"
    },
    "tags": [
     "subslide"
    ]
   },
   "outputs": [],
   "source": []
  },
  {
   "cell_type": "code",
   "execution_count": null,
   "id": "e7f9c8e6a609b87a",
   "metadata": {},
   "outputs": [],
   "source": []
  },
  {
   "cell_type": "code",
   "execution_count": null,
   "id": "efdb58f01be0f4f7",
   "metadata": {},
   "outputs": [],
   "source": []
  },
  {
   "cell_type": "markdown",
   "id": "dad8c887ceb4e52d",
   "metadata": {
    "lang": "de",
    "slideshow": {
     "slide_type": "subslide"
    },
    "tags": [
     "subslide"
    ]
   },
   "source": [
    "\n",
    "## Auflösung der SRP-Verletzung (Version 2)\n",
    "\n",
    "<img src=\"img/book_resolution_2_srp.svg\"\n",
    "     style=\"display:block;margin:auto;width:60%\"/>"
   ]
  },
  {
   "cell_type": "code",
   "execution_count": null,
   "id": "71a12c6d97d810e7",
   "metadata": {
    "slideshow": {
     "slide_type": "subslide"
    },
    "tags": [
     "keep",
     "subslide"
    ]
   },
   "outputs": [],
   "source": [
    "#include <iostream>\n",
    "#include <string>"
   ]
  },
  {
   "cell_type": "code",
   "execution_count": null,
   "id": "9b8986f21d5717b3",
   "metadata": {
    "tags": [
     "keep"
    ]
   },
   "outputs": [],
   "source": [
    "template <typename T>\n",
    "class BookPrinterV2\n",
    "{\n",
    "public:\n",
    "    void print(const T& book)\n",
    "    {\n",
    "        // Lots of code that handles the printer\n",
    "        std::cout << \"Printing \" << book.get_title() << \" to printer.\\n\";\n",
    "    }\n",
    "};"
   ]
  },
  {
   "cell_type": "code",
   "execution_count": null,
   "id": "613125b7dc3e0e69",
   "metadata": {
    "tags": [
     "keep"
    ]
   },
   "outputs": [],
   "source": [
    "template <typename T>\n",
    "class BookDatabaseV2\n",
    "{\n",
    "public:\n",
    "    void save(const T& book)\n",
    "    {\n",
    "        // Lots of code that handles the database\n",
    "        std::cout << \"Saving \" << book.get_title() << \" to database.\\n\";\n",
    "    }\n",
    "};"
   ]
  },
  {
   "cell_type": "code",
   "execution_count": null,
   "id": "d93f97d09d09ebed",
   "metadata": {
    "slideshow": {
     "slide_type": "subslide"
    },
    "tags": [
     "keep",
     "subslide"
    ]
   },
   "outputs": [],
   "source": [
    "class BookV2a\n",
    "{\n",
    "public:\n",
    "    BookV2a(const std::string& title, const std::string& author, int pages)\n",
    "        : title{title}, author{author}, pages{pages}\n",
    "    {}\n",
    "\n",
    "    std::string get_title() const { return title; }\n",
    "    std::string get_author() const { return author; }\n",
    "    int get_pages() const { return pages; }\n",
    "    void print() { book_printer.print(*this); }\n",
    "    void save() { book_database.save(*this); };\n",
    "\n",
    "private:\n",
    "    std::string title;\n",
    "    std::string author;\n",
    "    int pages;\n",
    "    BookPrinterV2<BookV2a> book_printer;\n",
    "    BookDatabaseV2<BookV2a> book_database;\n",
    "}"
   ]
  },
  {
   "cell_type": "code",
   "execution_count": null,
   "id": "6d828e6729600de3",
   "metadata": {
    "slideshow": {
     "slide_type": "subslide"
    },
    "tags": [
     "subslide"
    ]
   },
   "outputs": [],
   "source": []
  },
  {
   "cell_type": "code",
   "execution_count": null,
   "id": "d771caadf392187d",
   "metadata": {},
   "outputs": [],
   "source": []
  },
  {
   "cell_type": "code",
   "execution_count": null,
   "id": "9c2d1d02c56cafae",
   "metadata": {},
   "outputs": [],
   "source": []
  },
  {
   "cell_type": "code",
   "execution_count": null,
   "id": "54783b57f6f0e812",
   "metadata": {
    "slideshow": {
     "slide_type": "subslide"
    },
    "tags": [
     "keep",
     "subslide"
    ]
   },
   "outputs": [],
   "source": [
    "#include <memory>"
   ]
  },
  {
   "cell_type": "code",
   "execution_count": null,
   "id": "efe55737e74a40cc",
   "metadata": {
    "tags": [
     "keep"
    ]
   },
   "outputs": [],
   "source": [
    "class BookV2\n",
    "{\n",
    "public:\n",
    "    BookV2(const std::string& title, const std::string& author, int pages,\n",
    "           std::shared_ptr<BookPrinterV2<BookV2>> book_printer,\n",
    "           std::shared_ptr<BookDatabaseV2<BookV2>> book_database);\n",
    "\n",
    "    std::string get_title() const { return title_; }\n",
    "    std::string get_author() const { return author_; }\n",
    "    int get_pages() const { return pages_; }\n",
    "    void print() { book_printer_->print(*this); }\n",
    "    void save() { book_database_->save(*this); }\n",
    "\n",
    "private:\n",
    "    std::string title_;\n",
    "    std::string author_;\n",
    "    int pages_;\n",
    "    std::shared_ptr<BookPrinterV2<BookV2>> book_printer_;\n",
    "    std::shared_ptr<BookDatabaseV2<BookV2>> book_database_;\n",
    "}"
   ]
  },
  {
   "cell_type": "code",
   "execution_count": null,
   "id": "7f82e850c7e1b1f8",
   "metadata": {
    "slideshow": {
     "slide_type": "subslide"
    },
    "tags": [
     "keep",
     "subslide"
    ]
   },
   "outputs": [],
   "source": [
    "BookV2::BookV2(const std::string& title, const std::string& author, int pages,\n",
    "       std::shared_ptr<BookPrinterV2<BookV2>> book_printer,\n",
    "       std::shared_ptr<BookDatabaseV2<BookV2>> book_database)\n",
    "    : title_(title), author_(author), pages_(pages)\n",
    "    , book_printer_(std::move(book_printer)), book_database_(std::move(book_database))\n",
    "{}"
   ]
  },
  {
   "cell_type": "code",
   "execution_count": null,
   "id": "01f14adc3775ba7a",
   "metadata": {
    "slideshow": {
     "slide_type": "subslide"
    },
    "tags": [
     "subslide"
    ]
   },
   "outputs": [],
   "source": []
  },
  {
   "cell_type": "code",
   "execution_count": null,
   "id": "0ff2cb347c46928f",
   "metadata": {},
   "outputs": [],
   "source": []
  },
  {
   "cell_type": "code",
   "execution_count": null,
   "id": "9b04caacebfb6c1b",
   "metadata": {},
   "outputs": [],
   "source": []
  },
  {
   "cell_type": "markdown",
   "id": "f03cd98a165c0c27",
   "metadata": {
    "lang": "de",
    "slideshow": {
     "slide_type": "subslide"
    },
    "tags": [
     "subslide"
    ]
   },
   "source": [
    "\n",
    "## Vergleich\n",
    "\n",
    "<div>\n",
    "<img src=\"img/book_resolution_1a_srp.svg\"\n",
    "     style=\"float:left;padding:5px;width:40%\"/>\n",
    "<img src=\"img/book_resolution_2_srp.svg\"\n",
    "     style=\"float:right;padding:5px;width:50%\"/>\n",
    "</div>"
   ]
  },
  {
   "cell_type": "markdown",
   "id": "6310fed5367249f7",
   "metadata": {
    "lang": "de",
    "lines_to_next_cell": 2,
    "slideshow": {
     "slide_type": "subslide"
    },
    "tags": [
     "subslide"
    ]
   },
   "source": [
    "\n",
    "## Workshop: Wetter-App\n",
    "\n",
    "Sie arbeiten an einer vielseitigen Wetteranwendung namens WeatherWise. Die\n",
    "WeatherWise App bietet ihren Benutzern aktuelle Wetterinformationen aus\n",
    "verschiedenen Online-Plattformen. Über die Anzeige der aktuellen Bedingungen\n",
    "hinaus ermöglicht die App den Benutzern, die Vorhersage in verschiedenen\n",
    "visuellen Formaten anzuzeigen, und sie protokolliert Fehler für alle Probleme\n",
    "während des Datenabrufs oder der Analyse.\n",
    "\n",
    "Während WeatherWise für seine Funktionen gut ankommt, sieht sich das\n",
    "Entwicklungsteam mit Herausforderungen bei der Wartung und Erweiterung der\n",
    "Anwendung konfrontiert. Die Entwickler haben festgestellt, dass die\n",
    "Kernklasse, `Weather`, zunehmend komplex wird. Sie behandelt alles von der\n",
    "Datenbeschaffung bis zur Datendarstellung. Diese Komplexität erschwert die\n",
    "Einführung neuer Funktionen, ohne dass dabei die Gefahr besteht, Fehler\n",
    "einzuführen.\n",
    "\n",
    "Ihre Aufgabe: Refaktorisieren Sie die Klasse `Weather`, indem Sie\n",
    "sicherstellen, dass jede Klasse im System dem Single Responsibility Principle\n",
    "entspricht. Damit legen Sie die Grundlage für eine wartbarere und\n",
    "skalierbarere Anwendung."
   ]
  },
  {
   "cell_type": "markdown",
   "id": "e81194ec33113395",
   "metadata": {
    "lang": "de",
    "slideshow": {
     "slide_type": "subslide"
    },
    "tags": [
     "subslide"
    ]
   },
   "source": [
    "\n",
    "### Klassendiagramm der Wetter-App\n",
    "\n",
    "<img src=\"img/weather_app_class.svg\"\n",
    "     style=\"display:block;margin:auto;width:40%\"/>"
   ]
  },
  {
   "cell_type": "markdown",
   "id": "c10d50877afd9f6b",
   "metadata": {
    "lang": "de",
    "slideshow": {
     "slide_type": "subslide"
    },
    "tags": [
     "subslide"
    ]
   },
   "source": [
    "\n",
    "### RunWeatherApp() Sequenzendiagramm\n",
    "\n",
    "<img src=\"img/weather_app_sequence.svg\"\n",
    "     style=\"display:block;margin:auto;width:30%\"/>"
   ]
  },
  {
   "cell_type": "code",
   "execution_count": null,
   "id": "20e56e2731ca3766",
   "metadata": {
    "slideshow": {
     "slide_type": "subslide"
    },
    "tags": [
     "keep",
     "subslide"
    ]
   },
   "outputs": [],
   "source": [
    "#include <iostream>\n",
    "#include <sstream>\n",
    "#include <string>\n",
    "#include <vector>"
   ]
  },
  {
   "cell_type": "code",
   "execution_count": null,
   "id": "f1732ac18ce30924",
   "metadata": {
    "slideshow": {
     "slide_type": "subslide"
    },
    "tags": [
     "keep",
     "subslide"
    ]
   },
   "outputs": [],
   "source": [
    "class Weather\n",
    "{\n",
    "public:\n",
    "    void FetchDataFromSource();\n",
    "    void ParseData();\n",
    "    void DisplayInFormatA();\n",
    "    void DisplayInFormatB();\n",
    "    void LogError(const std::string& errorMsg);\n",
    "    std::string FormatData() const;\n",
    "\n",
    "private:\n",
    "    std::string rawData_;\n",
    "    std::vector<double> data_;\n",
    "};"
   ]
  },
  {
   "cell_type": "code",
   "execution_count": null,
   "id": "cf4aa1602156dd29",
   "metadata": {
    "slideshow": {
     "slide_type": "subslide"
    },
    "tags": [
     "keep",
     "subslide"
    ]
   },
   "outputs": [],
   "source": [
    "void Weather::FetchDataFromSource()\n",
    "{\n",
    "    // Simulating fetching data from some source\n",
    "    rawData_ = \"Sunny, 25°C\";\n",
    "    std::cout << \"Data fetched from source.\\n\";\n",
    "}"
   ]
  },
  {
   "cell_type": "code",
   "execution_count": null,
   "id": "bf36043b77cb511c",
   "metadata": {
    "tags": [
     "keep"
    ]
   },
   "outputs": [],
   "source": [
    "void Weather::ParseData()\n",
    "{\n",
    "    // Simulate data parsing\n",
    "    if (rawData_.empty()) {\n",
    "        LogError(\"No data available\");\n",
    "        return;\n",
    "    }\n",
    "    data_ = {10.0, 12.0, 8.0, 15.0, 20.0, 22.0, 25.0};\n",
    "    std::cout << \"Data parsed: \" << FormatData() << \"\\n\";\n",
    "}"
   ]
  },
  {
   "cell_type": "code",
   "execution_count": null,
   "id": "65bfc6c206443fea",
   "metadata": {
    "slideshow": {
     "slide_type": "subslide"
    },
    "tags": [
     "keep",
     "subslide"
    ]
   },
   "outputs": [],
   "source": [
    "void Weather::DisplayInFormatA()\n",
    "{\n",
    "    // Simulating one display format\n",
    "    if (data_.empty()) {\n",
    "        LogError(\"No data available\");\n",
    "        return;\n",
    "    }\n",
    "    std::cout << \"Format A: \" << FormatData() << \"\\n\";\n",
    "}"
   ]
  },
  {
   "cell_type": "code",
   "execution_count": null,
   "id": "7e40d2fbbf478512",
   "metadata": {
    "tags": [
     "keep"
    ]
   },
   "outputs": [],
   "source": [
    "void Weather::DisplayInFormatB()\n",
    "{\n",
    "    // Simulating another display format\n",
    "    if (data_.empty()) {\n",
    "        LogError(\"No data available\");\n",
    "        return;\n",
    "    }\n",
    "    std::cout << \"Format B: === \" << FormatData() << \" ===\\n\";\n",
    "}"
   ]
  },
  {
   "cell_type": "code",
   "execution_count": null,
   "id": "1457012c94157460",
   "metadata": {
    "slideshow": {
     "slide_type": "subslide"
    },
    "tags": [
     "keep",
     "subslide"
    ]
   },
   "outputs": [],
   "source": [
    "void Weather::LogError(const std::string& errorMsg)\n",
    "{\n",
    "    // Simulating error logging\n",
    "    std::cout << \"Error: \" << errorMsg << \"\\n\";\n",
    "}"
   ]
  },
  {
   "cell_type": "code",
   "execution_count": null,
   "id": "6c8b23b866fe7729",
   "metadata": {
    "tags": [
     "keep"
    ]
   },
   "outputs": [],
   "source": [
    "std::string Weather::FormatData() const\n",
    "{\n",
    "    std::ostringstream stream;\n",
    "    std::copy(\n",
    "        data_.begin(), data_.end(), std::ostream_iterator<double>(stream, \", \"));\n",
    "    return stream.str();\n",
    "}"
   ]
  },
  {
   "cell_type": "code",
   "execution_count": null,
   "id": "5259412283230e80",
   "metadata": {
    "slideshow": {
     "slide_type": "subslide"
    },
    "tags": [
     "keep",
     "subslide"
    ]
   },
   "outputs": [],
   "source": [
    "void RunWeatherApp(bool introduceError = false)\n",
    "{\n",
    "    Weather w;\n",
    "    w.FetchDataFromSource();\n",
    "    if (!introduceError) {\n",
    "        w.ParseData();\n",
    "    }\n",
    "    w.DisplayInFormatA();\n",
    "    w.DisplayInFormatB();\n",
    "}"
   ]
  },
  {
   "cell_type": "code",
   "execution_count": null,
   "id": "649f550641a2afab",
   "metadata": {
    "slideshow": {
     "slide_type": "subslide"
    },
    "tags": [
     "keep",
     "subslide"
    ]
   },
   "outputs": [],
   "source": [
    "RunWeatherApp();"
   ]
  },
  {
   "cell_type": "code",
   "execution_count": null,
   "id": "a971180240169440",
   "metadata": {
    "tags": [
     "keep"
    ]
   },
   "outputs": [],
   "source": [
    "RunWeatherApp(true);"
   ]
  }
 ],
 "metadata": {
  "kernelspec": {
   "display_name": "C++17",
   "language": "C++17",
   "name": "xcpp17"
  },
  "language_info": {
   "codemirror_mode": "text/x-c++src",
   "file_extension": ".cpp",
   "mimetype": "text/x-c++src",
   "name": "c++",
   "version": "17"
  }
 },
 "nbformat": 4,
 "nbformat_minor": 5
}
