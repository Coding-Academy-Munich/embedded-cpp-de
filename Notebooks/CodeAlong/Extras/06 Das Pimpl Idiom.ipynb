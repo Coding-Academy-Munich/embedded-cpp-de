{
 "cells": [
  {
   "cell_type": "markdown",
   "id": "316ce319c0c16a6b",
   "metadata": {
    "lang": "de",
    "slideshow": {
     "slide_type": "slide"
    },
    "tags": [
     "slide"
    ]
   },
   "source": [
    "\n",
    "<img src=\"data:image/png;base64,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\"\n",
    "     style=\"display:block;margin:auto;width:5%\"/>\n",
    "<br>\n",
    "\n",
    "<div style=\"text-align:center; font-size:200%;\">\n",
    " <b>Das Pimpl Idiom</b>\n",
    "</div>\n",
    "<br/>\n",
    "<div style=\"text-align:center; font-size:120%;\">Dr. Matthias Hölzl</div>\n",
    "<br/>\n",
    "<div style=\"text-align:center;\">Coding-Akademie München</div>\n",
    "<br/>\n",
    "<!-- 06 Das Pimpl Idiom.ipynb -->\n",
    "<!-- slides/module_470_cpp_patterns/topic_100_pimpl.cpp -->"
   ]
  },
  {
   "cell_type": "markdown",
   "id": "a4fb5b8a620f3385",
   "metadata": {
    "lang": "de",
    "slideshow": {
     "slide_type": "subslide"
    },
    "tags": [
     "subslide"
    ]
   },
   "source": [
    "\n",
    "## Problem\n",
    "\n",
    "- Die Implementierungsdetails einer Klasse sind Teil der Schnittstelle\n",
    "- Änderungen an der Implementierung erfordern eine Neukompilierung aller\n",
    "  Nutzer der Klasse\n",
    "  - Selbst für private Methoden (wegen Overload-Resolution)"
   ]
  },
  {
   "cell_type": "markdown",
   "id": "44e67c6c3e3f77ac",
   "metadata": {
    "lang": "de",
    "slideshow": {
     "slide_type": "subslide"
    },
    "tags": [
     "subslide"
    ]
   },
   "source": [
    "\n",
    "## Lösungsansatz: Pimpl Idiom\n",
    "\n",
    "- Die Implementierungsdetails werden in eine private Klasse ausgelagert\n",
    "- Die öffentliche Klasse enthält nur einen Pointer auf die private Klasse\n",
    "- Die öffentliche Klasse delegiert alle Methodenaufrufe an die private Klasse\n",
    "- Die private Klasse wird in der `cpp`-Datei definiert"
   ]
  },
  {
   "cell_type": "markdown",
   "id": "ac36a49ae25afd99",
   "metadata": {
    "lang": "de",
    "slideshow": {
     "slide_type": "subslide"
    },
    "tags": [
     "subslide"
    ]
   },
   "source": [
    "\n",
    "Datei `WidgetV1.h`:\n",
    "\n",
    "```cpp\n",
    "#ifndef WIDGETV1_H\n",
    "#define WIDGETV1_H\n",
    "#include <memory>\n",
    "\n",
    "namespace widget_v1 {\n",
    "class WidgetV1 {\n",
    "public:\n",
    "    WidgetV1();\n",
    "    ~WidgetV1();\n",
    "\n",
    "    void PrintWidget() const;\n",
    "\n",
    "    int GetState() const;\n",
    "    void SetState(int state);\n",
    "\n",
    "private:\n",
    "    class Impl;\n",
    "    std::unique_ptr<Impl> pImpl;\n",
    "};\n",
    "} // namespace widget_v1\n",
    "\n",
    "#endif // WIDGETV1_H\n",
    "```"
   ]
  },
  {
   "cell_type": "markdown",
   "id": "57834715b095a96c",
   "metadata": {
    "lang": "de",
    "slideshow": {
     "slide_type": "subslide"
    },
    "tags": [
     "subslide"
    ]
   },
   "source": [
    "\n",
    "Datei `WidgetV1.cpp`:"
   ]
  },
  {
   "cell_type": "code",
   "execution_count": null,
   "id": "c453af6d81a25dac",
   "metadata": {
    "tags": [
     "keep"
    ]
   },
   "outputs": [],
   "source": [
    "#include \"WidgetV1.h\"\n",
    "\n",
    "#include <iostream>"
   ]
  },
  {
   "cell_type": "code",
   "execution_count": null,
   "id": "b98207f100024f5c",
   "metadata": {
    "slideshow": {
     "slide_type": "subslide"
    },
    "tags": [
     "keep",
     "subslide"
    ]
   },
   "outputs": [],
   "source": [
    "class widget_v1::WidgetV1::Impl {\n",
    "public:\n",
    "    void PrintWidget() { std::cout << \"Impl::PrintWidget(): \" << state_ << \"\\n\"; }\n",
    "\n",
    "    int GetState() const { return state_; }\n",
    "\n",
    "    void SetState(int state) { state_ = state; }\n",
    "\n",
    "private:\n",
    "    int state_{};\n",
    "};"
   ]
  },
  {
   "cell_type": "code",
   "execution_count": null,
   "id": "87e73db10e35a090",
   "metadata": {
    "slideshow": {
     "slide_type": "subslide"
    },
    "tags": [
     "keep",
     "subslide"
    ]
   },
   "outputs": [],
   "source": [
    "namespace widget_v1 {\n",
    "widget_v1::WidgetV1::WidgetV1() : pImpl{std::make_unique<Impl>()} {}\n",
    "} // namespace widget_v1"
   ]
  },
  {
   "cell_type": "code",
   "execution_count": null,
   "id": "79dfc3086e3fe9f4",
   "metadata": {
    "tags": [
     "keep"
    ]
   },
   "outputs": [],
   "source": [
    "namespace widget_v1 {\n",
    "WidgetV1::~WidgetV1() = default;\n",
    "}"
   ]
  },
  {
   "cell_type": "code",
   "execution_count": null,
   "id": "72f60e9c7b09c2e0",
   "metadata": {
    "tags": [
     "keep"
    ]
   },
   "outputs": [],
   "source": [
    "void widget_v1::WidgetV1::PrintWidget() const { pImpl->PrintWidget(); }"
   ]
  },
  {
   "cell_type": "code",
   "execution_count": null,
   "id": "fe59f6bbd24b6627",
   "metadata": {
    "slideshow": {
     "slide_type": "subslide"
    },
    "tags": [
     "keep",
     "subslide"
    ]
   },
   "outputs": [],
   "source": [
    "void widget_v1::WidgetV1::SetState(int state) { pImpl->SetState(state); }"
   ]
  },
  {
   "cell_type": "code",
   "execution_count": null,
   "id": "705419b75c65799f",
   "metadata": {
    "lines_to_next_cell": 0,
    "tags": [
     "keep"
    ]
   },
   "outputs": [],
   "source": [
    "int widget_v1::WidgetV1::GetState() const { return pImpl->GetState(); }"
   ]
  },
  {
   "cell_type": "code",
   "execution_count": null,
   "id": "736b9a1eb3012b82",
   "metadata": {
    "tags": [
     "keep"
    ]
   },
   "outputs": [],
   "source": [
    "using widget_v1::WidgetV1;\n",
    "\n",
    "WidgetV1 w;\n",
    "w.PrintWidget();\n",
    "w.SetState(42);\n",
    "std::cout << \"State is: \" << w.GetState() << std::endl;\n",
    "w.PrintWidget();"
   ]
  },
  {
   "cell_type": "code",
   "execution_count": null,
   "id": "6156470d13fa51f5",
   "metadata": {
    "tags": [
     "keep"
    ]
   },
   "outputs": [],
   "source": [
    "using widget_v1::WidgetV1;\n",
    "const WidgetV1 w;\n",
    "w.PrintWidget();\n",
    "// w.SetState(42);\n",
    "std::cout << \"State is: \" << w.GetState() << std::endl;\n",
    "w.PrintWidget();"
   ]
  },
  {
   "cell_type": "markdown",
   "id": "1b57def148fb181e",
   "metadata": {
    "lang": "de",
    "lines_to_next_cell": 2,
    "slideshow": {
     "slide_type": "subslide"
    },
    "tags": [
     "subslide"
    ]
   },
   "source": [
    "\n",
    "### Vorteile\n",
    "\n",
    "- Die Implementierungsdetails sind nicht Teil der Schnittstelle\n",
    "- Änderungen an der Implementierung erfordern keine Neukompilierung der\n",
    "  Nutzer der Klasse"
   ]
  },
  {
   "cell_type": "markdown",
   "id": "0d159beb88424696",
   "metadata": {
    "lang": "de",
    "slideshow": {
     "slide_type": "subslide"
    },
    "tags": [
     "subslide"
    ]
   },
   "source": [
    "\n",
    "### Probleme\n",
    "\n",
    "- Runtime Overhead\n",
    "  - Speicher für Pointer\n",
    "  - Indirekter Zugriff auf Daten\n",
    "  - Daten werden auf dem Heap statt auf dem Stack gespeichert\n",
    "     - Dies ist typischerweise der größte Overhead\n",
    "- Erhöhter Wartungs- und Entwicklungsaufwand\n",
    "- Die Klasse ist nicht kopierbar\n",
    "- `Const-ness` wird nicht korrekt zum `pImpl` Pointer propagiert"
   ]
  },
  {
   "cell_type": "markdown",
   "id": "7fc194f1363a9050",
   "metadata": {
    "lang": "de",
    "slideshow": {
     "slide_type": "subslide"
    },
    "tags": [
     "subslide"
    ]
   },
   "source": [
    "\n",
    "Datei `WidgetV2.h`:"
   ]
  },
  {
   "cell_type": "markdown",
   "id": "aa73ba2e1b2da692",
   "metadata": {
    "lang": "de",
    "slideshow": {
     "slide_type": "subslide"
    },
    "tags": [
     "subslide"
    ]
   },
   "source": [
    "\n",
    "Datei `WidgetV2.cpp`:"
   ]
  },
  {
   "cell_type": "code",
   "execution_count": null,
   "id": "03bb1ea4fddda1f9",
   "metadata": {
    "tags": [
     "keep"
    ]
   },
   "outputs": [],
   "source": [
    "#include \"WidgetV2.h\"\n",
    "\n",
    "#include <iostream>"
   ]
  },
  {
   "cell_type": "code",
   "execution_count": null,
   "id": "a3a926689d0eebf1",
   "metadata": {
    "slideshow": {
     "slide_type": "subslide"
    },
    "tags": [
     "keep",
     "subslide"
    ]
   },
   "outputs": [],
   "source": [
    "class widget_v2::WidgetV2::Impl {\n",
    "public:\n",
    "    void PrintWidget() const {\n",
    "        std::cout << \"Impl::PrintWidget() const: \" << state_ << \"\\n\";\n",
    "    }\n",
    "\n",
    "    void PrintWidget() { std::cout << \"Impl::PrintWidget(): \" << state_ << \"\\n\"; }\n",
    "\n",
    "    int GetState() const {\n",
    "        std::cout << \"<Impl::GetState() const -> \" << state_ << \"> \";\n",
    "        return state_;\n",
    "    }\n",
    "\n",
    "    int& GetState() {\n",
    "        std::cout << \"<Impl::GetState() -> \" << state_ << \"> \";\n",
    "        return state_;\n",
    "    }\n",
    "\n",
    "    void SetState(int state) { state_ = state; }\n",
    "\n",
    "private:\n",
    "    int state_{};\n",
    "};"
   ]
  },
  {
   "cell_type": "code",
   "execution_count": null,
   "id": "d532a2b0f735988e",
   "metadata": {
    "slideshow": {
     "slide_type": "subslide"
    },
    "tags": [
     "keep",
     "subslide"
    ]
   },
   "outputs": [],
   "source": [
    "namespace widget_v2 {\n",
    "WidgetV2::WidgetV2() : pImpl{std::make_unique<Impl>()} {}\n",
    "} // namespace widget_v2"
   ]
  },
  {
   "cell_type": "code",
   "execution_count": null,
   "id": "c0e62c1abc4edc83",
   "metadata": {
    "tags": [
     "keep"
    ]
   },
   "outputs": [],
   "source": [
    "namespace widget_v2 {\n",
    "WidgetV2::~WidgetV2() = default;\n",
    "}"
   ]
  },
  {
   "cell_type": "code",
   "execution_count": null,
   "id": "774b8c97291717b1",
   "metadata": {
    "tags": [
     "keep"
    ]
   },
   "outputs": [],
   "source": [
    "void widget_v2::WidgetV2::PrintWidget() const { pImpl->PrintWidget(); }"
   ]
  },
  {
   "cell_type": "code",
   "execution_count": null,
   "id": "5f79cc126064986b",
   "metadata": {
    "slideshow": {
     "slide_type": "subslide"
    },
    "tags": [
     "keep",
     "subslide"
    ]
   },
   "outputs": [],
   "source": [
    "void widget_v2::WidgetV2::SetState(int state) { pImpl->SetState(state); }"
   ]
  },
  {
   "cell_type": "code",
   "execution_count": null,
   "id": "85cd64d4c02b66d5",
   "metadata": {
    "tags": [
     "keep"
    ]
   },
   "outputs": [],
   "source": [
    "int widget_v2::WidgetV2::GetState() const { return pImpl->GetState(); }"
   ]
  },
  {
   "cell_type": "code",
   "execution_count": null,
   "id": "effa9a1b17f82dda",
   "metadata": {
    "lines_to_next_cell": 0,
    "tags": [
     "keep"
    ]
   },
   "outputs": [],
   "source": [
    "int& widget_v2::WidgetV2::GetState() { return pImpl->GetState(); }"
   ]
  },
  {
   "cell_type": "code",
   "execution_count": null,
   "id": "2796798f75568b32",
   "metadata": {
    "tags": [
     "keep"
    ]
   },
   "outputs": [],
   "source": [
    "using widget_v2::WidgetV2;\n",
    "\n",
    "WidgetV2 w;\n",
    "w.PrintWidget();\n",
    "w.SetState(42);\n",
    "std::cout << \"State is: \" << w.GetState() << std::endl;\n",
    "w.PrintWidget();"
   ]
  },
  {
   "cell_type": "code",
   "execution_count": null,
   "id": "5e030a2acfe1ce30",
   "metadata": {
    "tags": [
     "keep"
    ]
   },
   "outputs": [],
   "source": [
    "using widget_v2::WidgetV2;\n",
    "const WidgetV2 w;\n",
    "w.PrintWidget();\n",
    "// w.SetState(42);\n",
    "std::cout << \"State is: \" << w.GetState() << std::endl;\n",
    "w.PrintWidget();"
   ]
  },
  {
   "cell_type": "markdown",
   "id": "3b5f8a30bf12978a",
   "metadata": {
    "lang": "de",
    "slideshow": {
     "slide_type": "subslide"
    },
    "tags": [
     "subslide"
    ]
   },
   "source": [
    "\n",
    "### Propagation von `const`\n",
    "\n",
    "- Es ist möglich, die `const`-Qualifizierung auf den `pImpl` Pointer zu propagieren\n",
    "- Allerdings ist die entsprechende Template nicht im C++-Standard definiert\n",
    "- Eine entsprechende Implementierung ist als Header im Code enthalten"
   ]
  },
  {
   "cell_type": "markdown",
   "id": "150614246446d1f1",
   "metadata": {
    "lang": "de",
    "slideshow": {
     "slide_type": "subslide"
    },
    "tags": [
     "subslide"
    ]
   },
   "source": [
    "\n",
    "Datei `WidgetV3.h`:"
   ]
  },
  {
   "cell_type": "code",
   "execution_count": null,
   "id": "82595f90ffdbf276",
   "metadata": {
    "tags": [
     "keep"
    ]
   },
   "outputs": [],
   "source": [
    "#include \"WidgetV3.h\""
   ]
  },
  {
   "cell_type": "markdown",
   "id": "571d745e1d81e04c",
   "metadata": {
    "lang": "de",
    "slideshow": {
     "slide_type": "subslide"
    },
    "tags": [
     "subslide"
    ]
   },
   "source": [
    "\n",
    "Datei `WidgetV3.cpp`:"
   ]
  },
  {
   "cell_type": "code",
   "execution_count": null,
   "id": "df126cde8926f338",
   "metadata": {
    "tags": [
     "keep"
    ]
   },
   "outputs": [],
   "source": [
    "#include \"WidgetV3.h\"\n",
    "\n",
    "#include <iostream>"
   ]
  },
  {
   "cell_type": "code",
   "execution_count": null,
   "id": "dd3633926d85d7a8",
   "metadata": {
    "slideshow": {
     "slide_type": "subslide"
    },
    "tags": [
     "keep",
     "subslide"
    ]
   },
   "outputs": [],
   "source": [
    "namespace widget_v3 {\n",
    "class WidgetV3::Impl {\n",
    "public:\n",
    "    void PrintWidget() const {\n",
    "        std::cout << \"Impl::PrintWidget() const: \" << state_ << \"\\n\";\n",
    "    }\n",
    "\n",
    "    void PrintWidget() { std::cout << \"Impl::PrintWidget(): \" << state_ << \"\\n\"; }\n",
    "\n",
    "    int GetState() const {\n",
    "        std::cout << \"<Impl::GetState() const -> \" << state_ << \"> \";\n",
    "        return state_;\n",
    "    }\n",
    "\n",
    "    int& GetState() {\n",
    "        std::cout << \"<Impl::GetState() -> \" << state_ << \"> \";\n",
    "        return state_;\n",
    "    }\n",
    "\n",
    "    void SetState(int state) { state_ = state; }\n",
    "\n",
    "private:\n",
    "    int state_{};\n",
    "};\n",
    "} // namespace widget_v3"
   ]
  },
  {
   "cell_type": "code",
   "execution_count": null,
   "id": "0eb3e57b89b057a6",
   "metadata": {
    "slideshow": {
     "slide_type": "subslide"
    },
    "tags": [
     "keep",
     "subslide"
    ]
   },
   "outputs": [],
   "source": [
    "namespace widget_v3 {\n",
    "WidgetV3::WidgetV3() : pImpl{std::make_unique<Impl>()} {}\n",
    "} // namespace widget_v3"
   ]
  },
  {
   "cell_type": "code",
   "execution_count": null,
   "id": "644c5a6a7045138a",
   "metadata": {
    "tags": [
     "keep"
    ]
   },
   "outputs": [],
   "source": [
    "namespace widget_v3 {\n",
    "WidgetV3::~WidgetV3() = default;\n",
    "}"
   ]
  },
  {
   "cell_type": "code",
   "execution_count": null,
   "id": "50d246ecc8e753f4",
   "metadata": {
    "tags": [
     "keep"
    ]
   },
   "outputs": [],
   "source": [
    "void widget_v3::WidgetV3::PrintWidget() const { pImpl->PrintWidget(); }"
   ]
  },
  {
   "cell_type": "code",
   "execution_count": null,
   "id": "ba9d62196b48ae2f",
   "metadata": {
    "slideshow": {
     "slide_type": "subslide"
    },
    "tags": [
     "keep",
     "subslide"
    ]
   },
   "outputs": [],
   "source": [
    "void widget_v3::WidgetV3::SetState(int state) { pImpl->SetState(state); }"
   ]
  },
  {
   "cell_type": "code",
   "execution_count": null,
   "id": "ceb71a4410f7eb50",
   "metadata": {
    "tags": [
     "keep"
    ]
   },
   "outputs": [],
   "source": [
    "int widget_v3::WidgetV3::GetState() const { return pImpl->GetState(); }"
   ]
  },
  {
   "cell_type": "code",
   "execution_count": null,
   "id": "830b0d798ab055ec",
   "metadata": {
    "lines_to_next_cell": 0,
    "tags": [
     "keep"
    ]
   },
   "outputs": [],
   "source": [
    "int& widget_v3::WidgetV3::GetState() { return pImpl->GetState(); }"
   ]
  },
  {
   "cell_type": "code",
   "execution_count": null,
   "id": "cbcdf48e575b3a11",
   "metadata": {
    "slideshow": {
     "slide_type": "subslide"
    },
    "tags": [
     "keep",
     "subslide"
    ]
   },
   "outputs": [],
   "source": [
    "using widget_v3::WidgetV3;\n",
    "\n",
    "WidgetV3 w;\n",
    "w.PrintWidget();\n",
    "w.SetState(42);\n",
    "std::cout << \"State is: \" << w.GetState() << std::endl;\n",
    "w.PrintWidget();"
   ]
  },
  {
   "cell_type": "code",
   "execution_count": null,
   "id": "4b9a22f6ae7888ff",
   "metadata": {
    "tags": [
     "keep"
    ]
   },
   "outputs": [],
   "source": [
    "using widget_v3::WidgetV3;\n",
    "const WidgetV3 w;\n",
    "w.PrintWidget();\n",
    "// w.SetState(42);\n",
    "std::cout << \"State is: \" << w.GetState() << std::endl;\n",
    "w.PrintWidget();"
   ]
  }
 ],
 "metadata": {
  "kernelspec": {
   "display_name": "C++17",
   "language": "C++17",
   "name": "xcpp17"
  },
  "language_info": {
   "codemirror_mode": "text/x-c++src",
   "file_extension": ".cpp",
   "mimetype": "text/x-c++src",
   "name": "c++",
   "version": "17"
  }
 },
 "nbformat": 4,
 "nbformat_minor": 5
}
