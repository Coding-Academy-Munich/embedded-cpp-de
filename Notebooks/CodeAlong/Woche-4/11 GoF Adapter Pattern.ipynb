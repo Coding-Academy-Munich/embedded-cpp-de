{
 "cells": [
  {
   "cell_type": "markdown",
   "id": "56a5c1a9bb37d14e",
   "metadata": {
    "lang": "de",
    "slideshow": {
     "slide_type": "slide"
    },
    "tags": [
     "slide"
    ]
   },
   "source": [
    "\n",
    "<img src=\"data:image/png;base64,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\"\n",
    "     style=\"display:block;margin:auto;width:5%\"/>\n",
    "<br>\n",
    "\n",
    "<div style=\"text-align:center; font-size:200%;\">\n",
    " <b>GoF Adapter Pattern</b>\n",
    "</div>\n",
    "<br/>\n",
    "<div style=\"text-align:center; font-size:120%;\">Dr. Matthias Hölzl</div>\n",
    "<br/>\n",
    "<div style=\"text-align:center;\">Coding-Akademie München</div>\n",
    "<br/>\n",
    "<!-- 11 GoF Adapter Pattern.ipynb -->\n",
    "<!-- slides/module_450_design_patterns/topic_220_adapter.cpp -->"
   ]
  },
  {
   "cell_type": "markdown",
   "id": "c7e95455739226a4",
   "metadata": {
    "lang": "de",
    "slideshow": {
     "slide_type": "slide"
    },
    "tags": [
     "slide"
    ]
   },
   "source": [
    "\n",
    "## Zweck\n",
    "\n",
    "- Anpassung der Schnittstelle einer Klasse an ein erwartetes Interface\n",
    "- Zusammenarbeit von Klassen, die aufgrund inkompatibler Schnittstellen nicht\n",
    "  zusammenarbeiten können"
   ]
  },
  {
   "cell_type": "markdown",
   "id": "484a694d067fcd79",
   "metadata": {
    "lang": "de",
    "slideshow": {
     "slide_type": "subslide"
    },
    "tags": [
     "subslide"
    ]
   },
   "source": [
    "\n",
    "## Auch bekannt als\n",
    "\n",
    "- Wrapper"
   ]
  },
  {
   "cell_type": "markdown",
   "id": "639bb0fffd091f5c",
   "metadata": {
    "lang": "de",
    "slideshow": {
     "slide_type": "subslide"
    },
    "tags": [
     "subslide"
    ]
   },
   "source": [
    "\n",
    "## Motivation\n",
    "\n",
    "- Nutzung einer Bibliotheks-Klasse aufgrund inkompatibler Schnittstellen nicht\n",
    "  möglich\n",
    "- Beispiel: Grafischer Editor\n",
    "  - Grafik-Objekte sind relativ einfach zu realisieren\n",
    "  - Text ist komplexer, möglicherweise ist der Einsatz einer externen Bibliothek\n",
    "    sinnvoll\n",
    "- Die Schnittstelle dieser Bibliothek ist nicht kompatibel mit der Schnittstelle,\n",
    "  die unser Editor erwartet\n",
    "- Mit einem Adapter können wir die Schnittstelle der Bibliothek an die\n",
    "  Schnittstelle unseres Editors anpassen"
   ]
  },
  {
   "cell_type": "markdown",
   "id": "f8aa37219c94e253",
   "metadata": {
    "lang": "de",
    "slideshow": {
     "slide_type": "subslide"
    },
    "tags": [
     "subslide"
    ]
   },
   "source": [
    "\n",
    "<img src=\"img/adapter_example.svg\"\n",
    "     style=\"display:block;margin:auto;width:80%\"/>"
   ]
  },
  {
   "cell_type": "markdown",
   "id": "d3831430dbb78aea",
   "metadata": {
    "lang": "de",
    "slideshow": {
     "slide_type": "subslide"
    },
    "tags": [
     "subslide"
    ]
   },
   "source": [
    "\n",
    "## Anwendbarkeit\n",
    "\n",
    "- Nutzung einer bestehenden Klasse mit inkompatibler Schnittstelle\n",
    "- [...]"
   ]
  },
  {
   "cell_type": "markdown",
   "id": "6d9ff185c8e61ffd",
   "metadata": {
    "lang": "de",
    "slideshow": {
     "slide_type": "subslide"
    },
    "tags": [
     "subslide"
    ]
   },
   "source": [
    "\n",
    "## Struktur\n",
    "\n",
    "- Es werden zwei Varianten definiert: Klassenadapter und Objektadapter\n",
    "- Klassenadapter verwenden Mehrfachvererbung und werden seltener eingesetzt\n",
    "- Klassendiagramm für Objektadapter:\n",
    "\n",
    "<img src=\"img/pat_adapter.svg\"\n",
    "     style=\"display: block; margin: auto; width: 80%;\"/>"
   ]
  },
  {
   "cell_type": "markdown",
   "id": "a352514c2f02378f",
   "metadata": {
    "lang": "de",
    "slideshow": {
     "slide_type": "subslide"
    },
    "tags": [
     "subslide"
    ]
   },
   "source": [
    "\n",
    "## Teilnehmer\n",
    "\n",
    "- `Client`\n",
    "  - Nutzt das Interface von `Target`\n",
    "- `Target`\n",
    "  - Definiert das Interface, das vom `Client` verwendet wird\n",
    "- `Adapter`\n",
    "  - Implementiert das Interface von `Target` und hält eine Referenz auf das `Adaptee`\n",
    "- `Adaptee`\n",
    "  - Die Klasse, deren Schnittstelle angepasst werden soll"
   ]
  },
  {
   "cell_type": "markdown",
   "id": "5c77cdf4448ae7d6",
   "metadata": {
    "lang": "de",
    "slideshow": {
     "slide_type": "subslide"
    },
    "tags": [
     "subslide"
    ]
   },
   "source": [
    "\n",
    "## Interaktionen\n",
    "\n",
    "- Der Client ruft eine Target-Methode auf einem Adapter-Objekt auf\n",
    "- Der Adapter ruft die entsprechende Methode auf dem Adaptee auf"
   ]
  },
  {
   "cell_type": "markdown",
   "id": "4be3729f5489e862",
   "metadata": {
    "lang": "de",
    "slideshow": {
     "slide_type": "subslide"
    },
    "tags": [
     "subslide"
    ]
   },
   "source": [
    "\n",
    "## Konsequenzen\n",
    "\n",
    "- Klassenadapter\n",
    "  - ...\n",
    "- Objektadapter\n",
    "  - ein Adapter kann mit mehreren adaptierten Objekten zusammenarbeiten\n",
    "  - erschwert das Überschreiben von Adaptee-Methoden"
   ]
  },
  {
   "cell_type": "markdown",
   "id": "3dee4b635aa4bc4e",
   "metadata": {
    "lang": "de",
    "slideshow": {
     "slide_type": "subslide"
    },
    "tags": [
     "subslide"
    ]
   },
   "source": [
    "\n",
    "## Beispielcode\n",
    "\n",
    "- Verwaltung von Mitarbeitern in einer Firma\n",
    "- Ein Teil der Daten wird von einem Legacy-System bereitgestellt\n",
    "- Die Schnittstelle des Legacy-Systems ist nicht kompatibel mit der Schnittstelle\n",
    "  der neuen Software\n",
    "- Wir erstellen einen Adapter, der die Schnittstelle des Legacy-Systems an die\n",
    "  Schnittstelle der neuen Software anpasst"
   ]
  },
  {
   "cell_type": "code",
   "execution_count": null,
   "id": "7b13bc8e27adfa4c",
   "metadata": {
    "slideshow": {
     "slide_type": "subslide"
    },
    "tags": [
     "keep",
     "subslide"
    ]
   },
   "outputs": [],
   "source": [
    "#include <iostream>\n",
    "#include <memory>\n",
    "#include <string>\n",
    "#include <vector>"
   ]
  },
  {
   "cell_type": "code",
   "execution_count": null,
   "id": "916b7d7385fd288d",
   "metadata": {
    "slideshow": {
     "slide_type": "subslide"
    },
    "tags": [
     "keep",
     "subslide"
    ]
   },
   "outputs": [],
   "source": [
    "class Employee {\n",
    "public:\n",
    "    Employee() = default;\n",
    "    virtual ~Employee() = default;\n",
    "\n",
    "    virtual std::string GetName() const = 0;\n",
    "    virtual float GetSalary() const = 0;\n",
    "};"
   ]
  },
  {
   "cell_type": "code",
   "execution_count": null,
   "id": "e6c8b517c6f5f2b9",
   "metadata": {
    "slideshow": {
     "slide_type": "subslide"
    },
    "tags": [
     "keep",
     "subslide"
    ]
   },
   "outputs": [],
   "source": [
    "class NewEmployee : public Employee {\n",
    "public:\n",
    "    NewEmployee(std::string name, float salary)\n",
    "        : name_{std::move(name)}, salary_{salary} {}\n",
    "\n",
    "    std::string GetName() const override { return name_; }\n",
    "    float GetSalary() const override { return salary_; }\n",
    "\n",
    "private:\n",
    "    std::string name_;\n",
    "    float salary_;\n",
    "};"
   ]
  },
  {
   "cell_type": "code",
   "execution_count": null,
   "id": "fa3474b8279fbd80",
   "metadata": {
    "slideshow": {
     "slide_type": "subslide"
    },
    "tags": [
     "keep",
     "subslide"
    ]
   },
   "outputs": [],
   "source": [
    "class LegacyEmployee {\n",
    "public:\n",
    "    std::string first_name;\n",
    "    std::string last_name;\n",
    "    float pay;\n",
    "\n",
    "    LegacyEmployee(std::string first_name, std::string last_name, float pay)\n",
    "        : first_name(first_name), last_name(last_name), pay(pay) {}\n",
    "};"
   ]
  },
  {
   "cell_type": "code",
   "execution_count": null,
   "id": "419ed0a29cb4e191",
   "metadata": {
    "slideshow": {
     "slide_type": "subslide"
    },
    "tags": [
     "keep",
     "subslide"
    ]
   },
   "outputs": [],
   "source": [
    "class Company {\n",
    "public:\n",
    "    Company(\n",
    "        std::vector<std::unique_ptr<Employee>> employees, float monthlyRent = 1000.0f)\n",
    "        : employees_(std::move(employees)), monthlyRent_(monthlyRent) {}\n",
    "\n",
    "    float MonthlyExpenses() const {\n",
    "        float totalSalary{};\n",
    "        for (const auto& employee : employees_) {\n",
    "            totalSalary += employee->GetSalary();\n",
    "        }\n",
    "        return totalSalary + monthlyRent_;\n",
    "    }\n",
    "\n",
    "    std::string Employees() const {\n",
    "        std::string list;\n",
    "        for (const auto& employee : employees_) {\n",
    "            list += employee->GetName() + \"\\n\";\n",
    "        }\n",
    "        return list;\n",
    "    }\n",
    "\n",
    "private:\n",
    "    std::vector<std::unique_ptr<Employee>> employees_;\n",
    "    float monthlyRent_;\n",
    "};"
   ]
  },
  {
   "cell_type": "code",
   "execution_count": null,
   "id": "5b10ac38298566a2",
   "metadata": {
    "slideshow": {
     "slide_type": "subslide"
    },
    "tags": [
     "subslide",
     "keep"
    ]
   },
   "outputs": [],
   "source": [
    "class LegacyEmployeeAdapter : public Employee {\n",
    "public:\n",
    "    LegacyEmployeeAdapter(const LegacyEmployee& legacyEmployee)\n",
    "        : legacyEmployee_(legacyEmployee) {}\n",
    "\n",
    "    std::string GetName() const override {\n",
    "        return legacyEmployee_.first_name + \" \" + legacyEmployee_.last_name;\n",
    "    }\n",
    "\n",
    "    float GetSalary() const override { return legacyEmployee_.pay; }\n",
    "\n",
    "private:\n",
    "    LegacyEmployee legacyEmployee_;\n",
    "};"
   ]
  },
  {
   "cell_type": "code",
   "execution_count": null,
   "id": "ad42359539ea233d",
   "metadata": {
    "slideshow": {
     "slide_type": "subslide"
    },
    "tags": [
     "keep",
     "subslide"
    ]
   },
   "outputs": [],
   "source": [
    "std::unique_ptr<Employee> legacyEmployee1{\n",
    "    std::make_unique<LegacyEmployeeAdapter>(LegacyEmployee{\"John\", \"Doe\", 1500.0f})};\n",
    "std::unique_ptr<Employee> legacyEmployee2{\n",
    "    std::make_unique<LegacyEmployeeAdapter>(LegacyEmployee{\"Jane\", \"Miller\", 2000.0f})};\n",
    "std::unique_ptr<Employee> newEmployee1{\n",
    "    std::make_unique<NewEmployee>(\"Max Mustermann\", 2500.0f)};\n",
    "std::unique_ptr<Employee> newEmployee2{\n",
    "    std::make_unique<NewEmployee>(\"Erica Jones\", 3000.0f)};"
   ]
  },
  {
   "cell_type": "code",
   "execution_count": null,
   "id": "6ad78638f8358c76",
   "metadata": {
    "tags": [
     "keep"
    ]
   },
   "outputs": [],
   "source": [
    "std::vector<std::unique_ptr<Employee>> employees;\n",
    "employees.push_back(std::move(legacyEmployee1));\n",
    "employees.push_back(std::move(legacyEmployee2));\n",
    "employees.push_back(std::move(newEmployee1));\n",
    "employees.push_back(std::move(newEmployee2));"
   ]
  },
  {
   "cell_type": "code",
   "execution_count": null,
   "id": "11d84be69a201ea3",
   "metadata": {
    "tags": [
     "keep"
    ]
   },
   "outputs": [],
   "source": [
    "Company company{std::move(employees)};"
   ]
  },
  {
   "cell_type": "code",
   "execution_count": null,
   "id": "5926dccccc54c2e2",
   "metadata": {
    "tags": [
     "keep"
    ]
   },
   "outputs": [],
   "source": [
    "std::cout << \"Monthly expenses:\" << company.MonthlyExpenses();"
   ]
  },
  {
   "cell_type": "code",
   "execution_count": null,
   "id": "8ad9e0ea683d7ada",
   "metadata": {
    "tags": [
     "keep"
    ]
   },
   "outputs": [],
   "source": [
    "std::cout << \"Employees:\\n\" << company.Employees();"
   ]
  },
  {
   "cell_type": "markdown",
   "id": "9479c8f1939f4f25",
   "metadata": {
    "lang": "de",
    "slideshow": {
     "slide_type": "subslide"
    },
    "tags": [
     "subslide"
    ]
   },
   "source": [
    "\n",
    "## Praxisbeispiele\n",
    "\n",
    "- ET++ Draw\n",
    "- InterViews 2.6\n",
    "- ..."
   ]
  },
  {
   "cell_type": "markdown",
   "id": "e834c60251d14de2",
   "metadata": {
    "lang": "de",
    "slideshow": {
     "slide_type": "subslide"
    },
    "tags": [
     "subslide"
    ]
   },
   "source": [
    "\n",
    "## Verwandte Muster\n",
    "\n",
    "- Bridge: ähnliche Struktur, aber andere Absicht (Trennung von Schnittstelle und\n",
    "  Implementierung)\n",
    "- Decorator: erweitert anderes Objekt, ohne die Schnittstelle zu ändern\n",
    "- Proxy: Stellvertreter für ein Objekt, das die gleiche Schnittstelle hat"
   ]
  },
  {
   "cell_type": "markdown",
   "id": "8631014e37befd95",
   "metadata": {
    "lang": "de",
    "slideshow": {
     "slide_type": "subslide"
    },
    "tags": [
     "subslide"
    ]
   },
   "source": [
    "\n",
    "## Workshop: Einheitliche Schnittstelle für einen Chat-Client\n",
    "\n",
    "In diesem Workshop sollen verschiedene Messaging-Dienste, wie SMS, E-Mail und\n",
    "eine In-App-Chat-System, zu einer Chat Applikation hinzugefügt werden. Die\n",
    "Herausforderung besteht darin, dass jeder dieser Dienste seine eigene Art\n",
    "hat, Nachrichten zu senden und zu empfangen.\n",
    "\n",
    "Im Folgenden finden Sie den Startercode mit einer Klasse für Benutzer des\n",
    "Dienstes und separaten Klassen für jeden Messaging-Dienst."
   ]
  },
  {
   "cell_type": "code",
   "execution_count": null,
   "id": "09919409c52ba7e4",
   "metadata": {
    "slideshow": {
     "slide_type": "subslide"
    },
    "tags": [
     "keep",
     "subslide"
    ]
   },
   "outputs": [],
   "source": [
    "#include <iostream>\n",
    "#include <string>\n",
    "#include <vector>"
   ]
  },
  {
   "cell_type": "code",
   "execution_count": null,
   "id": "0e6d61a49bd39044",
   "metadata": {
    "tags": [
     "keep"
    ]
   },
   "outputs": [],
   "source": [
    "class User {\n",
    "public:\n",
    "    std::string userName;\n",
    "    std::string phoneNumber;\n",
    "    std::string emailAddress;\n",
    "\n",
    "    User(std::string userName, std::string phoneNumber, std::string emailAddress)\n",
    "        : userName{userName}, phoneNumber{phoneNumber}, emailAddress{emailAddress} {}\n",
    "}"
   ]
  },
  {
   "cell_type": "code",
   "execution_count": null,
   "id": "ec2c4169fa455f49",
   "metadata": {
    "slideshow": {
     "slide_type": "subslide"
    },
    "tags": [
     "keep",
     "subslide"
    ]
   },
   "outputs": [],
   "source": [
    "class SMS {\n",
    "public:\n",
    "    void SendText(std::string number, std::string message) {\n",
    "        std::cout << \"Sending SMS to \" << number << \": \" << message << \"\\n\";\n",
    "    }\n",
    "\n",
    "    void ReceiveText(std::string number) {\n",
    "        std::cout << \"Receiving a SMS from \" << number << \"\\n\";\n",
    "    }\n",
    "};"
   ]
  },
  {
   "cell_type": "code",
   "execution_count": null,
   "id": "9699f74fdb2f9b9a",
   "metadata": {
    "slideshow": {
     "slide_type": "subslide"
    },
    "tags": [
     "keep",
     "subslide"
    ]
   },
   "outputs": [],
   "source": [
    "class Email {\n",
    "public:\n",
    "    void SendEmail(std::string emailAddress, std::string subject, std::string message) {\n",
    "        std::cout << \"Sending email to \" << emailAddress << \" with subject '\" << subject\n",
    "                  << \"': \" << message << \"\\n\";\n",
    "    }\n",
    "\n",
    "    void ReceiveEmail(std::string emailAddress) {\n",
    "        std::cout << \"Receiving an email from \" << emailAddress << \"\\n\";\n",
    "    }\n",
    "};"
   ]
  },
  {
   "cell_type": "code",
   "execution_count": null,
   "id": "d18e558379fd73e0",
   "metadata": {
    "slideshow": {
     "slide_type": "subslide"
    },
    "tags": [
     "keep",
     "subslide"
    ]
   },
   "outputs": [],
   "source": [
    "class InAppChat {\n",
    "public:\n",
    "    void SendMessage(const User& user, std::string message) {\n",
    "        std::cout << \"Sending message to \" << user.userName << \": \" << message << \"\\n\";\n",
    "    }\n",
    "\n",
    "    void ReceiveMessage(const User& user) {\n",
    "        std::cout << \"Receiving a message from \" << user.userName << \"\\n\";\n",
    "    }\n",
    "};"
   ]
  },
  {
   "cell_type": "code",
   "execution_count": null,
   "id": "220fd7e59b2735b9",
   "metadata": {
    "slideshow": {
     "slide_type": "subslide"
    },
    "tags": [
     "keep",
     "subslide"
    ]
   },
   "outputs": [],
   "source": [
    "class MessagingService {\n",
    "public:\n",
    "    MessagingService() = default;\n",
    "    MessagingService(const MessagingService&) = delete;\n",
    "    MessagingService& operator=(const MessagingService&) = delete;\n",
    "    MessagingService(MessagingService&&) = delete;\n",
    "    MessagingService& operator=(MessagingService&&) = delete;\n",
    "    virtual ~MessagingService() = default;\n",
    "\n",
    "    virtual void Send(const User& to, std::string message) = 0;\n",
    "    virtual void Receive(const User& from) = 0;\n",
    "};"
   ]
  },
  {
   "cell_type": "code",
   "execution_count": null,
   "id": "b27c45c28babe950",
   "metadata": {
    "slideshow": {
     "slide_type": "subslide"
    },
    "tags": [
     "keep",
     "subslide"
    ]
   },
   "outputs": [],
   "source": [
    "class ChatApplication {\n",
    "private:\n",
    "    std::vector<std::unique_ptr<MessagingService>> adapters;\n",
    "\n",
    "public:\n",
    "    ChatApplication(std::vector<std::unique_ptr<MessagingService>> adapters)\n",
    "        : adapters{std::move(adapters)} {}\n",
    "\n",
    "    void SendMessage(const User& to, std::string message) {\n",
    "        for (auto& adapter : adapters) {\n",
    "            adapter->Send(to, message);\n",
    "        }\n",
    "    }\n",
    "\n",
    "    void ReceiveMessage(const User& from) {\n",
    "        for (auto& adapter : adapters) {\n",
    "            adapter->Receive(from);\n",
    "        }\n",
    "    }\n",
    "};"
   ]
  },
  {
   "cell_type": "markdown",
   "id": "f943c7b74b104450",
   "metadata": {
    "lang": "de",
    "slideshow": {
     "slide_type": "subslide"
    },
    "tags": [
     "subslide"
    ]
   },
   "source": [
    "\n",
    "Die folgenden Variablen definieren die Messaging-Dienste, die von der Chat-Anwendung\n",
    "verwendet werden sollen. Sie müssen nicht geändert werden."
   ]
  },
  {
   "cell_type": "code",
   "execution_count": null,
   "id": "8a81dc61f4bdcba2",
   "metadata": {
    "tags": [
     "keep"
    ]
   },
   "outputs": [],
   "source": [
    "SMS sms;\n",
    "Email email;\n",
    "InAppChat chat;"
   ]
  },
  {
   "cell_type": "markdown",
   "id": "13668d1376a1da63",
   "metadata": {
    "lang": "de",
    "slideshow": {
     "slide_type": "subslide"
    },
    "tags": [
     "subslide"
    ]
   },
   "source": [
    "\n",
    "- Definieren Sie Adapter für die drei Messaging-Dienste"
   ]
  },
  {
   "cell_type": "markdown",
   "id": "84601e322ba970ed",
   "metadata": {
    "lang": "de",
    "slideshow": {
     "slide_type": "subslide"
    },
    "tags": [
     "subslide"
    ]
   },
   "source": [
    "\n",
    "- Erstellen Sie hier Adapter für die Messaging-Dienste:"
   ]
  },
  {
   "cell_type": "code",
   "execution_count": null,
   "id": "bbafed89b00f7887",
   "metadata": {
    "tags": [
     "start"
    ]
   },
   "outputs": [],
   "source": [
    "// std::unique_ptr<MessagingService> smsAdapter{???};\n",
    "// std::unique_ptr<MessagingService> emailAdapter{???};\n",
    "// std::unique_ptr<MessagingService> chatAdapter{???};"
   ]
  },
  {
   "cell_type": "code",
   "execution_count": null,
   "id": "d3f27fc808c63afe",
   "metadata": {
    "slideshow": {
     "slide_type": "subslide"
    },
    "tags": [
     "keep",
     "subslide"
    ]
   },
   "outputs": [],
   "source": [
    "std::vector<std::unique_ptr<MessagingService>> messagingServices = {};"
   ]
  },
  {
   "cell_type": "markdown",
   "id": "e6648f7baa6dca85",
   "metadata": {
    "lang": "de"
   },
   "source": [
    "\n",
    "- Fügen Sie die Adapter zum Vektor `messagingServices` hinzu\n",
    "- (Sie müssen die Adapter wahrscheinlich mit `std::move()` verschieben)"
   ]
  },
  {
   "cell_type": "markdown",
   "id": "485081092b37865a",
   "metadata": {
    "lang": "de",
    "slideshow": {
     "slide_type": "subslide"
    },
    "tags": [
     "subslide"
    ]
   },
   "source": [
    "\n",
    "- Überprüfen Sie, dass Ihre Adapter funktionieren, indem Sie die folgenden\n",
    "  Zeilen ausführen\n",
    "- Sie sollten eine Ausgabe für jeden Messaging-Dienst sehen, in der die\n",
    "  entsprechende Nachricht angezeigt wird"
   ]
  },
  {
   "cell_type": "code",
   "execution_count": null,
   "id": "e93997d49fb497b1",
   "metadata": {
    "slideshow": {
     "slide_type": "subslide"
    },
    "tags": [
     "keep",
     "subslide"
    ]
   },
   "outputs": [],
   "source": [
    "ChatApplication chatApp{std::move(messagingServices)};"
   ]
  },
  {
   "cell_type": "code",
   "execution_count": null,
   "id": "36692fe93cfd04fc",
   "metadata": {
    "tags": [
     "keep"
    ]
   },
   "outputs": [],
   "source": [
    "chatApp.SendMessage({\"Joe Example\", \"555-1234\", \"joe@example.org\"}, \"Hello!\");"
   ]
  },
  {
   "cell_type": "code",
   "execution_count": null,
   "id": "fe53ef349e7dce0e",
   "metadata": {
    "tags": [
     "keep"
    ]
   },
   "outputs": [],
   "source": [
    "chatApp.ReceiveMessage({\"Joe Example\", \"555-1234\", \"joe@example.org\"});"
   ]
  }
 ],
 "metadata": {
  "kernelspec": {
   "display_name": "C++17",
   "language": "C++17",
   "name": "xcpp17"
  },
  "language_info": {
   "codemirror_mode": "text/x-c++src",
   "file_extension": ".cpp",
   "mimetype": "text/x-c++src",
   "name": "c++",
   "version": "17"
  }
 },
 "nbformat": 4,
 "nbformat_minor": 5
}
