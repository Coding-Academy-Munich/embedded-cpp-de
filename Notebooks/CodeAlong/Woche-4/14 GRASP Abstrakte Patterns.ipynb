{
 "cells": [
  {
   "cell_type": "markdown",
   "id": "572b67ad0e08158a",
   "metadata": {
    "lang": "de",
    "slideshow": {
     "slide_type": "slide"
    },
    "tags": [
     "slide"
    ]
   },
   "source": [
    "\n",
    "<img src=\"data:image/png;base64,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\"\n",
    "     style=\"display:block;margin:auto;width:5%\"/>\n",
    "<br>\n",
    "\n",
    "<div style=\"text-align:center; font-size:200%;\">\n",
    " <b>GRASP: Abstrakte Patterns</b>\n",
    "</div>\n",
    "<br/>\n",
    "<div style=\"text-align:center; font-size:120%;\">Dr. Matthias Hölzl</div>\n",
    "<br/>\n",
    "<div style=\"text-align:center;\">Coding-Akademie München</div>\n",
    "<br/>\n",
    "<!-- 14 GRASP Abstrakte Patterns.ipynb -->\n",
    "<!-- slides/module_500_solid_grasp/topic_505_grasp_high_level_patterns.cpp -->"
   ]
  },
  {
   "cell_type": "markdown",
   "id": "34c6bbee3659aa60",
   "metadata": {
    "lang": "de",
    "slideshow": {
     "slide_type": "slide"
    },
    "tags": [
     "slide"
    ]
   },
   "source": [
    "\n",
    "# GRASP: Polymorphie\n",
    "\n",
    "- Polymorphe Operationen beschreiben ähnliche (aber nicht identische)\n",
    "  Verhaltensweisen, die sich je nach Typ eines Objekts ändern können\n",
    "- Normalerweise kein Wechsel zwischen den Verhaltensweisen während der Laufzeit"
   ]
  },
  {
   "cell_type": "markdown",
   "id": "e66dbb3a8540f7e5",
   "metadata": {
    "lang": "de",
    "lines_to_next_cell": 2,
    "slideshow": {
     "slide_type": "subslide"
    },
    "tags": [
     "subslide"
    ]
   },
   "source": [
    "\n",
    "## In C++\n",
    "\n",
    "- (Dynamische) Polymorphie: Vererbung, virtuelle Methoden\n",
    "  - Sehr flexibel\n",
    "  - Selektion der Funktionalität zur Laufzeit (dynamischer Typ)\n",
    "  - Overhead in Laufzeit und Speicherplatz (mit Profiler messen!)\n",
    "  - Heterogene Container möglich\n",
    "- Statische Polymorphie: Templates\n",
    "  - Sehr effizient: Kein Overhead\n",
    "  - Selektion der Funktionalität zur Übersetzungszeit (statischer Typ)\n",
    "  - Template-Typen ziehen sich oft durch das ganze Programm\n",
    "  - Heterogene Container nicht möglich\n",
    "- Funktionspointer\n",
    "  - Weniger flexibel als virtuelle Methoden, gleicher Laufzeit-Overhead\n",
    "  - Manchmal syntaktisch einfacher, weniger Code, Lambda-Funktionen"
   ]
  },
  {
   "cell_type": "markdown",
   "id": "078a134ac6e75d98",
   "metadata": {
    "lang": "de",
    "slideshow": {
     "slide_type": "subslide"
    },
    "tags": [
     "subslide"
    ]
   },
   "source": [
    "\n",
    "# GRASP: Pure Fabrication\n",
    "\n",
    "Welchem Objekt geben wir die Verantwortung für eine Aufgabe, wenn z.B.\n",
    "Information Expert oder Creator zu Lösungen führen, die nicht gut sind, weil\n",
    "Sie niedrige Kohäsion oder hohe Kopplung haben?"
   ]
  },
  {
   "cell_type": "markdown",
   "id": "2f129cf22fe9c035",
   "metadata": {
    "lang": "de",
    "slideshow": {
     "slide_type": "slide"
    },
    "tags": [
     "slide"
    ]
   },
   "source": [
    "\n",
    "# GRASP: Pure Fabrication\n",
    "\n",
    "- Eine Klasse, die nicht im Domänenmodell vorkommt\n",
    "- Typischerweise ein Gegengewicht zum Informationsexperten, der die Funktionalität\n",
    "  in einer einzigen Klasse konzentrieren will\n",
    "- Beispiel:\n",
    "  - Datenbankfunktionalität in Domänenklassen\n",
    "  - Konsistent mit Information Expert\n",
    "  - Aber: geringe Kohäsion, hohe Kopplung\n",
    "  - Einführung von Data Access Objects (eine Pure Fabrication)"
   ]
  },
  {
   "cell_type": "markdown",
   "id": "138920a294ba7dc0",
   "metadata": {
    "lang": "de",
    "slideshow": {
     "slide_type": "subslide"
    },
    "tags": [
     "subslide"
    ]
   },
   "source": [
    "\n",
    "## Vorsicht vor übermäßiger Verwendung\n",
    "\n",
    "- Werden Pure Fabrications zu häufig verwendet, kann das zu einem Verlust der\n",
    "  niedrigen Repräsentationslücke führen\n",
    "- Oft wird dadurch auch die Kohäsion der Domänenklassen verringert\n",
    "- Besonders Entwickler mit Background in prozeduralen Sprachen neigen dazu,\n",
    "  sehr viele \"Verhaltensobjekte\" einzuführen, bei denen die\n",
    "  Verantwortlichkeiten *nicht* mit den für ihre Erfüllung benötigten\n",
    "  Informationen zusammenfallen"
   ]
  },
  {
   "cell_type": "markdown",
   "id": "1d6340af66c74d50",
   "metadata": {
    "lang": "de",
    "slideshow": {
     "slide_type": "slide"
    },
    "tags": [
     "slide"
    ]
   },
   "source": [
    "\n",
    "# GRASP: Indirektion\n",
    "\n",
    "<div>\n",
    "\"Jedes Problem in der Informatik kann gelöst werden, indem man eine weitere\n",
    "Indirektion hinzufügt.\"\n",
    "<div style=\"float:right;\">- David Wheeler</div>\n",
    "</div>\n",
    "\n",
    "<br>\n",
    "<div> \"Außer zu viele Indirektionen.\"\n",
    "<div style=\"float:right;\">– N.N.</div>\n",
    "</div>"
   ]
  },
  {
   "cell_type": "markdown",
   "id": "8ac7466214ab36b7",
   "metadata": {
    "lang": "de",
    "slideshow": {
     "slide_type": "subslide"
    },
    "tags": [
     "subslide"
    ]
   },
   "source": [
    "\n",
    "- Wie können wir die Kopplung zwischen zwei Objekten verringern?\n",
    "- Wir führen eine weitere Schicht ein, die die beiden Objekte entkoppelt"
   ]
  },
  {
   "cell_type": "markdown",
   "id": "a3ae21db65d2d12e",
   "metadata": {
    "lang": "de",
    "slideshow": {
     "slide_type": "subslide"
    },
    "tags": [
     "subslide"
    ]
   },
   "source": [
    "\n",
    "## Indirektion\n",
    "\n",
    "- Sehr häufige Muster auf jeder Schicht\n",
    "  - Betriebssystem\n",
    "  - Virtuelle Maschinen\n",
    "  - Polymorphe Methodenaufrufe\n",
    "- Testen:\n",
    "  - Indirektionen sind Nahtstellen, die für Testzwecke verwendet werden können"
   ]
  },
  {
   "cell_type": "markdown",
   "id": "fa31c1547f6ee2e2",
   "metadata": {
    "lang": "de",
    "slideshow": {
     "slide_type": "slide"
    },
    "tags": [
     "slide"
    ]
   },
   "source": [
    "\n",
    "## Protected Variation\n",
    "\n",
    "Problem: Wie können wir Komponenten so gestalten, dass Variations- oder\n",
    "Evolutionspunkte keine unerwünschten Auswirkungen auf andere Komponenten haben?"
   ]
  },
  {
   "cell_type": "markdown",
   "id": "bf97a87173c90ec8",
   "metadata": {
    "lang": "de",
    "slideshow": {
     "slide_type": "subslide"
    },
    "tags": [
     "subslide"
    ]
   },
   "source": [
    "\n",
    "## Protected Variation\n",
    "\n",
    "Lösung:\n",
    "- Identifiziere die Punkte, an denen Variationen oder Evolutionen auftreten können\n",
    "- Führe einer stabilen Schnittstelle zum Schutz dieser Punkte ein\n",
    "- Diese Schnittstellen sind häufig Pure Fabrications\n",
    "- Oft führen diese Schnittstellen eine Indirection ein"
   ]
  },
  {
   "cell_type": "markdown",
   "id": "d2fd9b42b498bcce",
   "metadata": {
    "lang": "de",
    "slideshow": {
     "slide_type": "subslide"
    },
    "tags": [
     "subslide"
    ]
   },
   "source": [
    "\n",
    "## Protected Variations\n",
    "\n",
    "- Sehr häufig angewandt:\n",
    "  - Private Attribute mit Gettern/Settern\n",
    "  - Schnittstellen, Polymorphismus\n",
    "  - Virtuelle Maschinen\n",
    "  - Standards\n",
    "- Testen:\n",
    "  - Geschützte Variationen sind oft Einstiegspunkte für Tests\n",
    "  - Aber oft müssen zusätzliche Tests geschrieben werden, um sicherzustellen,\n",
    "    dass das System noch funktioniert, wenn die Variabilität tatsächlich\n",
    "    verwendet wird"
   ]
  },
  {
   "cell_type": "markdown",
   "id": "707426819b2acd1e",
   "metadata": {
    "lang": "de",
    "slideshow": {
     "slide_type": "subslide"
    },
    "tags": [
     "subslide"
    ]
   },
   "source": [
    "\n",
    "- Protected Variation ist ein sehr allgemeines Prinzip\n",
    "- Fast alle anderen Software-Entwicklungsprinzipien und Patterns sind\n",
    "  spezielle Fälle von Protected Variation"
   ]
  },
  {
   "cell_type": "markdown",
   "id": "e67e1d59963307ad",
   "metadata": {
    "lang": "de",
    "slideshow": {
     "slide_type": "subslide"
    },
    "tags": [
     "subslide"
    ]
   },
   "source": [
    "\n",
    "## Vorsicht vor übermäßiger Verwendung\n",
    "\n",
    "- Protected Variation kann zwei verschiedene Arten von Änderung unterstützen:\n",
    "  - Variationspunkte: Varianten, die im existierenden System vorhanden sind\n",
    "  - Evolutionspunkte: Spekulative Abstraktionen, die die zukünftige\n",
    "    Entwicklung des Systems unterstützen sollen\n",
    "- Oft sind die Kosten von spekulativen Abstraktionen höher als die Kosten von\n",
    "  sie später einzuführen"
   ]
  }
 ],
 "metadata": {
  "kernelspec": {
   "display_name": "C++17",
   "language": "C++17",
   "name": "xcpp17"
  },
  "language_info": {
   "codemirror_mode": "text/x-c++src",
   "file_extension": ".cpp",
   "mimetype": "text/x-c++src",
   "name": "c++",
   "version": "17"
  }
 },
 "nbformat": 4,
 "nbformat_minor": 5
}
