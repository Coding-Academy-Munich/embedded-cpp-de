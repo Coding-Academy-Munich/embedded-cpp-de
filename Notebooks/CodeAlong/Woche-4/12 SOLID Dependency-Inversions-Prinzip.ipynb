{
 "cells": [
  {
   "cell_type": "markdown",
   "id": "8bbb3f61b45aa785",
   "metadata": {
    "lang": "de",
    "slideshow": {
     "slide_type": "slide"
    },
    "tags": [
     "slide"
    ]
   },
   "source": [
    "<!--\n",
    "clang-format off\n",
    "-->\n",
    "\n",
    "<img src=\"data:image/png;base64,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\"\n",
    "     style=\"display:block;margin:auto;width:5%\"/>\n",
    "<br>\n",
    "\n",
    "<div style=\"text-align:center; font-size:200%;\">\n",
    " <b>SOLID: Dependency-Inversions-Prinzip</b>\n",
    "</div>\n",
    "<br/>\n",
    "<div style=\"text-align:center; font-size:120%;\">Dr. Matthias Hölzl</div>\n",
    "<br/>\n",
    "<div style=\"text-align:center;\">Coding-Akademie München</div>\n",
    "<br/>\n",
    "<!-- 12 SOLID Dependency-Inversions-Prinzip.ipynb -->\n",
    "<!-- slides/module_500_solid_grasp/topic_400_solid_dip.cpp -->"
   ]
  },
  {
   "cell_type": "markdown",
   "id": "a746313c51a6882c",
   "metadata": {
    "lang": "de",
    "slideshow": {
     "slide_type": "subslide"
    },
    "tags": [
     "subslide"
    ]
   },
   "source": [
    "\n",
    "# Abhängigkeiten\n",
    "\n",
    "- Wir müssen zwei Arten von Abhängigkeiten unterscheiden:\n",
    "  - Daten- und Kontrollfluss\n",
    "  - Quellcode-Abhängigkeiten\n",
    "- Daten- und Kontrollfluss-Abhängigkeiten sind inhärent in der Logik\n",
    "- Quellcode-Abhängigkeiten können wir durch die Architektur kontrollieren"
   ]
  },
  {
   "cell_type": "markdown",
   "id": "4d1a025447325d64",
   "metadata": {
    "lang": "de",
    "slideshow": {
     "slide_type": "subslide"
    },
    "tags": [
     "subslide"
    ]
   },
   "source": [
    "\n",
    "## Beispiel\n",
    "\n",
    "- Modul `MyModule.cpp` schreibt Daten in eine Datenbank\n",
    "- Datenfluss: von `MyModule.cpp` zur Datenbank\n",
    "- Quellcode-Abhängigkeit: `MyModule.cpp` hängt von der Datenbank (`Database.h`) ab"
   ]
  },
  {
   "cell_type": "markdown",
   "id": "e2a077e360b2009f",
   "metadata": {
    "lang": "de",
    "slideshow": {
     "slide_type": "subslide"
    },
    "tags": [
     "subslide"
    ]
   },
   "source": [
    "\n",
    "Modul `MyModule.cpp`:"
   ]
  },
  {
   "cell_type": "code",
   "execution_count": null,
   "id": "1498dce641ee293b",
   "metadata": {
    "tags": [
     "keep"
    ]
   },
   "outputs": [],
   "source": [
    "#include <string>\n",
    "#include <vector>\n",
    "#include <xcpp/xdisplay.hpp>\n",
    "\n",
    "#include \"Database.h\""
   ]
  },
  {
   "cell_type": "code",
   "execution_count": null,
   "id": "41d6bc88cd032624",
   "metadata": {
    "tags": [
     "keep"
    ]
   },
   "outputs": [],
   "source": [
    "class MyDomainClassV1\n",
    "{\n",
    "public:\n",
    "    void PerformWork(std::string data)\n",
    "    {\n",
    "        data = \"Processed: \" + data;\n",
    "        db.Execute(\"INSERT INTO my_table VALUES (?)\", data);\n",
    "    }\n",
    "\n",
    "    std::vector<std::string> RetrieveResult()\n",
    "    {\n",
    "        return db.Execute(\"SELECT * FROM my_table\");\n",
    "    }\n",
    "\n",
    "private:\n",
    "    Database db;\n",
    "};"
   ]
  },
  {
   "cell_type": "code",
   "execution_count": null,
   "id": "651532a3446219d3",
   "metadata": {
    "slideshow": {
     "slide_type": "subslide"
    },
    "tags": [
     "keep",
     "subslide"
    ]
   },
   "outputs": [],
   "source": [
    "MyDomainClassV1 myDomainObjectV1{};"
   ]
  },
  {
   "cell_type": "code",
   "execution_count": null,
   "id": "10a841fa177a4e95",
   "metadata": {
    "tags": [
     "keep"
    ]
   },
   "outputs": [],
   "source": [
    "myDomainObjectV1.PerformWork(\"Hello World\");"
   ]
  },
  {
   "cell_type": "code",
   "execution_count": null,
   "id": "3b0f9a3d6758f52f",
   "metadata": {
    "tags": [
     "keep"
    ]
   },
   "outputs": [],
   "source": [
    "xcpp::display(myDomainObjectV1.RetrieveResult());"
   ]
  },
  {
   "cell_type": "markdown",
   "id": "d083776affd1a430",
   "metadata": {
    "lang": "de",
    "slideshow": {
     "slide_type": "subslide"
    },
    "tags": [
     "subslide"
    ]
   },
   "source": [
    "\n",
    "Die Quellcode-Abhängigkeit geht in die gleiche Richtung wie der Datenfluss:\n",
    "\n",
    "`MyModule.cpp` ⟹ `Database.h`\n",
    "\n",
    "<img src=\"img/db-example-01.svg\"\n",
    "     style=\"display:block;margin:auto;width:75%\"/>"
   ]
  },
  {
   "cell_type": "markdown",
   "id": "d7841be68ec5ffa5",
   "metadata": {
    "lang": "de",
    "slideshow": {
     "slide_type": "subslide"
    },
    "tags": [
     "subslide"
    ]
   },
   "source": [
    "\n",
    "Wir würden derartige Abhängigkeiten im Kern unsere Anwendung gerne vermeiden\n",
    "\n",
    "- Einfacher zu testen\n",
    "- Einfacher zu erweitern\n",
    "- Einfacher externe Abhängigkeiten zu ersetzen\n",
    "- Einfacher den Code zu verstehen\n",
    "- ..."
   ]
  },
  {
   "cell_type": "markdown",
   "id": "d98c48eae7708d77",
   "metadata": {
    "lang": "de",
    "slideshow": {
     "slide_type": "subslide"
    },
    "tags": [
     "subslide"
    ]
   },
   "source": [
    "\n",
    "<img src=\"img/db-example-02.svg\"\n",
    "     style=\"display:block;margin:auto;width:75%\"/>"
   ]
  },
  {
   "cell_type": "markdown",
   "id": "507d68ff5ad147ad",
   "metadata": {
    "lang": "de",
    "slideshow": {
     "slide_type": "subslide"
    },
    "tags": [
     "subslide"
    ]
   },
   "source": [
    "\n",
    "- Modul `MyModule.cpp`:\n",
    "  - Keine Abhängigkeit mehr zu `Database.h`\n",
    "  - Adapter Pattern"
   ]
  },
  {
   "cell_type": "code",
   "execution_count": null,
   "id": "0cf4e07a9673f0d6",
   "metadata": {
    "slideshow": {
     "slide_type": "subslide"
    },
    "tags": [
     "keep",
     "subslide"
    ]
   },
   "outputs": [],
   "source": [
    "class AbstractDatabaseAdapter\n",
    "{\n",
    "public:\n",
    "    AbstractDatabaseAdapter() = default;\n",
    "    virtual ~AbstractDatabaseAdapter() = default;\n",
    "\n",
    "    virtual void SaveObject(std::string data) = 0;\n",
    "    virtual std::vector<std::string> RetrieveData() = 0;\n",
    "};"
   ]
  },
  {
   "cell_type": "code",
   "execution_count": null,
   "id": "859dd1d7d09b041f",
   "metadata": {
    "tags": [
     "keep"
    ]
   },
   "outputs": [],
   "source": [
    "class MyDomainClassV2\n",
    "{\n",
    "public:\n",
    "    MyDomainClassV2(std::unique_ptr<AbstractDatabaseAdapter> db) : db_{std::move(db)} {}\n",
    "\n",
    "    void PerformWork(std::string data)\n",
    "    {\n",
    "        data = \"Processed: \" + data;\n",
    "        db_->SaveObject(data);\n",
    "    }\n",
    "\n",
    "    std::vector<std::string> RetrieveResult() { return db_->RetrieveData(); }\n",
    "\n",
    "private:\n",
    "    std::unique_ptr<AbstractDatabaseAdapter> db_;\n",
    "};"
   ]
  },
  {
   "cell_type": "markdown",
   "id": "7e46a00696095da4",
   "metadata": {
    "lang": "de",
    "slideshow": {
     "slide_type": "subslide"
    },
    "tags": [
     "subslide"
    ]
   },
   "source": [
    "\n",
    "- Modul `ConcreteDatabaseAdapter.cpp/.h`:\n",
    "  - Implementiert `AbstractDatabaseAdapter` für `Database.h`\n",
    "  - Hängt von `Database.h` ab"
   ]
  },
  {
   "cell_type": "code",
   "execution_count": null,
   "id": "7e07f8f4e2d7cab1",
   "metadata": {
    "tags": [
     "keep"
    ]
   },
   "outputs": [],
   "source": [
    "#include \"Database.h\""
   ]
  },
  {
   "cell_type": "code",
   "execution_count": null,
   "id": "fa7126124316132b",
   "metadata": {
    "tags": [
     "keep"
    ]
   },
   "outputs": [],
   "source": [
    "class ConcreteDatabaseAdapter : public AbstractDatabaseAdapter\n",
    "{\n",
    "public:\n",
    "    void SaveObject(std::string data) override\n",
    "    {\n",
    "        db_.Execute(\"INSERT INTO my_table VALUES (?)\", data);\n",
    "    }\n",
    "\n",
    "    std::vector<std::string> RetrieveData() override\n",
    "    {\n",
    "        return db_.Execute(\"SELECT * FROM my_table\");\n",
    "    }\n",
    "\n",
    "private:\n",
    "    Database db_;\n",
    "};"
   ]
  },
  {
   "cell_type": "markdown",
   "id": "cc16a08457e3085d",
   "metadata": {
    "lang": "de",
    "slideshow": {
     "slide_type": "subslide"
    },
    "tags": [
     "subslide"
    ]
   },
   "source": [
    "\n",
    "- Modul `main.cpp`:"
   ]
  },
  {
   "cell_type": "code",
   "execution_count": null,
   "id": "749e38e03dca4051",
   "metadata": {
    "tags": [
     "keep"
    ]
   },
   "outputs": [],
   "source": [
    "// #include \"ConcreteDatabaseAdapter.h\"\n",
    "// #include \"MyDomainClassV2.h\""
   ]
  },
  {
   "cell_type": "code",
   "execution_count": null,
   "id": "440d0f482c460ba3",
   "metadata": {
    "tags": [
     "keep"
    ]
   },
   "outputs": [],
   "source": [
    "auto dbAdapter{std::make_unique<ConcreteDatabaseAdapter>()};\n",
    "MyDomainClassV2 myDomainObjectV2{std::move(dbAdapter)};"
   ]
  },
  {
   "cell_type": "code",
   "execution_count": null,
   "id": "331fe243cde84902",
   "metadata": {
    "tags": [
     "keep"
    ]
   },
   "outputs": [],
   "source": [
    "myDomainObjectV2.PerformWork(\"Hello World\");"
   ]
  },
  {
   "cell_type": "code",
   "execution_count": null,
   "id": "89d37b6feec66602",
   "metadata": {
    "tags": [
     "keep"
    ]
   },
   "outputs": [],
   "source": [
    "xcpp::display(myDomainObjectV2.RetrieveResult());"
   ]
  },
  {
   "cell_type": "markdown",
   "id": "ef27447470f93635",
   "metadata": {
    "lang": "de",
    "slideshow": {
     "slide_type": "slide"
    },
    "tags": [
     "slide"
    ]
   },
   "source": [
    "\n",
    "# SOLID: Dependency Inversion Prinzip\n",
    "\n",
    "- Die Kernfunktionalität eines Systems hängt nicht von seiner Umgebung ab\n",
    "  - **Konkrete Artefakte hängen von Abstraktionen ab** (nicht umgekehrt)\n",
    "  - **Instabile Artefakte hängen von stabilen Artefakten ab** (nicht umgekehrt)\n",
    "  - **Äußere Schichten** der Architektur **hängen von inneren Schichten ab**\n",
    "    (nicht umgekehrt)\n",
    "  - Klassen/Module hängen von Abstraktionen (z. B. Schnittstellen) ab,\n",
    "    nicht von anderen Klassen/Modulen\n",
    "- Abhängigkeitsinversion (Dependency Inversion) erreicht dies durch die Einführung\n",
    "  von Schnittstellen, die \"die Abhängigkeiten umkehren\""
   ]
  },
  {
   "cell_type": "markdown",
   "id": "bab6ce6d3b5bb775",
   "metadata": {
    "lang": "de",
    "slideshow": {
     "slide_type": "subslide"
    },
    "tags": [
     "subslide"
    ]
   },
   "source": [
    "\n",
    "### Vorher\n",
    "<img src=\"img/dependency-01.svg\"\n",
    "     style=\"display:block;margin:auto;width:75%\"/>\n",
    "\n",
    "### Nachher\n",
    "<img src=\"img/dependency-02.svg\"\n",
    "     style=\"display:block;margin:auto;width:75%\"/>"
   ]
  },
  {
   "cell_type": "markdown",
   "id": "579cdb008d39aeb0",
   "metadata": {
    "slideshow": {
     "slide_type": "subslide"
    },
    "tags": [
     "subslide"
    ]
   },
   "source": [
    "\n",
    "<img src=\"img/dip-01.svg\"\n",
    "     style=\"display:block;margin:auto;width:95%\"/>"
   ]
  },
  {
   "cell_type": "markdown",
   "id": "ab8db102d960f9ec",
   "metadata": {
    "slideshow": {
     "slide_type": "subslide"
    },
    "tags": [
     "subslide"
    ]
   },
   "source": [
    "\n",
    "<img src=\"img/dip-02.svg\"\n",
    "     style=\"display:block;margin:auto;width:95%\"/>"
   ]
  },
  {
   "cell_type": "markdown",
   "id": "02904b55f27d2b16",
   "metadata": {
    "slideshow": {
     "slide_type": "subslide"
    },
    "tags": [
     "subslide"
    ]
   },
   "source": [
    "\n",
    "<img src=\"img/dip-03.svg\"\n",
    "     style=\"display:block;margin:auto;width:95%\"/>"
   ]
  },
  {
   "cell_type": "markdown",
   "id": "555c411c828ebca1",
   "metadata": {
    "lang": "de",
    "slideshow": {
     "slide_type": "subslide"
    },
    "tags": [
     "subslide"
    ]
   },
   "source": [
    "\n",
    "## Workshop: Wetterbericht\n",
    "\n",
    "Wir haben ein Programm geschrieben, das einen Wetterbericht von einem Server\n",
    "abruft. Leider ist dabei die Abhängigkeit zum Server vom Typ\n",
    "`LegacyWeatherServer` hart kodiert. Aufgrund der Popularität des Programms\n",
    "müssen wir jedoch mit einem neuen Typ von Server `NewWeatherServer`\n",
    "kompatibel werden. Dazu refaktorisieren wir den Code nach dem\n",
    "Dependency-Inversion-Prinzip und Implementieren dann einen zusätzlichen\n",
    "Adapter für `NewWeatherServer`.\n",
    "\n",
    "- Führen Sie eine Abstraktion ein, um die Abhängigkeit umzukehren\n",
    "- Schreiben Sie eine konkrete Implementierung der Abstraktion für\n",
    "  `LegacyWeatherServer`\n",
    "- Testen Sie die Implementierung\n",
    "- Implementieren Sie einen Adapter für `NewWeatherServer`\n",
    "- Testen Sie den Adapter"
   ]
  },
  {
   "cell_type": "code",
   "execution_count": null,
   "id": "3d4f3d3732dd7933",
   "metadata": {
    "slideshow": {
     "slide_type": "subslide"
    },
    "tags": [
     "subslide",
     "keep"
    ]
   },
   "outputs": [],
   "source": [
    "#include <iostream>\n",
    "#include <random>\n",
    "#include <string>\n",
    "#include <tuple>\n",
    "#include <vector>"
   ]
  },
  {
   "cell_type": "code",
   "execution_count": null,
   "id": "acd583b05cf65510",
   "metadata": {
    "slideshow": {
     "slide_type": "subslide"
    },
    "tags": [
     "keep",
     "subslide"
    ]
   },
   "outputs": [],
   "source": [
    "class WeatherReport\n",
    "{\n",
    "public:\n",
    "    WeatherReport(double temperature, double humidity)\n",
    "        : temperature_{temperature}, humidity_{humidity}\n",
    "    {}\n",
    "\n",
    "    double GetTemperature() const { return temperature_; }\n",
    "    double GetHumidity() const { return humidity_; }\n",
    "\n",
    "private:\n",
    "    double temperature_;\n",
    "    double humidity_;\n",
    "};"
   ]
  },
  {
   "cell_type": "code",
   "execution_count": null,
   "id": "136d94ca6f90850e",
   "metadata": {
    "slideshow": {
     "slide_type": "subslide"
    },
    "tags": [
     "keep",
     "subslide"
    ]
   },
   "outputs": [],
   "source": [
    "class LegacyWeatherServer\n",
    "{\n",
    "public:\n",
    "    WeatherReport GetWeatherReport()\n",
    "    {\n",
    "        static std::random_device rd;\n",
    "        static std::mt19937 gen{rd()};\n",
    "        static std::uniform_real_distribution<> dis{0.0, 1.0};\n",
    "        return WeatherReport{20.0 + 10.0 * dis(gen), 0.5 + 0.5 * dis(gen)};\n",
    "    }\n",
    "};"
   ]
  },
  {
   "cell_type": "code",
   "execution_count": null,
   "id": "975e23999742b05b",
   "metadata": {
    "slideshow": {
     "slide_type": "subslide"
    },
    "tags": [
     "keep",
     "subslide"
    ]
   },
   "outputs": [],
   "source": [
    "class NewWeatherServer\n",
    "{\n",
    "public:\n",
    "    std::tuple<double, double> FetchWeatherData()\n",
    "    {\n",
    "        static std::random_device rd;\n",
    "        static std::mt19937 gen{rd()};\n",
    "        static std::uniform_real_distribution<> dis{0.0, 1.0};\n",
    "        return {10.0 + 20.0 * dis(gen), 0.7 + 0.4 * dis(gen)};\n",
    "    }\n",
    "};"
   ]
  },
  {
   "cell_type": "code",
   "execution_count": null,
   "id": "05d7962c7ea7be25",
   "metadata": {
    "slideshow": {
     "slide_type": "subslide"
    },
    "tags": [
     "keep",
     "subslide"
    ]
   },
   "outputs": [],
   "source": [
    "class WeatherReporter\n",
    "{\n",
    "public:\n",
    "    WeatherReporter(std::shared_ptr<LegacyWeatherServer> server)\n",
    "        : server{std::move(server)}\n",
    "    {}\n",
    "\n",
    "    std::string Report()\n",
    "    {\n",
    "        WeatherReport report{server->GetWeatherReport()};\n",
    "        if (report.GetTemperature() > 25.0f)\n",
    "        {\n",
    "            return \"It's hot\";\n",
    "        }\n",
    "        else\n",
    "        {\n",
    "            return \"It's not hot\";\n",
    "        }\n",
    "    }\n",
    "\n",
    "private:\n",
    "    std::shared_ptr<LegacyWeatherServer> server;\n",
    "};"
   ]
  },
  {
   "cell_type": "code",
   "execution_count": null,
   "id": "b66e1950e38b3342",
   "metadata": {
    "slideshow": {
     "slide_type": "subslide"
    },
    "tags": [
     "keep",
     "subslide"
    ]
   },
   "outputs": [],
   "source": [
    "std::shared_ptr<LegacyWeatherServer> server{std::make_shared<LegacyWeatherServer>()};\n",
    "WeatherReporter reporter{server};"
   ]
  },
  {
   "cell_type": "code",
   "execution_count": null,
   "id": "f75a5281a95aaa64",
   "metadata": {
    "tags": [
     "keep"
    ]
   },
   "outputs": [],
   "source": [
    "xcpp::display(reporter.Report());"
   ]
  },
  {
   "cell_type": "code",
   "execution_count": null,
   "id": "b402992230faa790",
   "metadata": {
    "slideshow": {
     "slide_type": "subslide"
    },
    "tags": [
     "subslide"
    ]
   },
   "outputs": [],
   "source": []
  },
  {
   "cell_type": "code",
   "execution_count": null,
   "id": "318d002889dcbc7e",
   "metadata": {},
   "outputs": [],
   "source": []
  },
  {
   "cell_type": "code",
   "execution_count": null,
   "id": "d1a8c3aacb101a44",
   "metadata": {
    "slideshow": {
     "slide_type": "subslide"
    },
    "tags": [
     "subslide"
    ]
   },
   "outputs": [],
   "source": []
  },
  {
   "cell_type": "code",
   "execution_count": null,
   "id": "917a4db417b5e8b8",
   "metadata": {
    "slideshow": {
     "slide_type": "subslide"
    },
    "tags": [
     "subslide"
    ]
   },
   "outputs": [],
   "source": []
  },
  {
   "cell_type": "code",
   "execution_count": null,
   "id": "14f783b5c61bd347",
   "metadata": {},
   "outputs": [],
   "source": []
  },
  {
   "cell_type": "code",
   "execution_count": null,
   "id": "13ce0a8a0fc03550",
   "metadata": {
    "slideshow": {
     "slide_type": "subslide"
    },
    "tags": [
     "subslide"
    ]
   },
   "outputs": [],
   "source": []
  },
  {
   "cell_type": "code",
   "execution_count": null,
   "id": "44aff3f1643be4be",
   "metadata": {
    "slideshow": {
     "slide_type": "subslide"
    },
    "tags": [
     "subslide"
    ]
   },
   "outputs": [],
   "source": []
  },
  {
   "cell_type": "code",
   "execution_count": null,
   "id": "d5082630b6e3cfcc",
   "metadata": {},
   "outputs": [],
   "source": []
  }
 ],
 "metadata": {
  "kernelspec": {
   "display_name": "C++17",
   "language": "C++17",
   "name": "xcpp17"
  },
  "language_info": {
   "codemirror_mode": "text/x-c++src",
   "file_extension": ".cpp",
   "mimetype": "text/x-c++src",
   "name": "c++",
   "version": "17"
  }
 },
 "nbformat": 4,
 "nbformat_minor": 5
}
