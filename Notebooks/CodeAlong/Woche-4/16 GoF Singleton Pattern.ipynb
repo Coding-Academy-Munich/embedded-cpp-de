{
 "cells": [
  {
   "cell_type": "markdown",
   "id": "5d05788e5d72144a",
   "metadata": {
    "lang": "de",
    "slideshow": {
     "slide_type": "slide"
    },
    "tags": [
     "slide"
    ]
   },
   "source": [
    "\n",
    "<img src=\"data:image/png;base64,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\"\n",
    "     style=\"display:block;margin:auto;width:5%\"/>\n",
    "<br>\n",
    "\n",
    "<div style=\"text-align:center; font-size:200%;\">\n",
    " <b>GoF: Singleton Pattern</b>\n",
    "</div>\n",
    "<br/>\n",
    "<div style=\"text-align:center; font-size:120%;\">Dr. Matthias Hölzl</div>\n",
    "<br/>\n",
    "<div style=\"text-align:center;\">Coding-Akademie München</div>\n",
    "<br/>\n",
    "<!-- 16 GoF Singleton Pattern.ipynb -->\n",
    "<!-- slides/module_450_design_patterns/topic_250_singleton.cpp -->"
   ]
  },
  {
   "cell_type": "markdown",
   "id": "d66c06757346f5ec",
   "metadata": {
    "lang": "de",
    "slideshow": {
     "slide_type": "subslide"
    },
    "tags": [
     "subslide"
    ]
   },
   "source": [
    "\n",
    "## Designproblem: Eine Instanz des Spiels\n",
    "\n",
    "- Das Spiel benötigt mehrere Ressourcen die von verschiedenen\n",
    "  Subsystemen aus ansprechbar sein sollen\n",
    "  - System-Ressourcen (Bildschirm/Renderer)\n",
    "  - Spielelemente (Figuren, Level)\n",
    "- Es soll sichergestellt werden, dass jede Resource nur einmal erzeugt\n",
    "  wird und alle Subsysteme auf die gleiche Resource zugreifen\n",
    "- Globale Variablen?\n",
    "- Statische Attribute?\n",
    "- Flexibler: Eine Klasse, die ihre einzige Instanz selber verwaltet."
   ]
  },
  {
   "cell_type": "markdown",
   "id": "dcb35083b4fb3a41",
   "metadata": {
    "lang": "de",
    "slideshow": {
     "slide_type": "subslide"
    },
    "tags": [
     "subslide"
    ]
   },
   "source": [
    "\n",
    "### Intention\n",
    "\n",
    "Stelle sicher, dass eine Klasse nur eine Instanz hat; biete einen globalen\n",
    "Zugriffspunkt darauf."
   ]
  },
  {
   "cell_type": "markdown",
   "id": "e929d64f7b52a5d4",
   "metadata": {
    "lang": "de",
    "slideshow": {
     "slide_type": "subslide"
    },
    "tags": [
     "subslide"
    ]
   },
   "source": [
    "\n",
    "### Motivation\n",
    "\n",
    "Einige Klassen sollten genau eine Instanz haben, z.B. Klassen, die\n",
    "eindeutigen physischen Ressourcen entsprechen. Diese Instanz sollte\n",
    "leicht zugänglich sein. Singleton macht die Klasse selbst dafür\n",
    "verantwortlich, ihre einzige Instanz zu verwalten."
   ]
  },
  {
   "cell_type": "markdown",
   "id": "113b52be1ba5ade8",
   "metadata": {
    "lang": "de",
    "slideshow": {
     "slide_type": "subslide"
    },
    "tags": [
     "subslide"
    ]
   },
   "source": [
    "\n",
    "### Anwendbarkeit\n",
    "\n",
    "Verwende das Singleton-Muster, wenn\n",
    "- es genau eine Instanz einer Klasse geben muss, und sie von Clients\n",
    "  von einem bekannten Zugriffspunkt aus zugänglich sein muss\n",
    "- die einzige Instanz durch Subklassen erweiterbar sein sollte, und\n",
    "  Clients eine erweiterte Instanz verwenden können sollten, ohne ihren\n",
    "  Code zu ändern."
   ]
  },
  {
   "cell_type": "markdown",
   "id": "7f663f76915e2e66",
   "metadata": {
    "lang": "de",
    "slideshow": {
     "slide_type": "subslide"
    },
    "tags": [
     "subslide"
    ]
   },
   "source": [
    "\n",
    "### Struktur\n",
    "\n",
    "<img src=\"img/pat_singleton_trad.svg\"\n",
    "     style=\"display:block;margin:auto;width:70%\"/>"
   ]
  },
  {
   "cell_type": "markdown",
   "id": "2e8bbf2dc10df57c",
   "metadata": {
    "lang": "de",
    "slideshow": {
     "slide_type": "slide"
    },
    "tags": [
     "slide"
    ]
   },
   "source": [
    "\n",
    "### Implementierung\n",
    "\n",
    "Siehe `code/completed/singleton`."
   ]
  },
  {
   "cell_type": "code",
   "execution_count": null,
   "id": "a0ee650c342d197c",
   "metadata": {
    "slideshow": {
     "slide_type": "subslide"
    },
    "tags": [
     "keep",
     "subslide"
    ]
   },
   "outputs": [],
   "source": [
    "#include <iostream>"
   ]
  },
  {
   "cell_type": "code",
   "execution_count": null,
   "id": "ff1e84f81dd7704d",
   "metadata": {
    "tags": [
     "keep"
    ]
   },
   "outputs": [],
   "source": [
    "namespace singleton\n",
    "{\n",
    "class SingletonNonThreadSafe\n",
    "{\n",
    "private:\n",
    "    SingletonNonThreadSafe() = default;\n",
    "\n",
    "    static SingletonNonThreadSafe* instance_;\n",
    "\n",
    "public:\n",
    "    static SingletonNonThreadSafe& instance();\n",
    "\n",
    "    void some_business_logic()\n",
    "    {\n",
    "        // ...\n",
    "    }\n",
    "};\n",
    "} // namespace singleton"
   ]
  },
  {
   "cell_type": "code",
   "execution_count": null,
   "id": "a8500fb13de8e04a",
   "metadata": {
    "slideshow": {
     "slide_type": "subslide"
    },
    "tags": [
     "keep",
     "subslide"
    ]
   },
   "outputs": [],
   "source": [
    "namespace singleton\n",
    "{\n",
    "SingletonNonThreadSafe* SingletonNonThreadSafe::instance_{};\n",
    "}"
   ]
  },
  {
   "cell_type": "code",
   "execution_count": null,
   "id": "56d1ea6164f59edd",
   "metadata": {
    "tags": [
     "keep"
    ]
   },
   "outputs": [],
   "source": [
    "namespace singleton\n",
    "{\n",
    "SingletonNonThreadSafe& SingletonNonThreadSafe::instance()\n",
    "{\n",
    "    if (!instance_)\n",
    "    {\n",
    "        instance_ = new SingletonNonThreadSafe();\n",
    "    }\n",
    "    return *instance_;\n",
    "}\n",
    "} // namespace singleton"
   ]
  },
  {
   "cell_type": "code",
   "execution_count": null,
   "id": "ef5ee371e7e183f5",
   "metadata": {
    "slideshow": {
     "slide_type": "subslide"
    },
    "tags": [
     "keep",
     "subslide"
    ]
   },
   "outputs": [],
   "source": [
    "template <typename T>\n",
    "void check_singleton(const T& s1, const T& s2)\n",
    "{\n",
    "    if (&s1 == &s2)\n",
    "    {\n",
    "        std::cout << \"Singleton works, both variables contain the same instance.\"\n",
    "                  << std::endl;\n",
    "    }\n",
    "    else\n",
    "    {\n",
    "        std::cout << \"Singleton failed, variables contain different instances.\"\n",
    "                  << std::endl;\n",
    "    }\n",
    "}"
   ]
  },
  {
   "cell_type": "code",
   "execution_count": null,
   "id": "eaf5be87794a27b9",
   "metadata": {
    "slideshow": {
     "slide_type": "subslide"
    },
    "tags": [
     "keep",
     "subslide"
    ]
   },
   "outputs": [],
   "source": [
    "using namespace singleton;"
   ]
  },
  {
   "cell_type": "code",
   "execution_count": null,
   "id": "7215ad15b27b7767",
   "metadata": {
    "tags": [
     "keep"
    ]
   },
   "outputs": [],
   "source": [
    "SingletonNonThreadSafe& s1{SingletonNonThreadSafe::instance()};\n",
    "SingletonNonThreadSafe& s2{SingletonNonThreadSafe::instance()};"
   ]
  },
  {
   "cell_type": "code",
   "execution_count": null,
   "id": "842dec851c0ec5f2",
   "metadata": {
    "tags": [
     "keep"
    ]
   },
   "outputs": [],
   "source": [
    "check_singleton(s1, s2);"
   ]
  },
  {
   "cell_type": "code",
   "execution_count": null,
   "id": "aaf5b29bacf45210",
   "metadata": {
    "slideshow": {
     "slide_type": "subslide"
    },
    "tags": [
     "keep",
     "subslide"
    ]
   },
   "outputs": [],
   "source": [
    "#include <mutex>"
   ]
  },
  {
   "cell_type": "code",
   "execution_count": null,
   "id": "d12aa4d39c5ab29f",
   "metadata": {
    "tags": [
     "keep"
    ]
   },
   "outputs": [],
   "source": [
    "namespace singleton\n",
    "{\n",
    "class SingletonWithMutex\n",
    "{\n",
    "private:\n",
    "    SingletonWithMutex() {}\n",
    "\n",
    "    static SingletonWithMutex* instance_;\n",
    "    static std::mutex mutex_; // <----\n",
    "\n",
    "public:\n",
    "    static SingletonWithMutex& instance();\n",
    "\n",
    "    void some_business_logic()\n",
    "    {\n",
    "        // ...\n",
    "    }\n",
    "};\n",
    "} // namespace singleton"
   ]
  },
  {
   "cell_type": "code",
   "execution_count": null,
   "id": "9e99bb3addbf9495",
   "metadata": {
    "slideshow": {
     "slide_type": "subslide"
    },
    "tags": [
     "keep",
     "subslide"
    ]
   },
   "outputs": [],
   "source": [
    "namespace singleton\n",
    "{\n",
    "SingletonWithMutex* SingletonWithMutex::instance_{};\n",
    "std::mutex SingletonWithMutex::mutex_{};\n",
    "} // namespace singleton"
   ]
  },
  {
   "cell_type": "code",
   "execution_count": null,
   "id": "219201116c36388a",
   "metadata": {
    "tags": [
     "keep"
    ]
   },
   "outputs": [],
   "source": [
    "namespace singleton\n",
    "{\n",
    "SingletonWithMutex& SingletonWithMutex::instance()\n",
    "{\n",
    "    std::lock_guard<std::mutex> lock{SingletonWithMutex::mutex_}; // <----\n",
    "    if (!instance_)\n",
    "    {\n",
    "        instance_ = new SingletonWithMutex();\n",
    "    }\n",
    "    return *instance_;\n",
    "}\n",
    "} // namespace singleton"
   ]
  },
  {
   "cell_type": "code",
   "execution_count": null,
   "id": "e86fb727c6a4ed7e",
   "metadata": {
    "slideshow": {
     "slide_type": "subslide"
    },
    "tags": [
     "keep",
     "subslide"
    ]
   },
   "outputs": [],
   "source": [
    "SingletonWithMutex& s3{SingletonWithMutex::instance()};\n",
    "SingletonWithMutex& s4{SingletonWithMutex::instance()};"
   ]
  },
  {
   "cell_type": "code",
   "execution_count": null,
   "id": "4a8d12ead22b1c3e",
   "metadata": {
    "tags": [
     "keep"
    ]
   },
   "outputs": [],
   "source": [
    "check_singleton(s3, s4);"
   ]
  },
  {
   "cell_type": "markdown",
   "id": "a0fd43ddf0ea290b",
   "metadata": {
    "slideshow": {
     "slide_type": "subslide"
    },
    "tags": [
     "subslide"
    ]
   },
   "source": [
    "\n",
    "```cpp\n",
    "#include <mutex>\n",
    "#include <thread>\n",
    "```"
   ]
  },
  {
   "cell_type": "markdown",
   "id": "1029a47830c623e5",
   "metadata": {
    "slideshow": {
     "slide_type": "subslide"
    },
    "tags": [
     "subslide"
    ]
   },
   "source": [
    "\n",
    "```cpp\n",
    "class SingletonWithCallOnce\n",
    "{\n",
    "private:\n",
    "    SingletonWithCallOnce() {}\n",
    "    static SingletonWithCallOnce* instance_;\n",
    "    static std::once_flag flag_; // <----\n",
    "\n",
    "public:\n",
    "    static SingletonWithCallOnce& instance();\n",
    "    void some_business_logic() { /* ... */ }\n",
    "};\n",
    "```"
   ]
  },
  {
   "cell_type": "markdown",
   "id": "26d90344f60b4238",
   "metadata": {
    "slideshow": {
     "slide_type": "subslide"
    },
    "tags": [
     "subslide"
    ]
   },
   "source": [
    "\n",
    "```cpp\n",
    "SingletonWithCallOnce* SingletonWithCallOnce::instance_{};\n",
    "std::once_flag SingletonWithCallOnce::flag_{};\n",
    "```"
   ]
  },
  {
   "cell_type": "markdown",
   "id": "fc95ff850c9412cc",
   "metadata": {
    "slideshow": {
     "slide_type": "subslide"
    },
    "tags": [
     "subslide"
    ]
   },
   "source": [
    "\n",
    "```cpp\n",
    "SingletonWithCallOnce& SingletonWithCallOnce::instance()\n",
    "{\n",
    "    std::call_once(flag_, []() {\n",
    "        instance_ = new SingletonWithCallOnce();\n",
    "    });\n",
    "    return *instance_;\n",
    "}\n",
    "```"
   ]
  },
  {
   "cell_type": "markdown",
   "id": "65ba189905416919",
   "metadata": {
    "slideshow": {
     "slide_type": "subslide"
    },
    "tags": [
     "subslide"
    ]
   },
   "source": [
    "\n",
    "```cpp\n",
    "SingletonWithCallOnce& s5{SingletonWithCallOnce::instance()};\n",
    "SingletonWithCallOnce& s6{SingletonWithCallOnce::instance()};\n",
    "```"
   ]
  },
  {
   "cell_type": "markdown",
   "id": "86eea55f29175560",
   "metadata": {},
   "source": [
    "\n",
    "```cpp\n",
    "check_singleton(s5, s6);\n",
    "```"
   ]
  },
  {
   "cell_type": "markdown",
   "id": "e407fba1205a6210",
   "metadata": {
    "lang": "de",
    "slideshow": {
     "slide_type": "subslide"
    },
    "tags": [
     "subslide"
    ]
   },
   "source": [
    "\n",
    "### Struktur (Meyers Singleton)\n",
    "\n",
    "<img src=\"img/pat_singleton.svg\"\n",
    "     style=\"display:block;margin:auto;width:70%\"/>"
   ]
  },
  {
   "cell_type": "code",
   "execution_count": null,
   "id": "bad9f9bf8b63af11",
   "metadata": {
    "slideshow": {
     "slide_type": "subslide"
    },
    "tags": [
     "keep",
     "subslide"
    ]
   },
   "outputs": [],
   "source": [
    "class Singleton\n",
    "{\n",
    "private:\n",
    "    Singleton() {}\n",
    "    // Delete copy and move operations...\n",
    "\n",
    "public:\n",
    "    static Singleton& instance()\n",
    "    {\n",
    "        static Singleton instance_{};\n",
    "        return instance_;\n",
    "    }\n",
    "\n",
    "    void some_business_logic()\n",
    "    {\n",
    "        // ...\n",
    "    }\n",
    "};"
   ]
  },
  {
   "cell_type": "code",
   "execution_count": null,
   "id": "809c9bb89e12adbd",
   "metadata": {
    "slideshow": {
     "slide_type": "subslide"
    },
    "tags": [
     "keep",
     "subslide"
    ]
   },
   "outputs": [],
   "source": [
    "Singleton& s7{Singleton::instance()};\n",
    "Singleton& s8{Singleton::instance()};"
   ]
  },
  {
   "cell_type": "code",
   "execution_count": null,
   "id": "faf1f169774771cb",
   "metadata": {
    "tags": [
     "keep"
    ]
   },
   "outputs": [],
   "source": [
    "check_singleton(s7, s8);"
   ]
  },
  {
   "cell_type": "markdown",
   "id": "a306de2c2993451b",
   "metadata": {
    "lang": "de",
    "slideshow": {
     "slide_type": "slide"
    },
    "tags": [
     "slide"
    ]
   },
   "source": [
    "\n",
    "### Konsequenzen\n",
    "\n",
    "Das *Singleton* hat mehrere Vorteile:\n",
    "\n",
    "- Kontrollierter Zugriff auf die einzige Instanz.\n",
    "- Geringere Anzahl von globalen Namen.\n",
    "- Ermöglicht die Verfeinerung von Operationen und Repräsentation.\n",
    "- Ermöglicht eine variable Anzahl von Instanzen.\n",
    "- Flexibler als Klassenoperationen."
   ]
  },
  {
   "cell_type": "markdown",
   "id": "3095c628fcb06574",
   "metadata": {
    "lang": "de",
    "slideshow": {
     "slide_type": "slide"
    },
    "tags": [
     "slide"
    ]
   },
   "source": [
    "\n",
    "### Anwendungsbeispiele\n",
    "\n",
    "- Java: `java.lang.Runtime` oder `org.eclipse.core.runtime.Plugin`.\n",
    "- Viele C++-Anwendungen implementieren ihre eigenen Singleton-Klassen für\n",
    "  verschiedene Zwecke."
   ]
  },
  {
   "cell_type": "markdown",
   "id": "2fe15ae8565b6e45",
   "metadata": {
    "lang": "de",
    "slideshow": {
     "slide_type": "slide"
    },
    "tags": [
     "slide"
    ]
   },
   "source": [
    "\n",
    "### Beispiel\n",
    "\n",
    "<img src=\"img/pat_game_engine.svg\"\n",
    "     style=\"display:block;margin:auto;width:70%\"/>"
   ]
  },
  {
   "cell_type": "code",
   "execution_count": null,
   "id": "505df9419ad91fda",
   "metadata": {
    "slideshow": {
     "slide_type": "subslide"
    },
    "tags": [
     "keep",
     "subslide"
    ]
   },
   "outputs": [],
   "source": [
    "#include <cstdint>\n",
    "#include <iostream>\n",
    "#include <memory>\n",
    "#include <random>"
   ]
  },
  {
   "cell_type": "code",
   "execution_count": null,
   "id": "83df78560a54276d",
   "metadata": {
    "tags": [
     "keep"
    ]
   },
   "outputs": [],
   "source": [
    "class GraphicsDevice\n",
    "{\n",
    "public:\n",
    "    GraphicsDevice() { std::cout << \"GraphicsDevice created\" << std::endl; }\n",
    "    ~GraphicsDevice() { std::cout << \"GraphicsDevice destroyed\" << std::endl; }\n",
    "};"
   ]
  },
  {
   "cell_type": "code",
   "execution_count": null,
   "id": "8bccccda6858efc0",
   "metadata": {
    "slideshow": {
     "slide_type": "subslide"
    },
    "tags": [
     "keep",
     "subslide"
    ]
   },
   "outputs": [],
   "source": [
    "class GameEngine\n",
    "{\n",
    "private:\n",
    "    uint32_t audio_device_handle;\n",
    "    bool level_loaded;\n",
    "    bool characters_loaded;\n",
    "\n",
    "    GameEngine();\n",
    "    GameEngine(const GameEngine&) = delete;\n",
    "    GameEngine& operator=(const GameEngine&) = delete;\n",
    "\n",
    "public:\n",
    "    static GameEngine& instance()\n",
    "    {\n",
    "        static GameEngine instance{};\n",
    "        return instance;\n",
    "    }\n",
    "\n",
    "    uint32_t get_audio_device_handle() const { return audio_device_handle; }\n",
    "    void load_level();\n",
    "    void load_characters();\n",
    "    void run();\n",
    "};"
   ]
  },
  {
   "cell_type": "code",
   "execution_count": null,
   "id": "a7b59a8b48ed8a55",
   "metadata": {
    "slideshow": {
     "slide_type": "subslide"
    },
    "tags": [
     "keep",
     "subslide"
    ]
   },
   "outputs": [],
   "source": [
    "uint32_t current_audio_device_handle{0};"
   ]
  },
  {
   "cell_type": "code",
   "execution_count": null,
   "id": "7291add64eac20f0",
   "metadata": {
    "tags": [
     "keep"
    ]
   },
   "outputs": [],
   "source": [
    "GameEngine::GameEngine()\n",
    "    : audio_device_handle(++current_audio_device_handle),\n",
    "      level_loaded(false),\n",
    "      characters_loaded(false)\n",
    "{}"
   ]
  },
  {
   "cell_type": "code",
   "execution_count": null,
   "id": "743e34c92d2b56bd",
   "metadata": {
    "slideshow": {
     "slide_type": "subslide"
    },
    "tags": [
     "keep",
     "subslide"
    ]
   },
   "outputs": [],
   "source": [
    "void GameEngine::load_level()\n",
    "{\n",
    "    std::cout << \"Loading level...\" << std::endl;\n",
    "    level_loaded = true;\n",
    "}"
   ]
  },
  {
   "cell_type": "code",
   "execution_count": null,
   "id": "af23c51efd6a3b58",
   "metadata": {
    "tags": [
     "keep"
    ]
   },
   "outputs": [],
   "source": [
    "void GameEngine::load_characters()\n",
    "{\n",
    "    std::cout << \"Loading characters...\" << std::endl;\n",
    "    characters_loaded = true;\n",
    "}"
   ]
  },
  {
   "cell_type": "code",
   "execution_count": null,
   "id": "4f4804335888a182",
   "metadata": {
    "slideshow": {
     "slide_type": "subslide"
    },
    "tags": [
     "keep",
     "subslide"
    ]
   },
   "outputs": [],
   "source": [
    "void GameEngine::run()\n",
    "{\n",
    "    if (!level_loaded)\n",
    "    {\n",
    "        std::cerr << \"Level not loaded\\n\";\n",
    "        return;\n",
    "    }\n",
    "    if (!characters_loaded)\n",
    "    {\n",
    "        std::cerr << \"Characters not loaded\\n\";\n",
    "        return;\n",
    "    }\n",
    "    std::cout << \"Running the game engine\\n\";\n",
    "    // Reset variables for the next run\n",
    "    level_loaded = characters_loaded = false;\n",
    "}"
   ]
  },
  {
   "cell_type": "code",
   "execution_count": null,
   "id": "8944907964685275",
   "metadata": {
    "slideshow": {
     "slide_type": "subslide"
    },
    "tags": [
     "keep",
     "subslide"
    ]
   },
   "outputs": [],
   "source": [
    "void set_up_level()\n",
    "{\n",
    "    GameEngine& engine{GameEngine::instance()};\n",
    "    engine.load_level();\n",
    "    std::cout << \"Setting up the game level\\n\";\n",
    "}"
   ]
  },
  {
   "cell_type": "code",
   "execution_count": null,
   "id": "9db92ac5ddea681b",
   "metadata": {
    "tags": [
     "keep"
    ]
   },
   "outputs": [],
   "source": [
    "void set_up_characters()\n",
    "{\n",
    "    GameEngine& engine{GameEngine::instance()};\n",
    "    engine.load_characters();\n",
    "    std::cout << \"Setting up the game characters\\n\";\n",
    "}"
   ]
  },
  {
   "cell_type": "markdown",
   "id": "1a9a75d7ad48b1b1",
   "metadata": {
    "lang": "de",
    "slideshow": {
     "slide_type": "subslide"
    },
    "tags": [
     "subslide"
    ]
   },
   "source": [
    "\n",
    "Aufrufreihenfolge von `set_up_level()` und `set_up_characters()` ist\n",
    "zufällig."
   ]
  },
  {
   "cell_type": "code",
   "execution_count": null,
   "id": "cfb1d9f810a0e278",
   "metadata": {
    "tags": [
     "keep"
    ]
   },
   "outputs": [],
   "source": [
    "set_up_level();\n",
    "set_up_characters();\n",
    "GameEngine::instance().run();"
   ]
  },
  {
   "cell_type": "code",
   "execution_count": null,
   "id": "e157772740a1d5ea",
   "metadata": {
    "tags": [
     "keep"
    ]
   },
   "outputs": [],
   "source": [
    "GameEngine::instance().run();"
   ]
  },
  {
   "cell_type": "code",
   "execution_count": null,
   "id": "fc5e750d8d9b6e6c",
   "metadata": {
    "tags": [
     "keep"
    ]
   },
   "outputs": [],
   "source": [
    "set_up_characters();\n",
    "set_up_level();\n",
    "GameEngine::instance().run();"
   ]
  },
  {
   "cell_type": "code",
   "execution_count": null,
   "id": "6b4e03423667dbb7",
   "metadata": {},
   "outputs": [],
   "source": []
  }
 ],
 "metadata": {
  "kernelspec": {
   "display_name": "C++17",
   "language": "C++17",
   "name": "xcpp17"
  },
  "language_info": {
   "codemirror_mode": "text/x-c++src",
   "file_extension": ".cpp",
   "mimetype": "text/x-c++src",
   "name": "c++",
   "version": "17"
  }
 },
 "nbformat": 4,
 "nbformat_minor": 5
}
