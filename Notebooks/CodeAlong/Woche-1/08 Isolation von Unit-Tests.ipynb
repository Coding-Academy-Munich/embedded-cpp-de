{
 "cells": [
  {
   "cell_type": "markdown",
   "id": "d76cb142eb3dc238",
   "metadata": {
    "lang": "de",
    "slideshow": {
     "slide_type": "slide"
    },
    "tags": [
     "slide"
    ]
   },
   "source": [
    "\n",
    "<img src=\"data:image/png;base64,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\"\n",
    "     style=\"display:block;margin:auto;width:5%\"/>\n",
    "<br>\n",
    "\n",
    "<div style=\"text-align:center; font-size:200%;\">\n",
    " <b>Isolation von Unit-Tests</b>\n",
    "</div>\n",
    "<br/>\n",
    "<div style=\"text-align:center; font-size:120%;\">Dr. Matthias Hölzl</div>\n",
    "<br/>\n",
    "<div style=\"text-align:center;\">Coding-Akademie München</div>\n",
    "<br/>\n",
    "<!-- 08 Isolation von Unit-Tests.ipynb -->\n",
    "<!-- slides/module_410_unit_testing/topic_160_test_isolation.cpp -->"
   ]
  },
  {
   "cell_type": "markdown",
   "id": "7743b396c6bd290f",
   "metadata": {
    "lang": "de",
    "slideshow": {
     "slide_type": "subslide"
    },
    "tags": [
     "subslide"
    ]
   },
   "source": [
    "\n",
    "## Unit-Test\n",
    "\n",
    "- Testet einen kleinen Teil des Codes (eine **\"Unit\"**)\n",
    "- Hat kurze Laufzeit\n",
    "- *Ist isoliert*"
   ]
  },
  {
   "cell_type": "markdown",
   "id": "98560c91ea75a1b3",
   "metadata": {
    "lang": "de",
    "slideshow": {
     "slide_type": "subslide"
    },
    "tags": [
     "subslide"
    ]
   },
   "source": [
    "\n",
    "## Was ist eine \"Unit\"?\n",
    "\n",
    "- Ein Verhalten?\n",
    "  - *Unit of behavior*\n",
    "  - Teil eines Szenarios/Use-Cases/...\n",
    "  - Ursprüngliche Intention von Kent Beck\n",
    "- Ein Code-Bestandteil?\n",
    "  - *Unit of code*\n",
    "  - Oft Unit = Klasse\n",
    "  - In der Literatur weit verbreitete Ansicht"
   ]
  },
  {
   "cell_type": "markdown",
   "id": "38256732e438746f",
   "metadata": {
    "lang": "de",
    "slideshow": {
     "slide_type": "subslide"
    },
    "tags": [
     "subslide"
    ]
   },
   "source": [
    "\n",
    "## Was bedeutet \"isolierter\" Test?\n",
    "\n",
    "- Keine Interaktion zwischen Tests?\n",
    "  - Isolierte Testfälle\n",
    "  - Klassische Unit-Tests (Detroit School, Kent Beck)\n",
    "- Keine Interaktion zwischen getesteter Einheit und dem Rest des Systems?\n",
    "  - Abhängigkeiten werden durch einfache Simulationen ersetzt (Test-Doubles)\n",
    "  - London School"
   ]
  },
  {
   "cell_type": "markdown",
   "id": "c4178f62a9d69b32",
   "metadata": {
    "lang": "de",
    "slideshow": {
     "slide_type": "slide"
    },
    "tags": [
     "slide"
    ]
   },
   "source": [
    "\n",
    "## Isolierte Testfälle (Detroit School)\n",
    "\n",
    "- Jeder Testfall ist unabhängig von den anderen\n",
    "- Tests können in beliebiger Reihenfolge ausgeführt werden\n",
    "- Tests können parallel ausgeführt werden"
   ]
  },
  {
   "cell_type": "markdown",
   "id": "1dd2dc9037d0d118",
   "metadata": {
    "lang": "de",
    "slideshow": {
     "slide_type": "subslide"
    },
    "tags": [
     "subslide"
    ]
   },
   "source": [
    "\n",
    "### Gegenbeispiel: Nicht isolierte Testfälle"
   ]
  },
  {
   "cell_type": "code",
   "execution_count": null,
   "id": "a0ee650c342d197c",
   "metadata": {
    "slideshow": {
     "slide_type": "subslide"
    },
    "tags": [
     "subslide",
     "keep"
    ]
   },
   "outputs": [],
   "source": [
    "#include <iostream>"
   ]
  },
  {
   "cell_type": "code",
   "execution_count": null,
   "id": "65d3fb7c4c7d97af",
   "metadata": {
    "tags": [
     "keep"
    ]
   },
   "outputs": [],
   "source": [
    "void check(bool condition)\n",
    "{\n",
    "    if (!condition)\n",
    "    {\n",
    "        std::cerr << \"Test failed!\\n\";\n",
    "    }\n",
    "}"
   ]
  },
  {
   "cell_type": "code",
   "execution_count": null,
   "id": "2d06f0a9f375bc05",
   "metadata": {
    "slideshow": {
     "slide_type": "subslide"
    },
    "tags": [
     "subslide",
     "keep"
    ]
   },
   "outputs": [],
   "source": [
    "#include <chrono>\n",
    "#include <ctime>\n",
    "#include <iomanip>\n",
    "#include <iostream>\n",
    "#include <thread>"
   ]
  },
  {
   "cell_type": "code",
   "execution_count": null,
   "id": "f2229725508e4886",
   "metadata": {
    "tags": [
     "keep"
    ]
   },
   "outputs": [],
   "source": [
    "void print_time(std::string prefix, std::chrono::system_clock::time_point time_point)\n",
    "{\n",
    "    std::time_t time = std::chrono::system_clock::to_time_t(time_point);\n",
    "    std::tm* localTime = std::localtime(&time);\n",
    "    std::cout << prefix << std::put_time(localTime, \"%Y-%m-%d %H:%M:%S\") << '\\n';\n",
    "}"
   ]
  },
  {
   "cell_type": "code",
   "execution_count": null,
   "id": "3b9626549eb029de",
   "metadata": {
    "slideshow": {
     "slide_type": "subslide"
    },
    "tags": [
     "subslide"
    ]
   },
   "outputs": [],
   "source": []
  },
  {
   "cell_type": "code",
   "execution_count": null,
   "id": "cb2b2772fbc678e8",
   "metadata": {},
   "outputs": [],
   "source": []
  },
  {
   "cell_type": "code",
   "execution_count": null,
   "id": "c052eb5b2778c015",
   "metadata": {},
   "outputs": [],
   "source": []
  },
  {
   "cell_type": "code",
   "execution_count": null,
   "id": "cb28eac3d63af132",
   "metadata": {
    "slideshow": {
     "slide_type": "subslide"
    },
    "tags": [
     "subslide"
    ]
   },
   "outputs": [],
   "source": []
  },
  {
   "cell_type": "code",
   "execution_count": null,
   "id": "5ffe6484c8c19ea4",
   "metadata": {},
   "outputs": [],
   "source": []
  },
  {
   "cell_type": "markdown",
   "id": "7ed3520000e034af",
   "metadata": {
    "lang": "de",
    "slideshow": {
     "slide_type": "subslide"
    },
    "tags": [
     "subslide"
    ]
   },
   "source": [
    "\n",
    "## Gründe für nicht isolierte Testfälle\n",
    "\n",
    "- Veränderlicher globaler Zustand\n",
    "- Veränderliche externe Ressourcen (Dateien, Datenbanken, Netzwerk, ...)"
   ]
  },
  {
   "cell_type": "markdown",
   "id": "943ed9e6708002d7",
   "metadata": {
    "lang": "de",
    "slideshow": {
     "slide_type": "slide"
    },
    "tags": [
     "slide"
    ]
   },
   "source": [
    "\n",
    "## Isolation der getesteten Unit\n",
    "\n",
    "- Die getestete Unit wird von allen anderen Units isoliert\n",
    "- Test-Doubles für alle Abhängigkeiten"
   ]
  },
  {
   "cell_type": "markdown",
   "id": "f65f2eb2d7d04af0",
   "metadata": {
    "lang": "de",
    "slideshow": {
     "slide_type": "subslide"
    },
    "tags": [
     "subslide"
    ]
   },
   "source": [
    "\n",
    "### Gegenbeispiel: Nicht isolierte Unit\n",
    "\n",
    "- Verkäufer von Veranstaltungs-Tickets\n",
    "- Konkrete Klasse `Event` repräsentiert eine Veranstaltung"
   ]
  },
  {
   "cell_type": "code",
   "execution_count": null,
   "id": "49293e9ed0c9a8e4",
   "metadata": {
    "slideshow": {
     "slide_type": "subslide"
    },
    "tags": [
     "keep",
     "subslide"
    ]
   },
   "outputs": [],
   "source": [
    "#include <iostream>\n",
    "#include <stdexcept>\n",
    "#include <string>"
   ]
  },
  {
   "cell_type": "code",
   "execution_count": null,
   "id": "d7412a08f525e4ae",
   "metadata": {
    "slideshow": {
     "slide_type": "subslide"
    },
    "tags": [
     "keep",
     "subslide"
    ]
   },
   "outputs": [],
   "source": [
    "namespace non_isolated\n",
    "{\n",
    "class Event\n",
    "{\n",
    "private:\n",
    "    std::string name{\"Unnamed Event\"};\n",
    "    int capacity{};\n",
    "\n",
    "public:\n",
    "    Event() = default;\n",
    "    Event(std::string name, int capacity) : name{name}, capacity{capacity} {}\n",
    "\n",
    "    std::string get_name() const { return name; }\n",
    "    int get_capacity() const { return capacity; }\n",
    "    void purchase(int num_tickets);\n",
    "};\n",
    "} // namespace non_isolated"
   ]
  },
  {
   "cell_type": "code",
   "execution_count": null,
   "id": "e1390259524f13c1",
   "metadata": {
    "slideshow": {
     "slide_type": "subslide"
    },
    "tags": [
     "keep",
     "subslide"
    ]
   },
   "outputs": [],
   "source": [
    "namespace non_isolated\n",
    "{\n",
    "void Event::purchase(int num_tickets)\n",
    "{\n",
    "    if (num_tickets > capacity)\n",
    "    {\n",
    "        throw std::runtime_error(\"Not enough capacity\");\n",
    "    }\n",
    "    capacity -= num_tickets;\n",
    "}\n",
    "} // namespace non_isolated"
   ]
  },
  {
   "cell_type": "code",
   "execution_count": null,
   "id": "f39a0b547b7bdd22",
   "metadata": {
    "slideshow": {
     "slide_type": "subslide"
    },
    "tags": [
     "keep",
     "subslide"
    ]
   },
   "outputs": [],
   "source": [
    "namespace non_isolated\n",
    "{\n",
    "class TicketOffice\n",
    "{\n",
    "private:\n",
    "    std::unordered_map<std::string, Event> events;\n",
    "\n",
    "public:\n",
    "    void add_event(Event event) { events[event.get_name()] = event; }\n",
    "    Event get_event(std::string event_name) { return events[event_name]; }\n",
    "    bool purchase_tickets(std::string event_name, int num_tickets);\n",
    "};\n",
    "} // namespace non_isolated"
   ]
  },
  {
   "cell_type": "code",
   "execution_count": null,
   "id": "33bf7f9e0ff0e0a3",
   "metadata": {
    "slideshow": {
     "slide_type": "subslide"
    },
    "tags": [
     "keep",
     "subslide"
    ]
   },
   "outputs": [],
   "source": [
    "namespace non_isolated\n",
    "{\n",
    "bool TicketOffice::purchase_tickets(std::string event_name, int num_tickets)\n",
    "{\n",
    "    if (events.find(event_name) != events.end())\n",
    "    {\n",
    "        try\n",
    "        {\n",
    "            events[event_name].purchase(num_tickets);\n",
    "            return true;\n",
    "        }\n",
    "        catch (const std::runtime_error& e)\n",
    "        {\n",
    "            std::cerr << \"Cannot purchase \" << num_tickets << \" tickets for \"\n",
    "                      << event_name << '\\n';\n",
    "            std::cerr << e.what() << '\\n';\n",
    "            return false;\n",
    "        }\n",
    "    }\n",
    "    return false;\n",
    "}\n",
    "} // namespace non_isolated"
   ]
  },
  {
   "cell_type": "code",
   "execution_count": null,
   "id": "323360fcac1ef865",
   "metadata": {
    "slideshow": {
     "slide_type": "subslide"
    },
    "tags": [
     "keep",
     "subslide"
    ]
   },
   "outputs": [],
   "source": [
    "namespace non_isolated\n",
    "{\n",
    "void test_purchase_tickets()\n",
    "{\n",
    "    TicketOffice ticket_office;\n",
    "    Event event(\"CppCon\", 100);\n",
    "    ticket_office.add_event(event);\n",
    "\n",
    "    bool result = ticket_office.purchase_tickets(\"CppCon\", 10);\n",
    "\n",
    "    check(result == true);\n",
    "    check(ticket_office.get_event(\"CppCon\").get_capacity() == 90);\n",
    "}\n",
    "} // namespace non_isolated"
   ]
  },
  {
   "cell_type": "code",
   "execution_count": null,
   "id": "0d01212c05f9fe6a",
   "metadata": {},
   "outputs": [],
   "source": []
  },
  {
   "cell_type": "code",
   "execution_count": null,
   "id": "4e4a41769eda3789",
   "metadata": {
    "slideshow": {
     "slide_type": "subslide"
    },
    "tags": [
     "keep",
     "subslide"
    ]
   },
   "outputs": [],
   "source": [
    "namespace isolated\n",
    "{\n",
    "class Event\n",
    "{\n",
    "public:\n",
    "    Event() = default;\n",
    "    Event(const Event&) = delete;\n",
    "    Event& operator=(const Event&) = delete;\n",
    "    Event(Event&&) = delete;\n",
    "    Event& operator=(Event&&) = delete;\n",
    "    virtual ~Event() = default;\n",
    "\n",
    "    virtual std::string get_name() const = 0;\n",
    "    virtual int get_capacity() const = 0;\n",
    "    virtual void purchase(int num_tickets) = 0;\n",
    "};\n",
    "} // namespace isolated"
   ]
  },
  {
   "cell_type": "code",
   "execution_count": null,
   "id": "53ddedff6105cc8a",
   "metadata": {
    "slideshow": {
     "slide_type": "subslide"
    },
    "tags": [
     "keep",
     "subslide"
    ]
   },
   "outputs": [],
   "source": [
    "namespace isolated\n",
    "{\n",
    "class ConcreteEvent : public Event\n",
    "{\n",
    "private:\n",
    "    std::string name{\"Unnamed Event\"};\n",
    "    int capacity{};\n",
    "\n",
    "public:\n",
    "    ConcreteEvent() = default;\n",
    "    ConcreteEvent(std::string name, int capacity) : name{name}, capacity{capacity} {}\n",
    "\n",
    "    std::string get_name() const override { return name; }\n",
    "    int get_capacity() const override { return capacity; }\n",
    "    void purchase(int num_tickets) override;\n",
    "};\n",
    "} // namespace isolated"
   ]
  },
  {
   "cell_type": "code",
   "execution_count": null,
   "id": "5e6375b74cfa406b",
   "metadata": {
    "slideshow": {
     "slide_type": "subslide"
    },
    "tags": [
     "keep",
     "subslide"
    ]
   },
   "outputs": [],
   "source": [
    "namespace isolated\n",
    "{\n",
    "void ConcreteEvent::purchase(int num_tickets)\n",
    "{\n",
    "    if (num_tickets > capacity)\n",
    "    {\n",
    "        throw std::runtime_error(\"Not enough capacity\");\n",
    "    }\n",
    "    capacity -= num_tickets;\n",
    "}\n",
    "} // namespace isolated"
   ]
  },
  {
   "cell_type": "code",
   "execution_count": null,
   "id": "dfa635a656e8723f",
   "metadata": {
    "slideshow": {
     "slide_type": "subslide"
    },
    "tags": [
     "keep",
     "subslide"
    ]
   },
   "outputs": [],
   "source": [
    "namespace isolated\n",
    "{\n",
    "class TicketOffice\n",
    "{\n",
    "private:\n",
    "    std::unordered_map<std::string, std::unique_ptr<Event>> events;\n",
    "\n",
    "public:\n",
    "    void add_event(std::unique_ptr<Event> event)\n",
    "    {\n",
    "        events[event->get_name()] = std::move(event);\n",
    "    }\n",
    "    Event& get_event(std::string event_name) { return *events.at(event_name); }\n",
    "    bool purchase_tickets(std::string event_name, int num_tickets);\n",
    "};\n",
    "} // namespace isolated"
   ]
  },
  {
   "cell_type": "code",
   "execution_count": null,
   "id": "069e406431bf9ee9",
   "metadata": {
    "slideshow": {
     "slide_type": "subslide"
    },
    "tags": [
     "keep",
     "subslide"
    ]
   },
   "outputs": [],
   "source": [
    "namespace isolated\n",
    "{\n",
    "bool TicketOffice::purchase_tickets(std::string event_name, int num_tickets)\n",
    "{\n",
    "    if (events.find(event_name) != events.end())\n",
    "    {\n",
    "        try\n",
    "        {\n",
    "            events.at(event_name)->purchase(num_tickets);\n",
    "            return true;\n",
    "        }\n",
    "        catch (const std::out_of_range& e)\n",
    "        {\n",
    "            std::cerr << event_name << \" not found\\n\";\n",
    "            std::cerr << e.what() << '\\n';\n",
    "            return false;\n",
    "        }\n",
    "        catch (const std::runtime_error& e)\n",
    "        {\n",
    "            std::cerr << \"Cannot purchase \" << num_tickets << \" tickets for \"\n",
    "                      << event_name << '\\n';\n",
    "            std::cerr << e.what() << '\\n';\n",
    "            return false;\n",
    "        }\n",
    "    }\n",
    "    return false;\n",
    "}\n",
    "} // namespace isolated"
   ]
  },
  {
   "cell_type": "markdown",
   "id": "b947459dd6edf127",
   "metadata": {
    "lang": "de",
    "slideshow": {
     "slide_type": "subslide"
    },
    "tags": [
     "subslide"
    ]
   },
   "source": [
    "\n",
    "### Isolation von `TicketOffice` für Tests\n",
    "\n",
    "- Entkopplung von allen Abhängigkeiten\n",
    "- `EventMock`-Implementierung für Events"
   ]
  },
  {
   "cell_type": "code",
   "execution_count": null,
   "id": "26ed6ad9e9d5bc42",
   "metadata": {
    "slideshow": {
     "slide_type": "subslide"
    },
    "tags": [
     "keep",
     "subslide"
    ]
   },
   "outputs": [],
   "source": [
    "namespace isolated\n",
    "{\n",
    "class EventMock : public Event\n",
    "{\n",
    "public:\n",
    "    std::vector<int> purchase_args{};\n",
    "\n",
    "    std::string get_name() const override { return \"CppCon\"; }\n",
    "    int get_capacity() const override { return 90; }\n",
    "    void purchase(int num_tickets) override { purchase_args.push_back(num_tickets); }\n",
    "};\n",
    "} // namespace isolated"
   ]
  },
  {
   "cell_type": "code",
   "execution_count": null,
   "id": "92ea49d6fab63c14",
   "metadata": {
    "slideshow": {
     "slide_type": "subslide"
    },
    "tags": [
     "keep",
     "subslide"
    ]
   },
   "outputs": [],
   "source": [
    "namespace isolated\n",
    "{\n",
    "void test_purchase_tickets()\n",
    "{\n",
    "    TicketOffice ticket_office;\n",
    "    ticket_office.add_event(std::make_unique<EventMock>());\n",
    "\n",
    "    bool result{ticket_office.purchase_tickets(\"CppCon\", 10)};\n",
    "\n",
    "    check(result == true);\n",
    "    check(ticket_office.get_event(\"CppCon\").get_capacity() == 90);\n",
    "    check(\n",
    "        static_cast<EventMock&>(ticket_office.get_event(\"CppCon\")).purchase_args ==\n",
    "        std::vector<int>{10}\n",
    "    );\n",
    "}\n",
    "} // namespace isolated"
   ]
  },
  {
   "cell_type": "code",
   "execution_count": null,
   "id": "2e194195b9b7ffd6",
   "metadata": {},
   "outputs": [],
   "source": []
  },
  {
   "cell_type": "markdown",
   "id": "7c17606ade0c2194",
   "metadata": {
    "lang": "de",
    "slideshow": {
     "slide_type": "subslide"
    },
    "tags": [
     "subslide"
    ]
   },
   "source": [
    "\n",
    "## Vorteile der Isolation der getesteten Unit\n",
    "\n",
    "- Einfache Struktur der Tests\n",
    "  - Jeder Test gehört zu genau einer Unit\n",
    "- Genaue Identifikation von Fehlern\n",
    "- Aufbrechen von Abhängigkeiten/des Objektgraphen"
   ]
  },
  {
   "cell_type": "markdown",
   "id": "dadea4515de652e5",
   "metadata": {
    "lang": "de",
    "slideshow": {
     "slide_type": "subslide"
    },
    "tags": [
     "subslide"
    ]
   },
   "source": [
    "\n",
    "## Nachteile der Isolation der getesteten Unit\n",
    "\n",
    "- Potenziell höherer Aufwand (z.B. Mocks)\n",
    "- Fehler in der Interaktion zwischen Units werden nicht gefunden\n",
    "- Verleiten zum Schreiben von \"Interaktionstests\"\n",
    "- **Risiko von Kopplung an Implementierungsdetails**"
   ]
  },
  {
   "cell_type": "markdown",
   "id": "58476d93abb01a77",
   "metadata": {
    "lang": "de",
    "slideshow": {
     "slide_type": "subslide"
    },
    "tags": [
     "subslide"
    ]
   },
   "source": [
    "\n",
    "## Empfehlung\n",
    "\n",
    "- Verwenden Sie isolierte Unit-Tests (Detroit School)\n",
    "- Isolieren Sie Abhängigkeiten, die \"eine Rakete starten\"\n",
    "  - nicht-deterministisch (z.B. Zufallszahlen, aktuelle Zeit, aktuelles Datum)\n",
    "  - langsam\n",
    "  - externe Systeme (z.B. Datenbank)\n",
    "- Isolieren Sie Abhängigkeiten, die ein komplexes Setup benötigen"
   ]
  },
  {
   "cell_type": "markdown",
   "id": "4b371bab64ca1313",
   "metadata": {
    "lang": "de",
    "slideshow": {
     "slide_type": "subslide"
    },
    "tags": [
     "subslide"
    ]
   },
   "source": [
    "\n",
    "## Workshop: Virtuelle Universität\n",
    "\n",
    "- Im `code`-Ordner finden Sie eine Implementierung eins sehr einfachen\n",
    "  Verwaltungssystems für eine Universität:\n",
    "- Es gibt Kurse, Professoren, die die Kurse halten, Studenten, die Aufgaben\n",
    "  bearbeiten und abgeben müssen.\n",
    "- Der Code ist in `code/starter_kits/virtual_university` zu finden.\n",
    "- Die `main.cpp`-Datei illustriert, wie die Klassen zusammenarbeiten und\n",
    "  verwendet werden können."
   ]
  },
  {
   "cell_type": "markdown",
   "id": "730e990866b244a8",
   "metadata": {
    "lang": "de",
    "slideshow": {
     "slide_type": "subslide"
    },
    "tags": [
     "subslide"
    ]
   },
   "source": [
    "\n",
    "- Identifizieren Sie, welche Klassen und Methoden zu den \"wertvollsten\"\n",
    "  Unit-Tests führen.\n",
    "- Implementieren Sie diese Unit-Tests mit Catch2.\n",
    "  - Idealerweise implementieren sie Tests für alle Klassen, die sinnvolle\n",
    "    Tests haben.\n",
    "  - Falls Sie dafür nicht genug Zeit haben, können Sie auch nur Tests für\n",
    "    einen Teil des Codes schreiben.\n",
    "  - Die Klasse `Student` ist ein ganz guter Startpunkt, weil sie eine sehr\n",
    "    begrenzte Funktionalität hat, die Sie mit relativ wenigen Tests abdecken\n",
    "    können."
   ]
  },
  {
   "cell_type": "markdown",
   "id": "ca5879f27b622d57",
   "metadata": {
    "lang": "de",
    "slideshow": {
     "slide_type": "subslide"
    },
    "tags": [
     "subslide"
    ]
   },
   "source": [
    "\n",
    "- Überlegen Sie, wie Sie das System überarbeiten müssten, um die Klassen in\n",
    "  Tests vollständig zu isolieren, also im London School Stil zu testen.\n",
    "  - (Sie müssen das nicht tatsächlich umsetzen, weil es recht aufwändig ist,\n",
    "    aber es ist eine gute Übung, um die beiden Stile zu vergleichen.)"
   ]
  }
 ],
 "metadata": {
  "kernelspec": {
   "display_name": "C++17",
   "language": "C++17",
   "name": "xcpp17"
  },
  "language_info": {
   "codemirror_mode": "text/x-c++src",
   "file_extension": ".cpp",
   "mimetype": "text/x-c++src",
   "name": "c++",
   "version": "17"
  }
 },
 "nbformat": 4,
 "nbformat_minor": 5
}
