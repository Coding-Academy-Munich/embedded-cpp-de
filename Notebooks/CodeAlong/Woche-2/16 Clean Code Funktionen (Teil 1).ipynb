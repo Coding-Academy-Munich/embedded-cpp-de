{
 "cells": [
  {
   "cell_type": "markdown",
   "id": "c17b215bdf675ca4",
   "metadata": {
    "lang": "de",
    "slideshow": {
     "slide_type": "slide"
    },
    "tags": [
     "slide"
    ]
   },
   "source": [
    "\n",
    "<img src=\"data:image/png;base64,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\"\n",
    "     style=\"display:block;margin:auto;width:5%\"/>\n",
    "<br>\n",
    "\n",
    "<div style=\"text-align:center; font-size:200%;\">\n",
    " <b>Clean Code: Funktionen (Teil 1)</b>\n",
    "</div>\n",
    "<br/>\n",
    "<div style=\"text-align:center; font-size:120%;\">Dr. Matthias Hölzl</div>\n",
    "<br/>\n",
    "<div style=\"text-align:center;\">Coding-Akademie München</div>\n",
    "<br/>\n",
    "<!-- 16 Clean Code Funktionen (Teil 1).ipynb -->\n",
    "<!-- slides/module_420_clean_code/topic_140_functions_part1.cpp -->"
   ]
  },
  {
   "cell_type": "markdown",
   "id": "472f61c2dd6db1d0",
   "metadata": {
    "lang": "de",
    "slideshow": {
     "slide_type": "slide"
    },
    "tags": [
     "slide"
    ]
   },
   "source": [
    "\n",
    "[Fasse Operationen, die logisch zusammengehören, als sorgfältig benannte\n",
    "Funktionen zusammen (CG,\n",
    "F.1)](https://isocpp.github.io/CppCoreGuidelines/CppCoreGuidelines#Rf-package)\n",
    "\n",
    "- Besser lesbar\n",
    "- Einfacher zu testen\n",
    "- Wird eher wiederverwendet\n",
    "- Fehler sind weniger wahrscheinlich"
   ]
  },
  {
   "cell_type": "markdown",
   "id": "434fea343edae7d1",
   "metadata": {
    "lang": "de",
    "slideshow": {
     "slide_type": "subslide"
    },
    "tags": [
     "subslide"
    ]
   },
   "source": [
    "\n",
    "## Die 1. Clean Code Regel für Funktionen\n",
    "\n",
    "- Funktionen sollten kurz sein\n",
    "- Kürzer als man meint!\n",
    "- Maximal 4 Zeilen!"
   ]
  },
  {
   "cell_type": "markdown",
   "id": "b064afa340823770",
   "metadata": {
    "lang": "de",
    "slideshow": {
     "slide_type": "subslide"
    },
    "tags": [
     "subslide"
    ]
   },
   "source": [
    "\n",
    "## C++ Core Guidelines\n",
    "\n",
    "- [Halte Funktionen kurz und einfach (CG\n",
    "  F.3)](https://isocpp.github.io/CppCoreGuidelines/CppCoreGuidelines#f3-keep-functions-short-and-simple)\n",
    "  - Funktionen sollten auf einen Bildschirm passen\n",
    "  - Große Funktionen sollten in kleinere, zusammenhängende und benannte\n",
    "    Funktionen aufgeteilt werden\n",
    "  - Funktionen mit einer bis fünf Zeilen sollten als normal angesehen werden"
   ]
  },
  {
   "cell_type": "markdown",
   "id": "57f8cc70c4ca19da",
   "metadata": {
    "lang": "de",
    "slideshow": {
     "slide_type": "subslide"
    },
    "tags": [
     "subslide"
    ]
   },
   "source": [
    "\n",
    "## Konzentration auf eine Aufgabe\n",
    "\n",
    "- Funktionen sollten eine Aufgabe erfüllen (\"do one thing\")\n",
    "- Sie sollten diese Aufgabe gut erfüllen\n",
    "- Sie sollten nur diese Aufgabe erfüllen\n",
    "- [Eine Funktion sollte eine einzige logische Aufgabe erfüllen (CG\n",
    "  F.2)](https://isocpp.github.io/CppCoreGuidelines/CppCoreGuidelines#Rf-logical)"
   ]
  },
  {
   "cell_type": "code",
   "execution_count": null,
   "id": "434f9a1d7ec351b5",
   "metadata": {
    "slideshow": {
     "slide_type": "subslide"
    },
    "tags": [
     "keep",
     "subslide"
    ]
   },
   "outputs": [],
   "source": [
    "#include <iostream>\n",
    "#include <vector>\n",
    "\n",
    "using namespace std;"
   ]
  },
  {
   "cell_type": "code",
   "execution_count": null,
   "id": "13c9749206c06625",
   "metadata": {
    "slideshow": {
     "slide_type": "subslide"
    },
    "tags": [
     "keep",
     "subslide"
    ]
   },
   "outputs": [],
   "source": [
    "int doStuff(int a, int b, vector<int>& results)\n",
    "{\n",
    "    // Get measurement from sensors based on config data...\n",
    "    int measurement{a + b};\n",
    "    // ... and perform a complex computation\n",
    "    int newResult{measurement + 1};\n",
    "    // ... save the result to the list of results\n",
    "    if (newResult > 0)\n",
    "    {\n",
    "        results.push_back(newResult);\n",
    "    }\n",
    "    // ... print all results\n",
    "    for (int result : results)\n",
    "    {\n",
    "        cout << result << endl;\n",
    "    }\n",
    "    // ... and return the result\n",
    "    return newResult;\n",
    "}"
   ]
  },
  {
   "cell_type": "code",
   "execution_count": null,
   "id": "28124fed0ba3fc12",
   "metadata": {
    "slideshow": {
     "slide_type": "subslide"
    },
    "tags": [
     "subslide",
     "keep"
    ]
   },
   "outputs": [],
   "source": [
    "vector<int> allResults{12, 43};"
   ]
  },
  {
   "cell_type": "code",
   "execution_count": null,
   "id": "91f28f85be375822",
   "metadata": {},
   "outputs": [],
   "source": []
  },
  {
   "cell_type": "code",
   "execution_count": null,
   "id": "4b8a3c011b22d750",
   "metadata": {},
   "outputs": [],
   "source": []
  },
  {
   "cell_type": "code",
   "execution_count": null,
   "id": "44e149448da08aa7",
   "metadata": {},
   "outputs": [],
   "source": []
  },
  {
   "cell_type": "markdown",
   "id": "2c9a8346520e270c",
   "metadata": {
    "lang": "de",
    "slideshow": {
     "slide_type": "subslide"
    },
    "tags": [
     "subslide"
    ]
   },
   "source": [
    "\n",
    "- Messung und Auswertung der Ergebnisse"
   ]
  },
  {
   "cell_type": "code",
   "execution_count": null,
   "id": "de4d7cff111c6d1d",
   "metadata": {},
   "outputs": [],
   "source": []
  },
  {
   "cell_type": "code",
   "execution_count": null,
   "id": "4825c04763eb3791",
   "metadata": {},
   "outputs": [],
   "source": []
  },
  {
   "cell_type": "code",
   "execution_count": null,
   "id": "02761cc571160d4b",
   "metadata": {},
   "outputs": [],
   "source": []
  },
  {
   "cell_type": "markdown",
   "id": "cf76867982712550",
   "metadata": {
    "lang": "de",
    "slideshow": {
     "slide_type": "subslide"
    },
    "tags": [
     "subslide"
    ]
   },
   "source": [
    "\n",
    "- Speichern und Drucken der Ergebnisse:"
   ]
  },
  {
   "cell_type": "code",
   "execution_count": null,
   "id": "c0baa91462aa6d04",
   "metadata": {
    "tags": [
     "keep"
    ]
   },
   "outputs": [],
   "source": [
    "#include <iostream>\n",
    "#include <vector>"
   ]
  },
  {
   "cell_type": "code",
   "execution_count": null,
   "id": "39f9f434f6877979",
   "metadata": {},
   "outputs": [],
   "source": []
  },
  {
   "cell_type": "code",
   "execution_count": null,
   "id": "e38d41de46676b77",
   "metadata": {},
   "outputs": [],
   "source": []
  },
  {
   "cell_type": "markdown",
   "id": "8c37c75b84aa3a6f",
   "metadata": {
    "lang": "de",
    "slideshow": {
     "slide_type": "subslide"
    },
    "tags": [
     "subslide"
    ]
   },
   "source": [
    "\n",
    "- Zusammenführung der Funktionen:"
   ]
  },
  {
   "cell_type": "code",
   "execution_count": null,
   "id": "b02a614b802c050d",
   "metadata": {},
   "outputs": [],
   "source": []
  },
  {
   "cell_type": "markdown",
   "id": "0aa228e5c129826b",
   "metadata": {
    "lang": "de",
    "slideshow": {
     "slide_type": "subslide"
    },
    "tags": [
     "subslide"
    ]
   },
   "source": [
    "\n",
    "### Fragen\n",
    "\n",
    "- Macht `performMeasurementAndProcessResult()` das Gleiche wie `doStuff()`?\n",
    "- Ist die Funktion `performMeasurementAndProcessResult()` wirklich besser?\n",
    "- Konzentriert sie sich auf eine Aufgabe?\n",
    "- Unterscheiden sich Ihre Aufgaben von `doStuff()`?\n",
    "- Warum (nicht)?"
   ]
  },
  {
   "cell_type": "code",
   "execution_count": null,
   "id": "333bf0370f5609ac",
   "metadata": {
    "slideshow": {
     "slide_type": "subslide"
    },
    "tags": [
     "subslide"
    ]
   },
   "outputs": [],
   "source": []
  },
  {
   "cell_type": "code",
   "execution_count": null,
   "id": "3547c0c8ff85c9e3",
   "metadata": {},
   "outputs": [],
   "source": []
  },
  {
   "cell_type": "code",
   "execution_count": null,
   "id": "eec5b1b19de5bd59",
   "metadata": {},
   "outputs": [],
   "source": []
  },
  {
   "cell_type": "code",
   "execution_count": null,
   "id": "14a831e58f27a4db",
   "metadata": {},
   "outputs": [],
   "source": []
  },
  {
   "cell_type": "markdown",
   "id": "b8284cdf9e7fc77d",
   "metadata": {
    "lang": "de",
    "slideshow": {
     "slide_type": "subslide"
    },
    "tags": [
     "subslide"
    ]
   },
   "source": [
    "\n",
    "## Hilfsmittel: Änderungsgründe\n",
    "\n",
    "- Welche möglichen Änderungsgründe gibt es?\n",
    "- Wie viele davon betreffen die jeweilige Funktion?"
   ]
  },
  {
   "cell_type": "markdown",
   "id": "bbaa3689a76e2143",
   "metadata": {
    "lang": "de",
    "slideshow": {
     "slide_type": "subslide"
    },
    "tags": [
     "subslide"
    ]
   },
   "source": [
    "\n",
    "| Änderungsgrund        | `doStuff()` | `performMeasurementAndProcessResult()` |\n",
    "| --------------------- | :---------- | :------------------------------------- |\n",
    "| Messung               | ✓           | ❌ `getMeasurement()`                 |\n",
    "| Berechnung            | ✓           | ❌ `computeDataForNextTimestep()`     |\n",
    "| Speichern             | ✓           | ❌ `saveResult()`                     |\n",
    "| Drucken               | ✓           | ❌ `printResults()`                   |\n",
    "| Neue/andere Tätigkeit | ✓           | ✓                                     |"
   ]
  },
  {
   "cell_type": "markdown",
   "id": "2ef7237b8ced31aa",
   "metadata": {
    "lang": "de",
    "slideshow": {
     "slide_type": "slide"
    },
    "tags": [
     "slide"
    ]
   },
   "source": [
    "\n",
    "# Abstraktionsebenen\n",
    "\n",
    "- Alles, was die Funktion in ihrem Rumpf tut, sollte eine (und nur eine)\n",
    "  Abstraktionsebene unterhalb der Funktion selbst sein.\n",
    "- Beispiel: `performMeasurementAndProcessResult()`\n",
    "- Gegenbeispiel: `createAndDistributeExam()`:"
   ]
  },
  {
   "cell_type": "markdown",
   "id": "85f471fde49348d4",
   "metadata": {
    "slideshow": {
     "slide_type": "subslide"
    },
    "tags": [
     "subslide"
    ]
   },
   "source": [
    "\n",
    "```cpp\n",
    "void createAndDistributeExam(const std::string& subject)\n",
    "{\n",
    "    // high level abstraction\n",
    "    Exam exam = createExamUsingChatGPT(subject);\n",
    "\n",
    "    // low level abstractions\n",
    "    std::ofstream file(subject + \"_exam.pdf\");\n",
    "    writePdfHeader(file);\n",
    "    for (const auto& question : exam.questions)\n",
    "    {\n",
    "        auto pdfQuestion = convertQuestionToPdf(question);\n",
    "        file << pdfQuestion << \"\\n\";\n",
    "    }\n",
    "\n",
    "    // higher level abstraction\n",
    "    distributeExamToStudents(file);\n",
    "}\n",
    "```"
   ]
  },
  {
   "cell_type": "markdown",
   "id": "ed995939e3b8307d",
   "metadata": {
    "lang": "de",
    "slideshow": {
     "slide_type": "subslide"
    },
    "tags": [
     "subslide"
    ]
   },
   "source": [
    "\n",
    "## Kontrolle der Abstraktionsebenen: \"Um-Zu\"-Absätze\n",
    "\n",
    "`performMeasurementAndProcessResult()`:\n",
    "\n",
    "Um eine Messung durchzuführen und das Ergebnis zu verarbeiten:\n",
    "- Hole ein Messergebnis\n",
    "- Berechne die Daten für den nächsten Zeitschritt\n",
    "- Speichere das Ergebnis, falls es gültig ist\n",
    "- Drucke alle Ergebnisse, unabhängig davon, ob das neue Ergebnis gültig ist"
   ]
  },
  {
   "cell_type": "markdown",
   "id": "e9404e688f178c5a",
   "metadata": {
    "lang": "de",
    "slideshow": {
     "slide_type": "subslide"
    },
    "tags": [
     "subslide"
    ]
   },
   "source": [
    "\n",
    "## Kommentare als \"Um-Zu\"-Absätze\n",
    "\n",
    "- Beim Schreiben von Code können wir das \"Um-Zu\"-Muster verwenden, um die\n",
    "  Abstraktionsebenen zu kontrollieren\n",
    "- Wir können die \"Um-Zu\"-Absätze als Kommentare schreiben bevor wir den Code\n",
    "  schreiben\n",
    "- Meistens wird jeder Absatz zu einer Funktion"
   ]
  },
  {
   "cell_type": "code",
   "execution_count": null,
   "id": "e6cb70e1ae03c985",
   "metadata": {
    "slideshow": {
     "slide_type": "subslide"
    },
    "tags": [
     "keep",
     "subslide"
    ]
   },
   "outputs": [],
   "source": [
    "#include <string>"
   ]
  },
  {
   "cell_type": "code",
   "execution_count": null,
   "id": "a8659c7d44525d5e",
   "metadata": {
    "lang": "de",
    "tags": [
     "keep"
    ]
   },
   "outputs": [],
   "source": [
    "void processOrder(const std::string& orderID)\n",
    "{\n",
    "    // Hole die Bestelldetails anhand der `orderID`\n",
    "    // Validiere die Lagerverfügbarkeit für jeden Artikel in der Bestellung\n",
    "    // Aktualisiere den Lagerbestand bei erfolgreicher Validierung\n",
    "    // Erzeuge eine Lieferung für die Bestellung\n",
    "    // Benachrichtige den Kunden mit den Lieferdetails\n",
    "}"
   ]
  },
  {
   "cell_type": "markdown",
   "id": "0b15c37f2d02fbc2",
   "metadata": {
    "lang": "de",
    "slideshow": {
     "slide_type": "subslide"
    },
    "tags": [
     "subslide"
    ]
   },
   "source": [
    "\n",
    "## Funktionen als \"Um-Zu\"-Absätze\n",
    "\n",
    "Wir können die \"Um-Zu\"-Absätze auch gleich als Funktionsaufrufe schreiben:"
   ]
  },
  {
   "cell_type": "markdown",
   "id": "fbdc016358b69859",
   "metadata": {},
   "source": [
    "\n",
    "```cpp\n",
    "void processUserRegistration(\n",
    "    const std::string& username, const std::string& password,\n",
    "    const std::string& email\n",
    ")\n",
    "{\n",
    "    validateUserData(username, password, email);\n",
    "    auto user{createNewUser(username, password, email)};\n",
    "    sendConfirmationEmail(user);\n",
    "    logSuccessfulRegistration(user);\n",
    "}\n",
    "```"
   ]
  },
  {
   "cell_type": "markdown",
   "id": "702f82f566892aff",
   "metadata": {
    "lang": "de",
    "slideshow": {
     "slide_type": "subslide"
    },
    "tags": [
     "subslide"
    ]
   },
   "source": [
    "\n",
    "## Die Step-Down-Regel\n",
    "\n",
    "- Wir wollen, dass sich der Code wie eine Erzählung von oben nach unten liest\n",
    "- Auf jede Funktion sollten die Funktionen eine Abstraktionsebene darunter\n",
    "  folgen"
   ]
  },
  {
   "cell_type": "markdown",
   "id": "b16859d3fcdbda2b",
   "metadata": {
    "lang": "de",
    "slideshow": {
     "slide_type": "slide"
    },
    "tags": [
     "slide"
    ]
   },
   "source": [
    "\n",
    "## Mini-Workshop: Do one Thing\n",
    "\n",
    "In `code/starter_kits/salaries_sk` finden Sie eine Funktion\n",
    "`handle_money_stuff()`.\n",
    "\n",
    "Diese Funktion macht mehr als eine Sache.\n",
    "\n",
    "Teilen Sie sie in mehrere Funktionen auf, so dass jede nur eine Sache tut.\n",
    "Stellen Sie sicher, dass\n",
    "- jede Funktion ihre Aufgabe gut erfüllt und sich auf einer einzigen\n",
    "  Abstraktionsebene befindet,\n",
    "- alle Namen angemessen sind, und\n",
    "- der Code leicht zu verstehen ist.\n",
    "\n",
    "*Tipp:* Beginnen Sie damit, die Variablen gemäß den Kommentaren umzubenennen,\n",
    "um den Rest der Arbeit zu vereinfachen."
   ]
  }
 ],
 "metadata": {
  "kernelspec": {
   "display_name": "C++17",
   "language": "C++17",
   "name": "xcpp17"
  },
  "language_info": {
   "codemirror_mode": "text/x-c++src",
   "file_extension": ".cpp",
   "mimetype": "text/x-c++src",
   "name": "c++",
   "version": "17"
  }
 },
 "nbformat": 4,
 "nbformat_minor": 5
}
