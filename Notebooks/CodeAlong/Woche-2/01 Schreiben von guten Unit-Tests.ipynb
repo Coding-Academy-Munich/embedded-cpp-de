{
 "cells": [
  {
   "cell_type": "markdown",
   "id": "1dde31f7b627fc56",
   "metadata": {
    "lang": "de",
    "slideshow": {
     "slide_type": "slide"
    },
    "tags": [
     "slide"
    ]
   },
   "source": [
    "\n",
    "<img src=\"data:image/png;base64,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\"\n",
    "     style=\"display:block;margin:auto;width:5%\"/>\n",
    "<br>\n",
    "\n",
    "<div style=\"text-align:center; font-size:200%;\">\n",
    " <b>Schreiben von guten Unit-Tests</b>\n",
    "</div>\n",
    "<br/>\n",
    "<div style=\"text-align:center; font-size:120%;\">Dr. Matthias Hölzl</div>\n",
    "<br/>\n",
    "<div style=\"text-align:center;\">Coding-Akademie München</div>\n",
    "<br/>\n",
    "<!-- 01 Schreiben von guten Unit-Tests.ipynb -->\n",
    "<!-- slides/module_410_unit_testing/topic_165_writing_good_unit_tests.cpp -->"
   ]
  },
  {
   "cell_type": "markdown",
   "id": "bb43569e638566b4",
   "metadata": {
    "lang": "de",
    "slideshow": {
     "slide_type": "subslide"
    },
    "tags": [
     "subslide"
    ]
   },
   "source": [
    "\n",
    "## Mechanik von Unit-Tests\n",
    "\n",
    "Unit-Tests sollen\n",
    "- automatisiert sein: keine manuelle Interaktion\n",
    "- selbsttestend sein: Pass/Fail\n",
    "- feingranular sein\n",
    "- schnell sein\n",
    "- isoliert sein\n",
    "- zu jedem Zeitpunkt erfolgreich ausführbar sein"
   ]
  },
  {
   "cell_type": "markdown",
   "id": "6e0f0d6912a29191",
   "metadata": {
    "lang": "de",
    "slideshow": {
     "slide_type": "subslide"
    },
    "tags": [
     "subslide"
    ]
   },
   "source": [
    "\n",
    "## Einfache Struktur!\n",
    "\n",
    "<ul>\n",
    "  <li>Einfache, standardisierte Struktur<br>\n",
    "    <table style=\"display:inline;margin:20px 20px;\">\n",
    "    <tr><td style=\"text-align:left;width:60px;padding-left:15px;\">Arrange</td>\n",
    "        <td style=\"text-align:left;width:60px;padding-left:15px;border-left:1px solid\n",
    "        black;\">Given</td> <td\n",
    "        style=\"text-align:left;width:300px;padding-left:15px;border-left:1px solid\n",
    "        black;\">\n",
    "          Bereite das Test-Environment vor</td></tr>\n",
    "    <tr><td style=\"text-align:left;padding-left:15px;\">Act</td>\n",
    "        <td style=\"text-align:left;width:60px;padding-left:15px;border-left:1px solid\n",
    "        black;\">\n",
    "           When</td>\n",
    "        <td style=\"text-align:left;width:300px;padding-left:15px;border-left:1px\n",
    "        solid black;\">\n",
    "           Führe die getestete Aktion aus (falls vorhanden)</td></tr>\n",
    "    <tr><td style=\"text-align:left;padding-left:15px;\">Assert</td>\n",
    "        <td style=\"text-align:left;width:60px;padding-left:15px;border-left:1px solid\n",
    "        black;\">\n",
    "           Then</td>\n",
    "        <td style=\"text-align:left;width:300px;padding-left:15px;border-left:1px\n",
    "        solid black;\">\n",
    "           Überprüfe die Ergebnisse</td></tr>\n",
    "    </table>\n",
    "  </li>\n",
    "  <li>Wenig Code\n",
    "    <ul>\n",
    "      <li>Wenig Boilerplate</li>\n",
    "      <li>Factories, etc. für Tests</li>\n",
    "    </ul>\n",
    "  </li>\n",
    "</ul>"
   ]
  },
  {
   "cell_type": "code",
   "execution_count": null,
   "id": "0bf3e7003a28b76b",
   "metadata": {
    "slideshow": {
     "slide_type": "subslide"
    },
    "tags": [
     "subslide",
     "keep"
    ]
   },
   "outputs": [],
   "source": [
    "#include \"check.h\""
   ]
  },
  {
   "cell_type": "code",
   "execution_count": null,
   "id": "42991d571ff878d8",
   "metadata": {
    "slideshow": {
     "slide_type": "subslide"
    },
    "tags": [
     "subslide"
    ]
   },
   "outputs": [],
   "source": []
  },
  {
   "cell_type": "code",
   "execution_count": null,
   "id": "22e817ed9f51c450",
   "metadata": {},
   "outputs": [],
   "source": []
  },
  {
   "cell_type": "markdown",
   "id": "28b6d7b7cf128c97",
   "metadata": {
    "lang": "de",
    "slideshow": {
     "slide_type": "subslide"
    },
    "tags": [
     "subslide"
    ]
   },
   "source": [
    "\n",
    "- Wie viele Tests wollen wir haben?\n",
    "- Wie viele Werte wollen wir überprüfen?"
   ]
  },
  {
   "cell_type": "markdown",
   "id": "e0bcc6a38135448f",
   "metadata": {
    "lang": "de",
    "slideshow": {
     "slide_type": "subslide"
    },
    "tags": [
     "subslide"
    ]
   },
   "source": [
    "\n",
    "## Versuch: Erschöpfendes Testen\n",
    "\n",
    "- Wir schreiben erschöpfende Tests, d.h. Tests, die alle möglichen Eingaben eines\n",
    "  Programms abdecken"
   ]
  },
  {
   "cell_type": "markdown",
   "id": "b7793ebb941374a1",
   "metadata": {
    "lang": "de",
    "slideshow": {
     "slide_type": "subslide"
    },
    "tags": [
     "subslide"
    ]
   },
   "source": [
    "\n",
    "- Erschöpfendes Testen ist nicht möglich\n",
    "- Beispiel Passworteingabe:\n",
    "  - Angenommen, Passwörter mit maximal 20 Zeichen sind zulässig,\n",
    "    80 Eingabezeichen sind erlaubt (große und kleine Buchstaben, Sonderzeichen)\n",
    "  - Das ergibt $80^{20}$ = 115.292.150.460.684.697.600.000.000.000.000.000.000\n",
    "    mögliche Eingaben\n",
    "  - Bei 10ns für einen Test würde man ca. $10^{24}$ Jahre brauchen, um alle Eingaben\n",
    "    zu testen\n",
    "  - Das Universum ist ungefähr $1.4 \\times 10^{10}$ Jahre alt"
   ]
  },
  {
   "cell_type": "markdown",
   "id": "c8b1528062f74783",
   "metadata": {
    "lang": "de",
    "slideshow": {
     "slide_type": "subslide"
    },
    "tags": [
     "subslide"
    ]
   },
   "source": [
    "\n",
    "## Effektivität und Effizienz von Tests\n",
    "\n",
    "- Unit-Tests sollen effektiv und effizient sein\n",
    "  - Effektiv: Die Tests sollen so viele Fehler wie möglich finden\n",
    "  - Effizient: Wir wollen die größte Anzahl an Fehlern mit der geringsten Anzahl\n",
    "    an möglichst einfachen Tests finden\n",
    "- Effizienz ist wichtig, da Tests selbst Code sind, der gewartet werden muss und\n",
    "  Fehler enthalten kann"
   ]
  },
  {
   "cell_type": "markdown",
   "id": "e38384cdf22a52db",
   "metadata": {
    "lang": "de",
    "slideshow": {
     "slide_type": "subslide"
    },
    "tags": [
     "subslide"
    ]
   },
   "source": [
    "\n",
    "## Wie schreibt man gute Unit-Tests?\n",
    "\n",
    "- Teste beobachtbares Verhalten, nicht Implementierung\n",
    "- Bevorzuge Tests von Werten gegenüber Tests von Zuständen\n",
    "- Bevorzuge Tests von Zuständen gegenüber Tests von Interaktion\n",
    "- Verwende Test-Doubles dann (aber auch nur dann), wenn eine Abhängigkeit\n",
    "  \"eine Rakete abfeuert\"\n",
    "- (Diese Regeln setzen voraus, dass der Code solche Tests erlaubt)"
   ]
  },
  {
   "cell_type": "markdown",
   "id": "a753ed99ded7cfa4",
   "metadata": {
    "lang": "de",
    "slideshow": {
     "slide_type": "subslide"
    },
    "tags": [
     "subslide"
    ]
   },
   "source": [
    "\n",
    "### Warum Tests von beobachtbarem Verhalten, nicht Implementierung?\n",
    "\n",
    "Beobachtbares Verhalten\n",
    "- ist leichter zu verstehen\n",
    "- ist stabiler als Implementierung\n",
    "- entspricht eher dem Kundennutzen"
   ]
  },
  {
   "cell_type": "markdown",
   "id": "717a3a5a91936e57",
   "metadata": {
    "lang": "de",
    "slideshow": {
     "slide_type": "subslide"
    },
    "tags": [
     "subslide"
    ]
   },
   "source": [
    "\n",
    "## Teste beobachtbares Verhalten, nicht Implementierung\n",
    "\n",
    "- Abstrahiere so weit wie möglich von Implementierungsdetails\n",
    "  - Auch auf Unit-Test Ebene\n",
    "- Oft testen sich verschiedene Methoden gegenseitig\n",
    "- Dies erfordert manchmal die Einführung von zusätzlichen Methoden\n",
    "    - Diese Methoden sollen für Anwender sinnvoll sein, nicht nur für Tests\n",
    "    - Oft \"abstrakter Zustand\" von Objekten\n",
    "    - **Nicht:** konkreten Zustand öffentlich machen"
   ]
  },
  {
   "cell_type": "code",
   "execution_count": null,
   "id": "206732a63c3f46cb",
   "metadata": {
    "slideshow": {
     "slide_type": "subslide"
    },
    "tags": [
     "subslide",
     "keep"
    ]
   },
   "outputs": [],
   "source": [
    "#include <vector>"
   ]
  },
  {
   "cell_type": "code",
   "execution_count": null,
   "id": "b1c6f19b79379fc5",
   "metadata": {
    "tags": [
     "keep"
    ]
   },
   "outputs": [],
   "source": [
    "class Stack\n",
    "{\n",
    "private:\n",
    "    std::vector<int> _items;\n",
    "\n",
    "public:\n",
    "    void push(int new_item) { _items.push_back(new_item); }\n",
    "\n",
    "    int pop();\n",
    "\n",
    "    // Good extension: useful, doesn't expose implementation\n",
    "    int size() const { return _items.size(); }\n",
    "\n",
    "    // Bad extension: exposes implementation\n",
    "    std::vector<int>& get_items() { return _items; }\n",
    "};"
   ]
  },
  {
   "cell_type": "code",
   "execution_count": null,
   "id": "b6c42efa932b8383",
   "metadata": {
    "slideshow": {
     "slide_type": "subslide"
    },
    "tags": [
     "subslide",
     "keep"
    ]
   },
   "outputs": [],
   "source": [
    "int Stack::pop()\n",
    "{\n",
    "    if (_items.empty())\n",
    "    {\n",
    "        throw std::out_of_range(\"Stack is empty\");\n",
    "    }\n",
    "    int val = _items.back();\n",
    "    _items.pop_back();\n",
    "    return val;\n",
    "}"
   ]
  },
  {
   "cell_type": "markdown",
   "id": "9ba6d63758b20222",
   "metadata": {
    "lang": "de",
    "slideshow": {
     "slide_type": "subslide"
    },
    "tags": [
     "subslide"
    ]
   },
   "source": [
    "\n",
    "### Tests, wenn nur `push()` und `pop()` verfügbar sind"
   ]
  },
  {
   "cell_type": "code",
   "execution_count": null,
   "id": "623602d230ea1206",
   "metadata": {
    "slideshow": {
     "slide_type": "subslide"
    },
    "tags": [
     "subslide"
    ]
   },
   "outputs": [],
   "source": []
  },
  {
   "cell_type": "code",
   "execution_count": null,
   "id": "bfad67665191db58",
   "metadata": {},
   "outputs": [],
   "source": []
  },
  {
   "cell_type": "code",
   "execution_count": null,
   "id": "d1be20d5d8686efd",
   "metadata": {
    "slideshow": {
     "slide_type": "subslide"
    },
    "tags": [
     "subslide"
    ]
   },
   "outputs": [],
   "source": []
  },
  {
   "cell_type": "code",
   "execution_count": null,
   "id": "12b25f4477eaec88",
   "metadata": {},
   "outputs": [],
   "source": []
  },
  {
   "cell_type": "code",
   "execution_count": null,
   "id": "33fa34095d2280dc",
   "metadata": {
    "slideshow": {
     "slide_type": "subslide"
    },
    "tags": [
     "subslide"
    ]
   },
   "outputs": [],
   "source": []
  },
  {
   "cell_type": "code",
   "execution_count": null,
   "id": "5618e73dfc4e1fb8",
   "metadata": {},
   "outputs": [],
   "source": []
  },
  {
   "cell_type": "markdown",
   "id": "23549d9f00aef65a",
   "metadata": {
    "lang": "de",
    "slideshow": {
     "slide_type": "subslide"
    },
    "tags": [
     "subslide"
    ]
   },
   "source": [
    "\n",
    "## Werte > Zustand > Interaktion\n",
    "\n",
    "- Verständlicher\n",
    "- Leichter zu testen\n",
    "- Oft stabiler gegenüber Refactorings\n",
    "\n",
    "Ausnahme: Testen von Protokollen"
   ]
  },
  {
   "cell_type": "markdown",
   "id": "950cc9b75ff080fe",
   "metadata": {
    "lang": "de",
    "slideshow": {
     "slide_type": "subslide"
    },
    "tags": [
     "subslide"
    ]
   },
   "source": [
    "\n",
    "### Funktionen/Werte"
   ]
  },
  {
   "cell_type": "code",
   "execution_count": null,
   "id": "14e892ec85ea960f",
   "metadata": {
    "tags": [
     "keep"
    ]
   },
   "outputs": [],
   "source": [
    "int add(int x, int y) { return x + y; }"
   ]
  },
  {
   "cell_type": "code",
   "execution_count": null,
   "id": "a27f603f0bb3ed38",
   "metadata": {},
   "outputs": [],
   "source": []
  },
  {
   "cell_type": "markdown",
   "id": "bbab80f4677e09a3",
   "metadata": {
    "lang": "de",
    "slideshow": {
     "slide_type": "subslide"
    },
    "tags": [
     "subslide"
    ]
   },
   "source": [
    "\n",
    "### Zustand"
   ]
  },
  {
   "cell_type": "code",
   "execution_count": null,
   "id": "f856638603f23d85",
   "metadata": {
    "tags": [
     "keep"
    ]
   },
   "outputs": [],
   "source": [
    "class Adder\n",
    "{\n",
    "public:\n",
    "    void set_x(int x) { x_ = x; }\n",
    "    void set_y(int y) { y_ = y; }\n",
    "    void add() { result_ = x_ + y_; }\n",
    "    int get_result() const { return result_; }\n",
    "\n",
    "private:\n",
    "    int x_{0};\n",
    "    int y_{0};\n",
    "    int result_{0};\n",
    "};"
   ]
  },
  {
   "cell_type": "code",
   "execution_count": null,
   "id": "ada6fac529ea33f4",
   "metadata": {
    "slideshow": {
     "slide_type": "subslide"
    },
    "tags": [
     "subslide"
    ]
   },
   "outputs": [],
   "source": []
  },
  {
   "cell_type": "code",
   "execution_count": null,
   "id": "eb4065b87ccfd86f",
   "metadata": {},
   "outputs": [],
   "source": []
  },
  {
   "cell_type": "code",
   "execution_count": null,
   "id": "80e678114bd7b083",
   "metadata": {},
   "outputs": [],
   "source": []
  },
  {
   "cell_type": "code",
   "execution_count": null,
   "id": "091ae1379254b3f7",
   "metadata": {},
   "outputs": [],
   "source": []
  },
  {
   "cell_type": "markdown",
   "id": "be5b19264462fe74",
   "metadata": {
    "lang": "de",
    "slideshow": {
     "slide_type": "subslide"
    },
    "tags": [
     "subslide"
    ]
   },
   "source": [
    "\n",
    "### Seiteneffekt/Interaktion\n",
    "\n",
    "- Mit Interface"
   ]
  },
  {
   "cell_type": "code",
   "execution_count": null,
   "id": "3623cc5ebdaab39f",
   "metadata": {
    "tags": [
     "keep"
    ]
   },
   "outputs": [],
   "source": [
    "class AbstractAdder\n",
    "{\n",
    "public:\n",
    "    virtual void add(int x, int y) = 0;\n",
    "};"
   ]
  },
  {
   "cell_type": "code",
   "execution_count": null,
   "id": "cba40db2d8075f7c",
   "metadata": {
    "tags": [
     "keep"
    ]
   },
   "outputs": [],
   "source": [
    "class InteractionAdder\n",
    "{\n",
    "public:\n",
    "    InteractionAdder(AbstractAdder& adder) : adder_{adder} {}\n",
    "\n",
    "    void add(int x, int y) { adder_.add(x, y); }\n",
    "\n",
    "private:\n",
    "    AbstractAdder& adder_;\n",
    "};"
   ]
  },
  {
   "cell_type": "markdown",
   "id": "b8506f203b1425c0",
   "metadata": {
    "lang": "de",
    "slideshow": {
     "slide_type": "subslide"
    },
    "tags": [
     "subslide"
    ]
   },
   "source": [
    "\n",
    "Test benötigt Mock/Spy"
   ]
  },
  {
   "cell_type": "code",
   "execution_count": null,
   "id": "bddd7ccdab7da19e",
   "metadata": {},
   "outputs": [],
   "source": []
  },
  {
   "cell_type": "code",
   "execution_count": null,
   "id": "1fb9818e41cb5208",
   "metadata": {},
   "outputs": [],
   "source": []
  },
  {
   "cell_type": "code",
   "execution_count": null,
   "id": "2e8151cc6e39cbc5",
   "metadata": {
    "slideshow": {
     "slide_type": "subslide"
    },
    "tags": [
     "subslide"
    ]
   },
   "outputs": [],
   "source": []
  },
  {
   "cell_type": "code",
   "execution_count": null,
   "id": "d6a6f1093628fdf1",
   "metadata": {},
   "outputs": [],
   "source": []
  },
  {
   "cell_type": "code",
   "execution_count": null,
   "id": "bcd7d71c07774e7c",
   "metadata": {},
   "outputs": [],
   "source": []
  },
  {
   "cell_type": "code",
   "execution_count": null,
   "id": "03174fea7be51b3e",
   "metadata": {},
   "outputs": [],
   "source": []
  },
  {
   "cell_type": "code",
   "execution_count": null,
   "id": "1716d30dbe3cd74f",
   "metadata": {},
   "outputs": [],
   "source": []
  },
  {
   "cell_type": "markdown",
   "id": "bf7a6a104e1185f5",
   "metadata": {
    "lang": "de",
    "slideshow": {
     "slide_type": "subslide"
    },
    "tags": [
     "subslide"
    ]
   },
   "source": [
    "\n",
    "### Seiteneffekt/Interaktion\n",
    "\n",
    "- Ohne Interface"
   ]
  },
  {
   "cell_type": "code",
   "execution_count": null,
   "id": "785d96b302c68b48",
   "metadata": {
    "tags": [
     "keep"
    ]
   },
   "outputs": [],
   "source": [
    "void add_and_print(int x, int y) { std::cout << x + y << std::endl; }"
   ]
  },
  {
   "cell_type": "markdown",
   "id": "24c38db451750c2e",
   "metadata": {
    "lang": "de"
   },
   "source": [
    "\n",
    "- Siehe `code/completed/test_examples/fun_state_interact_test.cpp` für\n",
    "  den Test-Code"
   ]
  },
  {
   "cell_type": "markdown",
   "id": "5127f0d5cf6d3222",
   "metadata": {
    "lang": "de",
    "slideshow": {
     "slide_type": "subslide"
    },
    "tags": [
     "subslide"
    ]
   },
   "source": [
    "\n",
    "## Wie schreibt man testbaren Code?\n",
    "\n",
    "- Umwandeln von weniger testbarem in besser testbaren Stil\n",
    "  - Beobachtbarkeit (`state_machine.h`)\n",
    "  - Keine globalen oder statischen Daten\n",
    "  - Unveränderliche Datenstrukturen (Werte)\n",
    "- Gutes objektorientiertes Design\n",
    "  - Hohe Kohäsion\n",
    "  - Geringe Kopplung, Management von Abhängigkeiten\n",
    "- Etc."
   ]
  },
  {
   "cell_type": "markdown",
   "id": "d0d4180493c09270",
   "metadata": {
    "lang": "de",
    "slideshow": {
     "slide_type": "subslide"
    },
    "tags": [
     "subslide"
    ]
   },
   "source": [
    "\n",
    "## Prozess\n",
    "\n",
    "- Iteratives Vorgehen\n",
    "  - Kleine Schritte mit Tests\n",
    "- Test-Driven Development (TDD)\n",
    "  - Schreiben von Tests vor Code"
   ]
  },
  {
   "cell_type": "markdown",
   "id": "92b4e1534058914b",
   "metadata": {
    "lang": "de",
    "slideshow": {
     "slide_type": "slide"
    },
    "tags": [
     "slide"
    ]
   },
   "source": [
    "\n",
    "## Mini-Workshop: Bessere Testbarkeit\n",
    "\n",
    "- Wie können Sie Tests für die folgenden Funktionen/Klassen schreiben?\n",
    "- Wie können Sie die folgenden Funktionen/Klassen verbessern, um sie besser\n",
    "  testbar zu machen?\n",
    "- Was für Nachteile ergeben sich dadurch?"
   ]
  },
  {
   "cell_type": "code",
   "execution_count": null,
   "id": "a0ee650c342d197c",
   "metadata": {
    "slideshow": {
     "slide_type": "subslide"
    },
    "tags": [
     "keep",
     "subslide"
    ]
   },
   "outputs": [],
   "source": [
    "#include <iostream>"
   ]
  },
  {
   "cell_type": "code",
   "execution_count": null,
   "id": "dce951bfa47053b5",
   "metadata": {
    "tags": [
     "keep"
    ]
   },
   "outputs": [],
   "source": [
    "int count()\n",
    "{\n",
    "    static int c = 0;\n",
    "    return c++;\n",
    "}"
   ]
  },
  {
   "cell_type": "code",
   "execution_count": null,
   "id": "6b7f9c15379b60cb",
   "metadata": {
    "tags": [
     "keep"
    ]
   },
   "outputs": [],
   "source": [
    "for (int i = 0; i < 3; ++i)\n",
    "{\n",
    "    std::cout << count() << std::endl;\n",
    "}"
   ]
  },
  {
   "cell_type": "code",
   "execution_count": null,
   "id": "3222f85075b989cd",
   "metadata": {},
   "outputs": [],
   "source": []
  },
  {
   "cell_type": "code",
   "execution_count": null,
   "id": "0bc054bd11f6c973",
   "metadata": {},
   "outputs": [],
   "source": []
  },
  {
   "cell_type": "code",
   "execution_count": null,
   "id": "c8e06d91a65beb23",
   "metadata": {},
   "outputs": [],
   "source": []
  },
  {
   "cell_type": "code",
   "execution_count": null,
   "id": "71bb1b14cb794168",
   "metadata": {
    "slideshow": {
     "slide_type": "subslide"
    },
    "tags": [
     "keep",
     "subslide"
    ]
   },
   "outputs": [],
   "source": [
    "enum class State\n",
    "{\n",
    "    OFF,\n",
    "    ON\n",
    "};"
   ]
  },
  {
   "cell_type": "code",
   "execution_count": null,
   "id": "6903253f6be16717",
   "metadata": {
    "tags": [
     "keep"
    ]
   },
   "outputs": [],
   "source": [
    "class Switch\n",
    "{\n",
    "public:\n",
    "    void toggle()\n",
    "    {\n",
    "        state_ = state_ == State::OFF ? State::ON : State::OFF;\n",
    "        std::cout << \"Switch is \" << (state_ == State::OFF ? \"OFF\" : \"ON\") << std::endl;\n",
    "    }\n",
    "\n",
    "private:\n",
    "    State state_{State::OFF};\n",
    "};"
   ]
  },
  {
   "cell_type": "code",
   "execution_count": null,
   "id": "a13b72ec670b9c5d",
   "metadata": {
    "tags": [
     "keep"
    ]
   },
   "outputs": [],
   "source": [
    "Switch s;"
   ]
  },
  {
   "cell_type": "code",
   "execution_count": null,
   "id": "3a6886554cb8964b",
   "metadata": {
    "tags": [
     "keep"
    ]
   },
   "outputs": [],
   "source": [
    "for (int i = 0; i < 3; ++i)\n",
    "{\n",
    "    s.toggle();\n",
    "}"
   ]
  },
  {
   "cell_type": "code",
   "execution_count": null,
   "id": "76e6b2bbe9f5127f",
   "metadata": {},
   "outputs": [],
   "source": []
  },
  {
   "cell_type": "code",
   "execution_count": null,
   "id": "c6ae181eadec67aa",
   "metadata": {},
   "outputs": [],
   "source": []
  },
  {
   "cell_type": "code",
   "execution_count": null,
   "id": "59dd5ad51eca327d",
   "metadata": {},
   "outputs": [],
   "source": []
  },
  {
   "cell_type": "code",
   "execution_count": null,
   "id": "422e38cfd356af49",
   "metadata": {
    "lines_to_next_cell": 2
   },
   "outputs": [],
   "source": []
  },
  {
   "cell_type": "code",
   "execution_count": null,
   "id": "d228d0fb65cccb43",
   "metadata": {
    "tags": [
     "keep"
    ]
   },
   "outputs": [],
   "source": [
    "void print_fib(int n)\n",
    "{\n",
    "    int a{0};\n",
    "    int b{1};\n",
    "    for (int i{0}; i < n; ++i)\n",
    "    {\n",
    "        std::cout << \"fib(\" << i << \") = \" << b << std::endl;\n",
    "        int tmp{a};\n",
    "        a = b;\n",
    "        b = tmp + b;\n",
    "    }\n",
    "}"
   ]
  },
  {
   "cell_type": "code",
   "execution_count": null,
   "id": "f17f97548a053fb6",
   "metadata": {
    "tags": [
     "keep"
    ]
   },
   "outputs": [],
   "source": [
    "print_fib(5);"
   ]
  },
  {
   "cell_type": "code",
   "execution_count": null,
   "id": "3d1e81b819727a6d",
   "metadata": {},
   "outputs": [],
   "source": []
  },
  {
   "cell_type": "code",
   "execution_count": null,
   "id": "c4e0577006b9feca",
   "metadata": {},
   "outputs": [],
   "source": []
  },
  {
   "cell_type": "code",
   "execution_count": null,
   "id": "b768c6cfa6ade357",
   "metadata": {},
   "outputs": [],
   "source": []
  },
  {
   "cell_type": "code",
   "execution_count": null,
   "id": "089a0caa6d303578",
   "metadata": {},
   "outputs": [],
   "source": []
  },
  {
   "cell_type": "code",
   "execution_count": null,
   "id": "6b4e03423667dbb7",
   "metadata": {},
   "outputs": [],
   "source": []
  }
 ],
 "metadata": {
  "kernelspec": {
   "display_name": "C++17",
   "language": "C++17",
   "name": "xcpp17"
  },
  "language_info": {
   "codemirror_mode": "text/x-c++src",
   "file_extension": ".cpp",
   "mimetype": "text/x-c++src",
   "name": "c++",
   "version": "17"
  }
 },
 "nbformat": 4,
 "nbformat_minor": 5
}
