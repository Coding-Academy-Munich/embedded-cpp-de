{
 "cells": [
  {
   "cell_type": "markdown",
   "id": "33ab821ca81e0304",
   "metadata": {
    "lang": "de",
    "slideshow": {
     "slide_type": "slide"
    },
    "tags": [
     "slide"
    ]
   },
   "source": [
    "\n",
    "<img src=\"data:image/png;base64,iVBORw0KGgoAAAANSUhEUgAAAEAAAABACAYAAACqaXHeAAAABHNCSVQICAgIfAhkiAAAAAlwSFlzAAACkwAAApMBv+Bu1wAAABl0RVh0U29mdHdhcmUAd3d3Lmlua3NjYXBlLm9yZ5vuPBoAAAumSURBVHic1Vt7WFRlGv99ZwYGZoABVGCQS2gqqVikbImauanrqm31aNaz1SYhdtu85LqumTjenloto9ZWS+yiWZZPW7aaaWghXjC8cF0uclHuAwwwA3Ofc779A0HGGZgzZway318z53u/93vP73zn/d73O99L8Ctg6QcF8yjBK5TQSYRCSihKAOw3e/vv+iQpxjiYtpDBHOy5vXljRCzZAWBuHyK1lNB16Usm7AchdDBsGhQCXvx3fpBVjDUAVgLw5tElk+GY5R+8MD5vgE0bWAKUSsrUDs9/mlCyHUCIi905gB6ghFmdnhKnGgj7gAEkYOkHhTMo4dIATHBTVTuAN32Mvmn/WjbK5AHTbOBxApI+KogUW7mtAHnGw6rLALJqz9K4I55U6jECntmXJ/M1YDUlZA0AH0/pdYAMgFuxZ+k9RZ5Q5j4BlJKlHxYsBPA2JYh03yResFBCd1nF3IZPkuLb3VHkFgEpHxYmAFwagER39LiBVoBuag8s3Xlo0SJWiAJBBDy393K42CreQAmWAGCE6PAsaC5AVuxZOiHT1Z4uEbByxznfTj+/ZQDWAfB3dbCBBz1CCZalp9xdxbcHbwKSd+c9zDDkXQAxgmwbPJgpobs5RvL6R8mxHc6EnRKQnJ4bTyiTRige8Ix9g4Z6SrAxoi4uXakkXF9CfRLw8s7iISaJOZVQ8jIAkbvWyKVi3BXuhzvDZAgLlCDIzwsy7y61OjOLTqMV9W0mVDcbUFLfiYZ2j8U8OV3+Ie6co0aHBKR8WDAfoPsBBLozMiHAvTFyPBAbjNhwPxAXPE5tqxHnr7bhdHErTJY+HyBfcAC2D6+Pe+3W2WBn0o2l7Qz4JS19YkKUPxber0CYXOKOGnQarTie34KMghawnHsJIiVEmZ4St7H3NQcE5GcDuE/oIFKJCM9MG46JMXKhKhyiRm3Ex5k1qFUL2y4ws2zxycJyU217+8M4kFLbfd3m3V6yJy+GgGwXaqQiSIK/zx+BkaEyoSr6hFwqRuLoYKg0JjS08fcPlEJ18Vpt3vH8snitwaQASDUKvrvQ3S7uLUwoGSnUwOhhvlgxJwYyH7f9ZZ/wEhEs/X0UvvStx6kitTNxY7Vak32qqDzBwrJTeq5yuLO3kA0BDEfFHON6cBgWKMHyOXcM6M13gxDgicRwdJpY/FLuOA3QGU05R/NKwzR644MOmm2MFDsQcAk+Xgxenh0NPx+3VfEGAbB4egRatGZUNul7rrMsV5lZUtVW0aRO4KvL7Tj+icRwhLrp6YVAzBAkPRgBLzEDULQV1TWe/jjrYnRFk3qiS3rcMWKUQobE0UEu99MZWZSrdGjVWWC2cpD7eiFqqA/Cg1zbRhjq741RIZKi1w6dVRjMVkGRqlsELEgIcymbqmzS47tLKpTU6cBR+zU9VC7BrAlDMXVMEBgnUVNJfac2Jf10+5mShnEumm0DwQSMVsgwIlTKS5bjKL7KbsBPRWr0F8qoNCZ8llWHs6VteH5mFIJlXnYyzVqzZdt/CyveOnolFkCAMOtvQrAPmBobzEuOoxS7M6pxysnN90ZVkx5vHq6AusPcc81o4egXZ6sropZ9wd24eY9A0AwQiwji7+BH/rc5KuRe17o8RrvOgvdPXMfaR0biYlWb6s87T4mvNWsFxyl9QRABI0KkkIidT57GdhNOFLQIGQIAUNmkK/rd+iPi3OvNYwQrcQJhBPB894/lNoMTkMBQioaL12orc6/XJ4I69rNiEYNRYV2zsLjOPiDy8RIhJsQfFiuHclXfM1AQAQoe6z7LUeRVuzz19TXq9pyTRRWTbMJXBwgJ8MH/ti8AADBP7cWti8r4yCDkbHkEje0GKF76vE89gggIdOCdb0WjxgS9ifdGLdUYjdnHckujOgym6f0JMoTAz0cMP5+bNvjf+N1htEDEMJB6iyCTdN0aIUCAb1e71mCx0yeIAImX8/e/XWc/mCNYWbY4o7DcUtOqmcxHfmLMUPyy5U821zR7/wIAiPzrQUyMGYpvV83saQuV+/a0i576yC7+GLAAnjgJkSioKq/katnFopIh1C8I8B78cBoQSACfLSq5rE/VlvrmlvM/Zl2IN1st0wAAGjUgEuVAPiQcIvHw/vReqmqBPHkfwgKlKH17YddYyfsAdL0CjRoD5Mn7EH/HEPy8fh5UGgNGv3oIABxGn4IIaOMxvRWBEsh8RNAZb/oBnd6Q8/3pc6Ht2g77uJ1lE9DapIe3JBMBwZNAiMNdFY5SaA0W+PnctKHDaOlxglaWg9bAQWeyAgAodfzud0MQAY08dmwZQjAhKgDny9rAclzl6ZzLreXXa52lqVKYTdOhbmyA1D8XUr9E9LFx26Q1YuzqrwHAbgUAgMKaNoxd/TUs1v5nqyACKnrl4P1hXnwI+8nxy+fOXMyfzFE6gvcAlCqg0yqg7yhSREeIG3SsXSBkZTmH6383jBa23/ZuCMoFqpr0vPxASIC3aMqdftM4SgURfXdMyLiKnU+P+eqlKaqwAInTPTAhEESAlaW4co1fkLMlaQYem+J67hIxLACHNz0BX4kYj0+NDS3d8Xjw1kfHVXiJGY+eEhGcDWaVtvIbgBAcSl2IlQvu4/1hZPLYCJx/NwnRoTe31gOkEvLaovtHFv/zUebJiYoSITY7tE9ox6sNOpSr+PkCEUOw44XZyH4vGXMSRkIscjzs2OhhSH91PrLeWYyIYY6zzZGKIK8vVs2NzVw7Szte4Vct1P5u2DyT53fnzeEYcoxnXxoVJCpct+CuOOLKNy8ArR0GnCuqRXWTBnqTBYpgP0wcrUBs5FCX9FisHJLeOVp04FKjAgzDb4OCYhcOLnmp+68g52SxsEU/nsumdarmOIVsPpL/GO9S/2B/X8y/f5SQoW1Q2dCG/2QWjoOJbYNUehoyeSJcvCeXhDlKGy8VFlfklpT1pKkrdp3AlPGRLj89d2GysHh222EYugKeIOh1D0BvqESAvBUS30l89fD1AYaahsbMfd8c9c8tLpvSO0fvNJjxSOpXaNbw8weeAKXA4u2HcaGk7pYWbgS0bZPQqsoBa6nho8uGAI4h1lvH6ujszDp4NEP9Q1b2dIvV6jA8LatVY87az9EyCCRwlGLZ+z/g4E/9nJJj2QS0NodCqz4PSnW3tvb+Y0MAJbSi+7eFtZb8kHU+/+D3GdM6dJ0Rzgy7fLUB01Z+ior6Nl43IgQGkxWLNn+NnYdz+Ih7w2SajJYGHXTabODGniyD8t5Cdu47afeVo4VlFZKL+cUPUlCXP/bJZRLsXj4PT85wa7veDpevNmDx9u9QUNUkTAFhShAQaAbjPxeHnu15d+zXr1lbJoFyZ+HmAYk5CSPx9vOzMDZ6mDtq0KzRY9uX5/DuNxecJjZOQbABP6Zusr3kCDM3zgPIZ3DziAxDCB6bGouUufGYee8IiFz48nylvBGfnshD+rEr0Bn57S71Aw7ANkzl1kGp7P+ITA/+oAwGx2wAhUcOSYUEyvBQfAymxUUhNnIIokLkCPL3ASEErVoDWrR6FFY14dLVBpy8cg1ltR7LfXJAsRwnU887anT+SGYp7wFl0gD0u1l5G6IewFpkrN8P9F19wn9Ozt74MLjfxEFJA0Dfg8FnK86ucf+gpA0eV3qjXfQiKN2M2/KoLI6AIctwYr3nj8raYJYyHJTZANwuh6VxBQyzAideP+1qR/fqBR7alACGpoGSX+u4vBqEbEbgmJ04NIjH5W1BCWZtWghK3gIQ5b4+XrCAYBeodyoy/qFxR5HnaoZmb5eB068GBqFkhsUK/JR6m5TM3IrZWyLB0a0A9XzRFCWrcHL97Vk0ZYeHNs4AYdIA6n7ZHCFvQixPw7Flt3/ZnA2USgZnmKcBCCycJAfAsH/DCaXADMg5Bqd2eN4bQTCZ1wCEb+nszxBhBY6n/rZLZ+0wY/MYiGjfxdMEtaBY5yx89SQGl4BudGWbrwCYBEAKkGIAn8HK7sLPykEtn/8/zE19fO7n0IAAAAAASUVORK5CYII=\"\n",
    "     style=\"display:block;margin:auto;width:5%\"/>\n",
    "<br>\n",
    "\n",
    "<div style=\"text-align:center; font-size:200%;\">\n",
    " <b>GoF: Observer Pattern</b>\n",
    "</div>\n",
    "<br/>\n",
    "<div style=\"text-align:center; font-size:120%;\">Dr. Matthias Hölzl</div>\n",
    "<br/>\n",
    "<div style=\"text-align:center;\">Coding-Akademie München</div>\n",
    "<br/>\n",
    "<!-- 06 GoF Observer Pattern.ipynb -->\n",
    "<!-- slides/module_450_design_patterns/topic_240_observer.cpp -->"
   ]
  },
  {
   "cell_type": "markdown",
   "id": "a5ef45de3fcbfabe",
   "metadata": {
    "lang": "de",
    "slideshow": {
     "slide_type": "slide"
    },
    "tags": [
     "slide"
    ]
   },
   "source": [
    "\n",
    "## Observer\n",
    "\n",
    "### Zweck\n",
    "\n",
    "- 1:n Beziehung zwischen Objekten\n",
    "- Automatische Benachrichtigung aller abhängigen Objekte bei Zustandsänderung\n",
    "\n",
    "### Motivation\n",
    "\n",
    "- Konsistenz zwischen zusammenhängenden Objekten erhalten\n",
    "- Dabei aber lose Kopplung erhalten\n",
    "- Ein *Subject* kann beliebig viele *Observers* haben\n",
    "- *Observer* werden automatisch über Änderungen am *Subject* benachrichtigt"
   ]
  },
  {
   "cell_type": "markdown",
   "id": "3fbf00da8a2ee929",
   "metadata": {
    "lang": "de",
    "slideshow": {
     "slide_type": "subslide"
    },
    "tags": [
     "subslide"
    ]
   },
   "source": [
    "\n",
    "### Beispiel: Aktienkurse\n",
    "\n",
    "- Aktienkurse ändern sich ständig\n",
    "- Viele verschiedene Anwendungen wollen über Änderungen informiert werden\n",
    "- Anwendungen sollen unabhängig voneinander sein\n",
    "- Die Anwendung soll nicht über konkrete Applikationen Bescheid wissen"
   ]
  },
  {
   "cell_type": "markdown",
   "id": "396f2bc5ca18769a",
   "metadata": {
    "lang": "de",
    "slideshow": {
     "slide_type": "subslide"
    },
    "tags": [
     "subslide"
    ]
   },
   "source": [
    "\n",
    "### Klassendiagramm\n",
    "\n",
    "<img src=\"img/stock_example.svg\"\n",
    "     style=\"display:block;margin:auto;width:90%\"/>"
   ]
  },
  {
   "cell_type": "code",
   "execution_count": null,
   "id": "09b243dea6196091",
   "metadata": {
    "slideshow": {
     "slide_type": "subslide"
    },
    "tags": [
     "keep",
     "subslide"
    ]
   },
   "outputs": [],
   "source": [
    "#include <cmath>\n",
    "#include <iostream>\n",
    "#include <memory>\n",
    "#include <random>\n",
    "#include <string>\n",
    "#include <unordered_map>\n",
    "#include <vector>"
   ]
  },
  {
   "cell_type": "code",
   "execution_count": null,
   "id": "310111b99e2111ea",
   "metadata": {
    "slideshow": {
     "slide_type": "subslide"
    },
    "tags": [
     "keep",
     "subslide"
    ]
   },
   "outputs": [],
   "source": [
    "class Stock {\n",
    "public:\n",
    "    Stock(std::string name, double price) : name(name), price(price) {}\n",
    "\n",
    "    std::string GetName() const { return name; }\n",
    "    double GetPrice() const { return price; }\n",
    "\n",
    "    void SetPrice(double new_price) { price = new_price; }\n",
    "\n",
    "private:\n",
    "    std::string name;\n",
    "    double price;\n",
    "};"
   ]
  },
  {
   "cell_type": "code",
   "execution_count": null,
   "id": "b81a318ab485d5f0",
   "metadata": {
    "slideshow": {
     "slide_type": "subslide"
    },
    "tags": [
     "keep",
     "subslide"
    ]
   },
   "outputs": [],
   "source": [
    "class StockObserver {\n",
    "public:\n",
    "    StockObserver() = default;\n",
    "    StockObserver(const StockObserver&) = delete;\n",
    "    StockObserver& operator=(const StockObserver&) = delete;\n",
    "    StockObserver(StockObserver&&) = delete;\n",
    "    StockObserver& operator=(StockObserver&&) = delete;\n",
    "    virtual ~StockObserver() = default;\n",
    "\n",
    "    virtual void NoteUpdatedPrices(const std::vector<Stock*>& stocks) = 0;\n",
    "}"
   ]
  },
  {
   "cell_type": "code",
   "execution_count": null,
   "id": "9a867d97d561ecac",
   "metadata": {
    "slideshow": {
     "slide_type": "subslide"
    },
    "tags": [
     "keep",
     "subslide"
    ]
   },
   "outputs": [],
   "source": [
    "class StockMarket {\n",
    "public:\n",
    "    void AddStock(std::unique_ptr<Stock> stock);\n",
    "    void AttachObserver(std::shared_ptr<StockObserver> observer);\n",
    "    void UpdatePrices();\n",
    "\n",
    "private:\n",
    "    std::size_t GetNumStocksToSelect() const;\n",
    "    std::vector<Stock*> SelectStocksToUpdate() const;\n",
    "    void UpdatePricesFor(std::vector<Stock*> stocks) const;\n",
    "    void NotifyObservers(const std::vector<Stock*>& stocks);\n",
    "\n",
    "    std::unordered_map<std::string, std::unique_ptr<Stock>> stocks;\n",
    "    std::vector<std::weak_ptr<StockObserver>> observers;\n",
    "    std::random_device rd;\n",
    "    mutable std::mt19937 gen{rd()};\n",
    "    mutable std::normal_distribution<> price_dist{1.0, 0.3};\n",
    "};"
   ]
  },
  {
   "cell_type": "code",
   "execution_count": null,
   "id": "b0715c3dbf17e35b",
   "metadata": {
    "slideshow": {
     "slide_type": "subslide"
    },
    "tags": [
     "keep",
     "subslide"
    ]
   },
   "outputs": [],
   "source": [
    "void StockMarket::AddStock(std::unique_ptr<Stock> stock) {\n",
    "    std::string name{stock->GetName()};\n",
    "    stocks[name] = std::move(stock);\n",
    "}"
   ]
  },
  {
   "cell_type": "code",
   "execution_count": null,
   "id": "693eddd1a3f1552e",
   "metadata": {
    "slideshow": {
     "slide_type": "subslide"
    },
    "tags": [
     "keep",
     "subslide"
    ]
   },
   "outputs": [],
   "source": [
    "void StockMarket::AttachObserver(std::shared_ptr<StockObserver> observer) {\n",
    "    observers.push_back(observer);\n",
    "}"
   ]
  },
  {
   "cell_type": "code",
   "execution_count": null,
   "id": "b5437f62be90e204",
   "metadata": {
    "slideshow": {
     "slide_type": "subslide"
    },
    "tags": [
     "keep",
     "subslide"
    ]
   },
   "outputs": [],
   "source": [
    "void StockMarket::UpdatePrices() {\n",
    "    auto stocks{SelectStocksToUpdate()};\n",
    "    UpdatePricesFor(stocks);\n",
    "    NotifyObservers(stocks);\n",
    "}"
   ]
  },
  {
   "cell_type": "code",
   "execution_count": null,
   "id": "023fdffa2531e6cd",
   "metadata": {
    "slideshow": {
     "slide_type": "subslide"
    },
    "tags": [
     "keep",
     "subslide"
    ]
   },
   "outputs": [],
   "source": [
    "std::size_t StockMarket::GetNumStocksToSelect() const {\n",
    "    auto percent_dist{std::binomial_distribution<std::size_t>(stocks.size(), 0.4)};\n",
    "    return percent_dist(gen);\n",
    "}"
   ]
  },
  {
   "cell_type": "code",
   "execution_count": null,
   "id": "c209f8356fd17e95",
   "metadata": {
    "slideshow": {
     "slide_type": "subslide"
    },
    "tags": [
     "keep",
     "subslide"
    ]
   },
   "outputs": [],
   "source": [
    "std::vector<Stock*> StockMarket::SelectStocksToUpdate() const {\n",
    "    std::vector<Stock*> stocksToUpdate;\n",
    "    stocksToUpdate.reserve(stocks.size());\n",
    "    std::transform(\n",
    "        stocks.begin(), stocks.end(), std::back_inserter(stocksToUpdate),\n",
    "        [](const auto& entry) { return entry.second.get(); });\n",
    "    std::shuffle(stocksToUpdate.begin(), stocksToUpdate.end(), gen);\n",
    "    stocksToUpdate.resize(GetNumStocksToSelect());\n",
    "    return stocksToUpdate;\n",
    "}"
   ]
  },
  {
   "cell_type": "code",
   "execution_count": null,
   "id": "e8dea8f5e435877c",
   "metadata": {
    "slideshow": {
     "slide_type": "subslide"
    },
    "tags": [
     "keep",
     "subslide"
    ]
   },
   "outputs": [],
   "source": [
    "void StockMarket::UpdatePricesFor(std::vector<Stock*> stocks) const {\n",
    "    for (auto stock : stocks) {\n",
    "        stock->SetPrice(stock->GetPrice() * price_dist(gen));\n",
    "    }\n",
    "}"
   ]
  },
  {
   "cell_type": "code",
   "execution_count": null,
   "id": "1c68c8dad8b63f18",
   "metadata": {
    "slideshow": {
     "slide_type": "subslide"
    },
    "tags": [
     "keep",
     "subslide"
    ]
   },
   "outputs": [],
   "source": [
    "void StockMarket::NotifyObservers(const std::vector<Stock*>& stocks) {\n",
    "    for (auto& observer : observers) {\n",
    "        std::shared_ptr<StockObserver> observer_ptr{observer.lock()};\n",
    "        if (observer_ptr)\n",
    "            observer_ptr->NoteUpdatedPrices(stocks);\n",
    "    }\n",
    "}"
   ]
  },
  {
   "cell_type": "code",
   "execution_count": null,
   "id": "dad26c981f74145c",
   "metadata": {
    "slideshow": {
     "slide_type": "subslide"
    },
    "tags": [
     "keep",
     "subslide"
    ]
   },
   "outputs": [],
   "source": [
    "class PrintingStockObserver : public StockObserver {\n",
    "public:\n",
    "    PrintingStockObserver(std::string name) : name(name) {}\n",
    "\n",
    "    void NoteUpdatedPrices(const std::vector<Stock*>& stocks) override {\n",
    "        std::cout << \"PrintingStockObserver \" << name << \" received update:\\n\";\n",
    "        for (auto stock : stocks) {\n",
    "            std::cout << \"  \" << stock->GetName() << \": \" << stock->GetPrice() << \"\\n\";\n",
    "        }\n",
    "    }\n",
    "\n",
    "private:\n",
    "    std::string name;\n",
    "};"
   ]
  },
  {
   "cell_type": "code",
   "execution_count": null,
   "id": "5abde87eaabaeb4d",
   "metadata": {
    "slideshow": {
     "slide_type": "subslide"
    },
    "tags": [
     "keep",
     "subslide"
    ]
   },
   "outputs": [],
   "source": [
    "class RisingStockObserver : public StockObserver {\n",
    "public:\n",
    "    RisingStockObserver(std::string name) : name(name) {}\n",
    "\n",
    "    void NoteUpdatedPrices(const std::vector<Stock*>& stocks) override {\n",
    "        std::cout << \"RisingStockObserver \" << name << \" received update:\\n\";\n",
    "        for (auto stock : stocks) {\n",
    "            auto oldPrice{oldPrices[stock->GetName()]};\n",
    "            if (stock->GetPrice() > oldPrice)\n",
    "                std::cout << \"  \" << stock->GetName() << \": \" << oldPrice << \" -> \"\n",
    "                          << stock->GetPrice() << \"\\n\";\n",
    "            oldPrices[stock->GetName()] = stock->GetPrice();\n",
    "        }\n",
    "    }\n",
    "\n",
    "private:\n",
    "    std::string name;\n",
    "    std::unordered_map<std::string, double> oldPrices;\n",
    "};"
   ]
  },
  {
   "cell_type": "code",
   "execution_count": null,
   "id": "39a67638a20ef57a",
   "metadata": {
    "slideshow": {
     "slide_type": "subslide"
    },
    "tags": [
     "keep",
     "subslide"
    ]
   },
   "outputs": [],
   "source": [
    "StockMarket market;"
   ]
  },
  {
   "cell_type": "code",
   "execution_count": null,
   "id": "931441711d8707ba",
   "metadata": {
    "tags": [
     "keep"
    ]
   },
   "outputs": [],
   "source": [
    "auto printingObserver{std::make_shared<PrintingStockObserver>(\"PrintingObserver\")};\n",
    "auto risingObserver{std::make_shared<RisingStockObserver>(\"RisingObserver\")};"
   ]
  },
  {
   "cell_type": "code",
   "execution_count": null,
   "id": "5980ee8e2ba9f537",
   "metadata": {
    "tags": [
     "keep"
    ]
   },
   "outputs": [],
   "source": [
    "market.AttachObserver(printingObserver);\n",
    "market.AttachObserver(risingObserver);"
   ]
  },
  {
   "cell_type": "code",
   "execution_count": null,
   "id": "dce12ed11de0bd30",
   "metadata": {
    "tags": [
     "keep"
    ]
   },
   "outputs": [],
   "source": [
    "market.AddStock(std::make_unique<Stock>(\"Banana\", 100.0));\n",
    "market.AddStock(std::make_unique<Stock>(\"Billionz\", 200.0));\n",
    "market.AddStock(std::make_unique<Stock>(\"Macrosoft\", 300.0));\n",
    "market.AddStock(std::make_unique<Stock>(\"BCD\", 400.0));"
   ]
  },
  {
   "cell_type": "code",
   "execution_count": null,
   "id": "a80fb5ccffa26de4",
   "metadata": {
    "slideshow": {
     "slide_type": "subslide"
    },
    "tags": [
     "keep",
     "subslide"
    ]
   },
   "outputs": [],
   "source": [
    "for (int i = 0; i < 10; ++i) {\n",
    "    std::cout << \"============= Update \" << i + 1 << \" =============\\n\";\n",
    "    market.UpdatePrices();\n",
    "}"
   ]
  },
  {
   "cell_type": "code",
   "execution_count": null,
   "id": "9041a29132e8cb92",
   "metadata": {
    "slideshow": {
     "slide_type": "subslide"
    },
    "tags": [
     "keep",
     "subslide"
    ]
   },
   "outputs": [],
   "source": [
    "printingObserver.reset();"
   ]
  },
  {
   "cell_type": "code",
   "execution_count": null,
   "id": "f1c853bd2f0a6cdc",
   "metadata": {
    "lines_to_next_cell": 2,
    "tags": [
     "keep"
    ]
   },
   "outputs": [],
   "source": [
    "for (int i = 0; i < 10; ++i) {\n",
    "    std::cout << \"============= Update \" << i + 1 << \" =============\\n\";\n",
    "    market.UpdatePrices();\n",
    "}"
   ]
  },
  {
   "cell_type": "markdown",
   "id": "d8ace39736c27e29",
   "metadata": {
    "lang": "de",
    "slideshow": {
     "slide_type": "slide"
    },
    "tags": [
     "slide"
    ]
   },
   "source": [
    "\n",
    "### Anwendbarkeit\n",
    "\n",
    "- Ein Objekt muss andere Objekte benachrichtigen, ohne Details zu kennen\n",
    "- Eine Änderung in einem Objekt führt zu Änderungen in (beliebig vielen)\n",
    "  anderen Objekten\n",
    "- Eine Abstraktion hat zwei Aspekte, wobei einer vom anderen abhängt"
   ]
  },
  {
   "cell_type": "markdown",
   "id": "9e7906d678bd7fb6",
   "metadata": {
    "lang": "de",
    "lines_to_next_cell": 2,
    "slideshow": {
     "slide_type": "slide"
    },
    "tags": [
     "slide"
    ]
   },
   "source": [
    "\n",
    "### Struktur: Pull Observer\n",
    "\n",
    "<img src=\"img/pat_observer_pull.svg\"\n",
    "     style=\"display:block;margin:auto;width:100%\"/>"
   ]
  },
  {
   "cell_type": "markdown",
   "id": "b31af8b64bd91918",
   "metadata": {
    "lang": "de",
    "slideshow": {
     "slide_type": "slide"
    },
    "tags": [
     "slide"
    ]
   },
   "source": [
    "\n",
    "## Observer (Behavioral Pattern)\n",
    "\n",
    "### Teilnehmer\n",
    "\n",
    "- `Subject`\n",
    "  - kennt seine Observer. Jede Anzahl von Observern kann ein Subject\n",
    "    beobachten\n",
    "  - stellt eine Schnittstelle zum Hinzufügen und Entfernen von Observern\n",
    "    bereit\n",
    "- `Observer`\n",
    "  - definiert eine Aktualisierungs-Schnittstelle für Objekte, die über\n",
    "    Änderungen eines Subjects informiert werden sollen"
   ]
  },
  {
   "cell_type": "markdown",
   "id": "69214d2ae161189c",
   "metadata": {
    "lang": "de",
    "slideshow": {
     "slide_type": "slide"
    },
    "tags": [
     "slide"
    ]
   },
   "source": [
    "\n",
    "- `ConcreteSubject`\n",
    "  - Speichert den Zustand, der für `ConcreteObserver`-Objekte von Interesse\n",
    "    ist\n",
    "  - Sendet eine Benachrichtigung an seine Observer, wenn sich sein Zustand\n",
    "    ändert\n",
    "- `ConcreteObserver`\n",
    "  - Kann eine Referenz auf ein `ConcreteSubject`-Objekt halten\n",
    "  - Speichert Zustand, der mit dem des Subjects konsistent bleiben soll\n",
    "  - Implementiert die `Observer`-Aktualisierungs-Schnittstelle, um seinen\n",
    "    Zustand mit dem des Subjects konsistent zu halten"
   ]
  },
  {
   "cell_type": "markdown",
   "id": "54ae75c330023f41",
   "metadata": {
    "lang": "de",
    "lines_to_next_cell": 2,
    "slideshow": {
     "slide_type": "slide"
    },
    "tags": [
     "slide"
    ]
   },
   "source": [
    "\n",
    "### Interaktionen: Pull Observer\n",
    "\n",
    "<img src=\"img/pat_observer_pull_seq.svg\"\n",
    "     style=\"display:block;margin:auto;width:65%\"/>"
   ]
  },
  {
   "cell_type": "markdown",
   "id": "d3cfbd31dfafd3d8",
   "metadata": {
    "lang": "de",
    "lines_to_next_cell": 2,
    "slideshow": {
     "slide_type": "slide"
    },
    "tags": [
     "slide"
    ]
   },
   "source": [
    "\n",
    "### Interaktionen\n",
    "\n",
    "- `ConcreteSubject` benachrichtigt seine Observer über Änderungen in seinem\n",
    "  Zustand\n",
    "- Nachdem ein `ConcreteObserver` über eine Änderung im `ConcreteSubject`\n",
    "  informiert wurde, holt es den neuen Zustand vom Subjekt\n",
    "- `ConcreteObserver` verwendet diese Informationen, um seinen Zustand mit dem\n",
    "  des Subjects in Einklang zu bringen"
   ]
  },
  {
   "cell_type": "markdown",
   "id": "767726706782fb0a",
   "metadata": {
    "lang": "de",
    "slideshow": {
     "slide_type": "subslide"
    },
    "tags": [
     "subslide"
    ]
   },
   "source": [
    "\n",
    "### Struktur: Push Observer\n",
    "\n",
    "<img src=\"img/pat_observer_push.svg\"\n",
    "     style=\"display:block;margin:auto;width:100%\"/>"
   ]
  },
  {
   "cell_type": "markdown",
   "id": "8f32cbbcee7a28c0",
   "metadata": {
    "lang": "de",
    "slideshow": {
     "slide_type": "subslide"
    },
    "tags": [
     "subslide"
    ]
   },
   "source": [
    "\n",
    "### Interaktion: Push Observer\n",
    "\n",
    "<img src=\"img/pat_observer_push_seq.svg\"\n",
    "     style=\"display:block;margin:auto;width:65%\"/>"
   ]
  },
  {
   "cell_type": "markdown",
   "id": "19ad15e74d51d345",
   "metadata": {
    "lang": "de",
    "slideshow": {
     "slide_type": "slide"
    },
    "tags": [
     "slide"
    ]
   },
   "source": [
    "\n",
    "### Konsequenzen\n",
    "\n",
    "- `Subject` und `Observer` können unabhängig voneinander\n",
    "   - variiert werden\n",
    "   - wiederverwendet werden\n",
    "- Hinzufügen neuer `Observer` ohne Änderungen am `Subject`\n",
    "- Abstrakte Kopplung zwischen `Subject` und `Observer`\n",
    "- Unterstützung für Broadcast-Kommunikation\n",
    "- Unerwartete Updates"
   ]
  },
  {
   "cell_type": "markdown",
   "id": "1384ac347baf3e50",
   "metadata": {
    "lang": "de",
    "lines_to_next_cell": 2,
    "slideshow": {
     "slide_type": "slide"
    },
    "tags": [
     "slide"
    ]
   },
   "source": [
    "\n",
    "### Praxisbeispiele\n",
    "\n",
    "- Event-Listener in Benutzeroberflächen (SWT)\n",
    "\n",
    "### Verwandte Patterns\n",
    "\n",
    "- Mediator: Durch die Kapselung komplexer Update-Semantik fungiert der\n",
    "  `ChangeManager` als Mediator zwischen Subjects und Observers\n",
    "- Singleton: ..."
   ]
  },
  {
   "cell_type": "markdown",
   "id": "f2b5b7c4852d6a92",
   "metadata": {
    "lang": "de",
    "lines_to_next_cell": 2,
    "slideshow": {
     "slide_type": "slide"
    },
    "tags": [
     "slide"
    ]
   },
   "source": [
    "\n",
    "## Workshop: Produktion von Werkstücken\n",
    "\n",
    "In einem Produktionssystem wollen Sie verschiedene andere System\n",
    "benachrichtigen, wenn Sie ein Werkstück erzeugt haben. Dabei sollen diese\n",
    "Systeme vom konkreten Produzenten unabhängig sein und auch der Produzent\n",
    "keine (statische) Kenntnis über die benachrichtigten System haben.\n",
    "\n",
    "Implementieren Sie ein derartiges System mit dem Observer-Pattern.\n",
    "Implementieren Sie dazu einen konkreten Observer `PrintingObserver`, der den\n",
    "Zustand des beobachteten Objekts ausgibt.\n",
    "\n",
    "*Hinweis:* Sie können das System sowohl mit Pull- als auch mit Push-Observern\n",
    "implementieren. Es ist eine gute Übung, wenn Sie beide Varianten\n",
    "implementieren und vergleichen."
   ]
  },
  {
   "cell_type": "code",
   "execution_count": null,
   "id": "83ec95d95c68ceec",
   "metadata": {
    "slideshow": {
     "slide_type": "subslide"
    },
    "tags": [
     "subslide"
    ]
   },
   "outputs": [],
   "source": [
    "class PullObserver : public std::enable_shared_from_this<PullObserver> {\n",
    "public:\n",
    "    PullObserver() = default;\n",
    "    PullObserver(const PullObserver&) = delete;\n",
    "    PullObserver& operator=(const PullObserver&) = delete;\n",
    "    PullObserver(PullObserver&&) = delete;\n",
    "    PullObserver& operator=(PullObserver&&) = delete;\n",
    "    virtual ~PullObserver() = default;\n",
    "\n",
    "    virtual void Update() = 0;\n",
    "    virtual int GetId() const = 0;\n",
    "};"
   ]
  },
  {
   "cell_type": "code",
   "execution_count": null,
   "id": "293178ba5f316b4d",
   "metadata": {
    "slideshow": {
     "slide_type": "subslide"
    },
    "tags": [
     "subslide",
     "alt"
    ]
   },
   "outputs": [],
   "source": [
    "struct PrintVec {\n",
    "    const std::vector<int> v;\n",
    "};"
   ]
  },
  {
   "cell_type": "code",
   "execution_count": null,
   "id": "51ed025fc66beed7",
   "metadata": {
    "slideshow": {
     "slide_type": "subslide"
    },
    "tags": [
     "alt",
     "subslide"
    ]
   },
   "outputs": [],
   "source": [
    "// To work around a bug in notebooks\n",
    "#define OP operator<<"
   ]
  },
  {
   "cell_type": "code",
   "execution_count": null,
   "id": "748322da6381ebf0",
   "metadata": {
    "tags": [
     "alt"
    ]
   },
   "outputs": [],
   "source": [
    "std::ostream& OP(std::ostream& os, const PrintVec& vec) {\n",
    "    os << \"[\";\n",
    "    std::string sep;\n",
    "    for (auto i : vec.v) {\n",
    "        os << sep << i;\n",
    "        sep = \", \";\n",
    "    }\n",
    "    os << \"]\";\n",
    "    return os;\n",
    "}"
   ]
  },
  {
   "cell_type": "code",
   "execution_count": null,
   "id": "43827ec04dcaf2e9",
   "metadata": {
    "lines_to_next_cell": 2,
    "slideshow": {
     "slide_type": "subslide"
    },
    "tags": [
     "alt",
     "subslide"
    ]
   },
   "outputs": [],
   "source": [
    "class PullSubject {\n",
    "public:\n",
    "    void Attach(PullObserver& observer) {\n",
    "        observers.emplace_back(observer.weak_from_this());\n",
    "        PrintObservers(\"after attaching\");\n",
    "    }\n",
    "\n",
    "    void Detach(PullObserver& observer) {\n",
    "        observers.erase(\n",
    "            std::remove_if(\n",
    "                observers.begin(), observers.end(),\n",
    "                [&observer](const auto& o) {\n",
    "                    return o.lock() && (o.lock().get() == &observer);\n",
    "                }),\n",
    "            observers.end());\n",
    "        PrintObservers(\"after detaching\");\n",
    "    }\n",
    "\n",
    "    void Notify() {\n",
    "        PrintObservers(\"before notifying\");\n",
    "        for (auto o : observers) {\n",
    "            auto observer_ptr{o.lock()};\n",
    "            if (observer_ptr) {\n",
    "                observer_ptr->Update();\n",
    "            }\n",
    "        }\n",
    "    }\n",
    "\n",
    "    virtual std::vector<int> GetState() const = 0;\n",
    "\n",
    "private:\n",
    "    void PrintObservers(std::string_view context) {\n",
    "        std::cout << \"Observers \" << context << \" are:\";\n",
    "        for (auto o : observers) {\n",
    "            auto observer_ptr{o.lock()};\n",
    "            if (observer_ptr) {\n",
    "                std::cout << \" Observer-\" << observer_ptr->GetId();\n",
    "            } else {\n",
    "                std::cout << \" Observer-<deleted>\";\n",
    "            }\n",
    "        }\n",
    "        std::cout << \"\\n\";\n",
    "    }\n",
    "    std::vector<std::weak_ptr<PullObserver>> observers;\n",
    "};"
   ]
  },
  {
   "cell_type": "code",
   "execution_count": null,
   "id": "295f4a14f869010c",
   "metadata": {
    "lines_to_next_cell": 2,
    "slideshow": {
     "slide_type": "subslide"
    },
    "tags": [
     "alt",
     "subslide"
    ]
   },
   "outputs": [],
   "source": [
    "class PrintingPullObserver : public PullObserver {\n",
    "public:\n",
    "    PrintingPullObserver(int id) : id{id} {}\n",
    "\n",
    "    void Update() override {\n",
    "        std::cout << \"Observer \" << id << \": Observing \" << subject << \".\\n\";\n",
    "        std::cout << \"  Old observer state is \" << PrintVec{observerState} << \".\\n\";\n",
    "        observerState = subject->GetState();\n",
    "        std::cout << \"  New observer state is \" << PrintVec{observerState} << \".\\n\";\n",
    "    }\n",
    "\n",
    "    int GetId() const override { return id; }\n",
    "\n",
    "    void AttachTo(PullSubject& subject) {\n",
    "        subject.Attach(*this);\n",
    "        this->subject = &subject;\n",
    "    }\n",
    "\n",
    "    void DetachFromSubject() {\n",
    "        if (subject != nullptr) {\n",
    "            subject->Detach(*this);\n",
    "            subject = nullptr;\n",
    "        }\n",
    "    }\n",
    "\n",
    "private:\n",
    "    int id{};\n",
    "    PullSubject* subject{};\n",
    "    std::vector<int> observerState{};\n",
    "};"
   ]
  },
  {
   "cell_type": "code",
   "execution_count": null,
   "id": "0f8e707350acfedf",
   "metadata": {
    "slideshow": {
     "slide_type": "subslide"
    },
    "tags": [
     "alt",
     "subslide"
    ]
   },
   "outputs": [],
   "source": [
    "class PullProducer : public PullSubject {\n",
    "public:\n",
    "    void ProduceItem(int item) {\n",
    "        availableItems.push_back(item);\n",
    "        Notify();\n",
    "    }\n",
    "\n",
    "    std::vector<int> GetState() const override { return availableItems; }\n",
    "\n",
    "private:\n",
    "    std::vector<int> availableItems;\n",
    "};"
   ]
  },
  {
   "cell_type": "code",
   "execution_count": null,
   "id": "9497c3fd84496b7e",
   "metadata": {
    "slideshow": {
     "slide_type": "subslide"
    },
    "tags": [
     "alt",
     "subslide"
    ]
   },
   "outputs": [],
   "source": [
    "PullProducer p{};\n",
    "auto o1{std::make_shared<PrintingPullObserver>(1)};\n",
    "o1->AttachTo(p);\n",
    "auto o2{std::make_shared<PrintingPullObserver>(2)};\n",
    "o2->AttachTo(p);"
   ]
  },
  {
   "cell_type": "code",
   "execution_count": null,
   "id": "518c52989cc31733",
   "metadata": {
    "tags": [
     "alt"
    ]
   },
   "outputs": [],
   "source": [
    "p.ProduceItem(1);\n",
    "p.ProduceItem(2);"
   ]
  },
  {
   "cell_type": "code",
   "execution_count": null,
   "id": "850844e6020e216d",
   "metadata": {
    "slideshow": {
     "slide_type": "subslide"
    },
    "tags": [
     "subslide",
     "alt"
    ]
   },
   "outputs": [],
   "source": [
    "o1->DetachFromSubject();\n",
    "p.ProduceItem(3);"
   ]
  },
  {
   "cell_type": "code",
   "execution_count": null,
   "id": "1fb35515f1320782",
   "metadata": {
    "tags": [
     "alt"
    ]
   },
   "outputs": [],
   "source": [
    "o1->AttachTo(p);\n",
    "o2.reset();\n",
    "p.ProduceItem(4);"
   ]
  },
  {
   "cell_type": "code",
   "execution_count": null,
   "id": "c8317826f15c1bc9",
   "metadata": {
    "slideshow": {
     "slide_type": "subslide"
    },
    "tags": [
     "subslide",
     "alt"
    ]
   },
   "outputs": [],
   "source": [
    "class PushObserver : public std::enable_shared_from_this<PushObserver> {\n",
    "public:\n",
    "    PushObserver() = default;\n",
    "    PushObserver(const PushObserver&) = delete;\n",
    "    PushObserver& operator=(const PushObserver&) = delete;\n",
    "    PushObserver(PushObserver&&) = delete;\n",
    "    PushObserver& operator=(PushObserver&&) = delete;\n",
    "    virtual ~PushObserver() = default;\n",
    "\n",
    "    virtual void Update(int item) = 0;\n",
    "    virtual int GetId() const = 0;\n",
    "};"
   ]
  },
  {
   "cell_type": "code",
   "execution_count": null,
   "id": "270507ccc54a5fb1",
   "metadata": {
    "slideshow": {
     "slide_type": "subslide"
    },
    "tags": [
     "alt",
     "subslide"
    ]
   },
   "outputs": [],
   "source": [
    "class PushSubject {\n",
    "public:\n",
    "    void Attach(PushObserver& observer) {\n",
    "        observers.emplace_back(observer.weak_from_this());\n",
    "        PrintObservers(\"after attaching\");\n",
    "    }\n",
    "\n",
    "    void Detach(PushObserver& observer) {\n",
    "        observers.erase(\n",
    "            std::remove_if(\n",
    "                observers.begin(), observers.end(),\n",
    "                [&observer](const auto& o) {\n",
    "                    return o.lock() && (o.lock().get() == &observer);\n",
    "                }),\n",
    "            observers.end());\n",
    "        PrintObservers(\"after detaching\");\n",
    "    }\n",
    "\n",
    "    void Notify(int item) {\n",
    "        PrintObservers(\"before notifying\");\n",
    "        for (auto o : observers) {\n",
    "            auto observer_ptr{o.lock()};\n",
    "            if (observer_ptr) {\n",
    "                observer_ptr->Update(item);\n",
    "            }\n",
    "        }\n",
    "    }\n",
    "\n",
    "private:\n",
    "    void PrintObservers(std::string_view context) {\n",
    "        std::cout << \"Observers \" << context << \" are:\";\n",
    "        for (auto o : observers) {\n",
    "            auto observer_ptr{o.lock()};\n",
    "            if (observer_ptr) {\n",
    "                std::cout << \" Observer-\" << observer_ptr->GetId();\n",
    "            } else {\n",
    "                std::cout << \" Observer-<deleted>\";\n",
    "            }\n",
    "        }\n",
    "        std::cout << \"\\n\";\n",
    "    }\n",
    "    std::vector<std::weak_ptr<PushObserver>> observers;\n",
    "};"
   ]
  },
  {
   "cell_type": "code",
   "execution_count": null,
   "id": "82da3e9219fb5ef2",
   "metadata": {
    "slideshow": {
     "slide_type": "subslide"
    },
    "tags": [
     "alt",
     "subslide"
    ]
   },
   "outputs": [],
   "source": [
    "class PrintingPushObserver : public PushObserver {\n",
    "public:\n",
    "    PrintingPushObserver(int id) : id{id} {}\n",
    "\n",
    "    void Update(int item) override {\n",
    "        std::cout << \"Observer \" << id << \"\\n\";\n",
    "        std::cout << \"  Received item \" << item << \".\\n\";\n",
    "    }\n",
    "\n",
    "    int GetId() const override { return id; }\n",
    "\n",
    "private:\n",
    "    int id{};\n",
    "};"
   ]
  },
  {
   "cell_type": "code",
   "execution_count": null,
   "id": "9993b6ae6440a52d",
   "metadata": {
    "slideshow": {
     "slide_type": "subslide"
    },
    "tags": [
     "alt",
     "subslide"
    ]
   },
   "outputs": [],
   "source": [
    "class PushProducer : public PushSubject {\n",
    "public:\n",
    "    void ProduceItem(int item) {\n",
    "        availableItems.push_back(item);\n",
    "        Notify(item);\n",
    "    }\n",
    "\n",
    "private:\n",
    "    std::vector<int> availableItems;\n",
    "};"
   ]
  },
  {
   "cell_type": "code",
   "execution_count": null,
   "id": "5b70b00cba4bddda",
   "metadata": {
    "slideshow": {
     "slide_type": "subslide"
    },
    "tags": [
     "alt",
     "subslide"
    ]
   },
   "outputs": [],
   "source": [
    "PushProducer p{};\n",
    "auto o1{std::make_shared<PrintingPushObserver>(1)};\n",
    "p.Attach(*o1);\n",
    "auto o2{std::make_shared<PrintingPushObserver>(2)};\n",
    "p.Attach(*o2);"
   ]
  },
  {
   "cell_type": "code",
   "execution_count": null,
   "id": "f9d906e750bf9bbf",
   "metadata": {
    "tags": [
     "alt"
    ]
   },
   "outputs": [],
   "source": [
    "p.ProduceItem(1);\n",
    "p.ProduceItem(2);"
   ]
  },
  {
   "cell_type": "code",
   "execution_count": null,
   "id": "53dc79b944d0ee5a",
   "metadata": {
    "slideshow": {
     "slide_type": "subslide"
    },
    "tags": [
     "subslide",
     "alt"
    ]
   },
   "outputs": [],
   "source": [
    "p.Detach(*o1);\n",
    "p.ProduceItem(3);"
   ]
  },
  {
   "cell_type": "code",
   "execution_count": null,
   "id": "b03bf8f8fcdcc073",
   "metadata": {
    "tags": [
     "alt"
    ]
   },
   "outputs": [],
   "source": [
    "p.Attach(*o1);\n",
    "o2.reset();\n",
    "p.ProduceItem(4);"
   ]
  },
  {
   "cell_type": "code",
   "execution_count": null,
   "id": "6b4e03423667dbb7",
   "metadata": {},
   "outputs": [],
   "source": []
  }
 ],
 "metadata": {
  "kernelspec": {
   "display_name": "C++17",
   "language": "C++17",
   "name": "xcpp17"
  },
  "language_info": {
   "codemirror_mode": "text/x-c++src",
   "file_extension": ".cpp",
   "mimetype": "text/x-c++src",
   "name": "c++",
   "version": "17"
  }
 },
 "nbformat": 4,
 "nbformat_minor": 5
}
