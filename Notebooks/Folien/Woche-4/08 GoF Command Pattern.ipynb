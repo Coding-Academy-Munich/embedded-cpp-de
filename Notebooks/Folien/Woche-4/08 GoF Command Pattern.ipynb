{
 "cells": [
  {
   "cell_type": "markdown",
   "id": "745861cfcee31dfd",
   "metadata": {
    "lang": "de",
    "slideshow": {
     "slide_type": "slide"
    },
    "tags": [
     "slide"
    ]
   },
   "source": [
    "\n",
    "<img src=\"data:image/png;base64,iVBORw0KGgoAAAANSUhEUgAAAEAAAABACAYAAACqaXHeAAAABHNCSVQICAgIfAhkiAAAAAlwSFlzAAACkwAAApMBv+Bu1wAAABl0RVh0U29mdHdhcmUAd3d3Lmlua3NjYXBlLm9yZ5vuPBoAAAumSURBVHic1Vt7WFRlGv99ZwYGZoABVGCQS2gqqVikbImauanrqm31aNaz1SYhdtu85LqumTjenloto9ZWS+yiWZZPW7aaaWghXjC8cF0uclHuAwwwA3Ofc779A0HGGZgzZway318z53u/93vP73zn/d73O99L8Ctg6QcF8yjBK5TQSYRCSihKAOw3e/vv+iQpxjiYtpDBHOy5vXljRCzZAWBuHyK1lNB16Usm7AchdDBsGhQCXvx3fpBVjDUAVgLw5tElk+GY5R+8MD5vgE0bWAKUSsrUDs9/mlCyHUCIi905gB6ghFmdnhKnGgj7gAEkYOkHhTMo4dIATHBTVTuAN32Mvmn/WjbK5AHTbOBxApI+KogUW7mtAHnGw6rLALJqz9K4I55U6jECntmXJ/M1YDUlZA0AH0/pdYAMgFuxZ+k9RZ5Q5j4BlJKlHxYsBPA2JYh03yResFBCd1nF3IZPkuLb3VHkFgEpHxYmAFwagER39LiBVoBuag8s3Xlo0SJWiAJBBDy393K42CreQAmWAGCE6PAsaC5AVuxZOiHT1Z4uEbByxznfTj+/ZQDWAfB3dbCBBz1CCZalp9xdxbcHbwKSd+c9zDDkXQAxgmwbPJgpobs5RvL6R8mxHc6EnRKQnJ4bTyiTRige8Ix9g4Z6SrAxoi4uXakkXF9CfRLw8s7iISaJOZVQ8jIAkbvWyKVi3BXuhzvDZAgLlCDIzwsy7y61OjOLTqMV9W0mVDcbUFLfiYZ2j8U8OV3+Ie6co0aHBKR8WDAfoPsBBLozMiHAvTFyPBAbjNhwPxAXPE5tqxHnr7bhdHErTJY+HyBfcAC2D6+Pe+3W2WBn0o2l7Qz4JS19YkKUPxber0CYXOKOGnQarTie34KMghawnHsJIiVEmZ4St7H3NQcE5GcDuE/oIFKJCM9MG46JMXKhKhyiRm3Ex5k1qFUL2y4ws2zxycJyU217+8M4kFLbfd3m3V6yJy+GgGwXaqQiSIK/zx+BkaEyoSr6hFwqRuLoYKg0JjS08fcPlEJ18Vpt3vH8snitwaQASDUKvrvQ3S7uLUwoGSnUwOhhvlgxJwYyH7f9ZZ/wEhEs/X0UvvStx6kitTNxY7Vak32qqDzBwrJTeq5yuLO3kA0BDEfFHON6cBgWKMHyOXcM6M13gxDgicRwdJpY/FLuOA3QGU05R/NKwzR644MOmm2MFDsQcAk+Xgxenh0NPx+3VfEGAbB4egRatGZUNul7rrMsV5lZUtVW0aRO4KvL7Tj+icRwhLrp6YVAzBAkPRgBLzEDULQV1TWe/jjrYnRFk3qiS3rcMWKUQobE0UEu99MZWZSrdGjVWWC2cpD7eiFqqA/Cg1zbRhjq741RIZKi1w6dVRjMVkGRqlsELEgIcymbqmzS47tLKpTU6cBR+zU9VC7BrAlDMXVMEBgnUVNJfac2Jf10+5mShnEumm0DwQSMVsgwIlTKS5bjKL7KbsBPRWr0F8qoNCZ8llWHs6VteH5mFIJlXnYyzVqzZdt/CyveOnolFkCAMOtvQrAPmBobzEuOoxS7M6pxysnN90ZVkx5vHq6AusPcc81o4egXZ6sropZ9wd24eY9A0AwQiwji7+BH/rc5KuRe17o8RrvOgvdPXMfaR0biYlWb6s87T4mvNWsFxyl9QRABI0KkkIidT57GdhNOFLQIGQIAUNmkK/rd+iPi3OvNYwQrcQJhBPB894/lNoMTkMBQioaL12orc6/XJ4I69rNiEYNRYV2zsLjOPiDy8RIhJsQfFiuHclXfM1AQAQoe6z7LUeRVuzz19TXq9pyTRRWTbMJXBwgJ8MH/ti8AADBP7cWti8r4yCDkbHkEje0GKF76vE89gggIdOCdb0WjxgS9ifdGLdUYjdnHckujOgym6f0JMoTAz0cMP5+bNvjf+N1htEDEMJB6iyCTdN0aIUCAb1e71mCx0yeIAImX8/e/XWc/mCNYWbY4o7DcUtOqmcxHfmLMUPyy5U821zR7/wIAiPzrQUyMGYpvV83saQuV+/a0i576yC7+GLAAnjgJkSioKq/katnFopIh1C8I8B78cBoQSACfLSq5rE/VlvrmlvM/Zl2IN1st0wAAGjUgEuVAPiQcIvHw/vReqmqBPHkfwgKlKH17YddYyfsAdL0CjRoD5Mn7EH/HEPy8fh5UGgNGv3oIABxGn4IIaOMxvRWBEsh8RNAZb/oBnd6Q8/3pc6Ht2g77uJ1lE9DapIe3JBMBwZNAiMNdFY5SaA0W+PnctKHDaOlxglaWg9bAQWeyAgAodfzud0MQAY08dmwZQjAhKgDny9rAclzl6ZzLreXXa52lqVKYTdOhbmyA1D8XUr9E9LFx26Q1YuzqrwHAbgUAgMKaNoxd/TUs1v5nqyACKnrl4P1hXnwI+8nxy+fOXMyfzFE6gvcAlCqg0yqg7yhSREeIG3SsXSBkZTmH6383jBa23/ZuCMoFqpr0vPxASIC3aMqdftM4SgURfXdMyLiKnU+P+eqlKaqwAInTPTAhEESAlaW4co1fkLMlaQYem+J67hIxLACHNz0BX4kYj0+NDS3d8Xjw1kfHVXiJGY+eEhGcDWaVtvIbgBAcSl2IlQvu4/1hZPLYCJx/NwnRoTe31gOkEvLaovtHFv/zUebJiYoSITY7tE9ox6sNOpSr+PkCEUOw44XZyH4vGXMSRkIscjzs2OhhSH91PrLeWYyIYY6zzZGKIK8vVs2NzVw7Szte4Vct1P5u2DyT53fnzeEYcoxnXxoVJCpct+CuOOLKNy8ArR0GnCuqRXWTBnqTBYpgP0wcrUBs5FCX9FisHJLeOVp04FKjAgzDb4OCYhcOLnmp+68g52SxsEU/nsumdarmOIVsPpL/GO9S/2B/X8y/f5SQoW1Q2dCG/2QWjoOJbYNUehoyeSJcvCeXhDlKGy8VFlfklpT1pKkrdp3AlPGRLj89d2GysHh222EYugKeIOh1D0BvqESAvBUS30l89fD1AYaahsbMfd8c9c8tLpvSO0fvNJjxSOpXaNbw8weeAKXA4u2HcaGk7pYWbgS0bZPQqsoBa6nho8uGAI4h1lvH6ujszDp4NEP9Q1b2dIvV6jA8LatVY87az9EyCCRwlGLZ+z/g4E/9nJJj2QS0NodCqz4PSnW3tvb+Y0MAJbSi+7eFtZb8kHU+/+D3GdM6dJ0Rzgy7fLUB01Z+ior6Nl43IgQGkxWLNn+NnYdz+Ih7w2SajJYGHXTabODGniyD8t5Cdu47afeVo4VlFZKL+cUPUlCXP/bJZRLsXj4PT85wa7veDpevNmDx9u9QUNUkTAFhShAQaAbjPxeHnu15d+zXr1lbJoFyZ+HmAYk5CSPx9vOzMDZ6mDtq0KzRY9uX5/DuNxecJjZOQbABP6Zusr3kCDM3zgPIZ3DziAxDCB6bGouUufGYee8IiFz48nylvBGfnshD+rEr0Bn57S71Aw7ANkzl1kGp7P+ITA/+oAwGx2wAhUcOSYUEyvBQfAymxUUhNnIIokLkCPL3ASEErVoDWrR6FFY14dLVBpy8cg1ltR7LfXJAsRwnU887anT+SGYp7wFl0gD0u1l5G6IewFpkrN8P9F19wn9Ozt74MLjfxEFJA0Dfg8FnK86ucf+gpA0eV3qjXfQiKN2M2/KoLI6AIctwYr3nj8raYJYyHJTZANwuh6VxBQyzAideP+1qR/fqBR7alACGpoGSX+u4vBqEbEbgmJ04NIjH5W1BCWZtWghK3gIQ5b4+XrCAYBeodyoy/qFxR5HnaoZmb5eB068GBqFkhsUK/JR6m5TM3IrZWyLB0a0A9XzRFCWrcHL97Vk0ZYeHNs4AYdIA6n7ZHCFvQixPw7Flt3/ZnA2USgZnmKcBCCycJAfAsH/DCaXADMg5Bqd2eN4bQTCZ1wCEb+nszxBhBY6n/rZLZ+0wY/MYiGjfxdMEtaBY5yx89SQGl4BudGWbrwCYBEAKkGIAn8HK7sLPykEtn/8/zE19fO7n0IAAAAAASUVORK5CYII=\"\n",
    "     style=\"display:block;margin:auto;width:5%\"/>\n",
    "<br>\n",
    "\n",
    "<div style=\"text-align:center; font-size:200%;\">\n",
    " <b>GoF: Command Pattern</b>\n",
    "</div>\n",
    "<br/>\n",
    "<div style=\"text-align:center; font-size:120%;\">Dr. Matthias Hölzl</div>\n",
    "<br/>\n",
    "<div style=\"text-align:center;\">Coding-Akademie München</div>\n",
    "<br/>\n",
    "<!-- 08 GoF Command Pattern.ipynb -->\n",
    "<!-- slides/module_450_design_patterns/topic_230_command.cpp -->"
   ]
  },
  {
   "cell_type": "markdown",
   "id": "2e117b92fb484e05",
   "metadata": {
    "lang": "de",
    "slideshow": {
     "slide_type": "slide"
    },
    "tags": [
     "slide"
    ]
   },
   "source": [
    "\n",
    "### Zweck\n",
    "\n",
    "Kapselung​ eines Requests als Objekt, um so die Parametrisierung von Clients\n",
    "mit verschiedenen Requests, Warteschlangen- oder Logging-Operationen sowie\n",
    "das Rückgängigmachen von Operationen zu ermöglichen."
   ]
  },
  {
   "cell_type": "markdown",
   "id": "aa6aeac75b4fafbb",
   "metadata": {
    "lang": "de",
    "slideshow": {
     "slide_type": "subslide"
    },
    "tags": [
     "subslide"
    ]
   },
   "source": [
    "\n",
    "### Auch bekannt als\n",
    "\n",
    "Aktion, Transaktion"
   ]
  },
  {
   "cell_type": "markdown",
   "id": "2427f2e4a4cc0f07",
   "metadata": {
    "lang": "de",
    "slideshow": {
     "slide_type": "subslide"
    },
    "tags": [
     "subslide"
    ]
   },
   "source": [
    "\n",
    "### Motivation\n",
    "\n",
    "Kommandos in graphischen Benutzeroberflächen\n",
    "\n",
    "- Können auf mehrere Arten aktiviert werden (Menü, Tastatur, Maus)\n",
    "- Sollten oft Undo/Redo unterstützen\n",
    "- Sollten geloggt werden können\n",
    "- Sollten in Warteschlangen abgelegt werden können\n",
    "- Sollten für Macros verwendet werden können"
   ]
  },
  {
   "cell_type": "markdown",
   "id": "ea2c2197e7db12b6",
   "metadata": {
    "lang": "de",
    "slideshow": {
     "slide_type": "subslide"
    },
    "tags": [
     "subslide"
    ]
   },
   "source": [
    "\n",
    "Mögliche Lösung: Implementierung als Objekt\n",
    "\n",
    "- Jedes Kommando wird als Objekt implementiert\n",
    "- Das Kommando-Objekt kapselt die Operation und ihre Parameter\n",
    "- Das Kommando-Objekt bietet eine Methode `Execute()`, die die Operation\n",
    "  ausführt"
   ]
  },
  {
   "cell_type": "markdown",
   "id": "ec99cbccc8486b58",
   "metadata": {
    "lang": "de",
    "slideshow": {
     "slide_type": "subslide"
    },
    "tags": [
     "subslide"
    ]
   },
   "source": [
    "\n",
    "<img src=\"img/command_example.svg\"\n",
    "     style=\"display:block;margin:auto;width:70%\"/>"
   ]
  },
  {
   "cell_type": "code",
   "execution_count": null,
   "id": "71a12c6d97d810e7",
   "metadata": {
    "slideshow": {
     "slide_type": "subslide"
    },
    "tags": [
     "keep",
     "subslide"
    ]
   },
   "outputs": [],
   "source": [
    "#include <iostream>\n",
    "#include <string>"
   ]
  },
  {
   "cell_type": "code",
   "execution_count": null,
   "id": "8dc13273a147e925",
   "metadata": {
    "tags": [
     "keep"
    ]
   },
   "outputs": [],
   "source": [
    "class Document\n",
    "{\n",
    "public:\n",
    "    Document(std::string text) : text_{std::move(text)} {}\n",
    "\n",
    "    void Modify(const std::string& new_text)\n",
    "    {\n",
    "        std::cout << \"  Document::Modify(\\\"\" << new_text << \"\\\")\\n\";\n",
    "        text_ = new_text + text_;\n",
    "    }\n",
    "    void Append(const std::string& text)\n",
    "    {\n",
    "        std::cout << \"  Document::Append(\\\"\" << text << \"\\\")\\n\";\n",
    "        text_ += text;\n",
    "    }\n",
    "\n",
    "    std::string GetState() const { return text_; }\n",
    "    void Restore(const std::string& state)\n",
    "    {\n",
    "        std::cout << \"  Document::Restore(\\\"\" << state << \"\\\")\\n\";\n",
    "        text_ = state;\n",
    "    }\n",
    "\n",
    "private:\n",
    "    std::string text_;\n",
    "}"
   ]
  },
  {
   "cell_type": "code",
   "execution_count": null,
   "id": "1ff2f8fc334a9e09",
   "metadata": {
    "slideshow": {
     "slide_type": "subslide"
    },
    "tags": [
     "keep",
     "subslide"
    ]
   },
   "outputs": [],
   "source": [
    "namespace std\n",
    "{\n",
    "    ostream& operator<<(ostream& os, ::Document doc)\n",
    "    {\n",
    "        os << doc.GetState();\n",
    "        return os;\n",
    "    }\n",
    "}"
   ]
  },
  {
   "cell_type": "code",
   "execution_count": null,
   "id": "ff96d1e03a74a0d2",
   "metadata": {
    "slideshow": {
     "slide_type": "subslide"
    },
    "tags": [
     "keep",
     "subslide"
    ]
   },
   "outputs": [],
   "source": [
    "class Command\n",
    "{\n",
    "public:\n",
    "    virtual ~Command() = default;\n",
    "\n",
    "    virtual void Execute() = 0;\n",
    "    virtual void Undo() = 0;\n",
    "};"
   ]
  },
  {
   "cell_type": "code",
   "execution_count": null,
   "id": "be86437d699372a4",
   "metadata": {
    "slideshow": {
     "slide_type": "subslide"
    },
    "tags": [
     "keep",
     "subslide"
    ]
   },
   "outputs": [],
   "source": [
    "int commandCounter{0};"
   ]
  },
  {
   "cell_type": "code",
   "execution_count": null,
   "id": "9e5741c265d864ac",
   "metadata": {
    "tags": [
     "keep"
    ]
   },
   "outputs": [],
   "source": [
    "class ModifyCommand : public Command\n",
    "{\n",
    "public:\n",
    "    ModifyCommand(Document& doc, std::string change)\n",
    "        : doc_{&doc}, change_{std::move(change)}\n",
    "    {}\n",
    "\n",
    "    void Execute() override\n",
    "    {\n",
    "        std::cout << \"ModifyCommand::Execute()\\n\";\n",
    "        state_ = doc_->GetState();\n",
    "        doc_->Modify(\"!\" + change_ + \"_\" + std::to_string(counter_));\n",
    "    }\n",
    "\n",
    "    void Undo() override\n",
    "    {\n",
    "        std::cout << \"ModifyCommand::Undo()\\n\";\n",
    "        doc_->Restore(state_);\n",
    "    }\n",
    "\n",
    "private:\n",
    "    Document* doc_;\n",
    "    std::string change_;\n",
    "    int counter_{++commandCounter};\n",
    "    std::string state_;\n",
    "};"
   ]
  },
  {
   "cell_type": "code",
   "execution_count": null,
   "id": "7435f564e7bdc089",
   "metadata": {
    "slideshow": {
     "slide_type": "subslide"
    },
    "tags": [
     "keep",
     "subslide"
    ]
   },
   "outputs": [],
   "source": [
    "class AppendCommand : public Command\n",
    "{\n",
    "public:\n",
    "    AppendCommand(Document& doc, std::string change)\n",
    "        : doc_{&doc}, change_{std::move(change)}\n",
    "    {}\n",
    "\n",
    "    void Execute() override\n",
    "    {\n",
    "        std::cout << \"AppendCommand::Execute()\\n\";\n",
    "        state_ = doc_->GetState();\n",
    "        doc_->Append(change_ + \"_\" + std::to_string(counter_) + \"!\");\n",
    "    }\n",
    "\n",
    "    void Undo() override\n",
    "    {\n",
    "        std::cout << \"AppendCommand::Undo()\\n\";\n",
    "        doc_->Restore(state_);\n",
    "    }\n",
    "\n",
    "private:\n",
    "    Document* doc_;\n",
    "    std::string change_;\n",
    "    int counter_{++commandCounter};\n",
    "    std::string state_;\n",
    "};"
   ]
  },
  {
   "cell_type": "code",
   "execution_count": null,
   "id": "92436757e961a7f8",
   "metadata": {
    "slideshow": {
     "slide_type": "subslide"
    },
    "tags": [
     "keep",
     "subslide"
    ]
   },
   "outputs": [],
   "source": [
    "std::vector<std::unique_ptr<Command>> history;"
   ]
  },
  {
   "cell_type": "code",
   "execution_count": null,
   "id": "7c5ab92b8df3dedd",
   "metadata": {
    "slideshow": {
     "slide_type": "subslide"
    },
    "tags": [
     "keep",
     "subslide"
    ]
   },
   "outputs": [],
   "source": [
    "class Menu\n",
    "{\n",
    "public:\n",
    "    Menu(Document& doc) : doc_{&doc} {}\n",
    "\n",
    "    void ModifyDocument()\n",
    "    {\n",
    "        auto command{std::make_unique<ModifyCommand>(*doc_, \"menu_mod\")};\n",
    "        command->Execute();\n",
    "        history.push_back(std::move(command));\n",
    "    }\n",
    "    void AppendDocument()\n",
    "    {\n",
    "        auto command{std::make_unique<AppendCommand>(*doc_, \"menu_app\")};\n",
    "        command->Execute();\n",
    "        history.push_back(std::move(command));\n",
    "    }\n",
    "    void Undo()\n",
    "    {\n",
    "        if (history.empty())\n",
    "        {\n",
    "            return;\n",
    "        }\n",
    "        auto& last{history.back()};\n",
    "        last->Undo();\n",
    "        history.pop_back();\n",
    "    }\n",
    "\n",
    "private:\n",
    "    Document* doc_;\n",
    "};"
   ]
  },
  {
   "cell_type": "code",
   "execution_count": null,
   "id": "cb6557dc66f683d9",
   "metadata": {
    "slideshow": {
     "slide_type": "subslide"
    },
    "tags": [
     "keep",
     "subslide"
    ]
   },
   "outputs": [],
   "source": [
    "class KeyboardShortcuts\n",
    "{\n",
    "public:\n",
    "    KeyboardShortcuts(Document& doc) : doc_{&doc} {}\n",
    "\n",
    "    void ModifyDocument()\n",
    "    {\n",
    "        auto save = std::make_unique<ModifyCommand>(*doc_, \"key_mod\");\n",
    "        save->Execute();\n",
    "        history.push_back(std::move(save));\n",
    "    }\n",
    "    void AppendDocument()\n",
    "    {\n",
    "        auto save = std::make_unique<AppendCommand>(*doc_, \"key_app\");\n",
    "        save->Execute();\n",
    "        history.push_back(std::move(save));\n",
    "    }\n",
    "    void Undo()\n",
    "    {\n",
    "        if (history.empty())\n",
    "        {\n",
    "            return;\n",
    "        }\n",
    "        auto& last{history.back()};\n",
    "        last->Undo();\n",
    "        history.pop_back();\n",
    "    }\n",
    "\n",
    "private:\n",
    "    Document* doc_;\n",
    "}"
   ]
  },
  {
   "cell_type": "code",
   "execution_count": null,
   "id": "249520a631cb15a7",
   "metadata": {
    "slideshow": {
     "slide_type": "subslide"
    },
    "tags": [
     "keep",
     "subslide"
    ]
   },
   "outputs": [],
   "source": [
    "commandCounter = 0;\n",
    "Document doc{\"<<doc>>\"};\n",
    "Menu menu{doc};\n",
    "KeyboardShortcuts shortcuts{doc};\n",
    "std::cout << \"  \" << doc << '\\n';"
   ]
  },
  {
   "cell_type": "code",
   "execution_count": null,
   "id": "00811543bca1a95f",
   "metadata": {
    "tags": [
     "keep"
    ]
   },
   "outputs": [],
   "source": [
    "menu.ModifyDocument();\n",
    "std::cout << \"  \" << doc << '\\n';"
   ]
  },
  {
   "cell_type": "code",
   "execution_count": null,
   "id": "513b15f42dbaf24c",
   "metadata": {
    "tags": [
     "keep"
    ]
   },
   "outputs": [],
   "source": [
    "shortcuts.ModifyDocument();\n",
    "std::cout << \"  \" << doc << '\\n';"
   ]
  },
  {
   "cell_type": "code",
   "execution_count": null,
   "id": "3c83f8f637a6e9a8",
   "metadata": {
    "tags": [
     "keep"
    ]
   },
   "outputs": [],
   "source": [
    "menu.AppendDocument();\n",
    "std::cout << \"  \" << doc << '\\n';"
   ]
  },
  {
   "cell_type": "code",
   "execution_count": null,
   "id": "f356877aa362eaf0",
   "metadata": {
    "slideshow": {
     "slide_type": "subslide"
    },
    "tags": [
     "keep",
     "subslide"
    ]
   },
   "outputs": [],
   "source": [
    "std::cout << \"  \" << doc << '\\n';\n",
    "shortcuts.ModifyDocument();\n",
    "std::cout << \"  \" << doc << '\\n';"
   ]
  },
  {
   "cell_type": "code",
   "execution_count": null,
   "id": "d92fedb4a3918e1a",
   "metadata": {
    "tags": [
     "keep"
    ]
   },
   "outputs": [],
   "source": [
    "shortcuts.AppendDocument();\n",
    "std::cout << \"  \" << doc << '\\n';"
   ]
  },
  {
   "cell_type": "code",
   "execution_count": null,
   "id": "d1d752d402d5e6b2",
   "metadata": {
    "slideshow": {
     "slide_type": "subslide"
    },
    "tags": [
     "keep",
     "subslide"
    ]
   },
   "outputs": [],
   "source": [
    "menu.Undo();\n",
    "std::cout << \"  \" << doc << '\\n';"
   ]
  },
  {
   "cell_type": "code",
   "execution_count": null,
   "id": "a1688da154e71487",
   "metadata": {
    "tags": [
     "keep"
    ]
   },
   "outputs": [],
   "source": [
    "menu.Undo();\n",
    "std::cout << \"  \" << doc << '\\n';"
   ]
  },
  {
   "cell_type": "code",
   "execution_count": null,
   "id": "cd75fc13d1372293",
   "metadata": {
    "tags": [
     "keep"
    ]
   },
   "outputs": [],
   "source": [
    "shortcuts.Undo();\n",
    "std::cout << \"  \" << doc << '\\n';"
   ]
  },
  {
   "cell_type": "code",
   "execution_count": null,
   "id": "1092de28214d55c0",
   "metadata": {
    "slideshow": {
     "slide_type": "subslide"
    },
    "tags": [
     "keep",
     "subslide"
    ]
   },
   "outputs": [],
   "source": [
    "std::cout << \"  \" << doc << '\\n';\n",
    "shortcuts.ModifyDocument();\n",
    "std::cout << \"  \" << doc << '\\n';"
   ]
  },
  {
   "cell_type": "code",
   "execution_count": null,
   "id": "2f4bf7f8f1cdf24f",
   "metadata": {
    "tags": [
     "keep"
    ]
   },
   "outputs": [],
   "source": [
    "shortcuts.AppendDocument();\n",
    "std::cout << \"  \" << doc << '\\n';"
   ]
  },
  {
   "cell_type": "code",
   "execution_count": null,
   "id": "5102724ba9379543",
   "metadata": {
    "slideshow": {
     "slide_type": "subslide"
    },
    "tags": [
     "keep",
     "subslide"
    ]
   },
   "outputs": [],
   "source": [
    "menu.Undo();\n",
    "std::cout << \"  \" << doc << '\\n';"
   ]
  },
  {
   "cell_type": "code",
   "execution_count": null,
   "id": "7eae8ccb305f94e6",
   "metadata": {
    "tags": [
     "keep"
    ]
   },
   "outputs": [],
   "source": [
    "shortcuts.Undo();\n",
    "std::cout << \"  \" << doc << '\\n';"
   ]
  },
  {
   "cell_type": "markdown",
   "id": "64b5b79fefb5459f",
   "metadata": {
    "lang": "de",
    "slideshow": {
     "slide_type": "subslide"
    },
    "tags": [
     "subslide"
    ]
   },
   "source": [
    "\n",
    "### Anwendbarkeit\n",
    "\n",
    "- Parametrisierung von Objekten mit einer ausführbaren Operation\n",
    "- Erzeugung und Ausführung von Operationen zu verschiedenen Zeitpunkten\n",
    "- Warteschlangen von Operationen\n",
    "- Undo/Redo\n",
    "- Logging von Operationen\n",
    "- Unterstützung von Transaktionen"
   ]
  },
  {
   "cell_type": "markdown",
   "id": "8204eb1c785436d5",
   "metadata": {
    "lang": "de",
    "slideshow": {
     "slide_type": "subslide"
    },
    "tags": [
     "subslide"
    ]
   },
   "source": [
    "\n",
    "### Struktur\n",
    "\n",
    "<img src=\"img/pat_command.svg\"\n",
    "     style=\"display:block;margin:auto;width:70%\"/>"
   ]
  },
  {
   "cell_type": "markdown",
   "id": "6d6259530a3aeb19",
   "metadata": {
    "lang": "de",
    "slideshow": {
     "slide_type": "subslide"
    },
    "tags": [
     "subslide"
    ]
   },
   "source": [
    "\n",
    "### Teilnehmer\n",
    "\n",
    "- **Command**\n",
    "  - Deklariert ein Interface für das Ausführen einer Operation\n",
    "- **ConcreteCommand**\n",
    "  - Implementiert `Execute()` durch Aufruf der entsprechenden Operation(en)\n",
    "    an `Receiver`\n",
    "  - Definiert einen Link zwischen `Receiver` und `Action`\n",
    "- **Client**\n",
    "  - Erstellt ein `ConcreteCommand`-Objekt und setzt dessen `Receiver`\n",
    "- **Invoker**\n",
    "  - Ruft `Execute()` auf `ConcreteCommand` auf um die Anfrage auszuführen"
   ]
  },
  {
   "cell_type": "markdown",
   "id": "3848f609ed17a288",
   "metadata": {
    "lang": "de",
    "slideshow": {
     "slide_type": "subslide"
    },
    "tags": [
     "subslide"
    ]
   },
   "source": [
    "\n",
    "### Sequenzendiagramm\n",
    "\n",
    "<img src=\"img/pat_command_seq.svg\"\n",
    "     style=\"display:block;margin:auto;width:70%\"/>"
   ]
  },
  {
   "cell_type": "markdown",
   "id": "1a4622082c9d9fa8",
   "metadata": {
    "lang": "de",
    "slideshow": {
     "slide_type": "subslide"
    },
    "tags": [
     "subslide"
    ]
   },
   "source": [
    "\n",
    "### Interaktionen\n",
    "\n",
    "- Ein Client erstellt ein `ConcreteCommand`-Objekt und setzt dessen `Receiver`\n",
    "- Ein `Invoker`-Objekt speichert das `ConcreteCommand`-Objekt\n",
    "- Der `Invoker` ruft `Execute()` auf dem `ConcreteCommand`-Objekt auf.\n",
    "  Falls Kommandos rückgängig gemacht werden können, speichert das\n",
    "  `ConcreteCommand`-Objekt den Zustand, der benötigt wird, um die Operation\n",
    "  rückgängig zu machen.\n",
    "- Das `ConcreteCommand`-Objekt ruft eine oder mehrere Operationen am\n",
    "  `Receiver` auf, um die Anfrage auszuführen"
   ]
  },
  {
   "cell_type": "markdown",
   "id": "201fb1048b42c3a0",
   "metadata": {
    "lang": "de",
    "slideshow": {
     "slide_type": "subslide"
    },
    "tags": [
     "subslide"
    ]
   },
   "source": [
    "\n",
    "### Konsequenzen\n",
    "\n",
    "- Einfache Erweiterung des Systems durch neue `ConcreteCommand`-Klassen\n",
    "- Einfache Implementierung von Undo/Redo und anderen erweiterten Funktionen\n",
    "- Entkopplung von `Client`, `Invoker` und `Receiver` möglich\n",
    "- Zusammenfassung von Operationen in `MacroCommands` möglich"
   ]
  },
  {
   "cell_type": "markdown",
   "id": "383d445bb068d605",
   "metadata": {
    "lang": "de",
    "slideshow": {
     "slide_type": "subslide"
    },
    "tags": [
     "subslide"
    ]
   },
   "source": [
    "\n",
    "### Implementierung\n",
    "\n",
    "- Für einfache Szenarien kann eine `SimpleCommand`-Klasse, die einen Zeiger\n",
    "  auf eine Memberfunktion speichert verwendet werden\n",
    "- ..."
   ]
  },
  {
   "cell_type": "code",
   "execution_count": null,
   "id": "d3f0e2c5c60cd02c",
   "metadata": {
    "slideshow": {
     "slide_type": "subslide"
    },
    "tags": [
     "subslide",
     "keep"
    ]
   },
   "outputs": [],
   "source": [
    "class SimpleCommand : public Command\n",
    "{\n",
    "public:\n",
    "    using Action = void (Document::*)(const std::string& new_text);\n",
    "\n",
    "    SimpleCommand(Document& doc, Action action, std::string text)\n",
    "        : doc_{&doc}, action_{action}, text_{text}\n",
    "    {}\n",
    "\n",
    "    void Execute() override\n",
    "    {\n",
    "        std::cout << \"SimpleCommand::Execute()\\n\";\n",
    "        state_ = doc_->GetState();\n",
    "        (doc_->*action_)(\"!\" + text_ + \"_\" + std::to_string(counter_) + \"!\");\n",
    "    }\n",
    "\n",
    "    void Undo() override\n",
    "    {\n",
    "        std::cout << \"SimpleCommand::Undo()\\n\";\n",
    "        doc_->Restore(state_);\n",
    "    }\n",
    "\n",
    "private:\n",
    "    Document* doc_;\n",
    "    Action action_;\n",
    "    std::string text_;\n",
    "    int counter_{++commandCounter};\n",
    "    std::string state_;\n",
    "};"
   ]
  },
  {
   "cell_type": "code",
   "execution_count": null,
   "id": "0b9b52826463ad18",
   "metadata": {
    "slideshow": {
     "slide_type": "subslide"
    },
    "tags": [
     "keep",
     "subslide"
    ]
   },
   "outputs": [],
   "source": [
    "void RunSimpleAction(\n",
    "    Document& doc, SimpleCommand::Action action, const std::string& text\n",
    ")\n",
    "{\n",
    "    auto command{std::make_unique<SimpleCommand>(doc, action, text)};\n",
    "    command->Execute();\n",
    "    history.push_back(std::move(command));\n",
    "}"
   ]
  },
  {
   "cell_type": "code",
   "execution_count": null,
   "id": "f300abf930b12dc2",
   "metadata": {
    "tags": [
     "keep"
    ]
   },
   "outputs": [],
   "source": [
    "void Undo()\n",
    "{\n",
    "    if (history.empty())\n",
    "    {\n",
    "        return;\n",
    "    }\n",
    "    auto& last{history.back()};\n",
    "    last->Undo();\n",
    "    history.pop_back();\n",
    "}"
   ]
  },
  {
   "cell_type": "code",
   "execution_count": null,
   "id": "d445608ca1c6f86a",
   "metadata": {
    "slideshow": {
     "slide_type": "subslide"
    },
    "tags": [
     "subslide",
     "keep"
    ]
   },
   "outputs": [],
   "source": [
    "history.clear();\n",
    "commandCounter = 0;\n",
    "Document doc{\"<<doc>>\"};\n",
    "std::cout << \"  \" << doc << '\\n';"
   ]
  },
  {
   "cell_type": "code",
   "execution_count": null,
   "id": "93c2c89a7829433c",
   "metadata": {
    "tags": [
     "keep"
    ]
   },
   "outputs": [],
   "source": [
    "RunSimpleAction(doc, &Document::Modify, \"mod\");\n",
    "std::cout << \"  \" << doc << '\\n';"
   ]
  },
  {
   "cell_type": "code",
   "execution_count": null,
   "id": "cc0c17ca40c03e27",
   "metadata": {
    "tags": [
     "keep"
    ]
   },
   "outputs": [],
   "source": [
    "RunSimpleAction(doc, &Document::Append, \"app\");\n",
    "std::cout << \"  \" << doc << '\\n';"
   ]
  },
  {
   "cell_type": "code",
   "execution_count": null,
   "id": "4ef228eacb63b40f",
   "metadata": {
    "tags": [
     "keep"
    ]
   },
   "outputs": [],
   "source": [
    "RunSimpleAction(doc, &Document::Modify, \"mod\");\n",
    "std::cout << \"  \" << doc << '\\n';"
   ]
  },
  {
   "cell_type": "code",
   "execution_count": null,
   "id": "aaa47019c3cc65f8",
   "metadata": {
    "slideshow": {
     "slide_type": "subslide"
    },
    "tags": [
     "keep",
     "subslide"
    ]
   },
   "outputs": [],
   "source": [
    "Undo();\n",
    "std::cout << \"  \" << doc << '\\n';"
   ]
  },
  {
   "cell_type": "code",
   "execution_count": null,
   "id": "cfa3b7530c26bfb4",
   "metadata": {
    "tags": [
     "keep"
    ]
   },
   "outputs": [],
   "source": [
    "Undo();\n",
    "std::cout << \"  \" << doc << '\\n';"
   ]
  },
  {
   "cell_type": "code",
   "execution_count": null,
   "id": "b5e0e138885ed917",
   "metadata": {
    "slideshow": {
     "slide_type": "subslide"
    },
    "tags": [
     "keep",
     "subslide"
    ]
   },
   "outputs": [],
   "source": [
    "RunSimpleAction(doc, &Document::Append, \"app\");\n",
    "std::cout << \"  \" << doc << '\\n';"
   ]
  },
  {
   "cell_type": "code",
   "execution_count": null,
   "id": "8c168ae5fa69dd18",
   "metadata": {
    "tags": [
     "keep"
    ]
   },
   "outputs": [],
   "source": [
    "Undo();\n",
    "std::cout << \"  \" << doc << '\\n';"
   ]
  },
  {
   "cell_type": "code",
   "execution_count": null,
   "id": "642a66fe69b6a776",
   "metadata": {
    "tags": [
     "keep"
    ]
   },
   "outputs": [],
   "source": [
    "Undo();\n",
    "std::cout << \"  \" << doc << '\\n';"
   ]
  },
  {
   "cell_type": "code",
   "execution_count": null,
   "id": "7f1178d7192e65e3",
   "metadata": {
    "tags": [
     "keep"
    ]
   },
   "outputs": [],
   "source": [
    "Undo();\n",
    "std::cout << \"  \" << doc << '\\n';"
   ]
  },
  {
   "cell_type": "markdown",
   "id": "321bf5c95f034794",
   "metadata": {
    "lang": "de",
    "slideshow": {
     "slide_type": "subslide"
    },
    "tags": [
     "subslide"
    ]
   },
   "source": [
    "\n",
    "## Workshop: Command Pattern\n",
    "\n",
    "### Szenario\n",
    "\n",
    "Eine Bank möchte ihr Online-Banking-System verbessern. Das System soll verschiedene\n",
    "Funktionen anbieten, wie Überweisungen tätigen, Daueraufträge einrichten und\n",
    "Kontostände abfragen. Zusätzlich soll es möglich sein, die letzte Aktion rückgängig\n",
    "zu machen, falls ein Kunde einen Fehler gemacht hat."
   ]
  },
  {
   "cell_type": "markdown",
   "id": "c359fbed7fef0ee4",
   "metadata": {
    "lang": "de",
    "slideshow": {
     "slide_type": "subslide"
    },
    "tags": [
     "subslide"
    ]
   },
   "source": [
    "\n",
    "### Ziel\n",
    "\n",
    "Ihre Aufgabe ist es, die Online-Banking-Operationen mit dem Command Pattern zu\n",
    "implementieren. Dies soll die einfache Erweiterung des Systems in der Zukunft\n",
    "ermöglichen und eine Undo-Funktion für die letzte Transaktion bereitstellen."
   ]
  },
  {
   "cell_type": "markdown",
   "id": "b4e44cd23e368304",
   "metadata": {
    "lang": "de",
    "slideshow": {
     "slide_type": "subslide"
    },
    "tags": [
     "subslide"
    ]
   },
   "source": [
    "\n",
    "### Starter Code"
   ]
  },
  {
   "cell_type": "code",
   "execution_count": null,
   "id": "09919409c52ba7e4",
   "metadata": {
    "tags": [
     "keep"
    ]
   },
   "outputs": [],
   "source": [
    "#include <iostream>\n",
    "#include <string>\n",
    "#include <vector>"
   ]
  },
  {
   "cell_type": "code",
   "execution_count": null,
   "id": "39f3c7f5f942967e",
   "metadata": {
    "tags": [
     "keep"
    ]
   },
   "outputs": [],
   "source": [
    "struct StandingOrder\n",
    "{\n",
    "    StandingOrder(double amount, std::string recipient, std::string frequency)\n",
    "        : amount{amount},\n",
    "          recipient{std::move(recipient)},\n",
    "          frequency{std::move(frequency)}\n",
    "    {}\n",
    "    double amount;\n",
    "    std::string recipient;\n",
    "    std::string frequency;\n",
    "};"
   ]
  },
  {
   "cell_type": "code",
   "execution_count": null,
   "id": "12681d4922c4ad4d",
   "metadata": {
    "slideshow": {
     "slide_type": "subslide"
    },
    "tags": [
     "keep",
     "subslide"
    ]
   },
   "outputs": [],
   "source": [
    "class Account\n",
    "{\n",
    "private:\n",
    "    std::string account_number_;\n",
    "    double balance_;\n",
    "    std::vector<StandingOrder> standing_orders_;\n",
    "\n",
    "public:\n",
    "    Account(const std::string& account_number, double initial_balance)\n",
    "        : account_number_(account_number), balance_(initial_balance)\n",
    "    {}\n",
    "\n",
    "    void Transfer(double amount, const std::string& recipient)\n",
    "    {\n",
    "        if (amount <= balance_)\n",
    "        {\n",
    "            balance_ -= amount;\n",
    "            std::cout << \"Transferred: $\" << amount << \" to \" << recipient\n",
    "                      << \". New Balance: $\" << balance_ << \"\\n\";\n",
    "        }\n",
    "        else\n",
    "        {\n",
    "            std::cout << \"Insufficient funds. Current Balance: $\" << balance_ << \"\\n\";\n",
    "        }\n",
    "    }\n",
    "\n",
    "    void SetupStandingOrder(\n",
    "        double amount, const std::string& recipient, const std::string& frequency\n",
    "    )\n",
    "    {\n",
    "        std::cout << \"Set up standing order: $\" << amount << \" to \" << recipient << \" \"\n",
    "                  << frequency << \"\\n\";\n",
    "        standing_orders_.emplace_back(amount, recipient, frequency);\n",
    "    }\n",
    "\n",
    "    void CancelStandingOrder(const std::string& recipient)\n",
    "    {\n",
    "        auto it = std::find_if(\n",
    "            standing_orders_.begin(), standing_orders_.end(),\n",
    "            [&recipient](const StandingOrder& so) { return so.recipient == recipient; }\n",
    "        );\n",
    "        if (it != standing_orders_.end())\n",
    "        {\n",
    "            std::cout << \"Cancelled standing order: $\" << it->amount << \" to \"\n",
    "                      << it->recipient << \" \" << it->frequency << \"\\n\";\n",
    "            standing_orders_.erase(it);\n",
    "        }\n",
    "        else\n",
    "        {\n",
    "            std::cout << \"No standing order found for recipient: \" << recipient << \"\\n\";\n",
    "        }\n",
    "    }\n",
    "\n",
    "    double GetBalance() const { return balance_; }\n",
    "    std::string GetAccountNumber() const { return account_number_; }\n",
    "    const std::vector<StandingOrder>& GetStandingOrders() const\n",
    "    {\n",
    "        return standing_orders_;\n",
    "    }\n",
    "};"
   ]
  },
  {
   "cell_type": "code",
   "execution_count": null,
   "id": "725f742fee017822",
   "metadata": {
    "slideshow": {
     "slide_type": "subslide"
    },
    "tags": [
     "keep",
     "subslide"
    ]
   },
   "outputs": [],
   "source": [
    "namespace std\n",
    "{\n",
    "ostream& operator<<(ostream& os, const ::Account& acc)\n",
    "{\n",
    "    os << \"Account: \" << acc.GetAccountNumber() << \", Balance: $\" << acc.GetBalance();\n",
    "\n",
    "    if (acc.GetStandingOrders().empty())\n",
    "    {\n",
    "        os << \", No Standing Orders\\n\";\n",
    "    }\n",
    "    else\n",
    "    {\n",
    "        os << \"\\n  Standing Orders:\";\n",
    "        for (const auto& so : acc.GetStandingOrders())\n",
    "        {\n",
    "            os << \"\\n    Amount: $\" << so.amount << \", Recipient: \" << so.recipient\n",
    "               << \", Frequency: \" << so.frequency;\n",
    "        }\n",
    "        os << \"\\n\";\n",
    "    }\n",
    "    return os;\n",
    "}\n",
    "} // namespace std"
   ]
  },
  {
   "cell_type": "code",
   "execution_count": null,
   "id": "4cc69643e506076f",
   "metadata": {
    "slideshow": {
     "slide_type": "subslide"
    },
    "tags": [
     "subslide",
     "alt"
    ]
   },
   "outputs": [],
   "source": [
    "#include <memory> // for std::unique_ptr\n",
    "#include <vector>"
   ]
  },
  {
   "cell_type": "code",
   "execution_count": null,
   "id": "6336e7024eb52192",
   "metadata": {
    "tags": [
     "alt"
    ]
   },
   "outputs": [],
   "source": [
    "class Command\n",
    "{\n",
    "public:\n",
    "    virtual ~Command() = default;\n",
    "    virtual void Execute() = 0;\n",
    "    virtual void Undo() = 0;\n",
    "};"
   ]
  },
  {
   "cell_type": "code",
   "execution_count": null,
   "id": "d6e24d0308a90db7",
   "metadata": {
    "slideshow": {
     "slide_type": "subslide"
    },
    "tags": [
     "subslide",
     "alt"
    ]
   },
   "outputs": [],
   "source": [
    "class TransferCommand : public Command\n",
    "{\n",
    "private:\n",
    "    Account& account_;\n",
    "    double amount_;\n",
    "    std::string recipient_;\n",
    "\n",
    "public:\n",
    "    TransferCommand(Account& acc, double amt, const std::string& recipient)\n",
    "        : account_(acc), amount_(amt), recipient_(recipient)\n",
    "    {}\n",
    "\n",
    "    void Execute() override { account_.Transfer(amount_, recipient_); }\n",
    "\n",
    "    void Undo() override\n",
    "    {\n",
    "        std::cout << \"Reversing transfer of $\" << amount_ << \" from \" << recipient_\n",
    "                  << \".\\n\";\n",
    "        account_.Transfer(-amount_, \"Reversal\");\n",
    "    }\n",
    "};"
   ]
  },
  {
   "cell_type": "code",
   "execution_count": null,
   "id": "a153c4e3f1df7c32",
   "metadata": {
    "slideshow": {
     "slide_type": "subslide"
    },
    "tags": [
     "alt",
     "subslide"
    ]
   },
   "outputs": [],
   "source": [
    "class SetupStandingOrderCommand : public Command\n",
    "{\n",
    "private:\n",
    "    Account& account_;\n",
    "    double amount_;\n",
    "    std::string recipient_;\n",
    "    std::string frequency_;\n",
    "\n",
    "public:\n",
    "    SetupStandingOrderCommand(\n",
    "        Account& acc, double amt, const std::string& recipient,\n",
    "        const std::string& frequency\n",
    "    )\n",
    "        : account_(acc), amount_(amt), recipient_(recipient), frequency_(frequency)\n",
    "    {}\n",
    "\n",
    "    void Execute() override\n",
    "    {\n",
    "        account_.SetupStandingOrder(amount_, recipient_, frequency_);\n",
    "    }\n",
    "\n",
    "    void Undo() override { account_.CancelStandingOrder(recipient_); }\n",
    "};"
   ]
  },
  {
   "cell_type": "code",
   "execution_count": null,
   "id": "45d505d83da86b71",
   "metadata": {
    "slideshow": {
     "slide_type": "subslide"
    },
    "tags": [
     "subslide",
     "alt"
    ]
   },
   "outputs": [],
   "source": [
    "class OnlineBankingSystem\n",
    "{\n",
    "private:\n",
    "    Account account_;\n",
    "    std::vector<std::unique_ptr<Command>> command_history_;\n",
    "\n",
    "public:\n",
    "    OnlineBankingSystem(const std::string& account_number, double initial_balance)\n",
    "        : account_(account_number, initial_balance)\n",
    "    {}\n",
    "\n",
    "    const Account& GetAccount() const { return account_; }\n",
    "\n",
    "    void Transfer(double amount, const std::string& recipient)\n",
    "    {\n",
    "        auto cmd = std::make_unique<TransferCommand>(account_, amount, recipient);\n",
    "        cmd->Execute();\n",
    "        command_history_.push_back(std::move(cmd));\n",
    "    }\n",
    "\n",
    "    void SetupStandingOrder(\n",
    "        double amount, const std::string& recipient, const std::string& frequency\n",
    "    )\n",
    "    {\n",
    "        auto cmd = std::make_unique<SetupStandingOrderCommand>(\n",
    "            account_, amount, recipient, frequency\n",
    "        );\n",
    "        cmd->Execute();\n",
    "        command_history_.push_back(std::move(cmd));\n",
    "    }\n",
    "\n",
    "    void UndoLastTransaction()\n",
    "    {\n",
    "        if (!command_history_.empty())\n",
    "        {\n",
    "            command_history_.back()->Undo();\n",
    "            command_history_.pop_back();\n",
    "        }\n",
    "        else\n",
    "        {\n",
    "            std::cout << \"No transaction to undo.\" << std::endl;\n",
    "        }\n",
    "    }\n",
    "\n",
    "    double GetBalance() const { return account_.GetBalance(); }\n",
    "};"
   ]
  },
  {
   "cell_type": "code",
   "execution_count": null,
   "id": "50b00019e123c26d",
   "metadata": {
    "slideshow": {
     "slide_type": "subslide"
    },
    "tags": [
     "subslide",
     "alt"
    ]
   },
   "outputs": [],
   "source": [
    "OnlineBankingSystem banking(\"123456789\", 1000);\n",
    "std::cout << banking.GetAccount();"
   ]
  },
  {
   "cell_type": "code",
   "execution_count": null,
   "id": "8cb4bf4065606820",
   "metadata": {
    "tags": [
     "alt"
    ]
   },
   "outputs": [],
   "source": [
    "banking.Transfer(100, \"John Doe\");\n",
    "std::cout << banking.GetAccount();"
   ]
  },
  {
   "cell_type": "code",
   "execution_count": null,
   "id": "5d0c086a7e347573",
   "metadata": {
    "tags": [
     "alt"
    ]
   },
   "outputs": [],
   "source": [
    "banking.SetupStandingOrder(50, \"Electricity Company\", \"Monthly\");\n",
    "std::cout << banking.GetAccount();"
   ]
  },
  {
   "cell_type": "code",
   "execution_count": null,
   "id": "515f2f4bd3d58c05",
   "metadata": {
    "tags": [
     "alt"
    ]
   },
   "outputs": [],
   "source": [
    "banking.Transfer(200, \"Jane Doe\");\n",
    "std::cout << banking.GetAccount();"
   ]
  },
  {
   "cell_type": "code",
   "execution_count": null,
   "id": "9bf8e3761c1c522e",
   "metadata": {
    "slideshow": {
     "slide_type": "subslide"
    },
    "tags": [
     "alt",
     "subslide"
    ]
   },
   "outputs": [],
   "source": [
    "std::cout << banking.GetAccount();"
   ]
  },
  {
   "cell_type": "code",
   "execution_count": null,
   "id": "e5261d2e635e6a0b",
   "metadata": {
    "tags": [
     "alt"
    ]
   },
   "outputs": [],
   "source": [
    "banking.UndoLastTransaction();\n",
    "std::cout << banking.GetAccount();"
   ]
  },
  {
   "cell_type": "code",
   "execution_count": null,
   "id": "c8b923dde3dc22e9",
   "metadata": {
    "tags": [
     "alt"
    ]
   },
   "outputs": [],
   "source": [
    "banking.UndoLastTransaction();\n",
    "std::cout << banking.GetAccount();"
   ]
  },
  {
   "cell_type": "code",
   "execution_count": null,
   "id": "6024d1f01694d4d5",
   "metadata": {
    "tags": [
     "alt"
    ]
   },
   "outputs": [],
   "source": [
    "banking.UndoLastTransaction();\n",
    "std::cout << banking.GetAccount();"
   ]
  },
  {
   "cell_type": "code",
   "execution_count": null,
   "id": "d30ad2d764db3c81",
   "metadata": {
    "tags": [
     "alt"
    ]
   },
   "outputs": [],
   "source": [
    "banking.SetupStandingOrder(75, \"Water Company\", \"Monthly\");\n",
    "std::cout << banking.GetAccount();"
   ]
  },
  {
   "cell_type": "code",
   "execution_count": null,
   "id": "bc891063fc0c5eaa",
   "metadata": {
    "tags": [
     "alt"
    ]
   },
   "outputs": [],
   "source": [
    "banking.UndoLastTransaction();\n",
    "std::cout << banking.GetAccount();"
   ]
  }
 ],
 "metadata": {
  "kernelspec": {
   "display_name": "C++17",
   "language": "C++17",
   "name": "xcpp17"
  },
  "language_info": {
   "codemirror_mode": "text/x-c++src",
   "file_extension": ".cpp",
   "mimetype": "text/x-c++src",
   "name": "c++",
   "version": "17"
  }
 },
 "nbformat": 4,
 "nbformat_minor": 5
}
