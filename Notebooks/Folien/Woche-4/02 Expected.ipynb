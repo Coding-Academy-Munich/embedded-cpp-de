{
 "cells": [
  {
   "cell_type": "markdown",
   "id": "1e1328da0dcecaeb",
   "metadata": {
    "lang": "de",
    "slideshow": {
     "slide_type": "slide"
    },
    "tags": [
     "slide"
    ]
   },
   "source": [
    "\n",
    "<img src=\"data:image/png;base64,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\"\n",
    "     style=\"display:block;margin:auto;width:5%\"/>\n",
    "<br>\n",
    "\n",
    "<div style=\"text-align:center; font-size:200%;\">\n",
    " <b>Expected</b>\n",
    "</div>\n",
    "<br/>\n",
    "<div style=\"text-align:center; font-size:120%;\">Dr. Matthias Hölzl</div>\n",
    "<br/>\n",
    "<div style=\"text-align:center;\">Coding-Akademie München</div>\n",
    "<br/>\n",
    "<!-- 02 Expected.ipynb -->\n",
    "<!-- slides/module_180_error_handling/topic_310_expected.cpp -->"
   ]
  },
  {
   "cell_type": "markdown",
   "id": "f1946466d1a06fa6",
   "metadata": {
    "lang": "de",
    "slideshow": {
     "slide_type": "slide"
    },
    "tags": [
     "slide"
    ]
   },
   "source": [
    "\n",
    "## Implementierungen\n",
    "\n",
    "- Standard (C++23):\n",
    "[`std::expected`](https://en.cppreference.com/w/cpp/utility/expected)\n",
    "- TartanLlama: [`tl.expected`](https://github.com/TartanLlama/expected)\n",
    "- ETL: [`etl::expected`](https://www.etlcpp.com/expected.html)"
   ]
  },
  {
   "cell_type": "markdown",
   "id": "afebc1615ac1266d",
   "metadata": {
    "lang": "de",
    "slideshow": {
     "slide_type": "subslide"
    },
    "tags": [
     "subslide"
    ]
   },
   "source": [
    "\n",
    "- `std::expected<T, E>` ist ein Typ, der entweder ein Objekt vom Typ `T` oder\n",
    "  ein Objekt vom Typ `E` enthält.\n",
    "- `T` repräsentiert den Erfolgsfall\n",
    "- `E` repräsentiert den Fehlerfall\n",
    "- `bool(ex)` oder `ex.has_value()`: Wahr im Erfolgsfall\n",
    "- `*ex` oder `ex.value()`: Zugriff auf den Wert\n",
    "- `ex.error()`: Zugriff auf den Fehler"
   ]
  },
  {
   "cell_type": "code",
   "execution_count": null,
   "id": "fe3e63346ad471f1",
   "metadata": {
    "slideshow": {
     "slide_type": "subslide"
    },
    "tags": [
     "keep",
     "subslide"
    ]
   },
   "outputs": [],
   "source": [
    "#include \"expected.hpp\"\n",
    "#include <cstddef>\n",
    "#include <iomanip>\n",
    "#include <iostream>\n",
    "#include <string>"
   ]
  },
  {
   "cell_type": "code",
   "execution_count": null,
   "id": "897187e958a1361b",
   "metadata": {
    "slideshow": {
     "slide_type": "subslide"
    },
    "tags": [
     "keep",
     "subslide"
    ]
   },
   "outputs": [],
   "source": [
    "enum class Error\n",
    "{\n",
    "    camera_not_available,\n",
    "    lidar_not_available,\n",
    "}"
   ]
  },
  {
   "cell_type": "code",
   "execution_count": null,
   "id": "3bb40abc2765fde3",
   "metadata": {
    "tags": [
     "keep"
    ]
   },
   "outputs": [],
   "source": [
    "std::string\n",
    "error_string(Error error)\n",
    "{\n",
    "    switch (error)\n",
    "    {\n",
    "    case Error::camera_not_available:\n",
    "        return \"Camera not available!\";\n",
    "    case Error::lidar_not_available:\n",
    "        return \"Lidar not available!\";\n",
    "    default:\n",
    "        return \"Unexpected error!\";\n",
    "    }\n",
    "}"
   ]
  },
  {
   "cell_type": "code",
   "execution_count": null,
   "id": "d482ca9b76cb5b9e",
   "metadata": {
    "lines_to_next_cell": 2,
    "slideshow": {
     "slide_type": "subslide"
    },
    "tags": [
     "keep",
     "subslide"
    ]
   },
   "outputs": [],
   "source": [
    "constexpr std::byte camera_bit{0b0001};\n",
    "constexpr std::byte lidar_bit{0b0010};"
   ]
  },
  {
   "cell_type": "code",
   "execution_count": null,
   "id": "7e9da841ac894a3f",
   "metadata": {
    "lines_to_next_cell": 2,
    "tags": [
     "keep"
    ]
   },
   "outputs": [],
   "source": [
    "int to_int(std::byte byte) { return static_cast<int>(byte); }"
   ]
  },
  {
   "cell_type": "code",
   "execution_count": null,
   "id": "de92382650f40bb3",
   "metadata": {
    "tags": [
     "keep"
    ]
   },
   "outputs": [],
   "source": [
    "tl::expected<std::byte, Error> initialize_camera(bool success)\n",
    "{\n",
    "    std::cout << \"Initializing camera...\" << std::endl;\n",
    "    if (success)\n",
    "    {\n",
    "        return camera_bit;\n",
    "    }\n",
    "    else\n",
    "    {\n",
    "        return tl::unexpected(Error::camera_not_available);\n",
    "    }\n",
    "}"
   ]
  },
  {
   "cell_type": "code",
   "execution_count": null,
   "id": "1e603f804a70dca1",
   "metadata": {
    "slideshow": {
     "slide_type": "subslide"
    },
    "tags": [
     "keep",
     "subslide"
    ]
   },
   "outputs": [],
   "source": [
    "tl::expected<std::byte, Error> initialize_lidar(bool success)\n",
    "{\n",
    "    std::cout << \"Initializing lidar...\" << std::endl;\n",
    "    if (success)\n",
    "    {\n",
    "        return lidar_bit;\n",
    "    }\n",
    "    else\n",
    "    {\n",
    "        return tl::unexpected(Error::lidar_not_available);\n",
    "    }\n",
    "}"
   ]
  },
  {
   "cell_type": "code",
   "execution_count": null,
   "id": "8a464f6bc5132898",
   "metadata": {
    "slideshow": {
     "slide_type": "subslide"
    },
    "tags": [
     "keep",
     "subslide"
    ]
   },
   "outputs": [],
   "source": [
    "tl::expected<std::byte, Error> initialize_sensors(\n",
    "    bool camera_success = true, bool lidar_success = true\n",
    ")\n",
    "{\n",
    "    std::cout << \"Initializing sensors...\" << std::endl;\n",
    "\n",
    "    auto camera = initialize_camera(camera_success);\n",
    "    if (!camera.has_value())\n",
    "    {\n",
    "        return tl::unexpected<Error>{camera.error()};\n",
    "    }\n",
    "\n",
    "    auto lidar = initialize_lidar(lidar_success);\n",
    "    if (!lidar)\n",
    "    {\n",
    "        return lidar;\n",
    "    }\n",
    "\n",
    "    return *camera | *lidar;\n",
    "}"
   ]
  },
  {
   "cell_type": "code",
   "execution_count": null,
   "id": "f7b5004854b8a8bb",
   "metadata": {
    "slideshow": {
     "slide_type": "subslide"
    },
    "tags": [
     "subslide"
    ]
   },
   "outputs": [],
   "source": [
    "auto result = initialize_sensors();"
   ]
  },
  {
   "cell_type": "code",
   "execution_count": null,
   "id": "a71716d58b80e2c6",
   "metadata": {},
   "outputs": [],
   "source": [
    "std::cout << std::boolalpha << result.has_value();"
   ]
  },
  {
   "cell_type": "code",
   "execution_count": null,
   "id": "848e074625def584",
   "metadata": {},
   "outputs": [],
   "source": [
    "std::cout << to_int(result.value());"
   ]
  },
  {
   "cell_type": "code",
   "execution_count": null,
   "id": "51e43edf870c0245",
   "metadata": {},
   "outputs": [],
   "source": [
    "std::cout << to_int(*result);"
   ]
  },
  {
   "cell_type": "code",
   "execution_count": null,
   "id": "3ada5a04faa4b6a5",
   "metadata": {
    "slideshow": {
     "slide_type": "subslide"
    },
    "tags": [
     "subslide"
    ]
   },
   "outputs": [],
   "source": [
    "result = initialize_sensors(false);"
   ]
  },
  {
   "cell_type": "code",
   "execution_count": null,
   "id": "a62de5473b4330d6",
   "metadata": {},
   "outputs": [],
   "source": [
    "std::cout << result.has_value();"
   ]
  },
  {
   "cell_type": "code",
   "execution_count": null,
   "id": "3f4e0fad42659fa2",
   "metadata": {},
   "outputs": [],
   "source": [
    "std::cout << error_string(result.error());"
   ]
  },
  {
   "cell_type": "code",
   "execution_count": null,
   "id": "11f9d0049d1b4fee",
   "metadata": {
    "slideshow": {
     "slide_type": "subslide"
    },
    "tags": [
     "subslide"
    ]
   },
   "outputs": [],
   "source": [
    "result = initialize_sensors(true, false);"
   ]
  },
  {
   "cell_type": "code",
   "execution_count": null,
   "id": "0389b6e2544401c2",
   "metadata": {},
   "outputs": [],
   "source": [
    "std::cout << result.has_value();"
   ]
  },
  {
   "cell_type": "code",
   "execution_count": null,
   "id": "bde2d947ffaae09c",
   "metadata": {},
   "outputs": [],
   "source": [
    "std::cout << error_string(result.error());"
   ]
  },
  {
   "cell_type": "markdown",
   "id": "28b67f58c19efe6c",
   "metadata": {
    "lang": "de",
    "slideshow": {
     "slide_type": "subslide"
    },
    "tags": [
     "subslide"
    ]
   },
   "source": [
    "\n",
    "### Monadische Fehlerbehandlung\n",
    "\n",
    "- Es gibt Methoden, die die Fehlerbehandlung vereinfachen.\n",
    "- `and_then()` erlaubt es, eine Funktion aufzurufen, wenn der Erfolgsfall\n",
    "  eintritt.\n",
    "  - Diese Funktion bekommt den Wert übergeben.\n",
    "- `or_else()` erlaubt es, eine Funktion aufzurufen, wenn der Fehlerfall\n",
    "  eintritt.\n",
    "- Man nennt diese Funktionen `monadische Operationen`."
   ]
  },
  {
   "cell_type": "code",
   "execution_count": null,
   "id": "7579fe268b45e01a",
   "metadata": {
    "slideshow": {
     "slide_type": "subslide"
    },
    "tags": [
     "keep",
     "subslide"
    ]
   },
   "outputs": [],
   "source": [
    "tl::expected<std::byte, Error> initialize_sensors_monadic(\n",
    "    bool camera_success = true, bool lidar_success = true\n",
    ")\n",
    "{\n",
    "    std::cout << \"Initializing sensors (monadic)...\" << std::endl;\n",
    "\n",
    "    return initialize_camera(camera_success)\n",
    "        .and_then([lidar_success](std::byte camera_bit) {\n",
    "            return initialize_lidar(lidar_success)\n",
    "                .and_then(\n",
    "                    [camera_bit](std::byte lidar_bit\n",
    "                    ) -> tl::expected<std::byte, Error> {\n",
    "                        return camera_bit | lidar_bit;\n",
    "                    }\n",
    "                );\n",
    "        });\n",
    "}"
   ]
  },
  {
   "cell_type": "code",
   "execution_count": null,
   "id": "8450222fbbe3e512",
   "metadata": {
    "slideshow": {
     "slide_type": "subslide"
    },
    "tags": [
     "subslide"
    ]
   },
   "outputs": [],
   "source": [
    "result = initialize_sensors_monadic();"
   ]
  },
  {
   "cell_type": "code",
   "execution_count": null,
   "id": "4612e066d465e692",
   "metadata": {},
   "outputs": [],
   "source": [
    "std::cout << std::boolalpha << result.has_value();"
   ]
  },
  {
   "cell_type": "code",
   "execution_count": null,
   "id": "87f024653640294c",
   "metadata": {},
   "outputs": [],
   "source": [
    "std::cout << to_int(result.value());"
   ]
  },
  {
   "cell_type": "code",
   "execution_count": null,
   "id": "7df46ccd46c2b1e0",
   "metadata": {},
   "outputs": [],
   "source": [
    "std::cout << to_int(*result);"
   ]
  },
  {
   "cell_type": "code",
   "execution_count": null,
   "id": "862f4664a7b71a74",
   "metadata": {
    "slideshow": {
     "slide_type": "subslide"
    },
    "tags": [
     "subslide"
    ]
   },
   "outputs": [],
   "source": [
    "result = initialize_sensors(false);"
   ]
  },
  {
   "cell_type": "code",
   "execution_count": null,
   "id": "7827a702cfb2b12d",
   "metadata": {},
   "outputs": [],
   "source": [
    "std::cout << result.has_value();"
   ]
  },
  {
   "cell_type": "code",
   "execution_count": null,
   "id": "0d558741a8380168",
   "metadata": {},
   "outputs": [],
   "source": [
    "std::cout << error_string(result.error());"
   ]
  },
  {
   "cell_type": "code",
   "execution_count": null,
   "id": "7bb47a53c810e82c",
   "metadata": {
    "slideshow": {
     "slide_type": "subslide"
    },
    "tags": [
     "subslide"
    ]
   },
   "outputs": [],
   "source": [
    "result = initialize_sensors(true, false);"
   ]
  },
  {
   "cell_type": "code",
   "execution_count": null,
   "id": "4d62b0e35ab69697",
   "metadata": {},
   "outputs": [],
   "source": [
    "std::cout << result.has_value();"
   ]
  },
  {
   "cell_type": "code",
   "execution_count": null,
   "id": "a96deaeec74fb692",
   "metadata": {},
   "outputs": [],
   "source": [
    "std::cout << error_string(result.error());"
   ]
  },
  {
   "cell_type": "markdown",
   "id": "333fbd1cafde69a6",
   "metadata": {
    "lang": "de",
    "slideshow": {
     "slide_type": "subslide"
    },
    "tags": [
     "subslide"
    ]
   },
   "source": [
    "\n",
    "### Code Beispiele\n",
    "\n",
    "- STL\n",
    "  - Target: `expected`\n",
    "  - Dateien: `code/completed/error_handling/expected*`\n",
    "- ETL\n",
    "  - Target: `etl_expected`\n",
    "  - Dateien: `code/completed/etl_examples/etl_expected*`"
   ]
  },
  {
   "cell_type": "markdown",
   "id": "4939f7b176ea3fae",
   "metadata": {
    "lang": "de",
    "slideshow": {
     "slide_type": "subslide"
    },
    "tags": [
     "subslide"
    ]
   },
   "source": [
    "\n",
    "## Workshop: Kontrolle eines Motors\n",
    "\n",
    "In diesem Workshop implementieren Sie ein einfaches Motorsteuerungssystem\n",
    "unter Verwendung von `std::expected` zur Behandlung potenzieller Fehler.\n",
    "\n",
    "Das System wird eine Klasse `Motor` mit den folgenden Memberfunktionen\n",
    "enthalten:\n",
    "\n",
    "- `start_motor()`,\n",
    "- `set_speed()` und\n",
    "- `stop_motor()`.\n",
    "\n",
    "Jede Memberfunktion sollte in der Lage sein, Fehler mit aussagekräftigen\n",
    "Fehlermeldungen zu melden."
   ]
  },
  {
   "cell_type": "markdown",
   "id": "b95fc8697abc2239",
   "metadata": {
    "lang": "de",
    "slideshow": {
     "slide_type": "subslide"
    },
    "tags": [
     "subslide"
    ]
   },
   "source": [
    "\n",
    "- Definieren Sie Fehlerarten: Erstellen Sie eine Enum-Klasse `MotorError`,\n",
    "  die mögliche Fehler für jede Funktion auflistet.\n",
    "- Implementieren Sie die Klasse `Motor` mit den folgenden Attributen:\n",
    "  - `double fuel_level`: Der Kraftstoffstand des Motors.\n",
    "  - `double current_speed`: Die aktuelle Geschwindigkeit des Motors.\n",
    "- Implementieren Sie die folgenden Memberfunktionen:\n",
    "  - `start_motor()`: Simuliert das Starten des Motors.\n",
    "    - Soll `tl::expected<double, MotorError>` zurückgeben\n",
    "    - Im Erfolgsfall ist der Rückgabewert die Motorgeschwindigkeit\n",
    "    - Mögliche Fehler sind `no_fuel`, `motor_already_running`.\n",
    "  - `set_speed(double speed)`: Simuliert das Einstellen der\n",
    "    Motorgeschwindigkeit.\n",
    "    - Soll `tl::expected<void, Error>` zurückgeben\n",
    "    - Erlaubte Geschwindigkeiten liegen zwischen 10,0 und 100,0.\n",
    "    - Mögliche Fehler sind `speed_too_low`, `speed_too_high`,\n",
    "      `motor_not_running`.\n",
    "  - `stop_motor()`: Simuliert das Stoppen des Motors.\n",
    "    - Soll `tl::expected<void, Error>` zurückgeben\n",
    "    - Der einzige mögliche Fehler ist `motor_not_running`.\n",
    "- Testen Sie jede Ihrer Motorsteuerungsfunktionen."
   ]
  },
  {
   "cell_type": "code",
   "execution_count": null,
   "id": "31bb08eebdc76a7b",
   "metadata": {},
   "outputs": [],
   "source": [
    "#include <iostream>\n",
    "#include \"expected.hpp\""
   ]
  },
  {
   "cell_type": "code",
   "execution_count": null,
   "id": "528027323ceefb9f",
   "metadata": {},
   "outputs": [],
   "source": [
    "enum class MotorError\n",
    "{\n",
    "    no_fuel,\n",
    "    motor_already_running,\n",
    "    motor_not_running,\n",
    "    speed_too_low,\n",
    "    speed_too_high\n",
    "};"
   ]
  },
  {
   "cell_type": "code",
   "execution_count": null,
   "id": "758ac530a1c6883d",
   "metadata": {
    "tags": [
     "alt"
    ]
   },
   "outputs": [],
   "source": [
    "class Motor\n",
    "{\n",
    "public:\n",
    "    Motor(double fuel_level) : fuel_level{fuel_level}, current_speed{0.0} {}\n",
    "\n",
    "    tl::expected<double, MotorError> start_motor()\n",
    "    {\n",
    "        std::cout << \"Trying to start motor...\" << std::endl;\n",
    "        if (fuel_level <= 0)\n",
    "        {\n",
    "            return tl::unexpected(MotorError::no_fuel);\n",
    "        }\n",
    "        if (is_running())\n",
    "        {\n",
    "            return tl::unexpected(MotorError::motor_already_running);\n",
    "        }\n",
    "        current_speed = 50.0;\n",
    "        return current_speed;\n",
    "    }\n",
    "\n",
    "    tl::expected<void, MotorError> set_speed(double speed)\n",
    "    {\n",
    "        std::cout << \"Trying to set motor speed to \" << speed << \"...\" << std::endl;\n",
    "        if (!is_running())\n",
    "        {\n",
    "            return tl::unexpected(MotorError::motor_not_running);\n",
    "        }\n",
    "        if (speed < 10.0)\n",
    "        {\n",
    "            return tl::unexpected(MotorError::speed_too_low);\n",
    "        }\n",
    "        if (speed > 100.0)\n",
    "        {\n",
    "            return tl::unexpected(MotorError::speed_too_high);\n",
    "        }\n",
    "        current_speed = speed;\n",
    "        return {};\n",
    "    }\n",
    "\n",
    "    tl::expected<void, MotorError> stop_motor()\n",
    "    {\n",
    "        std::cout << \"Stopping motor...\" << std::endl;\n",
    "        if (!is_running())\n",
    "        {\n",
    "            return tl::unexpected(MotorError::motor_not_running);\n",
    "        }\n",
    "        current_speed = 0.0;\n",
    "        return {};\n",
    "    }\n",
    "\n",
    "    bool is_running() const { return current_speed > 0.0; }\n",
    "\n",
    "    double get_fuel_level() const { return fuel_level; }\n",
    "\n",
    "    double get_current_speed() const { return current_speed; }\n",
    "\n",
    "private:\n",
    "    double fuel_level;\n",
    "    double current_speed;\n",
    "};"
   ]
  },
  {
   "cell_type": "code",
   "execution_count": null,
   "id": "127f78afaf85a533",
   "metadata": {
    "slideshow": {
     "slide_type": "subslide"
    },
    "tags": [
     "subslide",
     "alt"
    ]
   },
   "outputs": [],
   "source": [
    "Motor motor{10.0}; // Initialize motor with 10 units of fuel"
   ]
  },
  {
   "cell_type": "code",
   "execution_count": null,
   "id": "238cbda7deb2819c",
   "metadata": {
    "tags": [
     "alt"
    ]
   },
   "outputs": [],
   "source": [
    "auto start_result{motor.start_motor()};"
   ]
  },
  {
   "cell_type": "code",
   "execution_count": null,
   "id": "aa365144e25979a2",
   "metadata": {
    "tags": [
     "alt"
    ]
   },
   "outputs": [],
   "source": [
    "if (!start_result.has_value())\n",
    "{\n",
    "    std::cerr << \"Unexpected error starting motor: \"\n",
    "              << static_cast<int>(start_result.error()) << std::endl;\n",
    "}\n",
    "else\n",
    "{\n",
    "    std::cout << \"Motor started successfully at speed: \" << start_result.value()\n",
    "              << std::endl;\n",
    "}"
   ]
  },
  {
   "cell_type": "code",
   "execution_count": null,
   "id": "b0d4447cbf4e9ddb",
   "metadata": {
    "slideshow": {
     "slide_type": "subslide"
    },
    "tags": [
     "alt",
     "subslide"
    ]
   },
   "outputs": [],
   "source": [
    "auto speed_result{motor.set_speed(80.0)};"
   ]
  },
  {
   "cell_type": "code",
   "execution_count": null,
   "id": "ce362627e48568b6",
   "metadata": {
    "tags": [
     "alt"
    ]
   },
   "outputs": [],
   "source": [
    "if (!speed_result)\n",
    "{\n",
    "    std::cerr << \"Unexpected error setting speed: \"\n",
    "              << static_cast<int>(speed_result.error()) << std::endl;\n",
    "}\n",
    "else\n",
    "{\n",
    "    std::cout << \"Speed set successfully.\" << std::endl;\n",
    "}"
   ]
  },
  {
   "cell_type": "code",
   "execution_count": null,
   "id": "6a639b0283d2c4d8",
   "metadata": {
    "slideshow": {
     "slide_type": "subslide"
    },
    "tags": [
     "alt",
     "subslide"
    ]
   },
   "outputs": [],
   "source": [
    "speed_result = motor.set_speed(5.0);"
   ]
  },
  {
   "cell_type": "code",
   "execution_count": null,
   "id": "b854a98966546425",
   "metadata": {
    "tags": [
     "alt"
    ]
   },
   "outputs": [],
   "source": [
    "if (!speed_result)\n",
    "{\n",
    "    std::cerr << \"Expected Error setting speed: \"\n",
    "              << static_cast<int>(speed_result.error()) << std::endl;\n",
    "}\n",
    "else\n",
    "{\n",
    "    std::cout << \"Speed set to invalid value.\" << std::endl;\n",
    "}"
   ]
  },
  {
   "cell_type": "code",
   "execution_count": null,
   "id": "3393b99dddb075fb",
   "metadata": {
    "slideshow": {
     "slide_type": "subslide"
    },
    "tags": [
     "alt",
     "subslide"
    ]
   },
   "outputs": [],
   "source": [
    "speed_result = motor.set_speed(150.0);"
   ]
  },
  {
   "cell_type": "code",
   "execution_count": null,
   "id": "b3416a3fa1e2095b",
   "metadata": {
    "tags": [
     "alt"
    ]
   },
   "outputs": [],
   "source": [
    "if (!speed_result)\n",
    "{\n",
    "    std::cerr << \"Expected Error setting speed: \"\n",
    "              << static_cast<int>(speed_result.error()) << std::endl;\n",
    "}\n",
    "else\n",
    "{\n",
    "    std::cout << \"Speed set to invalid value.\" << std::endl;\n",
    "}"
   ]
  },
  {
   "cell_type": "code",
   "execution_count": null,
   "id": "c25b767cb731ea3d",
   "metadata": {
    "slideshow": {
     "slide_type": "subslide"
    },
    "tags": [
     "alt",
     "subslide"
    ]
   },
   "outputs": [],
   "source": [
    "auto stop_result{motor.stop_motor()};"
   ]
  },
  {
   "cell_type": "code",
   "execution_count": null,
   "id": "a6a65a8c43f5e9f6",
   "metadata": {
    "tags": [
     "alt"
    ]
   },
   "outputs": [],
   "source": [
    "if (!stop_result)\n",
    "{\n",
    "    std::cerr << \"Unexpected error stopping motor: \" << static_cast<int>(stop_result.error())\n",
    "              << std::endl;\n",
    "}\n",
    "else\n",
    "{\n",
    "    std::cout << \"Motor stopped successfully.\" << std::endl;\n",
    "}"
   ]
  },
  {
   "cell_type": "code",
   "execution_count": null,
   "id": "4d640613bb69d413",
   "metadata": {
    "slideshow": {
     "slide_type": "subslide"
    },
    "tags": [
     "alt",
     "subslide"
    ]
   },
   "outputs": [],
   "source": [
    "// Test start_motor with motor already running\n",
    "motor.start_motor();\n",
    "start_result = motor.start_motor();"
   ]
  },
  {
   "cell_type": "code",
   "execution_count": null,
   "id": "c1fc2dc62b740e3c",
   "metadata": {
    "tags": [
     "alt"
    ]
   },
   "outputs": [],
   "source": [
    "if (!start_result)\n",
    "{\n",
    "    std::cerr << \"Expected error starting motor: \" << static_cast<int>(start_result.error())\n",
    "              << std::endl;\n",
    "}"
   ]
  },
  {
   "cell_type": "code",
   "execution_count": null,
   "id": "41ba3696e4ce26d8",
   "metadata": {
    "slideshow": {
     "slide_type": "subslide"
    },
    "tags": [
     "alt",
     "subslide"
    ]
   },
   "outputs": [],
   "source": [
    "// Test stop_motor with motor not running\n",
    "motor.stop_motor();\n",
    "stop_result = motor.stop_motor();"
   ]
  },
  {
   "cell_type": "code",
   "execution_count": null,
   "id": "c23117be587b86f4",
   "metadata": {
    "tags": [
     "alt"
    ]
   },
   "outputs": [],
   "source": [
    "if (!stop_result)\n",
    "{\n",
    "    std::cerr << \"Expected error stopping motor: \" << static_cast<int>(stop_result.error())\n",
    "              << std::endl;\n",
    "}"
   ]
  }
 ],
 "metadata": {
  "kernelspec": {
   "display_name": "C++17",
   "language": "C++17",
   "name": "xcpp17"
  },
  "language_info": {
   "codemirror_mode": "text/x-c++src",
   "file_extension": ".cpp",
   "mimetype": "text/x-c++src",
   "name": "c++",
   "version": "17"
  }
 },
 "nbformat": 4,
 "nbformat_minor": 5
}
