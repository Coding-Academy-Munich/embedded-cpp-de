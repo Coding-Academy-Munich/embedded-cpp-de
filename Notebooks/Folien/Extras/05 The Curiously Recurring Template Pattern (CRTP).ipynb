{
 "cells": [
  {
   "cell_type": "markdown",
   "id": "d90dabd2b3609397",
   "metadata": {
    "lang": "de",
    "slideshow": {
     "slide_type": "slide"
    },
    "tags": [
     "slide"
    ]
   },
   "source": [
    "<!--\n",
    "clang-format off\n",
    "-->\n",
    "\n",
    "<img src=\"data:image/png;base64,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\"\n",
    "     style=\"display:block;margin:auto;width:5%\"/>\n",
    "<br>\n",
    "\n",
    "<div style=\"text-align:center; font-size:200%;\">\n",
    " <b>The Curiously Recurring Template Pattern (CRTP)</b>\n",
    "</div>\n",
    "<br/>\n",
    "<div style=\"text-align:center; font-size:120%;\">Dr. Matthias Hölzl</div>\n",
    "<br/>\n",
    "<div style=\"text-align:center;\">Coding-Akademie München</div>\n",
    "<br/>\n",
    "<!-- 05 The Curiously Recurring Template Pattern (CRTP).ipynb -->\n",
    "<!-- slides/module_470_cpp_patterns/topic_210_crtp.cpp -->"
   ]
  },
  {
   "cell_type": "markdown",
   "id": "9f90cca7f001af45",
   "metadata": {
    "lang": "de",
    "slideshow": {
     "slide_type": "subslide"
    },
    "tags": [
     "subslide"
    ]
   },
   "source": [
    "\n",
    "# Das Curiously Recurring Template Pattern (CRTP)\n",
    "\n",
    "- Das CRTP ist ein Idiom, das die \"statische Vererbung\" von Verhalten\n",
    "  ermöglicht\n",
    "- Die Basisklasse ist eine Template-Klasse, die von der abgeleiteten Klasse\n",
    "  als Template-Parameter spezialisiert wird"
   ]
  },
  {
   "cell_type": "markdown",
   "id": "cb10c669121cc1e4",
   "metadata": {
    "lang": "de",
    "slideshow": {
     "slide_type": "slide"
    },
    "tags": [
     "slide"
    ]
   },
   "source": [
    "\n",
    "### Zweck des Template Method Patterns\n",
    "\n",
    "Definiere ein Verhalten oder einen Algorithmus, in dem bestimmte Schritte zur\n",
    "Implementierung oder Modifikation in Unterklassen vorgesehen sind. Die\n",
    "Unterklassen können individuelle Schritte, die vom Algorithmus ausgeführt\n",
    "werden überschreiben, haben aber keinen Einfluss auf seine Gesamtstruktur."
   ]
  },
  {
   "cell_type": "markdown",
   "id": "e539700ee986d8de",
   "metadata": {
    "lang": "de",
    "slideshow": {
     "slide_type": "slide"
    },
    "tags": [
     "slide"
    ]
   },
   "source": [
    "\n",
    "### Motivation für das Template Method Pattern\n",
    "\n",
    "- Eine Anwendung, die mit verschiedenen Arten von Dokumenten umgehen muss\n",
    "- Gemeinsame Funktionalität in einer Basisklasse implementiert\n",
    "- Unterklassen spezialisieren einzelne Schritte"
   ]
  },
  {
   "cell_type": "markdown",
   "id": "0df6574f4abece85",
   "metadata": {
    "lang": "de",
    "slideshow": {
     "slide_type": "subslide"
    },
    "tags": [
     "subslide"
    ]
   },
   "source": [
    "\n",
    "### Klassendiagramm\n",
    "\n",
    "<img src=\"img/template_method_example.svg\"\n",
    "     style=\"display:block;margin:auto;width:40%\"/>"
   ]
  },
  {
   "cell_type": "code",
   "execution_count": null,
   "id": "71a12c6d97d810e7",
   "metadata": {
    "slideshow": {
     "slide_type": "subslide"
    },
    "tags": [
     "keep",
     "subslide"
    ]
   },
   "outputs": [],
   "source": [
    "#include <iostream>\n",
    "#include <string>"
   ]
  },
  {
   "cell_type": "code",
   "execution_count": null,
   "id": "b8219787f757f748",
   "metadata": {
    "tags": [
     "keep"
    ]
   },
   "outputs": [],
   "source": [
    "class Document {\n",
    "public:\n",
    "    virtual ~Document() = default;\n",
    "\n",
    "    void Save() {\n",
    "        std::cout << \"Saving to existing file.\\n\";\n",
    "        DoSave();\n",
    "        std::cout << \"Document saved.\\n\\n\";\n",
    "    }\n",
    "\n",
    "    void SaveAs() {\n",
    "        std::cout << \"Asking user for file name.\\n\";\n",
    "        DoSave();\n",
    "        std::cout << \"Document saved.\\n\\n\";\n",
    "    }\n",
    "\n",
    "protected:\n",
    "    virtual void DoSave() = 0;\n",
    "};"
   ]
  },
  {
   "cell_type": "code",
   "execution_count": null,
   "id": "e316822b3a20c879",
   "metadata": {
    "slideshow": {
     "slide_type": "subslide"
    },
    "tags": [
     "keep",
     "subslide"
    ]
   },
   "outputs": [],
   "source": [
    "class TextDocument : public Document {\n",
    "    void DoSave() override { std::cout << \"-> Saving text document in DOCX format.\\n\"; }\n",
    "};"
   ]
  },
  {
   "cell_type": "code",
   "execution_count": null,
   "id": "613040b811ddda45",
   "metadata": {
    "tags": [
     "keep"
    ]
   },
   "outputs": [],
   "source": [
    "class SpreadsheetDocument : public Document {\n",
    "    void DoSave() override { std::cout << \"-> Saving spreadsheet in XLSX format.\\n\"; }\n",
    "};"
   ]
  },
  {
   "cell_type": "code",
   "execution_count": null,
   "id": "86f9dd958efd2c59",
   "metadata": {
    "tags": [
     "keep"
    ]
   },
   "outputs": [],
   "source": [
    "SpreadsheetDocument spreadsheet;\n",
    "spreadsheet.Save();\n",
    "spreadsheet.SaveAs();"
   ]
  },
  {
   "cell_type": "code",
   "execution_count": null,
   "id": "3e84a0dd712b4901",
   "metadata": {
    "lines_to_next_cell": 2,
    "tags": [
     "keep"
    ]
   },
   "outputs": [],
   "source": [
    "TextDocument text;\n",
    "text.Save();\n",
    "text.SaveAs();"
   ]
  },
  {
   "cell_type": "markdown",
   "id": "d0f1d16b804f8213",
   "metadata": {
    "lang": "de",
    "slideshow": {
     "slide_type": "slide"
    },
    "tags": [
     "slide"
    ]
   },
   "source": [
    "\n",
    "### Struktur des Template Method Patterns\n",
    "\n",
    "<img src=\"img/pat_template_method.svg\"\n",
    "     style=\"display:block;margin:auto;width:40%\"/>"
   ]
  },
  {
   "cell_type": "markdown",
   "id": "aa929711387d41a1",
   "metadata": {
    "lang": "de",
    "slideshow": {
     "slide_type": "subslide"
    },
    "tags": [
     "subslide"
    ]
   },
   "source": [
    "\n",
    "## Implementierung mit Templates"
   ]
  },
  {
   "cell_type": "code",
   "execution_count": null,
   "id": "2bba869a1a40ecf1",
   "metadata": {
    "tags": [
     "keep"
    ]
   },
   "outputs": [],
   "source": [
    "template <typename T>\n",
    "class DocumentV1 {\n",
    "public:\n",
    "    void Save() {\n",
    "        std::cout << \"Saving to existing file.\\n\";\n",
    "        T::DoSave();\n",
    "        std::cout << \"Document saved.\\n\\n\";\n",
    "    }\n",
    "\n",
    "    void SaveAs() {\n",
    "        std::cout << \"Asking user for file name.\\n\";\n",
    "        T::DoSave();\n",
    "        std::cout << \"Document saved.\\n\\n\";\n",
    "    }\n",
    "};"
   ]
  },
  {
   "cell_type": "code",
   "execution_count": null,
   "id": "c8b6866e6e7b2788",
   "metadata": {
    "tags": [
     "keep"
    ]
   },
   "outputs": [],
   "source": [
    "class TextDocumentV1 {\n",
    "public:\n",
    "    static void DoSave() { std::cout << \"-> Saving text document in DOCX format.\\n\"; }\n",
    "};"
   ]
  },
  {
   "cell_type": "code",
   "execution_count": null,
   "id": "c63e454b7e683150",
   "metadata": {
    "tags": [
     "keep"
    ]
   },
   "outputs": [],
   "source": [
    "class SpreadsheetDocumentV1 {\n",
    "public:\n",
    "    static void DoSave() { std::cout << \"-> Saving spreadsheet in XLSX format.\\n\"; }\n",
    "};"
   ]
  },
  {
   "cell_type": "markdown",
   "id": "685293735025a924",
   "metadata": {
    "lang": "de",
    "slideshow": {
     "slide_type": "subslide"
    },
    "tags": [
     "subslide"
    ]
   },
   "source": [
    "\n",
    "- Spezialisierte Funktionen müssen `static` sein und haben keinen Zugriff auf\n",
    "  Objektdaten\n",
    "- Wir können nicht mit `TextDocumentV1` und `SpreadsheetDocumentV1` arbeiten,\n",
    "  ohne sie in ein `DocumentV1`-Objekt einzupacken"
   ]
  },
  {
   "cell_type": "code",
   "execution_count": null,
   "id": "e3f5dbae11638cb5",
   "metadata": {
    "tags": [
     "keep"
    ]
   },
   "outputs": [],
   "source": [
    "DocumentV1<TextDocumentV1> textV1;\n",
    "textV1.Save();"
   ]
  },
  {
   "cell_type": "code",
   "execution_count": null,
   "id": "77cec6b0150a8266",
   "metadata": {
    "tags": [
     "keep"
    ]
   },
   "outputs": [],
   "source": [
    "DocumentV1<SpreadsheetDocumentV1> spreadsheetV1;\n",
    "spreadsheetV1.Save();"
   ]
  },
  {
   "cell_type": "markdown",
   "id": "096cda2df69440f3",
   "metadata": {
    "lang": "de",
    "lines_to_next_cell": 2,
    "slideshow": {
     "slide_type": "subslide"
    },
    "tags": [
     "subslide"
    ]
   },
   "source": [
    "\n",
    "# Implementierung mit CRTP\n",
    "\n",
    "- \"Oberklasse\" `Base` bekommt \"abgeleitete Klasse\" `Derived` als Template-Parameter\n",
    "- `Base` verwendet einen `static_cast`, um den `this`-Pointer in einen Pointer\n",
    "  auf `Derived` zu konvertieren\n",
    "- `Derived` erbt von `Base<Derived>`\n",
    "- Wir erreichen den gleichen Effekt wie mit dem Template-Method Pattern,\n",
    "  sparen aber einen virtuellen Dispatch"
   ]
  },
  {
   "cell_type": "code",
   "execution_count": null,
   "id": "4f2d2b04c250ffd9",
   "metadata": {
    "lines_to_next_cell": 2,
    "slideshow": {
     "slide_type": "subslide"
    },
    "tags": [
     "keep",
     "subslide"
    ]
   },
   "outputs": [],
   "source": [
    "template <typename Derived>\n",
    "class DocumentV2 {\n",
    "public:\n",
    "    void Save() {\n",
    "        std::cout << \"Saving to existing file.\\n\";\n",
    "        static_cast<Derived*>(this)->DoSave();\n",
    "        std::cout << \"Document saved.\\n\\n\";\n",
    "    }\n",
    "\n",
    "    void SaveAs() {\n",
    "        std::cout << \"Asking user for file name.\\n\";\n",
    "        static_cast<Derived*>(this)->DoSave();\n",
    "        std::cout << \"Document saved.\\n\\n\";\n",
    "    }\n",
    "};"
   ]
  },
  {
   "cell_type": "code",
   "execution_count": null,
   "id": "4edd6cec0d81a91d",
   "metadata": {
    "slideshow": {
     "slide_type": "subslide"
    },
    "tags": [
     "keep",
     "subslide"
    ]
   },
   "outputs": [],
   "source": [
    "class TextDocumentV2 : public DocumentV2<TextDocumentV2> {\n",
    "public:\n",
    "    void DoSave() { std::cout << \"-> Saving text document in DOCX format.\\n\"; }\n",
    "};"
   ]
  },
  {
   "cell_type": "code",
   "execution_count": null,
   "id": "0393589d5f99132f",
   "metadata": {
    "tags": [
     "keep"
    ]
   },
   "outputs": [],
   "source": [
    "class SpreadsheetDocumentV2 : public DocumentV2<SpreadsheetDocumentV2> {\n",
    "public:\n",
    "    void DoSave() { std::cout << \"-> Saving spreadsheet in XLSX format.\\n\"; }\n",
    "};"
   ]
  },
  {
   "cell_type": "markdown",
   "id": "612ad6d06e1dfab5",
   "metadata": {
    "lang": "de",
    "slideshow": {
     "slide_type": "subslide"
    },
    "tags": [
     "subslide"
    ]
   },
   "source": [
    "\n",
    "- Jetzt können wir direkt mit `TextDocumentV2` und `SpreadsheetDocumentV2` arbeiten\n",
    "- `DoSave` ist eine normale Member-Funktion, die auf Objektdaten zugreifen kann"
   ]
  },
  {
   "cell_type": "code",
   "execution_count": null,
   "id": "e13cd9ba068be088",
   "metadata": {
    "tags": [
     "keep"
    ]
   },
   "outputs": [],
   "source": [
    "TextDocumentV2 textV2;\n",
    "textV2.Save();"
   ]
  },
  {
   "cell_type": "code",
   "execution_count": null,
   "id": "5be227a5107f0bd2",
   "metadata": {
    "tags": [
     "keep"
    ]
   },
   "outputs": [],
   "source": [
    "SpreadsheetDocumentV2 spreadsheetV2;\n",
    "spreadsheetV2.Save();"
   ]
  },
  {
   "cell_type": "markdown",
   "id": "7157bcda1dd60553",
   "metadata": {
    "lang": "de",
    "slideshow": {
     "slide_type": "subslide"
    },
    "tags": [
     "subslide"
    ]
   },
   "source": [
    "\n",
    "## CRTP in der Standardbibliothek\n",
    "\n",
    "- `std::enable_shared_from_this`\n",
    "- `ranges::view_interface`"
   ]
  },
  {
   "cell_type": "markdown",
   "id": "14db5bc539a61e8b",
   "metadata": {
    "lang": "de",
    "slideshow": {
     "slide_type": "subslide"
    },
    "tags": [
     "subslide"
    ]
   },
   "source": [
    "\n",
    "## Konsequenzen von CRTP\n",
    "\n",
    "- Kein virtueller Dispatch\n",
    "- Keine polymorphen Container möglich\n",
    "- Kein dynamischer Austausch von Implementierungen möglich"
   ]
  },
  {
   "cell_type": "markdown",
   "id": "15b345a5548885c7",
   "metadata": {
    "lang": "de",
    "slideshow": {
     "slide_type": "subslide"
    },
    "tags": [
     "subslide"
    ]
   },
   "source": [
    "\n",
    "## C++ 23\n",
    "\n",
    "Statt\n",
    "\n",
    "```cpp\n",
    "template <class Derived>\n",
    "struct Base { void Fun() { (static_cast<Derived*>(this))->Impl(); } };\n",
    "```\n",
    "\n",
    "kann die Basisklasse mit explizitem `this`-Parameter definiert werden:\n",
    "\n",
    "```cpp\n",
    "struct Base { void Fun(this auto&& self) { self.Impl(); } };\n",
    "```"
   ]
  }
 ],
 "metadata": {
  "kernelspec": {
   "display_name": "C++17",
   "language": "C++17",
   "name": "xcpp17"
  },
  "language_info": {
   "codemirror_mode": "text/x-c++src",
   "file_extension": ".cpp",
   "mimetype": "text/x-c++src",
   "name": "c++",
   "version": "17"
  }
 },
 "nbformat": 4,
 "nbformat_minor": 5
}
