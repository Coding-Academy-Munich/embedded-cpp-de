{
 "cells": [
  {
   "cell_type": "markdown",
   "id": "9f1999c170b680e3",
   "metadata": {
    "lang": "de",
    "slideshow": {
     "slide_type": "slide"
    },
    "tags": [
     "slide"
    ]
   },
   "source": [
    "\n",
    "<img src=\"data:image/png;base64,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\"\n",
    "     style=\"display:block;margin:auto;width:5%\"/>\n",
    "<br>\n",
    "\n",
    "<div style=\"text-align:center; font-size:200%;\">\n",
    " <b>Use Cases</b>\n",
    "</div>\n",
    "<br/>\n",
    "<div style=\"text-align:center; font-size:120%;\">Dr. Matthias Hölzl</div>\n",
    "<br/>\n",
    "<div style=\"text-align:center;\">Coding-Akademie München</div>\n",
    "<br/>\n",
    "<!-- 02 Use Cases.ipynb -->\n",
    "<!-- slides/module_500_solid_grasp/topic_140_adventure_use_cases.cpp -->"
   ]
  },
  {
   "cell_type": "markdown",
   "id": "1bc2d8af870edd3b",
   "metadata": {
    "lang": "de",
    "slideshow": {
     "slide_type": "slide"
    },
    "tags": [
     "slide"
    ]
   },
   "source": [
    "\n",
    "### Use Case 1: Spiel initialisieren\n",
    "\n",
    "**Scope:** Adventure Game\n",
    "\n",
    "**Actors:** Spieler"
   ]
  },
  {
   "cell_type": "markdown",
   "id": "c65195e987e762f4",
   "metadata": {
    "lang": "de",
    "slideshow": {
     "slide_type": "subslide"
    },
    "tags": [
     "subslide"
    ]
   },
   "source": [
    "\n",
    "**Kontext:** Der Spieler startet ein neues Spiel oder startet ein vorheriges\n",
    "Spiel neu.\n",
    "\n",
    "**Vorbedingung:** Die Spielsoftware ist geladen und läuft.\n",
    "\n",
    "**Trigger:** Spieler wählt \"Neues Spiel\" oder \"Spiel laden\" aus dem\n",
    "Hauptmenü."
   ]
  },
  {
   "cell_type": "markdown",
   "id": "c7ea5ad9e00d3d31",
   "metadata": {
    "lang": "de",
    "slideshow": {
     "slide_type": "subslide"
    },
    "tags": [
     "subslide"
    ]
   },
   "source": [
    "\n",
    "**Hauptszenario:**\n",
    "1. Spieler wählt \"Neues Spiel\".\n",
    "2. System initialisiert eine neue Spielwelt mit Standardwerten.\n",
    "3. System platziert den Spielstein an einem Startpunkt.\n",
    "4. Spiel präsentiert den initialen Spielzustand dem Spieler."
   ]
  },
  {
   "cell_type": "markdown",
   "id": "bfb2cfcde3d778e9",
   "metadata": {
    "lang": "de",
    "slideshow": {
     "slide_type": "subslide"
    },
    "tags": [
     "subslide"
    ]
   },
   "source": [
    "\n",
    "**Erfolgsgarantie:** Spiel ist initialisiert und bereit für den Spieler, um\n",
    "einen Zug zu machen.\n",
    "\n",
    "**Minimale Garantie:** Spielzustand ist stabil und bereit für jede\n",
    "selektierbare Aktion des Spielers.\n",
    "\n",
    "**Stakeholders und Interessen:**\n",
    "- Spieler: Möchte eine reibungslose Erfahrung beim Starten oder Laden eines\n",
    "  Spiels."
   ]
  },
  {
   "cell_type": "markdown",
   "id": "45d1faa248da2792",
   "metadata": {
    "lang": "de",
    "slideshow": {
     "slide_type": "subslide"
    },
    "tags": [
     "subslide"
    ]
   },
   "source": [
    "\n",
    "**Erweiterungen:**\n",
    "1a. Spieler wählt \"Spiel laden\".\n",
    "1. System fordert den Spieler auf, ein gespeichertes Spiel auszuwählen.\n",
    "2. Spiel lädt den gespeicherten Zustand.\n",
    "\n",
    "2a. Fehler beim Laden des gespeicherten Spiels.\n",
    "1. System zeigt eine Fehlermeldung an.\n",
    "2. Spieler wird zum Hauptmenü zurückgebracht."
   ]
  },
  {
   "cell_type": "markdown",
   "id": "88f2fe39ed34aace",
   "metadata": {
    "lang": "de",
    "lines_to_next_cell": 2,
    "slideshow": {
     "slide_type": "slide"
    },
    "tags": [
     "slide"
    ]
   },
   "source": [
    "\n",
    "### Use Case 2: Hauptspielschleife\n",
    "\n",
    "**Scope:** Adventure Game\n",
    "\n",
    "**Actors:** Spieler, NPCs"
   ]
  },
  {
   "cell_type": "markdown",
   "id": "752bf87185119009",
   "metadata": {
    "lang": "de",
    "lines_to_next_cell": 2,
    "slideshow": {
     "slide_type": "subslide"
    },
    "tags": [
     "subslide"
    ]
   },
   "source": [
    "\n",
    "**Kontext:** Spieler interagiert mit dem Spiel, und NPCs handeln auf der\n",
    "Grundlage vordefinierter Logik.\n",
    "\n",
    "**Vorbedingung:** Spiel ist initialisiert.\n",
    "\n",
    "**Trigger:** Spieler beginnt seinen Zug."
   ]
  },
  {
   "cell_type": "markdown",
   "id": "d19b28704630e82c",
   "metadata": {
    "lang": "de",
    "slideshow": {
     "slide_type": "subslide"
    },
    "tags": [
     "subslide"
    ]
   },
   "source": [
    "\n",
    "**Hauptszenario:**\n",
    "1. Spieler beginnt seinen Zug, indem er eine Aktion wählt (z.B. bewegen,\n",
    "   interagieren).\n",
    "2. System verarbeitet die Aktion.\n",
    "3. NPCs nehmen ihre jeweiligen Züge basierend auf der Spiellogik.\n",
    "4. Spiel gibt dem Spieler Feedback über die Ergebnisse aller Aktionen.\n",
    "5. System überprüft auf mögliche Game-Over-Bedingungen.\n",
    "6. Gibt die Kontrolle an den Spieler für den nächsten Zug zurück."
   ]
  },
  {
   "cell_type": "markdown",
   "id": "7b07b5d5b06eba57",
   "metadata": {
    "lang": "de",
    "slideshow": {
     "slide_type": "subslide"
    },
    "tags": [
     "subslide"
    ]
   },
   "source": [
    "\n",
    "**Erfolgsgarantie:** Die Spielschleife läuft reibungslos, und der Spieler\n",
    "kennt immer das Ergebnis seiner Aktionen.\n",
    "\n",
    "**Minimale Garantie:** Der Spielzustand bleibt konsistent und stürzt nicht ab.\n",
    "\n",
    "**Stakeholders und Interessen:**\n",
    "- Spieler: Erwartet eine nahtlose Spielerfahrung ohne Unterbrechungen."
   ]
  },
  {
   "cell_type": "markdown",
   "id": "028f17cf6bd0fe40",
   "metadata": {
    "lang": "de",
    "slideshow": {
     "slide_type": "subslide"
    },
    "tags": [
     "subslide"
    ]
   },
   "source": [
    "\n",
    "**Erweiterungen:**\n",
    "1a. Die Game-Over-Bedingung ist erfüllt (z.B. Spielerfigur erreicht ein\n",
    "bestimmtes Ziel, Spielerfigur verliert alle Lebenspunkte).\n",
    "1. System präsentiert einen Game-Over-Bildschirm mit relevanten Informationen\n",
    "(z.B. Gewinn-/Verlustmeldung, Punktzahl).\n",
    "2. Spieler erhält die Möglichkeit, das Spiel neu zu starten oder zum\n",
    "Hauptmenü zurückzukehren.\n",
    "\n",
    "2a. Spieler wählt aus, das Spiel während seines Zuges zu speichern.\n",
    "1. System pausiert die Spielschleife.\n",
    "2. Spieler speichert das Spiel.\n",
    "3. Die Spielschleife wird fortgesetzt."
   ]
  },
  {
   "cell_type": "markdown",
   "id": "5c91c67dae0b783c",
   "metadata": {
    "lang": "de",
    "lines_to_next_cell": 2,
    "slideshow": {
     "slide_type": "slide"
    },
    "tags": [
     "slide"
    ]
   },
   "source": [
    "\n",
    "### Use Case 3: Spieler macht einen Zug\n",
    "\n",
    "**Scope:** Adventure Game\n",
    "\n",
    "**Actors:** Spieler"
   ]
  },
  {
   "cell_type": "markdown",
   "id": "e8060dec019870b6",
   "metadata": {
    "lang": "de",
    "lines_to_next_cell": 2,
    "slideshow": {
     "slide_type": "subslide"
    },
    "tags": [
     "subslide"
    ]
   },
   "source": [
    "\n",
    "**Kontext:** Spieler entscheidet sich für eine Aktion während seines Zuges.\n",
    "\n",
    "**Vorbedingung:** Spieler ist an der Reihe in der Spielschleife.\n",
    "\n",
    "**Trigger:** System fordert den Spieler zu einer Aktion auf."
   ]
  },
  {
   "cell_type": "markdown",
   "id": "c0f697467e3eba64",
   "metadata": {
    "lang": "de",
    "slideshow": {
     "slide_type": "subslide"
    },
    "tags": [
     "subslide"
    ]
   },
   "source": [
    "\n",
    "**Hauptszenario:**\n",
    "1. Spieler wählt eine Aktion (z.B. zu einem Ort bewegen, mit einem NPC\n",
    "   interagieren, ein Objekt benutzen).\n",
    "2. System verarbeitet die Aktion.\n",
    "3. System gibt Feedback über das Ergebnis der Aktion.\n",
    "4. Spielerzug endet."
   ]
  },
  {
   "cell_type": "markdown",
   "id": "ef21a645d6675a57",
   "metadata": {
    "lang": "de",
    "slideshow": {
     "slide_type": "subslide"
    },
    "tags": [
     "subslide"
    ]
   },
   "source": [
    "\n",
    "**Erfolgsgarantie:** Die vom Spieler gewählte Aktion wird ausgeführt, und es\n",
    "wird Feedback gegeben.\n",
    "\n",
    "**Minimale Garantie:** Der Spielzustand bleibt konsistent.\n",
    "\n",
    "**Stakeholders und Interessen:**\n",
    "- Spieler: Erwartet, dass seine gewählten Aktionen korrekt ausgeführt werden."
   ]
  },
  {
   "cell_type": "markdown",
   "id": "72544ad29b6aa0c9",
   "metadata": {
    "lang": "de",
    "slideshow": {
     "slide_type": "subslide"
    },
    "tags": [
     "subslide"
    ]
   },
   "source": [
    "\n",
    "**Erweiterungen:**\n",
    "1a. Spieler wählt eine ungültige Aktion (z.B. Bewegung zu einem nicht\n",
    "zugänglichen Ort).\n",
    "1. System gibt Feedback über die ungültige Aktion.\n",
    "2. Spieler wird aufgefordert, eine gültige Aktion zu wählen.\n",
    "\n",
    "2a. Spieler wählt aus, während seines Zuges auf das Spielmenü zuzugreifen.\n",
    "1. System pausiert das Spiel.\n",
    "2. Spieler greift auf Optionen wie Speichern, Einstellungen anpassen oder\n",
    "Beenden zu.\n",
    "3. Spieler kehrt nach dem Verlassen des Menüs zu seinem Zug zurück."
   ]
  }
 ],
 "metadata": {
  "kernelspec": {
   "display_name": "C++17",
   "language": "C++17",
   "name": "xcpp17"
  },
  "language_info": {
   "codemirror_mode": "text/x-c++src",
   "file_extension": ".cpp",
   "mimetype": "text/x-c++src",
   "name": "c++",
   "version": "17"
  }
 },
 "nbformat": 4,
 "nbformat_minor": 5
}
