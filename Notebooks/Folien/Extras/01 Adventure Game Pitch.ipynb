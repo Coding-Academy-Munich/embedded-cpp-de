{
 "cells": [
  {
   "cell_type": "markdown",
   "id": "25764e57ea81f70a",
   "metadata": {
    "lang": "de",
    "slideshow": {
     "slide_type": "slide"
    },
    "tags": [
     "slide"
    ]
   },
   "source": [
    "\n",
    "<img src=\"data:image/png;base64,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\"\n",
    "     style=\"display:block;margin:auto;width:5%\"/>\n",
    "<br>\n",
    "\n",
    "<div style=\"text-align:center; font-size:200%;\">\n",
    " <b>Adventure Game: Pitch</b>\n",
    "</div>\n",
    "<br/>\n",
    "<div style=\"text-align:center; font-size:120%;\">Dr. Matthias Hölzl</div>\n",
    "<br/>\n",
    "<div style=\"text-align:center;\">Coding-Akademie München</div>\n",
    "<br/>\n",
    "<!-- 01 Adventure Game Pitch.ipynb -->\n",
    "<!-- slides/module_500_solid_grasp/topic_130_adventure_pitch.cpp -->"
   ]
  },
  {
   "cell_type": "markdown",
   "id": "b4ce9f3bfbc2d077",
   "metadata": {
    "lang": "de",
    "slideshow": {
     "slide_type": "subslide"
    },
    "tags": [
     "subslide"
    ]
   },
   "source": [
    "\n",
    "## Die Welt unseres Adventure Games: Eine Reise in die Fantasie\n",
    "\n",
    "Willkommen in der Domäne unseres bezaubernden Adventure Games, ein Universum\n",
    "reich an Erkundungen, Interaktionen und fesselnden Geschichten, die darauf\n",
    "warten, gesponnen zu werden. Bevor wir uns auf unser Coding-Abenteuer\n",
    "begeben, wollen wir die Landschaft verstehen, die wir navigieren, die\n",
    "Charaktere, denen wir begegnen werden, und die verschiedenen Aktivitäten, die\n",
    "diesem Bereich Leben einhauchen."
   ]
  },
  {
   "cell_type": "markdown",
   "id": "89d4aec832db2c83",
   "metadata": {
    "lang": "de",
    "slideshow": {
     "slide_type": "subslide"
    },
    "tags": [
     "subslide"
    ]
   },
   "source": [
    "\n",
    "### Das große Theater\n",
    "\n",
    "1. **Das Spiel selbst:** Stellen Sie sich das Spiel als ein großes Theater\n",
    "   vor, in dem all unsere Abenteuer stattfinden. Es ist die übergeordnete\n",
    "   Welt, die alles beherbergt - unsere Charaktere, Orte und die Objekte, die\n",
    "   sie füllen.\n",
    "\n",
    "2. **Die Welt:** Innerhalb dieses Theaters befindet sich ein großes\n",
    "   Gesamtbild, der als 'Welt' bezeichnet wird. Es ist eine Sammlung von\n",
    "   verschiedenen miteinander verbundenen Orten. Denken Sie an die\n",
    "   verschiedenen Szenen auf unserer Theaterbühne, jede mit ihrer eigenen\n",
    "   Kulisse, Ambiente und Handlung."
   ]
  },
  {
   "cell_type": "markdown",
   "id": "d9a95bff39c2a4a1",
   "metadata": {
    "lang": "de",
    "slideshow": {
     "slide_type": "subslide"
    },
    "tags": [
     "subslide"
    ]
   },
   "source": [
    "\n",
    "### Hauptprotagonisten\n",
    "\n",
    "1. **Spieler:** Das sind Sie! Derjenige, der die Reise orchestriert,\n",
    "   Entscheidungen trifft und die Richtung der Geschichte bestimmt. Sie sind\n",
    "   derjenige, der den Kompass und die Karte hält, der entscheidet, wohin er\n",
    "   oder sie geht und mit wem er oder sie interagiert.\n",
    "\n",
    "2. **Pawn:** Im Spiel werden Sie eine Figur kontrollieren, die als 'Pawn'\n",
    "   bezeichnet wird. Das ist Ihr Avatar, Ihre Repräsentation in diesem\n",
    "   digitalen Reich. Mit den Pawn werden Sie die Welt durchqueren, erkunden\n",
    "   und zahlreiche Abenteuer erleben."
   ]
  },
  {
   "cell_type": "markdown",
   "id": "41869960935686bd",
   "metadata": {
    "lang": "de",
    "slideshow": {
     "slide_type": "subslide"
    },
    "tags": [
     "subslide"
    ]
   },
   "source": [
    "\n",
    "### Charaktere des Reiches\n",
    "\n",
    "1. **Non-Player-Characters (NPCs):** Auf Ihrer Reise durch das Spiel werden\n",
    "   Sie eine vielfältige Besetzung von Charakteren treffen, die nicht von\n",
    "   Ihnen kontrolliert werden. Sie sind die Bewohner dieser Welt. Ob es sich\n",
    "   um Händler handelt, die mysteriöse Waren verkaufen, weise alte Zauberer\n",
    "   mit kryptischen Ratschlägen oder tapfere Krieger, die Sie zu Duellen\n",
    "   herausfordern, sie sind wesentlich für die Vielfalt der Erzählung."
   ]
  },
  {
   "cell_type": "markdown",
   "id": "76a5b178f5e6262b",
   "metadata": {
    "lang": "de",
    "slideshow": {
     "slide_type": "subslide"
    },
    "tags": [
     "subslide"
    ]
   },
   "source": [
    "\n",
    "### Elemente von Mystery & Adventure\n",
    "\n",
    "1. **Objekte:** Überall in den Orten der Welt verstreut, entdecken Sie eine\n",
    "   Vielzahl von Objekten. Manche sind vielleicht einfache Kleinigkeiten,\n",
    "   andere wiederum können der Schlüssel zum Fortschritt Ihrer Reise oder zur\n",
    "   Lösung komplexer Rätsel sein.\n",
    "\n",
    "2. **Orte:** Das sind die verschiedenen Szenen oder Bühnen in unserem\n",
    "   Theater. Von geschäftigen Marktplätzen bis hin zu ruhigen Wäldern,\n",
    "   gefährlichen Gebirgspässen bis hin zu ruhigen Seelandschaften, jeder Ort\n",
    "   bietet einzigartige Interaktionen, Herausforderungen und Geschichten."
   ]
  },
  {
   "cell_type": "markdown",
   "id": "36395bafb6600b9c",
   "metadata": {
    "lang": "de",
    "slideshow": {
     "slide_type": "subslide"
    },
    "tags": [
     "subslide"
    ]
   },
   "source": [
    "\n",
    "### Aktivitäten & Aktionen\n",
    "\n",
    "1. **Bewegung:** Eine der Kernaktivitäten besteht darin, Ihre Figur durch die\n",
    "   verschiedenen Orte der Welt zu führen. Machen Sie sich auf den Weg, um\n",
    "   neue Terrains zu erkunden oder vertraute Orte in Ihrem Streben zu\n",
    "   besuchen.\n",
    "\n",
    "2. **Interaktion mit Objekten:** Neugier wird belohnt. Die Beschäftigung mit\n",
    "   Objekten kann Erkenntnisse, Werkzeuge oder sogar unerwartete Wendungen\n",
    "   der Reise bringen.\n",
    "\n",
    "3. **Gespräche mit NPCs:** Schließen Sie Allianzen, sammeln Sie Informationen,\n",
    "   tauschen Sie Gegenstände aus oder treten Sie in Kämpfen gegeneinander an.\n",
    "   Ihre Interaktionen mit NPCs werden Ihren Weg und den Ausgang Ihres\n",
    "   Abenteuers prägen.\n",
    "\n",
    "4. **Verwaltung des Spiels:** Neben den Hauptaktionen gibt es Aktivitäten,\n",
    "   die mit der Verwaltung des Spiels zu tun haben. Dazu können das Speichern\n",
    "   Ihres Fortschritts, das Anpassen von Einstellungen oder sogar das\n",
    "   Auswählen verschiedener Spielmodi gehören."
   ]
  },
  {
   "cell_type": "markdown",
   "id": "09c5f6c2ea07084e",
   "metadata": {
    "lang": "de",
    "slideshow": {
     "slide_type": "subslide"
    },
    "tags": [
     "subslide"
    ]
   },
   "source": [
    "\n",
    "Zusammenfassend lässt sich sagen, dass unsere Abenteuer-Spiel-Domäne ein\n",
    "reiches Geflecht von miteinander verbundenen Orten ist, gefüllt mit\n",
    "Charakteren, Objekten und endlosen Möglichkeiten. Ob Sie nun nach Schätzen\n",
    "suchen, Freundschaften schmieden oder sich Feinden stellen, jede Wahl, die\n",
    "Sie treffen, gestaltet eine einzigartige Geschichte. Nun, da wir ein klares\n",
    "Bild unserer Domäne haben, wollen wir diese Welt zum Leben zu erwecken!"
   ]
  }
 ],
 "metadata": {
  "kernelspec": {
   "display_name": "C++17",
   "language": "C++17",
   "name": "xcpp17"
  },
  "language_info": {
   "codemirror_mode": "text/x-c++src",
   "file_extension": ".cpp",
   "mimetype": "text/x-c++src",
   "name": "c++",
   "version": "17"
  }
 },
 "nbformat": 4,
 "nbformat_minor": 5
}
