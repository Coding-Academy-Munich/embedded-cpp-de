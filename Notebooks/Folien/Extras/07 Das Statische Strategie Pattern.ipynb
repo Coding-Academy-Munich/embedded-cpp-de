{
 "cells": [
  {
   "cell_type": "markdown",
   "id": "be4703e041b731b7",
   "metadata": {
    "lang": "de",
    "slideshow": {
     "slide_type": "slide"
    },
    "tags": [
     "slide"
    ]
   },
   "source": [
    "\n",
    "<img src=\"data:image/png;base64,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\"\n",
    "     style=\"display:block;margin:auto;width:5%\"/>\n",
    "<br>\n",
    "\n",
    "<div style=\"text-align:center; font-size:200%;\">\n",
    " <b>Das Statische Strategie Pattern</b>\n",
    "</div>\n",
    "<br/>\n",
    "<div style=\"text-align:center; font-size:120%;\">Dr. Matthias Hölzl</div>\n",
    "<br/>\n",
    "<div style=\"text-align:center;\">Coding-Akademie München</div>\n",
    "<br/>\n",
    "<!-- 07 Das Statische Strategie Pattern.ipynb -->\n",
    "<!-- slides/module_470_cpp_patterns/topic_200_static_strategy.cpp -->"
   ]
  },
  {
   "cell_type": "markdown",
   "id": "a1dc80fe801f697b",
   "metadata": {
    "lang": "de",
    "lines_to_next_cell": 2,
    "slideshow": {
     "slide_type": "subslide"
    },
    "tags": [
     "subslide"
    ]
   },
   "source": [
    "\n",
    "### Zweck des Strategy Patterns\n",
    "\n",
    "- Austauschbare Algorithmen / austauschbares Verhalten\n",
    "- Algorithmen unabhängig von Klassen, die sie verwenden"
   ]
  },
  {
   "cell_type": "markdown",
   "id": "f4917e8b8eaf950f",
   "metadata": {
    "lang": "de",
    "slideshow": {
     "slide_type": "slide"
    },
    "tags": [
     "slide"
    ]
   },
   "source": [
    "\n",
    "### Motivation für das Strategy Pattern\n",
    "\n",
    "- Textumbruch [...]"
   ]
  },
  {
   "cell_type": "markdown",
   "id": "43b52e97283faafe",
   "metadata": {
    "lang": "de",
    "lines_to_next_cell": 2,
    "slideshow": {
     "slide_type": "subslide"
    },
    "tags": [
     "subslide"
    ]
   },
   "source": [
    "\n",
    "## Struktur des Strategy Patterns\n",
    "\n",
    "<img src=\"img/pat_strategy.svg\"\n",
    "     style=\"display:block;margin:auto;width:80%\"/>"
   ]
  },
  {
   "cell_type": "code",
   "execution_count": null,
   "id": "9acdf0c9ad1ca426",
   "metadata": {
    "slideshow": {
     "slide_type": "subslide"
    },
    "tags": [
     "subslide",
     "keep"
    ]
   },
   "outputs": [],
   "source": [
    "#include <iostream>\n",
    "#include <xcpp/xdisplay.hpp>"
   ]
  },
  {
   "cell_type": "code",
   "execution_count": null,
   "id": "2f05e0b3a0cf90d2",
   "metadata": {
    "tags": [
     "keep"
    ]
   },
   "outputs": [],
   "source": [
    "class ContextDataInterface {\n",
    "public:\n",
    "    ContextDataInterface() = default;\n",
    "    ContextDataInterface(const ContextDataInterface&) = delete;\n",
    "    ContextDataInterface& operator=(const ContextDataInterface&) = delete;\n",
    "    ContextDataInterface(ContextDataInterface&&) = delete;\n",
    "    ContextDataInterface& operator=(ContextDataInterface&&) = delete;\n",
    "    virtual ~ContextDataInterface() = default;\n",
    "\n",
    "    virtual int GetDataForAlgorithm() const = 0;\n",
    "};"
   ]
  },
  {
   "cell_type": "code",
   "execution_count": null,
   "id": "fc14f12fe02c7cdf",
   "metadata": {
    "slideshow": {
     "slide_type": "subslide"
    },
    "tags": [
     "keep",
     "subslide"
    ]
   },
   "outputs": [],
   "source": [
    "class Strategy {\n",
    "public:\n",
    "    Strategy() = default;\n",
    "    virtual ~Strategy() = default;\n",
    "    Strategy(const Strategy&) = delete;\n",
    "    Strategy& operator=(const Strategy&) = delete;\n",
    "    Strategy(Strategy&&) = delete;\n",
    "    Strategy& operator=(Strategy&&) = delete;\n",
    "\n",
    "    virtual float AlgorithmInterface(const ContextDataInterface& context) = 0;\n",
    "};"
   ]
  },
  {
   "cell_type": "markdown",
   "id": "63c8b8a885c1da7b",
   "metadata": {
    "lang": "de"
   },
   "source": [
    "\n",
    "- Wir definieren keine explizite Schnittstelle für das statische Strategy Pattern\n",
    "(bis C++17)\n",
    "- In C++20 können wir Concepts verwenden\n",
    "- Ein \"statisches Interface\" würde folgendermaßen aussehen:"
   ]
  },
  {
   "cell_type": "code",
   "execution_count": null,
   "id": "54783b57f6f0e812",
   "metadata": {
    "slideshow": {
     "slide_type": "subslide"
    },
    "tags": [
     "subslide",
     "keep"
    ]
   },
   "outputs": [],
   "source": [
    "#include <memory>"
   ]
  },
  {
   "cell_type": "code",
   "execution_count": null,
   "id": "f7fd1f865dd35917",
   "metadata": {
    "tags": [
     "keep"
    ]
   },
   "outputs": [],
   "source": [
    "class Context : public ContextDataInterface {\n",
    "public:\n",
    "    Context(std::unique_ptr<Strategy> strategy) : strategy_(std::move(strategy)) {}\n",
    "\n",
    "    float ContextInterface() { return strategy_->AlgorithmInterface(*this); }\n",
    "\n",
    "    void SetStrategy(std::unique_ptr<Strategy> strategy) {\n",
    "        strategy_ = std::move(strategy);\n",
    "    }\n",
    "\n",
    "    int GetDataForAlgorithm() const override { return myDataForAlgorithm_; }\n",
    "\n",
    "private:\n",
    "    std::unique_ptr<Strategy> strategy_;\n",
    "    int myDataForAlgorithm_{42};\n",
    "};"
   ]
  },
  {
   "cell_type": "code",
   "execution_count": null,
   "id": "05ba2f78831f080a",
   "metadata": {
    "slideshow": {
     "slide_type": "subslide"
    },
    "tags": [
     "keep",
     "subslide"
    ]
   },
   "outputs": [],
   "source": [
    "template <typename ConcreteStrategy>\n",
    "class StaticContext {\n",
    "public:\n",
    "    float ContextInterface() {\n",
    "        static ConcreteStrategy strategy;\n",
    "        return strategy.AlgorithmInterface(*this);\n",
    "    }\n",
    "\n",
    "    int GetDataForAlgorithm() const { return myDataForAlgorithm_; }\n",
    "\n",
    "private:\n",
    "    int myDataForAlgorithm_{42};\n",
    "};"
   ]
  },
  {
   "cell_type": "code",
   "execution_count": null,
   "id": "a4361f2f49abcd6b",
   "metadata": {
    "slideshow": {
     "slide_type": "subslide"
    },
    "tags": [
     "keep",
     "subslide"
    ]
   },
   "outputs": [],
   "source": [
    "class ConcreteStrategyA : public Strategy {\n",
    "public:\n",
    "    float AlgorithmInterface(const ContextDataInterface& context) override {\n",
    "        auto data = context.GetDataForAlgorithm();\n",
    "        return data + 1.5;\n",
    "    }\n",
    "};"
   ]
  },
  {
   "cell_type": "code",
   "execution_count": null,
   "id": "26a883f9be542f30",
   "metadata": {
    "tags": [
     "keep"
    ]
   },
   "outputs": [],
   "source": [
    "class ConcreteStrategyB : public Strategy {\n",
    "public:\n",
    "    float AlgorithmInterface(const ContextDataInterface& context) override {\n",
    "        auto data = context.GetDataForAlgorithm();\n",
    "        return data / 2.0;\n",
    "    }\n",
    "};"
   ]
  },
  {
   "cell_type": "code",
   "execution_count": null,
   "id": "8b141220430de5cc",
   "metadata": {
    "slideshow": {
     "slide_type": "subslide"
    },
    "tags": [
     "keep",
     "subslide"
    ]
   },
   "outputs": [],
   "source": [
    "class ConcreteStaticStrategyA {\n",
    "public:\n",
    "    float AlgorithmInterface(const StaticContext<ConcreteStaticStrategyA>& context) {\n",
    "        auto data = context.GetDataForAlgorithm();\n",
    "        return data + 1.5;\n",
    "    }\n",
    "};"
   ]
  },
  {
   "cell_type": "code",
   "execution_count": null,
   "id": "62fdccb8ef3a56c3",
   "metadata": {
    "tags": [
     "keep"
    ]
   },
   "outputs": [],
   "source": [
    "class ConcreteStaticStrategyB {\n",
    "public:\n",
    "    float AlgorithmInterface(const StaticContext<ConcreteStaticStrategyB>& context) {\n",
    "        auto data = context.GetDataForAlgorithm();\n",
    "        return data / 2.0;\n",
    "    }\n",
    "};"
   ]
  },
  {
   "cell_type": "code",
   "execution_count": null,
   "id": "8b363f62dc65af58",
   "metadata": {
    "slideshow": {
     "slide_type": "subslide"
    },
    "tags": [
     "keep",
     "subslide"
    ]
   },
   "outputs": [],
   "source": [
    "Context context{std::make_unique<ConcreteStrategyA>()};\n",
    "std::cout << \"Strategy A: \" << context.ContextInterface() << \"\\n\";\n",
    "context.SetStrategy(std::make_unique<ConcreteStrategyB>());\n",
    "std::cout << \"Strategy B: \" << context.ContextInterface() << \"\\n\";"
   ]
  },
  {
   "cell_type": "code",
   "execution_count": null,
   "id": "bc3272770bc33a9a",
   "metadata": {
    "tags": [
     "keep"
    ]
   },
   "outputs": [],
   "source": [
    "StaticContext<ConcreteStaticStrategyA> staticContextA;\n",
    "std::cout << \"Static Strategy A: \" << staticContextA.ContextInterface() << \"\\n\";"
   ]
  },
  {
   "cell_type": "code",
   "execution_count": null,
   "id": "b4291009f7c4df4f",
   "metadata": {
    "tags": [
     "keep"
    ]
   },
   "outputs": [],
   "source": [
    "StaticContext<ConcreteStaticStrategyB> staticContextB;\n",
    "std::cout << \"Static Strategy B: \" << staticContextB.ContextInterface() << \"\\n\";"
   ]
  },
  {
   "cell_type": "markdown",
   "id": "1271543f97978e5e",
   "metadata": {
    "lang": "de",
    "slideshow": {
     "slide_type": "subslide"
    },
    "tags": [
     "subslide"
    ]
   },
   "source": [
    "\n",
    "## Beispiel: Textumbruch"
   ]
  },
  {
   "cell_type": "code",
   "execution_count": null,
   "id": "0fa47d1f08cea20c",
   "metadata": {
    "slideshow": {
     "slide_type": "subslide"
    },
    "tags": [
     "keep",
     "subslide"
    ]
   },
   "outputs": [],
   "source": [
    "// We don't need a superclass. The interface would be something like this:\n",
    "//\n",
    "// class TextWrapStrategy {\n",
    "// public:\n",
    "//     std::vector<std::string> Wrap(const std::string& text, int width);\n",
    "// };"
   ]
  },
  {
   "cell_type": "code",
   "execution_count": null,
   "id": "61f4f9f7959012ba",
   "metadata": {
    "slideshow": {
     "slide_type": "subslide"
    },
    "tags": [
     "subslide",
     "keep"
    ]
   },
   "outputs": [],
   "source": [
    "class TruncationStrategy {\n",
    "public:\n",
    "    // No override keyword here, because we don't inherit from a superclass\n",
    "    std::vector<std::string> Wrap(const std::string& text, int width) {\n",
    "        if (text.size() <= width) {\n",
    "            return {text};\n",
    "        }\n",
    "        return {text.substr(0, width - 3) + \"...\"};\n",
    "    }\n",
    "};"
   ]
  },
  {
   "cell_type": "code",
   "execution_count": null,
   "id": "fa7e680d30081b2e",
   "metadata": {
    "slideshow": {
     "slide_type": "subslide"
    },
    "tags": [
     "subslide",
     "keep"
    ]
   },
   "outputs": [],
   "source": [
    "class BreakAnywhereStrategy {\n",
    "public:\n",
    "    std::vector<std::string> Wrap(const std::string& text, int width) {\n",
    "        std::string remainingText{text};\n",
    "        std::vector<std::string> lines;\n",
    "        while (remainingText.size() > width) {\n",
    "            lines.push_back(remainingText.substr(0, width));\n",
    "            remainingText = remainingText.substr(width);\n",
    "        }\n",
    "        lines.push_back(remainingText);\n",
    "        return lines;\n",
    "    }\n",
    "};"
   ]
  },
  {
   "cell_type": "code",
   "execution_count": null,
   "id": "b39f61dc423d3a0d",
   "metadata": {
    "slideshow": {
     "slide_type": "subslide"
    },
    "tags": [
     "subslide",
     "keep"
    ]
   },
   "outputs": [],
   "source": [
    "class BreakOnSpaceStrategy {\n",
    "public:\n",
    "    std::vector<std::string> Wrap(const std::string& text, int width) {\n",
    "        std::vector<std::string> lines;\n",
    "        std::string remainingText{text};\n",
    "        while (remainingText.size() > width) {\n",
    "            auto pos = remainingText.find_last_of(' ', width);\n",
    "            if (pos == std::string::npos) {\n",
    "                pos = width;\n",
    "            }\n",
    "            lines.push_back(remainingText.substr(0, pos));\n",
    "            remainingText = remainingText.substr(pos + 1);\n",
    "        }\n",
    "        lines.push_back(remainingText);\n",
    "        return lines;\n",
    "    }\n",
    "};"
   ]
  },
  {
   "cell_type": "code",
   "execution_count": null,
   "id": "d3c83bdffb0a067f",
   "metadata": {
    "slideshow": {
     "slide_type": "subslide"
    },
    "tags": [
     "keep",
     "subslide"
    ]
   },
   "outputs": [],
   "source": [
    "class BlogPost {\n",
    "public:\n",
    "    BlogPost(\n",
    "        const std::string& author, const std::string& title, const std::string& text)\n",
    "        : author_{author}, title_{title}, text_{text} {}\n",
    "\n",
    "    const std::string& GetAuthor() const { return author_; }\n",
    "    const std::string& GetTitle() const { return title_; }\n",
    "    const std::string& GetText() const { return text_; }\n",
    "\n",
    "private:\n",
    "    std::string author_;\n",
    "    std::string title_;\n",
    "    std::string text_;\n",
    "};"
   ]
  },
  {
   "cell_type": "code",
   "execution_count": null,
   "id": "f6aee4b3b61ee055",
   "metadata": {
    "slideshow": {
     "slide_type": "subslide"
    },
    "tags": [
     "keep",
     "subslide"
    ]
   },
   "outputs": [],
   "source": [
    "template <typename TextWrapStrategy>\n",
    "class Blog {\n",
    "public:\n",
    "    void Print(int width) {\n",
    "        static TextWrapStrategy strategy;\n",
    "        for (const auto& post : posts_) {\n",
    "            std::cout << std::string(width, '-') << \"\\n\";\n",
    "            std::cout << \"Title: \" << post.GetTitle() << \"\\n\";\n",
    "            std::cout << \"Author: \" << post.GetAuthor() << \"\\n\";\n",
    "            for (const auto& line : strategy.Wrap(post.GetText(), width)) {\n",
    "                std::cout << line << \"\\n\";\n",
    "            }\n",
    "            std::cout << std::string(width, '-') << \"\\n\";\n",
    "        }\n",
    "    }\n",
    "\n",
    "    void AddPost(const BlogPost& post) { posts_.push_back(post); }\n",
    "\n",
    "private:\n",
    "    std::vector<BlogPost> posts_;\n",
    "};"
   ]
  },
  {
   "cell_type": "code",
   "execution_count": null,
   "id": "9161ccd2e7fd3ae3",
   "metadata": {
    "slideshow": {
     "slide_type": "subslide"
    },
    "tags": [
     "keep",
     "subslide"
    ]
   },
   "outputs": [],
   "source": [
    "std::string firstPost{\"This is my first post. This is my first post. This is my first \"\n",
    "                      \"post. This is my first post. This is my first post. This is my \"\n",
    "                      \"first post. This is my first post. This is my first post. \"};\n",
    "std::string secondPost {\n",
    "    \"This is my second post. This is my second post. This is my second post. This is \"\n",
    "    \"my second post. This is my second post. This is my second post. This is my second \"\n",
    "    \"post. This is my second post. This is my second post. This is my second post. \"\n",
    "    \"This is my second post. This is my second post. \"\n",
    "}"
   ]
  },
  {
   "cell_type": "code",
   "execution_count": null,
   "id": "80a13e523a5d35d6",
   "metadata": {
    "slideshow": {
     "slide_type": "subslide"
    },
    "tags": [
     "keep",
     "subslide"
    ]
   },
   "outputs": [],
   "source": [
    "template <typename TruncationStrategy>\n",
    "Blog<TruncationStrategy> MakeBlog() {\n",
    "    Blog<TruncationStrategy> blog;\n",
    "\n",
    "    blog.AddPost({\"John Doe\", \"My first post\", firstPost});\n",
    "    blog.AddPost({\"Jane Doe\", \"My second post\", secondPost});\n",
    "    return blog;\n",
    "}"
   ]
  },
  {
   "cell_type": "code",
   "execution_count": null,
   "id": "b61ff6fd9e940c76",
   "metadata": {
    "slideshow": {
     "slide_type": "subslide"
    },
    "tags": [
     "keep",
     "subslide"
    ]
   },
   "outputs": [],
   "source": [
    "auto blog{MakeBlog<TruncationStrategy>()};"
   ]
  },
  {
   "cell_type": "code",
   "execution_count": null,
   "id": "0cd85a6949dfafe1",
   "metadata": {
    "tags": [
     "keep"
    ]
   },
   "outputs": [],
   "source": [
    "blog.Print(40);"
   ]
  },
  {
   "cell_type": "code",
   "execution_count": null,
   "id": "115c2ebe279176ac",
   "metadata": {
    "slideshow": {
     "slide_type": "subslide"
    },
    "tags": [
     "keep",
     "subslide"
    ]
   },
   "outputs": [],
   "source": [
    "auto blog{MakeBlog<BreakAnywhereStrategy>()};"
   ]
  },
  {
   "cell_type": "code",
   "execution_count": null,
   "id": "9e537b621ed24e4b",
   "metadata": {
    "tags": [
     "keep"
    ]
   },
   "outputs": [],
   "source": [
    "blog.Print(40);"
   ]
  },
  {
   "cell_type": "code",
   "execution_count": null,
   "id": "d4f2cf5fe20740d8",
   "metadata": {
    "slideshow": {
     "slide_type": "subslide"
    },
    "tags": [
     "keep",
     "subslide"
    ]
   },
   "outputs": [],
   "source": [
    "auto blog{MakeBlog<BreakOnSpaceStrategy>()};"
   ]
  },
  {
   "cell_type": "code",
   "execution_count": null,
   "id": "b57715008fd62c7d",
   "metadata": {
    "tags": [
     "keep"
    ]
   },
   "outputs": [],
   "source": [
    "blog.Print(40);"
   ]
  },
  {
   "cell_type": "markdown",
   "id": "5bc5c7dd5f363b46",
   "metadata": {
    "lang": "de",
    "slideshow": {
     "slide_type": "subslide"
    },
    "tags": [
     "subslide"
    ]
   },
   "source": [
    "\n",
    "### Implementierung mit Funktions-Objekt (1)"
   ]
  },
  {
   "cell_type": "code",
   "execution_count": null,
   "id": "845498b1a582549c",
   "metadata": {
    "slideshow": {
     "slide_type": "subslide"
    },
    "tags": [
     "keep",
     "subslide"
    ]
   },
   "outputs": [],
   "source": [
    "template <std::vector<std::string> textWrapStrategy(const std::string& text, int width)>\n",
    "class FunBlog {\n",
    "public:\n",
    "    void Print(int width) {\n",
    "\n",
    "        for (const auto& post : posts_) {\n",
    "            std::cout << std::string(width, '-') << \"\\n\";\n",
    "            std::cout << \"Title: \" << post.GetTitle() << \"\\n\";\n",
    "            std::cout << \"Author: \" << post.GetAuthor() << \"\\n\";\n",
    "            for (const auto& line : textWrapStrategy(post.GetText(), width)) {\n",
    "                std::cout << line << \"\\n\";\n",
    "            }\n",
    "            std::cout << std::string(width, '-') << \"\\n\";\n",
    "        }\n",
    "    }\n",
    "\n",
    "    void AddPost(const BlogPost& post) { posts_.push_back(post); }\n",
    "\n",
    "private:\n",
    "    std::vector<BlogPost> posts_;\n",
    "};"
   ]
  },
  {
   "cell_type": "code",
   "execution_count": null,
   "id": "17ed9542582615af",
   "metadata": {
    "slideshow": {
     "slide_type": "subslide"
    },
    "tags": [
     "keep",
     "subslide"
    ]
   },
   "outputs": [],
   "source": [
    "std::vector<std::string> TruncateLines(const std::string& text, int width) {\n",
    "    if (text.size() <= width) {\n",
    "        return {text};\n",
    "    }\n",
    "    return {text.substr(0, width - 3) + \"...\"};\n",
    "}"
   ]
  },
  {
   "cell_type": "code",
   "execution_count": null,
   "id": "e54ca04551cb5c1c",
   "metadata": {
    "slideshow": {
     "slide_type": "subslide"
    },
    "tags": [
     "keep",
     "subslide"
    ]
   },
   "outputs": [],
   "source": [
    "template <std::vector<std::string> textWrapStrategy(const std::string& text, int width)>\n",
    "FunBlog<textWrapStrategy> MakeFunBlog() {\n",
    "    FunBlog<textWrapStrategy> blog;\n",
    "\n",
    "    blog.AddPost({\"John Doe\", \"My first post\", firstPost});\n",
    "    blog.AddPost({\"Jane Doe\", \"My second post\", secondPost});\n",
    "    return blog;\n",
    "}"
   ]
  },
  {
   "cell_type": "code",
   "execution_count": null,
   "id": "56038377cf5ad1fa",
   "metadata": {
    "tags": [
     "keep"
    ]
   },
   "outputs": [],
   "source": [
    "auto blog{MakeFunBlog<TruncateLines>()};"
   ]
  },
  {
   "cell_type": "code",
   "execution_count": null,
   "id": "95f0feb186832827",
   "metadata": {
    "tags": [
     "keep"
    ]
   },
   "outputs": [],
   "source": [
    "blog.Print(40);"
   ]
  },
  {
   "cell_type": "code",
   "execution_count": null,
   "id": "6c699248e7fc03db",
   "metadata": {
    "slideshow": {
     "slide_type": "subslide"
    },
    "tags": [
     "subslide",
     "keep"
    ]
   },
   "outputs": [],
   "source": [
    "class FunTruncateLinesStrategy {\n",
    "public:\n",
    "    std::vector<std::string> operator()(const std::string& text, int width) {\n",
    "        if (text.size() <= width) {\n",
    "            return {text};\n",
    "        }\n",
    "        return {text.substr(0, width - 3) + \"...\"};\n",
    "    }\n",
    "};"
   ]
  },
  {
   "cell_type": "code",
   "execution_count": null,
   "id": "42747f77f9505627",
   "metadata": {},
   "outputs": [],
   "source": [
    "FunTruncateLinesStrategy funStrategy{};"
   ]
  },
  {
   "cell_type": "code",
   "execution_count": null,
   "id": "c77d6a3f396844c9",
   "metadata": {},
   "outputs": [],
   "source": [
    "xcpp::display(funStrategy(firstPost, 40));"
   ]
  },
  {
   "cell_type": "code",
   "execution_count": null,
   "id": "e60f38584c6de8f8",
   "metadata": {},
   "outputs": [],
   "source": [
    "// auto blog{MakeFunBlog<funStrategy>};"
   ]
  },
  {
   "cell_type": "markdown",
   "id": "f953027760c1ccec",
   "metadata": {
    "lang": "de",
    "slideshow": {
     "slide_type": "subslide"
    },
    "tags": [
     "subslide"
    ]
   },
   "source": [
    "\n",
    "### Implementierung mit Funktions-Objekt (2)"
   ]
  },
  {
   "cell_type": "code",
   "execution_count": null,
   "id": "b92d80d30ab1c036",
   "metadata": {
    "lines_to_next_cell": 2,
    "slideshow": {
     "slide_type": "subslide"
    },
    "tags": [
     "keep",
     "subslide"
    ]
   },
   "outputs": [],
   "source": [
    "template <typename TextWrapStrategy>\n",
    "class FunBlog {\n",
    "public:\n",
    "    void Print(int width) {\n",
    "        TextWrapStrategy strategy;\n",
    "        for (const auto& post : posts_) {\n",
    "            std::cout << std::string(width, '-') << \"\\n\";\n",
    "            std::cout << \"Title: \" << post.GetTitle() << \"\\n\";\n",
    "            std::cout << \"Author: \" << post.GetAuthor() << \"\\n\";\n",
    "            for (const auto& line : strategy(post.GetText(), width)) {\n",
    "                std::cout << line << \"\\n\";\n",
    "            }\n",
    "            std::cout << std::string(width, '-') << \"\\n\";\n",
    "        }\n",
    "    }\n",
    "\n",
    "    void AddPost(const BlogPost& post) { posts_.push_back(post); }\n",
    "\n",
    "private:\n",
    "    std::vector<BlogPost> posts_;\n",
    "};"
   ]
  },
  {
   "cell_type": "code",
   "execution_count": null,
   "id": "598a88a5257e6550",
   "metadata": {
    "lines_to_next_cell": 2,
    "slideshow": {
     "slide_type": "subslide"
    },
    "tags": [
     "keep",
     "subslide"
    ]
   },
   "outputs": [],
   "source": [
    "template <typename TextWrapStrategy>\n",
    "FunBlog<TextWrapStrategy> MakeFunBlog() {\n",
    "    FunBlog<TextWrapStrategy> blog;\n",
    "\n",
    "    blog.AddPost({\"John Doe\", \"My first post\", firstPost});\n",
    "    blog.AddPost({\"Jane Doe\", \"My second post\", secondPost});\n",
    "    return blog;\n",
    "}"
   ]
  },
  {
   "cell_type": "code",
   "execution_count": null,
   "id": "3ddbcd71cc942ae9",
   "metadata": {
    "tags": [
     "keep"
    ]
   },
   "outputs": [],
   "source": [
    "auto blog{MakeFunBlog<FunTruncateLinesStrategy>()};"
   ]
  },
  {
   "cell_type": "code",
   "execution_count": null,
   "id": "7e2605164a7f30cf",
   "metadata": {
    "tags": [
     "keep"
    ]
   },
   "outputs": [],
   "source": [
    "blog.Print(40);"
   ]
  },
  {
   "cell_type": "code",
   "execution_count": null,
   "id": "6b4e03423667dbb7",
   "metadata": {},
   "outputs": [],
   "source": []
  }
 ],
 "metadata": {
  "kernelspec": {
   "display_name": "C++17",
   "language": "C++17",
   "name": "xcpp17"
  },
  "language_info": {
   "codemirror_mode": "text/x-c++src",
   "file_extension": ".cpp",
   "mimetype": "text/x-c++src",
   "name": "c++",
   "version": "17"
  }
 },
 "nbformat": 4,
 "nbformat_minor": 5
}
