{
 "cells": [
  {
   "cell_type": "markdown",
   "id": "fdac1cc9691bf316",
   "metadata": {
    "lang": "de",
    "slideshow": {
     "slide_type": "slide"
    },
    "tags": [
     "slide"
    ]
   },
   "source": [
    "\n",
    "<img src=\"data:image/png;base64,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\"\n",
    "     style=\"display:block;margin:auto;width:5%\"/>\n",
    "<br>\n",
    "\n",
    "<div style=\"text-align:center; font-size:200%;\">\n",
    " <b>Was sind gute Tests?</b>\n",
    "</div>\n",
    "<br/>\n",
    "<div style=\"text-align:center; font-size:120%;\">Dr. Matthias Hölzl</div>\n",
    "<br/>\n",
    "<div style=\"text-align:center;\">Coding-Akademie München</div>\n",
    "<br/>\n",
    "<!-- 04 Was sind gute Tests.ipynb -->\n",
    "<!-- slides/module_410_unit_testing/topic_130_good_tests.cpp -->"
   ]
  },
  {
   "cell_type": "markdown",
   "id": "796fedbba61cb19f",
   "metadata": {
    "slideshow": {
     "slide_type": "subslide"
    },
    "tags": [
     "subslide"
    ]
   },
   "source": [
    "\n",
    "<img src=\"img/velocity-tests-03.png\"\n",
    "     alt=\"Velocity vs. Tests 3\"\n",
    "     style=\"width: 75%; margin-left: auto; margin-right: auto;\"/>"
   ]
  },
  {
   "cell_type": "markdown",
   "id": "3196f2596ed51b51",
   "metadata": {
    "lang": "de",
    "slideshow": {
     "slide_type": "subslide"
    },
    "tags": [
     "subslide"
    ]
   },
   "source": [
    "\n",
    "## Welche Eigenschaften sollte ein Test haben?\n",
    "\n",
    "<ul>\n",
    "<li class=\"fragment\">Zeigt viele Fehler/Regressionen im Code auf</li>\n",
    "<li class=\"fragment\">Gibt schnelle Rückmeldung</li>\n",
    "<li class=\"fragment\">Ist deterministisch</li>\n",
    "<li class=\"fragment\">Ist leicht zu warten und verstehen</li>\n",
    "<li class=\"fragment\"><b>Unempfindlich gegenüber Refactorings</b></li>\n",
    "</ul>\n",
    "\n",
    "<p class=\"fragment\">\n",
    "  Leider stehen diese Eigenschaften oft im Konflikt zueinander!\n",
    "</p>"
   ]
  },
  {
   "cell_type": "markdown",
   "id": "dd6fc90376ae5811",
   "metadata": {
    "lang": "de",
    "slideshow": {
     "slide_type": "subslide"
    },
    "tags": [
     "subslide"
    ]
   },
   "source": [
    "\n",
    "## Aufzeigen von Fehlern/Regressionen\n",
    "\n",
    "### Einflüsse\n",
    "\n",
    "<ul>\n",
    "  <li class=\"fragment\">Menge des abgedeckten Codes</li>\n",
    "  <li class=\"fragment\">Komplexität des abgedeckten Codes</li>\n",
    "  <li class=\"fragment\">Interaktion mit externen Systemen</li>\n",
    "  <li class=\"fragment\">Signifikanz des abgedeckten Codes für die Domäne/das\n",
    "  System</li>\n",
    "</ul>"
   ]
  },
  {
   "cell_type": "code",
   "execution_count": null,
   "id": "71a12c6d97d810e7",
   "metadata": {
    "slideshow": {
     "slide_type": "subslide"
    },
    "tags": [
     "keep",
     "subslide"
    ]
   },
   "outputs": [],
   "source": [
    "#include <iostream>\n",
    "#include <string>"
   ]
  },
  {
   "cell_type": "code",
   "execution_count": null,
   "id": "3e25c6fea0338f6a",
   "metadata": {
    "tags": [
     "keep"
    ]
   },
   "outputs": [],
   "source": [
    "class Item\n",
    "{\n",
    "private:\n",
    "    std::string name;\n",
    "    double price; // always positive\n",
    "\n",
    "public:\n",
    "    Item(std::string name, double price) : name{name} { setPrice(price); }\n",
    "\n",
    "    std::string getName() const { return name; }\n",
    "\n",
    "    double getPrice() const { return price; }\n",
    "    void setPrice(double value);\n",
    "};"
   ]
  },
  {
   "cell_type": "code",
   "execution_count": null,
   "id": "bf3d8b0070d0eb3d",
   "metadata": {
    "slideshow": {
     "slide_type": "subslide"
    },
    "tags": [
     "subslide",
     "keep"
    ]
   },
   "outputs": [],
   "source": [
    "void Item::setPrice(double value)\n",
    "{\n",
    "    if (value < 0)\n",
    "    {\n",
    "        value = -value;\n",
    "    }\n",
    "    price = value;\n",
    "}"
   ]
  },
  {
   "cell_type": "code",
   "execution_count": null,
   "id": "b6ebf1a21e1c9e61",
   "metadata": {
    "tags": [
     "keep"
    ]
   },
   "outputs": [],
   "source": [
    "namespace std\n",
    "{\n",
    "std::ostream& operator<<(std::ostream& os, const Item& item)\n",
    "{\n",
    "    os << \"Item(\" << item.getName() << \", \" << item.getPrice() << \")\";\n",
    "    return os;\n",
    "}\n",
    "} // namespace std"
   ]
  },
  {
   "cell_type": "code",
   "execution_count": null,
   "id": "888f20ee881932bb",
   "metadata": {
    "slideshow": {
     "slide_type": "subslide"
    },
    "tags": [
     "subslide",
     "keep"
    ]
   },
   "outputs": [],
   "source": [
    "#include <initializer_list>\n",
    "#include <vector>"
   ]
  },
  {
   "cell_type": "code",
   "execution_count": null,
   "id": "86493d3fba298113",
   "metadata": {
    "tags": [
     "keep"
    ]
   },
   "outputs": [],
   "source": [
    "class Order\n",
    "{\n",
    "private:\n",
    "    std::vector<Item> items;\n",
    "\n",
    "public:\n",
    "    Order(std::initializer_list<Item> itemList) : items{itemList} {}\n",
    "\n",
    "    std::vector<Item> getItems() const { return items; }\n",
    "    double getTotal() const;\n",
    "};"
   ]
  },
  {
   "cell_type": "code",
   "execution_count": null,
   "id": "5ec148fefd44b3d3",
   "metadata": {
    "slideshow": {
     "slide_type": "subslide"
    },
    "tags": [
     "subslide",
     "keep"
    ]
   },
   "outputs": [],
   "source": [
    "#include <numeric>"
   ]
  },
  {
   "cell_type": "code",
   "execution_count": null,
   "id": "1ca41de6950f7664",
   "metadata": {
    "tags": [
     "keep"
    ]
   },
   "outputs": [],
   "source": [
    "double Order::getTotal() const\n",
    "{\n",
    "    return std::accumulate(\n",
    "        items.begin(), items.end(), 0.0,\n",
    "        [](double sum, const Item& item) { return sum + item.getPrice(); }\n",
    "    );\n",
    "}"
   ]
  },
  {
   "cell_type": "code",
   "execution_count": null,
   "id": "ac87e7301142cd10",
   "metadata": {
    "slideshow": {
     "slide_type": "subslide"
    },
    "tags": [
     "subslide",
     "keep"
    ]
   },
   "outputs": [],
   "source": [
    "namespace std\n",
    "{\n",
    "std::ostream& operator<<(std::ostream& os, const Order& order)\n",
    "{\n",
    "    os << \"Order(\";\n",
    "    std::string sep{\"\"};\n",
    "    for (const auto& item : order.getItems())\n",
    "    {\n",
    "        os << sep << item;\n",
    "        sep = \", \";\n",
    "    }\n",
    "    os << \"), total = \" << order.getTotal();\n",
    "    return os;\n",
    "}\n",
    "} // namespace std"
   ]
  },
  {
   "cell_type": "code",
   "execution_count": null,
   "id": "a0ee650c342d197c",
   "metadata": {
    "slideshow": {
     "slide_type": "subslide"
    },
    "tags": [
     "subslide",
     "keep"
    ]
   },
   "outputs": [],
   "source": [
    "#include <iostream>"
   ]
  },
  {
   "cell_type": "code",
   "execution_count": null,
   "id": "8ea3508a5f096579",
   "metadata": {},
   "outputs": [],
   "source": [
    "void check(bool condition, std::string message = \"Test failed!\")\n",
    "{\n",
    "    if (!condition)\n",
    "    {\n",
    "        std::cerr << message << \"\\n\";\n",
    "    }\n",
    "}"
   ]
  },
  {
   "cell_type": "code",
   "execution_count": null,
   "id": "e07617bc1643500f",
   "metadata": {},
   "outputs": [],
   "source": [
    "void testItemName()\n",
    "{\n",
    "    Item unit{\"Apple\", 1.0};\n",
    "\n",
    "    check(unit.getName() == \"Apple\");\n",
    "    std::cout << \"Success.\\n\";\n",
    "}"
   ]
  },
  {
   "cell_type": "code",
   "execution_count": null,
   "id": "89cfb2f33d8ecc0b",
   "metadata": {},
   "outputs": [],
   "source": [
    "testItemName();"
   ]
  },
  {
   "cell_type": "code",
   "execution_count": null,
   "id": "95a50bee02e36659",
   "metadata": {
    "slideshow": {
     "slide_type": "subslide"
    },
    "tags": [
     "subslide"
    ]
   },
   "outputs": [],
   "source": [
    "void testOrderTotal()\n",
    "{\n",
    "    Order unit{\n",
    "        {\"Apple\", 1.0},\n",
    "        {\"Banana\", -2.0},\n",
    "    };\n",
    "\n",
    "    double total{unit.getTotal()};\n",
    "\n",
    "    check(total == 3.0);\n",
    "    std::cout << \"Success!\\n\";\n",
    "}"
   ]
  },
  {
   "cell_type": "code",
   "execution_count": null,
   "id": "025a22758e42435b",
   "metadata": {},
   "outputs": [],
   "source": [
    "testOrderTotal();"
   ]
  },
  {
   "cell_type": "code",
   "execution_count": null,
   "id": "38a8232905ecb8dd",
   "metadata": {
    "slideshow": {
     "slide_type": "subslide"
    },
    "tags": [
     "subslide"
    ]
   },
   "outputs": [],
   "source": [
    "void testOrderOutput()\n",
    "{\n",
    "    Order unit{\n",
    "        {\"Apple\", 1.0},\n",
    "        {\"Banana\", -2.0},\n",
    "    };\n",
    "    std::stringstream ss;\n",
    "\n",
    "    ss << unit;\n",
    "\n",
    "    check(ss.str() == \"Order(Item(Apple, 1), Item(Banana, 2)), total = 3\");\n",
    "    std::cout << \"Success!\\n\";\n",
    "}"
   ]
  },
  {
   "cell_type": "code",
   "execution_count": null,
   "id": "4c71eac03fcc7b6f",
   "metadata": {},
   "outputs": [],
   "source": [
    "testOrderOutput();"
   ]
  },
  {
   "cell_type": "markdown",
   "id": "7883cd17aa49460e",
   "metadata": {
    "lang": "de",
    "slideshow": {
     "slide_type": "subslide"
    },
    "tags": [
     "subslide"
    ]
   },
   "source": [
    "\n",
    "## Schnelle Rückmeldung\n",
    "\n",
    "### Einflüsse\n",
    "\n",
    "- Menge des abgedeckten Codes\n",
    "- Komplexität/Anzahl Iterationen des abgedeckten Codes\n",
    "- Interaktion mit externen Systemen"
   ]
  },
  {
   "cell_type": "markdown",
   "id": "6a5cc5fed41d1385",
   "metadata": {
    "lang": "de",
    "slideshow": {
     "slide_type": "subslide"
    },
    "tags": [
     "subslide"
    ]
   },
   "source": [
    "\n",
    "## Deterministisch\n",
    "\n",
    "<ul>\n",
    "  <li class=\"fragment\">Gleicher Code führt immer zum gleichen Ergebnis</li>\n",
    "  <li class=\"fragment\">Gründe für Nichtdeterminismus\n",
    "    <ul>\n",
    "      <li class=\"fragment\">Zufallszahlen</li>\n",
    "      <li class=\"fragment\">Zeit/Datum</li>\n",
    "      <li class=\"fragment\">Interaktion mit externen Systemen</li>\n",
    "      <li class=\"fragment\">Nicht initialisierte Variablen</li>\n",
    "      <li class=\"fragment\">Kommunikation zwischen Tests</li>\n",
    "    </ul>\n",
    "  </li>\n",
    "  <li class=\"fragment\">\n",
    "     Tests, die falsche Warnungen erzeugen sind nicht\n",
    "     hilfreich sondern schädlich!\n",
    "  </li>\n",
    "<ul>"
   ]
  },
  {
   "cell_type": "code",
   "execution_count": null,
   "id": "9aaa2ece53c27cf5",
   "metadata": {
    "slideshow": {
     "slide_type": "subslide"
    },
    "tags": [
     "subslide"
    ]
   },
   "outputs": [],
   "source": [
    "#include <random>"
   ]
  },
  {
   "cell_type": "code",
   "execution_count": null,
   "id": "614b81bdf85372b5",
   "metadata": {},
   "outputs": [],
   "source": [
    "void testRandomBad()\n",
    "{\n",
    "    std::random_device rd;\n",
    "    std::mt19937 gen{rd()};\n",
    "    std::uniform_int_distribution<> unit{1, 2};\n",
    "\n",
    "    int roll{unit(gen)};\n",
    "\n",
    "    check(roll == 1);\n",
    "    std::cout << \"Success!\\n\";\n",
    "}"
   ]
  },
  {
   "cell_type": "code",
   "execution_count": null,
   "id": "d18a1ffc74f419a1",
   "metadata": {},
   "outputs": [],
   "source": [
    "testRandomBad();"
   ]
  },
  {
   "cell_type": "code",
   "execution_count": null,
   "id": "7243a0ca3c346c89",
   "metadata": {
    "slideshow": {
     "slide_type": "subslide"
    },
    "tags": [
     "subslide"
    ]
   },
   "outputs": [],
   "source": [
    "void testRandomBetter()\n",
    "{\n",
    "    std::mt19937 gen{42};  // <= Fixed seed!\n",
    "    std::uniform_int_distribution<> unit{1, 2};\n",
    "\n",
    "    int roll{unit(gen)};\n",
    "\n",
    "    check(roll == 1);\n",
    "    std::cout << \"Success!\\n\";\n",
    "}"
   ]
  },
  {
   "cell_type": "code",
   "execution_count": null,
   "id": "e223f29fd6008f74",
   "metadata": {},
   "outputs": [],
   "source": [
    "testRandomBetter();"
   ]
  },
  {
   "cell_type": "code",
   "execution_count": null,
   "id": "668d4de635ea840d",
   "metadata": {
    "slideshow": {
     "slide_type": "subslide"
    },
    "tags": [
     "subslide"
    ]
   },
   "outputs": [],
   "source": [
    "void testDateBad()\n",
    "{\n",
    "    std::time_t now{std::time(nullptr)};\n",
    "    std::tm* unit{std::localtime(&now)};\n",
    "\n",
    "    check(unit->tm_year == 124);\n",
    "    check(unit->tm_sec % 2 == 0);\n",
    "    std::cout << \"Success!\\n\";\n",
    "}"
   ]
  },
  {
   "cell_type": "code",
   "execution_count": null,
   "id": "234b72867a1d89c4",
   "metadata": {},
   "outputs": [],
   "source": [
    "testDateBad();"
   ]
  },
  {
   "cell_type": "code",
   "execution_count": null,
   "id": "ac4c4b8ba2aeaf8a",
   "metadata": {
    "slideshow": {
     "slide_type": "subslide"
    },
    "tags": [
     "subslide"
    ]
   },
   "outputs": [],
   "source": [
    "void testDateBetter()\n",
    "{\n",
    "    std::tm unit{0, 0, 0, 1, 0, 124}; // 2024-01-01 00:00:00\n",
    "\n",
    "    check(unit.tm_year == 124);\n",
    "    check(unit.tm_sec % 2 == 0);\n",
    "    std::cout << \"Success!\\n\";\n",
    "}"
   ]
  },
  {
   "cell_type": "code",
   "execution_count": null,
   "id": "92cfbe1c70cd7203",
   "metadata": {},
   "outputs": [],
   "source": [
    "testDateBetter();"
   ]
  },
  {
   "cell_type": "markdown",
   "id": "875963372e8e9d26",
   "metadata": {
    "lang": "de",
    "slideshow": {
     "slide_type": "subslide"
    },
    "tags": [
     "subslide"
    ]
   },
   "source": [
    "\n",
    "## Leicht zu warten\n",
    "\n",
    "<ul>\n",
    "  <li>Einfache, standardisierte Struktur<br>\n",
    "    <table style=\"display:inline;margin:20px 20px;\">\n",
    "    <tr><td style=\"text-align:left;width:60px;padding-left:15px;\">Arrange</td>\n",
    "        <td style=\"text-align:left;width:60px;padding-left:15px;border-left:1px solid black;\">Given</td>\n",
    "        <td style=\"text-align:left;width:300px;padding-left:15px;border-left:1px solid black;\">\n",
    "          Bereite das Test-Environment vor</td></tr>\n",
    "    <tr><td style=\"text-align:left;padding-left:15px;\">Act</td>\n",
    "        <td style=\"text-align:left;width:60px;padding-left:15px;border-left:1px solid black;\">\n",
    "           When</td>\n",
    "        <td style=\"text-align:left;width:300px;padding-left:15px;border-left:1px solid black;\">\n",
    "           Führe die getestete Aktion aus (falls vorhanden)</td></tr>\n",
    "    <tr><td style=\"text-align:left;padding-left:15px;\">Assert</td>\n",
    "        <td style=\"text-align:left;width:60px;padding-left:15px;border-left:1px solid black;\">\n",
    "           Then</td>\n",
    "        <td style=\"text-align:left;width:300px;padding-left:15px;border-left:1px solid black;\">\n",
    "           Überprüfe die Ergebnisse</td></tr>\n",
    "    </table>\n",
    "  </li>\n",
    "  <li>Wenig Code\n",
    "    <ul>\n",
    "      <li>Wenig Boilerplate</li>\n",
    "      <li>Factories, etc. für Tests</li>\n",
    "    </ul>\n",
    "  </li>\n",
    "</ul>"
   ]
  },
  {
   "cell_type": "markdown",
   "id": "13a418744c76d04f",
   "metadata": {
    "lang": "de",
    "slideshow": {
     "slide_type": "subslide"
    },
    "tags": [
     "subslide"
    ]
   },
   "source": [
    "\n",
    "## Unempfindlich gegenüber Refactorings\n",
    "\n",
    "- Möglichst wenige falsche Positive!\n",
    "- Typischerweise vorhanden oder nicht, wenig Zwischenstufen\n",
    "\n",
    "### Einflüsse\n",
    "\n",
    "- Bezug zu Domäne/System\n",
    "- Zugriff auf interne Strukturen"
   ]
  },
  {
   "cell_type": "code",
   "execution_count": null,
   "id": "bf3dd13efc15e763",
   "metadata": {
    "slideshow": {
     "slide_type": "subslide"
    },
    "tags": [
     "subslide"
    ]
   },
   "outputs": [],
   "source": [
    "#define private public"
   ]
  },
  {
   "cell_type": "code",
   "execution_count": null,
   "id": "63e002b44315bd90",
   "metadata": {
    "tags": [
     "keep"
    ]
   },
   "outputs": [],
   "source": [
    "class VeryPrivate\n",
    "{\n",
    "private:\n",
    "    int secret{42};\n",
    "}"
   ]
  },
  {
   "cell_type": "code",
   "execution_count": null,
   "id": "26516937f3735647",
   "metadata": {},
   "outputs": [],
   "source": [
    "#undef private"
   ]
  },
  {
   "cell_type": "code",
   "execution_count": null,
   "id": "deaa01af9dda7988",
   "metadata": {
    "lines_to_next_cell": 2,
    "slideshow": {
     "slide_type": "subslide"
    },
    "tags": [
     "subslide"
    ]
   },
   "outputs": [],
   "source": [
    "void testVeryPrivate()\n",
    "{\n",
    "    VeryPrivate unit;\n",
    "\n",
    "    check(unit.secret == 42);\n",
    "    std::cout << \"Success!\\n\";\n",
    "}"
   ]
  },
  {
   "cell_type": "code",
   "execution_count": null,
   "id": "89a0a45a6cfd0425",
   "metadata": {},
   "outputs": [],
   "source": [
    "testVeryPrivate();"
   ]
  },
  {
   "cell_type": "markdown",
   "id": "8b3ef14e7edd3a8a",
   "metadata": {
    "lang": "de",
    "slideshow": {
     "slide_type": "subslide"
    },
    "tags": [
     "subslide"
    ]
   },
   "source": [
    "\n",
    "Die folgenden Einflüsse stehen im Konflikt zueinander:\n",
    "\n",
    "- Erkennen von Fehlern/Regressionen\n",
    "- Schnelle Rückmeldung\n",
    "- Unempfindlich gegenüber Refactorings\n",
    "\n",
    "Die Qualität eines Tests hängt vom *Produkt* dieser Faktoren ab!"
   ]
  },
  {
   "cell_type": "markdown",
   "id": "763eb32c87fff1cc",
   "metadata": {
    "lang": "de",
    "slideshow": {
     "slide_type": "subslide"
    },
    "tags": [
     "subslide"
    ]
   },
   "source": [
    "\n",
    "## Wie finden wir den Trade-Off?\n",
    "\n",
    "- Unempfindlich gegenüber Refactorings kann *nie* geopfert werden\n",
    "- Wir müssen also einen Kompromiss finden zwischen\n",
    "  - Erkennen von Fehlern/Regressionen\n",
    "  - Schnelle Rückmeldung\n",
    "\n",
    "### Typischerweise\n",
    "\n",
    "- Schnelles Feedback für die meisten Tests (Unit-Tests)\n",
    "- Gründliche Fehlererkennung für wenige Tests (Integrationstests)"
   ]
  }
 ],
 "metadata": {
  "kernelspec": {
   "display_name": "C++17",
   "language": "C++17",
   "name": "xcpp17"
  },
  "language_info": {
   "codemirror_mode": "text/x-c++src",
   "file_extension": ".cpp",
   "mimetype": "text/x-c++src",
   "name": "c++",
   "version": "17"
  }
 },
 "nbformat": 4,
 "nbformat_minor": 5
}
