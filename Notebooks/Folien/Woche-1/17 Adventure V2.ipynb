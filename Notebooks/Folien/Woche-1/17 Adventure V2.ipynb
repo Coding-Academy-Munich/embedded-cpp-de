{
 "cells": [
  {
   "cell_type": "markdown",
   "id": "5d74343eea2f4f90",
   "metadata": {
    "lang": "de",
    "slideshow": {
     "slide_type": "slide"
    },
    "tags": [
     "slide"
    ]
   },
   "source": [
    "\n",
    "<img src=\"data:image/png;base64,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\"\n",
    "     style=\"display:block;margin:auto;width:5%\"/>\n",
    "<br>\n",
    "\n",
    "<div style=\"text-align:center; font-size:200%;\">\n",
    " <b>Adventure V2</b>\n",
    "</div>\n",
    "<br/>\n",
    "<div style=\"text-align:center; font-size:120%;\">Dr. Matthias Hölzl</div>\n",
    "<br/>\n",
    "<div style=\"text-align:center;\">Coding-Akademie München</div>\n",
    "<br/>\n",
    "<!-- 17 Adventure V2.ipynb -->\n",
    "<!-- slides/module_500_solid_grasp/topic_240_grasp_low_coupling.cpp -->"
   ]
  },
  {
   "cell_type": "markdown",
   "id": "76e4db4aabef5662",
   "metadata": {
    "lang": "de",
    "slideshow": {
     "slide_type": "subslide"
    },
    "tags": [
     "subslide"
    ]
   },
   "source": [
    "\n",
    "### Aktueller Stand des Adventure-Spiels\n",
    "\n",
    "- `code/completed/adventure/v2`\n",
    "- `code/starter_kits/adventure_sk2`\n",
    "- Klassen `Location` und `World`\n",
    "- `World` erzeugt `Location`-Objekte (Creator)\n",
    "- `World` kann `Location`-Objekte finden (Information Expert)"
   ]
  },
  {
   "cell_type": "markdown",
   "id": "aaf7ba06df7a11da",
   "metadata": {
    "lang": "de",
    "slideshow": {
     "slide_type": "subslide"
    },
    "tags": [
     "subslide"
    ]
   },
   "source": [
    "\n",
    "### Nächster Schritt\n",
    "\n",
    "- Verbinden der `Location`-Objekte\n",
    "- Zwei neue Verantwortlichkeiten:\n",
    "  - Erstellen der Verbindungen (Doing)\n",
    "  - Speichern der Verbindungen (Knowing)"
   ]
  },
  {
   "cell_type": "markdown",
   "id": "637385e12c86295d",
   "metadata": {
    "lang": "de",
    "slideshow": {
     "slide_type": "subslide"
    },
    "tags": [
     "subslide"
    ]
   },
   "source": [
    "\n",
    "### Wer soll die Verbindungen erzeugen?\n",
    "\n",
    "**Creator:** Wer hat die Initialisierungsdaten?\n",
    "\n",
    "- `World`\n",
    "- (Wir brauchen die Daten aller Locations)"
   ]
  },
  {
   "cell_type": "markdown",
   "id": "eb7485a727cc92d0",
   "metadata": {
    "lang": "de",
    "slideshow": {
     "slide_type": "subslide"
    },
    "tags": [
     "subslide"
    ]
   },
   "source": [
    "\n",
    "### Wer soll die Verbindungen speichern?\n",
    "\n",
    "**Information Expert:** Wer hat die Daten?\n",
    "\n",
    "- Die Klasse mit den meisten Informationen\n",
    "- `World` erzeugt alle Verbindungsdaten\n",
    "- Daher ist World der Information Expert\n",
    "- Die Verbindungsdaten werden in `World` gespeichert"
   ]
  },
  {
   "cell_type": "markdown",
   "id": "62bcaa04359156ad",
   "metadata": {
    "lang": "de",
    "slideshow": {
     "slide_type": "subslide"
    },
    "tags": [
     "subslide"
    ]
   },
   "source": [
    "\n",
    "**Das ist keine Richtige Anwendung von Information Expert!**"
   ]
  },
  {
   "cell_type": "markdown",
   "id": "d0453f28d84219c9",
   "metadata": {
    "lang": "de",
    "slideshow": {
     "slide_type": "subslide"
    },
    "tags": [
     "subslide"
    ]
   },
   "source": [
    "\n",
    "### Was ist das Problem?\n",
    "\n",
    "- Sehen wir uns eine Implementierung davon an:\n",
    "- `code/completed/adventure/v3a`\n",
    "- Was ist der häufigste Anwendungsfall, bei dem Verbindungen benötigt werden?\n",
    "  - Navigation von der Location, auf der ein Pawn steht zu einer anderen\n",
    "    Location\n",
    "- Wie geht das mit dieser Implementierung?\n",
    "  - `world.GetConnectedLocation(room1, \"north\")`\n",
    "  - Wir haben eine Abhängigkeit von `World` und `Location`!"
   ]
  },
  {
   "cell_type": "markdown",
   "id": "d8b0068c16f102e4",
   "metadata": {
    "lang": "de",
    "slideshow": {
     "slide_type": "subslide"
    },
    "tags": [
     "subslide"
    ]
   },
   "source": [
    "\n",
    "### Wie können wir das vermeiden?\n",
    "\n",
    "- Verlagern der Verantwortlichkeit für die Navigation\n",
    "- Jede `Location` kennt ihre ausgehenden Verbindungen\n",
    "- `room1.GetConnectedLocation(\"north\") == room2`"
   ]
  },
  {
   "cell_type": "markdown",
   "id": "f6ad84a98f028f65",
   "metadata": {
    "lang": "de",
    "slideshow": {
     "slide_type": "subslide"
    },
    "tags": [
     "subslide"
    ]
   },
   "source": [
    "\n",
    "### Hat uns Information Expert in die Irre geführt?\n",
    "\n",
    "- Nein. In diesem Fall sagt der Information Expert nicht sehr viel aus,\n",
    "  wenn wir ihn korrekt anwenden:\n",
    "  - Die Verantwortung, die wir zuweisen wollen, ist das Speichern der\n",
    "    Verbindungen\n",
    "  - Jede Verbindung ist eine Beziehung zwischen zwei Locations\n",
    "  - Daher ist `Location` ein mindestens genau so starker Information Expert\n",
    "    wie `World`\n",
    "  - Es spielt keine sehr große Rolle, dass `World` alle Locations kennt"
   ]
  },
  {
   "cell_type": "markdown",
   "id": "f64c4d5a27d5f697",
   "metadata": {
    "lang": "de",
    "slideshow": {
     "slide_type": "subslide"
    },
    "tags": [
     "subslide"
    ]
   },
   "source": [
    "\n",
    "### Merkregel: Lokale Informationen > Globaler Zustand\n",
    "\n",
    "- Manchmal kann man durch den Information Expert verleite werden\n",
    "  Informationen zu global zu betrachten\n",
    "- Versuchen Sie, die Verantwortlichkeit für Informationen möglichst lokal zu\n",
    "  halten\n",
    "- Das verringert fast immer die Kopplung im System"
   ]
  },
  {
   "cell_type": "markdown",
   "id": "5d67507cd30a29ee",
   "metadata": {
    "lang": "de",
    "lines_to_next_cell": 2,
    "slideshow": {
     "slide_type": "subslide"
    },
    "tags": [
     "subslide"
    ]
   },
   "source": [
    "\n",
    "## Niedrige Kopplung (Low Coupling, GRASP)\n",
    "\n",
    "### Frage\n",
    "\n",
    "Wie können wir den negativen Einfluss von Änderungen minimieren?\n",
    "\n",
    "### Antwort\n",
    "\n",
    "Weise Verantwortlichkeiten so zu, dass die (unnötige) Kopplung minimiert wird\n"
   ]
  },
  {
   "cell_type": "markdown",
   "id": "119267a2cd1e0663",
   "metadata": {
    "lang": "de",
    "slideshow": {
     "slide_type": "subslide"
    },
    "tags": [
     "subslide"
    ]
   },
   "source": [
    "\n",
    "### Kommentare\n",
    "\n",
    "- Niedrige Kopplung ist ein sehr allgemeines Prinzip, das in vielen\n",
    "  Situationen angewendet werden kann.\n",
    "- Kopplung gibt an, wie stark die Abhängigkeiten zwischen zwei Artefakten\n",
    "  sind (Funktionen, Klassen, Module, ...)\n",
    "- Es gibt [viele verschiedene\n",
    "  Arten](https://en.wikipedia.org/wiki/Coupling_(computer_programming)#Types_of_coupling)\n",
    "  von Kopplung\n",
    "- Enge Kopplung\n",
    "  - Verhindert, dass wir Teile des Systems unabhängig voneinander verstehen und ändern können\n",
    "  - Veranlasst, dass Änderungen sich durch das ganze System durchziehen\n",
    "- Lose Kopplung\n",
    "  - Ist besonders wichtig von *stabilen* zu *instabilen* Teilen des Systems"
   ]
  },
  {
   "cell_type": "markdown",
   "id": "f197c2f8114d04d3",
   "metadata": {
    "lang": "de",
    "slideshow": {
     "slide_type": "subslide"
    },
    "tags": [
     "subslide"
    ]
   },
   "source": [
    "\n",
    "### Vermeidung von Kopplung\n",
    "\n",
    "- Ein gewisses Maß an Kopplung ist **unvermeidlich**\n",
    "  - Wann immer zwei Komponenten zusammenarbeiten entsteht Kopplung\n",
    "- Enge Kopplung an **stabile** Komponenten ist typischerweise kein Problem\n",
    "  - Beispiel: `std::vector`\n",
    "- Enge Kopplung auf lokaler Ebene\n",
    "  - Ist nicht gut, aber oft kein großes Problem\n",
    "  - Kann typischerweise relativ leicht behoben werden\n",
    "- Enge Kopplung auf globaler Ebene\n",
    "  - Ist sehr schwer zu beseitigen\n",
    "  - Sollte während der Entwicklung immer im Fokus sein"
   ]
  },
  {
   "cell_type": "markdown",
   "id": "66f9a4ae1c7aeb4c",
   "metadata": {
    "lang": "de",
    "slideshow": {
     "slide_type": "subslide"
    },
    "tags": [
     "subslide"
    ]
   },
   "source": [
    "\n",
    "### Code Smells die auf hohe Kopplung hinweisen\n",
    "\n",
    "- [Shotgun Surgery](https://blog.ndepend.com/shotgun-surgery/)\n",
    "  - Small changes in functionality require changes in many parts of the code\n",
    "  - Often connected to low cohesion\n",
    "- [Divergent Change](https://blog.ndepend.com/divergent-change/)\n",
    "  - Many changes in functionality require changes in the same part of the\n",
    "    codebase"
   ]
  },
  {
   "cell_type": "markdown",
   "id": "1d1f10e3f1cda3f8",
   "metadata": {
    "lang": "de",
    "slideshow": {
     "slide_type": "subslide"
    },
    "tags": [
     "subslide"
    ]
   },
   "source": [
    "\n",
    "### Wie können wir Kopplung vermeiden?\n",
    "\n",
    "- GRASP: Creator, Information Expert\n",
    "- SOLID: Single Responsibility Principle, Dependency Inversion Principle\n",
    "- Law of Demeter\n",
    "  - Eine Komponente sollte nur mit Komponenten kommunizieren, die sie direkt\n",
    "    kennt"
   ]
  }
 ],
 "metadata": {
  "kernelspec": {
   "display_name": "C++17",
   "language": "C++17",
   "name": "xcpp17"
  },
  "language_info": {
   "codemirror_mode": "text/x-c++src",
   "file_extension": ".cpp",
   "mimetype": "text/x-c++src",
   "name": "c++",
   "version": "17"
  }
 },
 "nbformat": 4,
 "nbformat_minor": 5
}
