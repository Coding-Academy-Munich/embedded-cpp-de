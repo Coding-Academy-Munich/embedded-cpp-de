{
 "cells": [
  {
   "cell_type": "markdown",
   "id": "564df69cbab6f5e9",
   "metadata": {
    "lang": "de",
    "slideshow": {
     "slide_type": "slide"
    },
    "tags": [
     "slide"
    ]
   },
   "source": [
    "\n",
    "<img src=\"data:image/png;base64,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\"\n",
    "     style=\"display:block;margin:auto;width:5%\"/>\n",
    "<br>\n",
    "\n",
    "<div style=\"text-align:center; font-size:200%;\">\n",
    " <b>Concrete Factory und Builder</b>\n",
    "</div>\n",
    "<br/>\n",
    "<div style=\"text-align:center; font-size:120%;\">Dr. Matthias Hölzl</div>\n",
    "<br/>\n",
    "<div style=\"text-align:center;\">Coding-Akademie München</div>\n",
    "<br/>\n",
    "<!-- 05 Concrete Factory und Builder.ipynb -->\n",
    "<!-- slides/module_500_solid_grasp/topic_270_adventure_factory.cpp -->"
   ]
  },
  {
   "cell_type": "markdown",
   "id": "ecd348b092243260",
   "metadata": {
    "lang": "de",
    "slideshow": {
     "slide_type": "slide"
    },
    "tags": [
     "slide"
    ]
   },
   "source": [
    "\n",
    "### Adventure Game Version 3b\n",
    "\n",
    "- Zuweisung von Funktionalität zu `World` und `Location` ist sinnvoll\n",
    "- Wir sehen, dass `World` in Gefahr ist, zu viele \"Änderungsgründe\" zu haben\n",
    "  - Änderungen an der Implementierung der Spiele-Welt\n",
    "  - Änderungen an den Initialisierungsdaten (z.B. XML statt JSON)\n",
    "- Können wir das vermeiden?"
   ]
  },
  {
   "cell_type": "markdown",
   "id": "6a0a81e6814eb1a1",
   "metadata": {
    "lang": "de",
    "slideshow": {
     "slide_type": "subslide"
    },
    "tags": [
     "subslide"
    ]
   },
   "source": [
    "\n",
    "# Concrete Factory (Simple Factory)\n",
    "\n",
    "- Einfachere Version des Abstract Factory Patterns aus dem GoF Buch\n",
    "\n",
    "### Frage\n",
    "\n",
    "- Wer soll ein Objekt erzeugen, wenn es Umstände gibt, die gegen Creator\n",
    "  sprechen?\n",
    "  - komplexe Logik zur Erzeugung\n",
    "  - Kohäsion\n",
    "  - Viele Parameter zur Erzeugung notwendig\n",
    "\n",
    "### Antwort\n",
    "\n",
    "- Eine Klasse, die nur für die Erzeugung von Objekten zuständig ist\n",
    "- Diese Klassen werden oft als *Factory* bezeichnet"
   ]
  },
  {
   "cell_type": "markdown",
   "id": "438cee90f22a9382",
   "metadata": {
    "lang": "de",
    "slideshow": {
     "slide_type": "subslide"
    },
    "tags": [
     "subslide"
    ]
   },
   "source": [
    "\n",
    "- Factories sind Beispiele für das GRASP Pattern \"Pure Fabrication\"\n",
    "- Sie können die Kohäsion von Klassen erhöhen und ihre Komplexität reduzieren\n",
    "- Sie erhöhen aber auch die Gesamtkomplexität des Systems"
   ]
  },
  {
   "cell_type": "markdown",
   "id": "169b5122152be21e",
   "metadata": {
    "lang": "de",
    "slideshow": {
     "slide_type": "subslide"
    },
    "tags": [
     "subslide"
    ]
   },
   "source": [
    "\n",
    "## Beispiel\n",
    "\n",
    "- In Version 3b ist der Konstruktor von `World` relativ komplex\n",
    "- Wir können die Erzeugung in eine Factory auslagern\n",
    "- Siehe `code/adventure/v3c`"
   ]
  },
  {
   "cell_type": "markdown",
   "id": "3892b6d80c8d9a52",
   "metadata": {
    "lang": "de",
    "slideshow": {
     "slide_type": "subslide"
    },
    "tags": [
     "subslide"
    ]
   },
   "source": [
    "\n",
    "## C++: Benannte Parameter Idiom\n",
    "\n",
    "Das C++-Idiom \"Benannte Parameter\" (engl. \"Named Parameters\") ist eine\n",
    "Variante des Factory Patterns.\n",
    "\n",
    "- C++ unterstützt keine benannten Parameter\n",
    "- Manchmal ist es schwer, Funktionen mit vielen Parametern zu vermeiden\n",
    "  - Insbesondere bei der Konstruktion von Objekten\n",
    "- Selbst wenn wir Default-Werte verwenden, müssen wir viele der Parameter angeben\n",
    "  - Alle Parameter vor demjenigen, den wir ändern wollen\n",
    "- Es ist schwer, den Überblick zu behalten, welche Parameter was bedeuten\n",
    "  - Moderne IDEs vereinfachen das\n",
    "- Wie können wir Funktionen mit vielen Parametern übersichtlich gestalten?"
   ]
  },
  {
   "cell_type": "markdown",
   "id": "c297b30487ca261b",
   "metadata": {
    "lang": "de",
    "slideshow": {
     "slide_type": "subslide"
    },
    "tags": [
     "subslide"
    ]
   },
   "source": [
    "\n",
    "# Benannte Parameter / Builder Pattern\n",
    "\n",
    "### Frage\n",
    "\n",
    "- Wie können wir Funktionen mit vielen Parametern verständlich gestalten?\n",
    "- Wie können wir komplexe Objekte konstruieren?\n",
    "\n",
    "### Antwort\n",
    "\n",
    "- Hilfsklasse, die die Parameter speichert\n",
    "- Methoden, die einzelne Parameter setzen\n",
    "  - Jede dieser Methoden gibt `*this` als Referenz zurück\n",
    "- Eine `build()` oder `execute()` Methode"
   ]
  },
  {
   "cell_type": "code",
   "execution_count": null,
   "id": "a0ee650c342d197c",
   "metadata": {
    "slideshow": {
     "slide_type": "subslide"
    },
    "tags": [
     "keep",
     "subslide"
    ]
   },
   "outputs": [],
   "source": [
    "#include <iostream>"
   ]
  },
  {
   "cell_type": "code",
   "execution_count": null,
   "id": "8ec0ef972116330a",
   "metadata": {
    "tags": [
     "keep"
    ]
   },
   "outputs": [],
   "source": [
    "class Window {\n",
    "public:\n",
    "    Window(int width, int height, int x, int y,\n",
    "           bool visible, bool active, bool resizable,\n",
    "           bool fullscreen) {\n",
    "        std::cout << \"Building window with width=\" << width\n",
    "                  << \", height=\" << height << \", x=\" << x << \", y=\" << y\n",
    "                  << \", visible=\" << visible << \", active=\" << active\n",
    "                  << \", resizable=\" << resizable\n",
    "                  << \", fullscreen=\" << fullscreen << \"\\n\";\n",
    "    }\n",
    "};"
   ]
  },
  {
   "cell_type": "code",
   "execution_count": null,
   "id": "b2a688969f4087fd",
   "metadata": {},
   "outputs": [],
   "source": [
    "Window window(800, 600, 0, 0, true, true, true, false);"
   ]
  },
  {
   "cell_type": "code",
   "execution_count": null,
   "id": "5217028756cc91a4",
   "metadata": {
    "slideshow": {
     "slide_type": "subslide"
    },
    "tags": [
     "keep",
     "subslide"
    ]
   },
   "outputs": [],
   "source": [
    "class WindowBuilder {\n",
    "public:\n",
    "    WindowBuilder() = default;\n",
    "\n",
    "    Window build() {\n",
    "        return Window(this->width_, this->height_, this->x_,\n",
    "                      this->y_, this->visible_, this->active_,\n",
    "                      this->resizable_, this->fullscreen_);\n",
    "    }\n",
    "\n",
    "    WindowBuilder& width(int width) {\n",
    "        this->width_ = width;\n",
    "        return *this;\n",
    "    }\n",
    "    WindowBuilder& height(int height) {\n",
    "        this->height_ = height;\n",
    "        return *this;\n",
    "    }\n",
    "    WindowBuilder& x(int x) {\n",
    "        this->x_ = x;\n",
    "        return *this;\n",
    "    }\n",
    "    WindowBuilder& y(int y) {\n",
    "        this->y_ = y;\n",
    "        return *this;\n",
    "    }\n",
    "    WindowBuilder& visible(bool visible) {\n",
    "        this->visible_ = visible;\n",
    "        return *this;\n",
    "    }\n",
    "    WindowBuilder& active(bool active) {\n",
    "        this->active_ = active;\n",
    "        return *this;\n",
    "    }\n",
    "    WindowBuilder& resizable(bool resizable) {\n",
    "        this->resizable_ = resizable;\n",
    "        return *this;\n",
    "    }\n",
    "    WindowBuilder& fullscreen(bool fullscreen) {\n",
    "        this->fullscreen_ = fullscreen;\n",
    "        return *this;\n",
    "    }\n",
    "\n",
    "\n",
    "private:\n",
    "    int width_ = 800;\n",
    "    int height_ = 600;\n",
    "    int x_ = 0;\n",
    "    int y_ = 0;\n",
    "    bool visible_ = true;\n",
    "    bool active_ = true;\n",
    "    bool resizable_ = true;\n",
    "    bool fullscreen_ = false;\n",
    "};"
   ]
  },
  {
   "cell_type": "code",
   "execution_count": null,
   "id": "aace5bc6a56ded46",
   "metadata": {
    "slideshow": {
     "slide_type": "subslide"
    },
    "tags": [
     "subslide"
    ]
   },
   "outputs": [],
   "source": [
    "Window default_window{WindowBuilder{}.build()};"
   ]
  },
  {
   "cell_type": "code",
   "execution_count": null,
   "id": "a35a36bf5b61fd2a",
   "metadata": {},
   "outputs": [],
   "source": [
    "Window my_window{WindowBuilder{}.height(200).resizable(false).build()};"
   ]
  },
  {
   "cell_type": "markdown",
   "id": "b2173649ac8006ef",
   "metadata": {
    "lang": "de",
    "slideshow": {
     "slide_type": "subslide"
    },
    "tags": [
     "subslide"
    ]
   },
   "source": [
    "\n",
    "- Die Member-Funktionen von `WindowBuilder` können als `constexpr` deklariert\n",
    "  werden\n",
    "- Damit ist auch die Erzeugung von Objekten zur Compile-Zeit möglich\n",
    "- [Compiler-Explorer](https://godbolt.org/z/848n6rEfE)"
   ]
  },
  {
   "cell_type": "markdown",
   "id": "0b35227ac2b1debc",
   "metadata": {
    "lang": "de",
    "lines_to_next_cell": 2,
    "slideshow": {
     "slide_type": "subslide"
    },
    "tags": [
     "subslide"
    ]
   },
   "source": [
    "\n",
    "## Workshop: Implementierung eines Email-Builders\n",
    "\n",
    "In diesem Workshop erstellen Sie einen Builder für eine bestehende\n",
    "`Email`-Klasse. Diese Klasse repräsentiert eine E-Mail-Nachricht mit\n",
    "verschiedenen Feldern wie Absender, Empfänger, Betreff und Inhalt:"
   ]
  },
  {
   "cell_type": "code",
   "execution_count": null,
   "id": "b29e69c9ec9b45af",
   "metadata": {
    "slideshow": {
     "slide_type": "subslide"
    },
    "tags": [
     "keep",
     "subslide"
    ]
   },
   "outputs": [],
   "source": [
    "class Email {\n",
    "private:\n",
    "    std::string sender_;\n",
    "    std::vector<std::string> recipients_;\n",
    "    std::vector<std::string> cc_;\n",
    "    std::vector<std::string> bcc_;\n",
    "    std::string subject_;\n",
    "    std::string body_;\n",
    "    bool isHtml_;\n",
    "    int priority_;\n",
    "\n",
    "public:\n",
    "    Email(const std::string& sender,\n",
    "          const std::vector<std::string>& recipients,\n",
    "          const std::vector<std::string>& cc,\n",
    "          const std::vector<std::string>& bcc,\n",
    "          const std::string& subject,\n",
    "          const std::string& body,\n",
    "          bool isHtml,\n",
    "          int priority)\n",
    "        : sender_{sender}, recipients_{recipients}, cc_{cc}, bcc_{bcc},\n",
    "          subject_{subject}, body_{body}, isHtml_{isHtml}, priority_{priority} {}\n",
    "\n",
    "    std::string getSender() const { return sender_; }\n",
    "    std::vector<std::string> getRecipients() const { return recipients_; }\n",
    "    std::vector<std::string> getCc() const { return cc_; }\n",
    "    std::vector<std::string> getBcc() const { return bcc_; }\n",
    "    std::string getSubject() const { return subject_; }\n",
    "    std::string getBody() const { return body_; }\n",
    "    bool getIsHtml() const { return isHtml_; }\n",
    "    int getPriority() const { return priority_; }\n",
    "};"
   ]
  },
  {
   "cell_type": "code",
   "execution_count": null,
   "id": "f062578f2d2e604c",
   "metadata": {
    "slideshow": {
     "slide_type": "subslide"
    },
    "tags": [
     "keep",
     "subslide"
    ]
   },
   "outputs": [],
   "source": [
    "#include <iostream>\n",
    "#include <sstream>"
   ]
  },
  {
   "cell_type": "code",
   "execution_count": null,
   "id": "58a36c2f665f8a2f",
   "metadata": {
    "tags": [
     "keep"
    ]
   },
   "outputs": [],
   "source": [
    "namespace std {\n",
    "ostream& operator<<(std::ostream& os, const Email& email) {\n",
    "    os << \"Email Details:\\n\"\n",
    "       << \"From: \" << email.getSender() << \"\\n\"\n",
    "       << \"To: \";\n",
    "\n",
    "    for (const auto& recipient : email.getRecipients()) {\n",
    "        os << recipient << \"; \";\n",
    "    }\n",
    "    os << \"\\n\";\n",
    "\n",
    "    if (!email.getCc().empty()) {\n",
    "        os << \"CC: \";\n",
    "        for (const auto& cc : email.getCc()) {\n",
    "            os << cc << \"; \";\n",
    "        }\n",
    "        os << \"\\n\";\n",
    "    }\n",
    "\n",
    "    if (!email.getBcc().empty()) {\n",
    "        os << \"BCC: \";\n",
    "        for (const auto& bcc : email.getBcc()) {\n",
    "            os << bcc << \"; \";\n",
    "        }\n",
    "        os << \"\\n\";\n",
    "    }\n",
    "\n",
    "    os << \"Subject: \" << email.getSubject() << \"\\n\"\n",
    "       << \"Body: \" << email.getBody() << \"\\n\"\n",
    "       << \"HTML: \" << (email.getIsHtml() ? \"Yes\" : \"No\") << \"\\n\"\n",
    "       << \"Priority: \" << email.getPriority() << \"\\n\";\n",
    "\n",
    "    return os;\n",
    "}\n",
    "}  // namespace std"
   ]
  },
  {
   "cell_type": "markdown",
   "id": "01a9af228dc1d3e4",
   "metadata": {
    "lang": "de",
    "slideshow": {
     "slide_type": "subslide"
    },
    "tags": [
     "subslide"
    ]
   },
   "source": [
    "\n",
    "### Ziel\n",
    "\n",
    "Implementieren Sie eine `EmailBuilder`-Klasse, die eine flexiblere und\n",
    "lesbare Möglichkeit bietet, `Email`-Objekte zu erstellen."
   ]
  },
  {
   "cell_type": "markdown",
   "id": "066af9e229135b06",
   "metadata": {
    "lang": "de",
    "slideshow": {
     "slide_type": "subslide"
    },
    "tags": [
     "subslide"
    ]
   },
   "source": [
    "\n",
    "### Aufgaben\n",
    "\n",
    "1. Sehen Sie sich die bereitgestellte `Email`-Klasse an.\n",
    "2. Erstellen Sie eine `EmailBuilder`-Klasse mit Methoden zum Setzen jedes\n",
    "   Feldes der `Email`-Klasse.\n",
    "3. Implementieren Sie eine `build()`-Methode in der `EmailBuilder`-Klasse, die\n",
    "   ein vollständig konstruiertes `Email`-Objekt zurückgibt.\n",
    "4. Stellen Sie sicher, dass der `EmailBuilder` Method Chaining für ein\n",
    "   fluid Interface unterstützt.\n",
    "5. Rufen Sie Ihren `EmailBuilder` auf und erstellen Sie damit ein\n",
    "   `Email`-Objekt.\n",
    "\n",
    "Sie sollten in der Lage sein, ein `Email`-Objekt mit dem `EmailBuilder` wie\n",
    "folgt zu erstellen:\n",
    "\n",
    "```cpp\n",
    "Email email = EmailBuilder()\n",
    "    .from(\"sender@example.com\")\n",
    "    .to(\"recipient@example.com\")\n",
    "    .subject(\"Meeting Tomorrow\")\n",
    "    .body(\"Let's meet at 2 PM.\")\n",
    "    .build();\n",
    "```"
   ]
  },
  {
   "cell_type": "code",
   "execution_count": null,
   "id": "3837bb1e94c45972",
   "metadata": {
    "slideshow": {
     "slide_type": "subslide"
    },
    "tags": [
     "subslide"
    ]
   },
   "outputs": [],
   "source": [
    "#include <string>\n",
    "#include <vector>\n",
    "#include <stdexcept>"
   ]
  },
  {
   "cell_type": "code",
   "execution_count": null,
   "id": "d54aa622900dd3dd",
   "metadata": {},
   "outputs": [],
   "source": [
    "class EmailBuilder {\n",
    "private:\n",
    "    std::string sender_;\n",
    "    std::vector<std::string> recipients_;\n",
    "    std::vector<std::string> cc_;\n",
    "    std::vector<std::string> bcc_;\n",
    "    std::string subject_;\n",
    "    std::string body_;\n",
    "    bool isHtml_{};\n",
    "    int priority_{3};\n",
    "\n",
    "public:\n",
    "    EmailBuilder& from(const std::string& sender) {\n",
    "        this->sender_ = sender;\n",
    "        return *this;\n",
    "    }\n",
    "\n",
    "    EmailBuilder& to(const std::string& recipient) {\n",
    "        this->recipients_.push_back(recipient);\n",
    "        return *this;\n",
    "    }\n",
    "\n",
    "    EmailBuilder& cc(const std::string& ccRecipient) {\n",
    "        this->cc_.push_back(ccRecipient);\n",
    "        return *this;\n",
    "    }\n",
    "\n",
    "    EmailBuilder& bcc(const std::string& bccRecipient) {\n",
    "        this->bcc_.push_back(bccRecipient);\n",
    "        return *this;\n",
    "    }\n",
    "\n",
    "    EmailBuilder& subject(const std::string& subject) {\n",
    "        this->subject_ = subject;\n",
    "        return *this;\n",
    "    }\n",
    "\n",
    "    EmailBuilder& body(const std::string& body) {\n",
    "        this->body_ = body;\n",
    "        return *this;\n",
    "    }\n",
    "\n",
    "    EmailBuilder& html(bool isHtml) {\n",
    "        this->isHtml_ = isHtml;\n",
    "        return *this;\n",
    "    }\n",
    "\n",
    "    EmailBuilder& priority(int priority) {\n",
    "        this->priority_ = priority;\n",
    "        return *this;\n",
    "    }\n",
    "\n",
    "    Email build() {\n",
    "        if (sender_.empty()) {\n",
    "            throw std::runtime_error(\"Email must have a sender.\");\n",
    "        }\n",
    "        if (recipients_.empty()) {\n",
    "            throw std::runtime_error(\"Email must have at least one recipient.\");\n",
    "        }\n",
    "        if (subject_.empty()) {\n",
    "            throw std::runtime_error(\"Email must have a subject.\");\n",
    "        }\n",
    "        if (body_.empty()) {\n",
    "            throw std::runtime_error(\"Email must have a body.\");\n",
    "        }\n",
    "        return Email(sender_, recipients_, cc_, bcc_, subject_, body_, isHtml_, priority_);\n",
    "    }\n",
    "};"
   ]
  },
  {
   "cell_type": "code",
   "execution_count": null,
   "id": "15dd66a11b2dfeea",
   "metadata": {
    "slideshow": {
     "slide_type": "subslide"
    },
    "tags": [
     "subslide"
    ]
   },
   "outputs": [],
   "source": [
    "Email email1 = EmailBuilder()\n",
    "    .from(\"sender@example.com\")\n",
    "    .to(\"recipient@example.com\")\n",
    "    .subject(\"Meeting Tomorrow\")\n",
    "    .body(\"Let's meet at 2 PM.\")\n",
    "    .build();"
   ]
  },
  {
   "cell_type": "code",
   "execution_count": null,
   "id": "e9f022baa12d783e",
   "metadata": {},
   "outputs": [],
   "source": [
    "std::cout << email1 << std::endl;"
   ]
  },
  {
   "cell_type": "code",
   "execution_count": null,
   "id": "cc9bf685d1019a59",
   "metadata": {
    "slideshow": {
     "slide_type": "subslide"
    },
    "tags": [
     "subslide"
    ]
   },
   "outputs": [],
   "source": [
    "Email email2 = EmailBuilder()\n",
    "    .from(\"sender@example.com\")\n",
    "    .to(\"recipient1@example.com\")\n",
    "    .to(\"recipient2@example.com\")\n",
    "    .cc(\"cc@example.com\")\n",
    "    .subject(\"Important Meeting\")\n",
    "    .body(\"<p>Please join us for an <strong>important</strong> meeting tomorrow at 10 AM.</p>\")\n",
    "    .html(true)\n",
    "    .priority(1)\n",
    "    .build();"
   ]
  },
  {
   "cell_type": "code",
   "execution_count": null,
   "id": "100e423bd295aeb1",
   "metadata": {},
   "outputs": [],
   "source": [
    "std::cout << email2 << std::endl;"
   ]
  }
 ],
 "metadata": {
  "kernelspec": {
   "display_name": "C++17",
   "language": "C++17",
   "name": "xcpp17"
  },
  "language_info": {
   "codemirror_mode": "text/x-c++src",
   "file_extension": ".cpp",
   "mimetype": "text/x-c++src",
   "name": "c++",
   "version": "17"
  }
 },
 "nbformat": 4,
 "nbformat_minor": 5
}
