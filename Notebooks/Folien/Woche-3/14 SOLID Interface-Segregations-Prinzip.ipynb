{
 "cells": [
  {
   "cell_type": "markdown",
   "id": "68ffda80909228bc",
   "metadata": {
    "lang": "de",
    "slideshow": {
     "slide_type": "slide"
    },
    "tags": [
     "slide"
    ]
   },
   "source": [
    "<!--\n",
    "clang-format off\n",
    "-->\n",
    "\n",
    "<img src=\"data:image/png;base64,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\"\n",
    "     style=\"display:block;margin:auto;width:5%\"/>\n",
    "<br>\n",
    "\n",
    "<div style=\"text-align:center; font-size:200%;\">\n",
    " <b>SOLID: Interface-Segregations-Prinzip</b>\n",
    "</div>\n",
    "<br/>\n",
    "<div style=\"text-align:center; font-size:120%;\">Dr. Matthias Hölzl</div>\n",
    "<br/>\n",
    "<div style=\"text-align:center;\">Coding-Akademie München</div>\n",
    "<br/>\n",
    "<!-- 14 SOLID Interface-Segregations-Prinzip.ipynb -->\n",
    "<!-- slides/module_500_solid_grasp/topic_360_solid_isp.cpp -->"
   ]
  },
  {
   "cell_type": "markdown",
   "id": "0a0f1bc85d2c2102",
   "metadata": {
    "lang": "de",
    "slideshow": {
     "slide_type": "slide"
    },
    "tags": [
     "slide"
    ]
   },
   "source": [
    "\n",
    "## SOLID : Interface-Segregations-Prinzip\n",
    "\n",
    "- Kein Client einer Klasse `C` sollte von Methoden abhängen, die er nicht\n",
    "  benutzt.\n",
    "- Wenn das nicht der Fall ist\n",
    "- Unterteile die Schnittstelle von `C` in mehrere unabhängige Schnittstellen.\n",
    "- Ersetze `C` in jedem Client durch die vom Client tatsächlich verwendeten\n",
    "  Schnittstellen."
   ]
  },
  {
   "cell_type": "code",
   "execution_count": null,
   "id": "a0ee650c342d197c",
   "metadata": {
    "slideshow": {
     "slide_type": "subslide"
    },
    "tags": [
     "keep",
     "subslide"
    ]
   },
   "outputs": [],
   "source": [
    "#include <iostream>"
   ]
  },
  {
   "cell_type": "code",
   "execution_count": null,
   "id": "995f27aa8be694f8",
   "metadata": {
    "tags": [
     "keep"
    ]
   },
   "outputs": [],
   "source": [
    "class Car {\n",
    "public:\n",
    "    void Drive() { std::cout << \"Accelerating.\" << std::endl; }\n",
    "    void Repair() { std::cout << \"Repairing.\" << std::endl; }\n",
    "};"
   ]
  },
  {
   "cell_type": "code",
   "execution_count": null,
   "id": "c16021af96e31b65",
   "metadata": {
    "slideshow": {
     "slide_type": "subslide"
    },
    "tags": [
     "keep",
     "subslide"
    ]
   },
   "outputs": [],
   "source": [
    "class Driver {\n",
    "public:\n",
    "    void Drive(Car& car) { car.Drive(); }\n",
    "};"
   ]
  },
  {
   "cell_type": "code",
   "execution_count": null,
   "id": "f347546ada06d25d",
   "metadata": {
    "tags": [
     "keep"
    ]
   },
   "outputs": [],
   "source": [
    "class Mechanic {\n",
    "public:\n",
    "    void WorkOn(Car& car) { car.Repair(); }\n",
    "};"
   ]
  },
  {
   "cell_type": "code",
   "execution_count": null,
   "id": "689884dcd93c6541",
   "metadata": {
    "slideshow": {
     "slide_type": "subslide"
    },
    "tags": [
     "keep",
     "subslide"
    ]
   },
   "outputs": [],
   "source": [
    "Driver d;\n",
    "Mechanic m;\n",
    "Car c;"
   ]
  },
  {
   "cell_type": "code",
   "execution_count": null,
   "id": "70fc67b34708a612",
   "metadata": {
    "tags": [
     "keep"
    ]
   },
   "outputs": [],
   "source": [
    "d.Drive(c);"
   ]
  },
  {
   "cell_type": "code",
   "execution_count": null,
   "id": "e7d2b5c32b5fae7e",
   "metadata": {
    "tags": [
     "keep"
    ]
   },
   "outputs": [],
   "source": [
    "m.WorkOn(c);"
   ]
  },
  {
   "cell_type": "code",
   "execution_count": null,
   "id": "e9a941cea99d36cc",
   "metadata": {
    "slideshow": {
     "slide_type": "subslide"
    },
    "tags": [
     "keep",
     "subslide"
    ]
   },
   "outputs": [],
   "source": [
    "class Drivable {\n",
    "public:\n",
    "    virtual ~Drivable() = default;\n",
    "    virtual void Drive() = 0;\n",
    "};"
   ]
  },
  {
   "cell_type": "code",
   "execution_count": null,
   "id": "c8cb5d741e7e663f",
   "metadata": {
    "tags": [
     "keep"
    ]
   },
   "outputs": [],
   "source": [
    "class Repairable {\n",
    "public:\n",
    "    virtual ~Repairable() = default;\n",
    "    virtual void Repair() = 0;\n",
    "};"
   ]
  },
  {
   "cell_type": "code",
   "execution_count": null,
   "id": "bfa45bd77e0402e3",
   "metadata": {
    "tags": [
     "keep"
    ]
   },
   "outputs": [],
   "source": [
    "class Car2\n",
    "    : public Drivable\n",
    "    , public Repairable {\n",
    "public:\n",
    "    void Drive() override { std::cout << \"Accelerating.\" << std::endl; }\n",
    "    void Repair() override { std::cout << \"Repairing.\" << std::endl; }\n",
    "};"
   ]
  },
  {
   "cell_type": "code",
   "execution_count": null,
   "id": "5b41d2b5b76d8a01",
   "metadata": {
    "slideshow": {
     "slide_type": "subslide"
    },
    "tags": [
     "keep",
     "subslide"
    ]
   },
   "outputs": [],
   "source": [
    "class Driver2 {\n",
    "public:\n",
    "    void Drive(Drivable& car) { car.Drive(); }\n",
    "};"
   ]
  },
  {
   "cell_type": "code",
   "execution_count": null,
   "id": "35636c3b47fdca79",
   "metadata": {
    "tags": [
     "keep"
    ]
   },
   "outputs": [],
   "source": [
    "class Mechanic2 {\n",
    "public:\n",
    "    void WorkOn(Repairable& car) { car.Repair(); }\n",
    "};"
   ]
  },
  {
   "cell_type": "code",
   "execution_count": null,
   "id": "fa57ad050acd2a66",
   "metadata": {
    "slideshow": {
     "slide_type": "subslide"
    },
    "tags": [
     "keep",
     "subslide"
    ]
   },
   "outputs": [],
   "source": [
    "Driver2 d2;\n",
    "Mechanic2 m2;\n",
    "Car2 c2;"
   ]
  },
  {
   "cell_type": "code",
   "execution_count": null,
   "id": "23ebd9703ad64f5e",
   "metadata": {
    "tags": [
     "keep"
    ]
   },
   "outputs": [],
   "source": [
    "d2.Drive(c2);"
   ]
  },
  {
   "cell_type": "code",
   "execution_count": null,
   "id": "8ec364b435893ffb",
   "metadata": {
    "tags": [
     "keep"
    ]
   },
   "outputs": [],
   "source": [
    "m2.WorkOn(c2);"
   ]
  },
  {
   "cell_type": "markdown",
   "id": "834480f821bcb5d7",
   "metadata": {
    "lang": "de",
    "slideshow": {
     "slide_type": "subslide"
    },
    "tags": [
     "subslide"
    ]
   },
   "source": [
    "\n",
    "## Workshop:\n",
    "\n",
    "In diesem Workshop werden wir an einem Restaurant-Management-System arbeiten.\n",
    "\n",
    "Stellen Sie sich vor, Sie haben den Code eines Restaurant-Management-Systems\n",
    "erhalten. Das System hat derzeit eine einzige Schnittstelle\n",
    "`RestaurantOperations`, die alle Operationen definiert, die in einem\n",
    "Restaurant durchgeführt werden können. Verschiedene Rollen im Restaurant, wie\n",
    "der Kunde, der Koch, der Kassierer und der Hausmeister, verwenden alle\n",
    "dieselbe Schnittstelle, aber jede Rolle verwendet nur einen Teil ihrer\n",
    "Funktionen.\n",
    "\n",
    "Ihre Aufgabe ist es, dieses System so umzubauen, dass es dem\n",
    "Interface-Segregations-Prinzip entspricht. Das bedeutet, dass kein Client\n",
    "gezwungen werden sollte, von Schnittstellen abhängig zu sein, die er nicht\n",
    "verwendet."
   ]
  },
  {
   "cell_type": "markdown",
   "id": "fc5b0a1544cb89dc",
   "metadata": {
    "lang": "de",
    "slideshow": {
     "slide_type": "subslide"
    },
    "tags": [
     "subslide"
    ]
   },
   "source": [
    "\n",
    "1. Identifizieren Sie, welche Operationen für welche Rollen relevant sind.\n",
    "2. Teilen Sie das `RestaurantOperations`-Interface in kleinere,\n",
    "   rollenspezifische Schnittstellen auf.\n",
    "3. Passen Sie die `Restaurant`-Klasse und die rollenbasierten Client-Klassen\n",
    "   (`Customer`, `Chef`, `Cashier`, `Janitor`) an die neuen Schnittstellen an.\n",
    "4. Stellen Sie sicher, dass jede Client-Klasse nur über die für ihre Rolle\n",
    "   relevanten Operationen Bescheid weiß."
   ]
  },
  {
   "cell_type": "code",
   "execution_count": null,
   "id": "5775e476b2adcaec",
   "metadata": {
    "slideshow": {
     "slide_type": "subslide"
    },
    "tags": [
     "subslide",
     "keep"
    ]
   },
   "outputs": [],
   "source": [
    "#include <iostream>"
   ]
  },
  {
   "cell_type": "code",
   "execution_count": null,
   "id": "78641100884cbf86",
   "metadata": {
    "tags": [
     "keep"
    ]
   },
   "outputs": [],
   "source": [
    "class RestaurantOperations {\n",
    "public:\n",
    "    virtual void PlaceOrder() = 0;\n",
    "    virtual void CookOrder() = 0;\n",
    "    virtual void CalculateBill() = 0;\n",
    "    virtual void CleanTables() = 0;\n",
    "};"
   ]
  },
  {
   "cell_type": "code",
   "execution_count": null,
   "id": "0bfcf180fe5df910",
   "metadata": {
    "slideshow": {
     "slide_type": "subslide"
    },
    "tags": [
     "keep",
     "subslide"
    ]
   },
   "outputs": [],
   "source": [
    "class Restaurant : public RestaurantOperations {\n",
    "public:\n",
    "    void PlaceOrder() override {\n",
    "        std::cout << \"Order has been placed.\\n\";\n",
    "    }\n",
    "\n",
    "    void CookOrder() override {\n",
    "        std::cout << \"Order is being cooked.\\n\";\n",
    "    }\n",
    "\n",
    "    void CalculateBill() override {\n",
    "        std::cout << \"Bill is being calculated.\\n\";\n",
    "    }\n",
    "\n",
    "    void CleanTables() override {\n",
    "        std::cout << \"Tables are being cleaned.\\n\";\n",
    "    }\n",
    "};"
   ]
  },
  {
   "cell_type": "code",
   "execution_count": null,
   "id": "09585eeafad915e6",
   "metadata": {
    "slideshow": {
     "slide_type": "subslide"
    },
    "tags": [
     "keep",
     "subslide"
    ]
   },
   "outputs": [],
   "source": [
    "class Customer {\n",
    "    RestaurantOperations* restaurant;\n",
    "public:\n",
    "    Customer(RestaurantOperations* r) : restaurant(r) {}\n",
    "\n",
    "    void MakeOrder() {\n",
    "        restaurant->PlaceOrder();\n",
    "        restaurant->CalculateBill();\n",
    "    }\n",
    "};"
   ]
  },
  {
   "cell_type": "code",
   "execution_count": null,
   "id": "2d3e05970c81c069",
   "metadata": {
    "slideshow": {
     "slide_type": "subslide"
    },
    "tags": [
     "keep",
     "subslide"
    ]
   },
   "outputs": [],
   "source": [
    "class Chef {\n",
    "    RestaurantOperations* restaurant;\n",
    "public:\n",
    "    Chef(RestaurantOperations* r) : restaurant(r) {}\n",
    "\n",
    "    void PrepareFood() {\n",
    "        restaurant->CookOrder();\n",
    "    }\n",
    "};"
   ]
  },
  {
   "cell_type": "code",
   "execution_count": null,
   "id": "6bd0ee218eae7a1b",
   "metadata": {
    "slideshow": {
     "slide_type": "subslide"
    },
    "tags": [
     "keep",
     "subslide"
    ]
   },
   "outputs": [],
   "source": [
    "class Cashier {\n",
    "    RestaurantOperations* restaurant;\n",
    "public:\n",
    "    Cashier(RestaurantOperations* r) : restaurant(r) {}\n",
    "\n",
    "    void GenerateBill() {\n",
    "        restaurant->CalculateBill();\n",
    "    }\n",
    "};"
   ]
  },
  {
   "cell_type": "code",
   "execution_count": null,
   "id": "2c7cce74d5826690",
   "metadata": {
    "slideshow": {
     "slide_type": "subslide"
    },
    "tags": [
     "keep",
     "subslide"
    ]
   },
   "outputs": [],
   "source": [
    "class Janitor {\n",
    "    RestaurantOperations* restaurant;\n",
    "public:\n",
    "    Janitor(RestaurantOperations* r) : restaurant(r) {}\n",
    "\n",
    "    void Clean() {\n",
    "        restaurant->CleanTables();\n",
    "    }\n",
    "};"
   ]
  },
  {
   "cell_type": "code",
   "execution_count": null,
   "id": "0d57f27256501701",
   "metadata": {
    "slideshow": {
     "slide_type": "subslide"
    },
    "tags": [
     "keep",
     "subslide"
    ]
   },
   "outputs": [],
   "source": [
    "Restaurant restaurant;\n",
    "Customer customer(&restaurant);\n",
    "Chef chef(&restaurant);\n",
    "Cashier cashier(&restaurant);\n",
    "Janitor janitor(&restaurant);"
   ]
  },
  {
   "cell_type": "code",
   "execution_count": null,
   "id": "a1d7d3466f8007c8",
   "metadata": {
    "tags": [
     "keep"
    ]
   },
   "outputs": [],
   "source": [
    "customer.MakeOrder();\n",
    "chef.PrepareFood();\n",
    "cashier.GenerateBill();\n",
    "janitor.Clean();"
   ]
  },
  {
   "cell_type": "code",
   "execution_count": null,
   "id": "bc9d818ead1dcb96",
   "metadata": {
    "slideshow": {
     "slide_type": "subslide"
    },
    "tags": [
     "subslide",
     "alt"
    ]
   },
   "outputs": [],
   "source": [
    "#include <iostream>"
   ]
  },
  {
   "cell_type": "code",
   "execution_count": null,
   "id": "8de87fd1b3114535",
   "metadata": {
    "tags": [
     "alt"
    ]
   },
   "outputs": [],
   "source": [
    "#include <iostream>"
   ]
  },
  {
   "cell_type": "code",
   "execution_count": null,
   "id": "6e98330bf870d8bf",
   "metadata": {
    "tags": [
     "alt"
    ]
   },
   "outputs": [],
   "source": [
    "class Ordering {\n",
    "public:\n",
    "    virtual void PlaceOrder() = 0;\n",
    "};"
   ]
  },
  {
   "cell_type": "code",
   "execution_count": null,
   "id": "246cba18d971cb06",
   "metadata": {
    "tags": [
     "alt"
    ]
   },
   "outputs": [],
   "source": [
    "class Cooking {\n",
    "public:\n",
    "    virtual void CookOrder() = 0;\n",
    "};"
   ]
  },
  {
   "cell_type": "code",
   "execution_count": null,
   "id": "7640b1cab12e9b7d",
   "metadata": {
    "tags": [
     "alt"
    ]
   },
   "outputs": [],
   "source": [
    "class Billing {\n",
    "public:\n",
    "    virtual void CalculateBill() = 0;\n",
    "};"
   ]
  },
  {
   "cell_type": "code",
   "execution_count": null,
   "id": "18fb54798b837618",
   "metadata": {
    "tags": [
     "alt"
    ]
   },
   "outputs": [],
   "source": [
    "class Cleaning {\n",
    "public:\n",
    "    virtual void CleanTables() = 0;\n",
    "};"
   ]
  },
  {
   "cell_type": "code",
   "execution_count": null,
   "id": "da11814a774c76ab",
   "metadata": {
    "lines_to_next_cell": 2,
    "slideshow": {
     "slide_type": "subslide"
    },
    "tags": [
     "alt",
     "subslide"
    ]
   },
   "outputs": [],
   "source": [
    "class Restaurant : public Ordering, public Cooking, public Billing, public Cleaning {\n",
    "public:\n",
    "    void PlaceOrder() override {\n",
    "        std::cout << \"Order has been placed.\\n\";\n",
    "    }\n",
    "\n",
    "    void CookOrder() override {\n",
    "        std::cout << \"Order is being cooked.\\n\";\n",
    "    }\n",
    "\n",
    "    void CalculateBill() override {\n",
    "        std::cout << \"Bill is being calculated.\\n\";\n",
    "    }\n",
    "\n",
    "    void CleanTables() override {\n",
    "        std::cout << \"Tables are being cleaned.\\n\";\n",
    "    }\n",
    "};"
   ]
  },
  {
   "cell_type": "code",
   "execution_count": null,
   "id": "be7a7c55c7636ed7",
   "metadata": {
    "slideshow": {
     "slide_type": "subslide"
    },
    "tags": [
     "alt",
     "subslide"
    ]
   },
   "outputs": [],
   "source": [
    "class Customer {\n",
    "    Ordering* ordering;\n",
    "    Billing* billing;\n",
    "public:\n",
    "    Customer(Ordering* o, Billing* b) : ordering(o), billing(b) {}\n",
    "\n",
    "    void MakeOrder() {\n",
    "        ordering->PlaceOrder();\n",
    "        billing->CalculateBill();\n",
    "    }\n",
    "};"
   ]
  },
  {
   "cell_type": "code",
   "execution_count": null,
   "id": "cea7e41d23f0c9a5",
   "metadata": {
    "slideshow": {
     "slide_type": "subslide"
    },
    "tags": [
     "alt",
     "subslide"
    ]
   },
   "outputs": [],
   "source": [
    "class Chef {\n",
    "    Cooking* cooking;\n",
    "public:\n",
    "    Chef(Cooking* c) : cooking(c) {}\n",
    "\n",
    "    void PrepareFood() {\n",
    "        cooking->CookOrder();\n",
    "    }\n",
    "};"
   ]
  },
  {
   "cell_type": "code",
   "execution_count": null,
   "id": "6905934490044ad2",
   "metadata": {
    "slideshow": {
     "slide_type": "subslide"
    },
    "tags": [
     "alt",
     "subslide"
    ]
   },
   "outputs": [],
   "source": [
    "class Cashier {\n",
    "    Billing* billing;\n",
    "public:\n",
    "    Cashier(Billing* b) : billing(b) {}\n",
    "\n",
    "    void GenerateBill() {\n",
    "        billing->CalculateBill();\n",
    "    }\n",
    "};"
   ]
  },
  {
   "cell_type": "code",
   "execution_count": null,
   "id": "c21e2b9c53414bfe",
   "metadata": {
    "lines_to_next_cell": 2,
    "slideshow": {
     "slide_type": "subslide"
    },
    "tags": [
     "alt",
     "subslide"
    ]
   },
   "outputs": [],
   "source": [
    "class Janitor {\n",
    "    Cleaning* cleaning;\n",
    "public:\n",
    "    Janitor(Cleaning* c) : cleaning(c) {}\n",
    "\n",
    "    void Clean() {\n",
    "        cleaning->CleanTables();\n",
    "    }\n",
    "};"
   ]
  },
  {
   "cell_type": "code",
   "execution_count": null,
   "id": "5d7a7918b21d5567",
   "metadata": {},
   "outputs": [],
   "source": [
    "Restaurant restaurant;\n",
    "Customer customer(&restaurant, &restaurant);\n",
    "Chef chef(&restaurant);\n",
    "Cashier cashier(&restaurant);\n",
    "Janitor janitor(&restaurant);"
   ]
  },
  {
   "cell_type": "code",
   "execution_count": null,
   "id": "0136280523cd9798",
   "metadata": {},
   "outputs": [],
   "source": [
    "customer.MakeOrder();\n",
    "chef.PrepareFood();\n",
    "cashier.GenerateBill();\n",
    "janitor.Clean();"
   ]
  },
  {
   "cell_type": "code",
   "execution_count": null,
   "id": "6b4e03423667dbb7",
   "metadata": {},
   "outputs": [],
   "source": []
  }
 ],
 "metadata": {
  "kernelspec": {
   "display_name": "C++17",
   "language": "C++17",
   "name": "xcpp17"
  },
  "language_info": {
   "codemirror_mode": "text/x-c++src",
   "file_extension": ".cpp",
   "mimetype": "text/x-c++src",
   "name": "c++",
   "version": "17"
  }
 },
 "nbformat": 4,
 "nbformat_minor": 5
}
