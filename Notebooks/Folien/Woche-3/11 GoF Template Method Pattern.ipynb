{
 "cells": [
  {
   "cell_type": "markdown",
   "id": "3ae44d59c9132b91",
   "metadata": {
    "lang": "de",
    "slideshow": {
     "slide_type": "slide"
    },
    "tags": [
     "slide"
    ]
   },
   "source": [
    "\n",
    "<img src=\"data:image/png;base64,iVBORw0KGgoAAAANSUhEUgAAAEAAAABACAYAAACqaXHeAAAABHNCSVQICAgIfAhkiAAAAAlwSFlzAAACkwAAApMBv+Bu1wAAABl0RVh0U29mdHdhcmUAd3d3Lmlua3NjYXBlLm9yZ5vuPBoAAAumSURBVHic1Vt7WFRlGv99ZwYGZoABVGCQS2gqqVikbImauanrqm31aNaz1SYhdtu85LqumTjenloto9ZWS+yiWZZPW7aaaWghXjC8cF0uclHuAwwwA3Ofc779A0HGGZgzZway318z53u/93vP73zn/d73O99L8Ctg6QcF8yjBK5TQSYRCSihKAOw3e/vv+iQpxjiYtpDBHOy5vXljRCzZAWBuHyK1lNB16Usm7AchdDBsGhQCXvx3fpBVjDUAVgLw5tElk+GY5R+8MD5vgE0bWAKUSsrUDs9/mlCyHUCIi905gB6ghFmdnhKnGgj7gAEkYOkHhTMo4dIATHBTVTuAN32Mvmn/WjbK5AHTbOBxApI+KogUW7mtAHnGw6rLALJqz9K4I55U6jECntmXJ/M1YDUlZA0AH0/pdYAMgFuxZ+k9RZ5Q5j4BlJKlHxYsBPA2JYh03yResFBCd1nF3IZPkuLb3VHkFgEpHxYmAFwagER39LiBVoBuag8s3Xlo0SJWiAJBBDy393K42CreQAmWAGCE6PAsaC5AVuxZOiHT1Z4uEbByxznfTj+/ZQDWAfB3dbCBBz1CCZalp9xdxbcHbwKSd+c9zDDkXQAxgmwbPJgpobs5RvL6R8mxHc6EnRKQnJ4bTyiTRige8Ix9g4Z6SrAxoi4uXakkXF9CfRLw8s7iISaJOZVQ8jIAkbvWyKVi3BXuhzvDZAgLlCDIzwsy7y61OjOLTqMV9W0mVDcbUFLfiYZ2j8U8OV3+Ie6co0aHBKR8WDAfoPsBBLozMiHAvTFyPBAbjNhwPxAXPE5tqxHnr7bhdHErTJY+HyBfcAC2D6+Pe+3W2WBn0o2l7Qz4JS19YkKUPxber0CYXOKOGnQarTie34KMghawnHsJIiVEmZ4St7H3NQcE5GcDuE/oIFKJCM9MG46JMXKhKhyiRm3Ex5k1qFUL2y4ws2zxycJyU217+8M4kFLbfd3m3V6yJy+GgGwXaqQiSIK/zx+BkaEyoSr6hFwqRuLoYKg0JjS08fcPlEJ18Vpt3vH8snitwaQASDUKvrvQ3S7uLUwoGSnUwOhhvlgxJwYyH7f9ZZ/wEhEs/X0UvvStx6kitTNxY7Vak32qqDzBwrJTeq5yuLO3kA0BDEfFHON6cBgWKMHyOXcM6M13gxDgicRwdJpY/FLuOA3QGU05R/NKwzR644MOmm2MFDsQcAk+Xgxenh0NPx+3VfEGAbB4egRatGZUNul7rrMsV5lZUtVW0aRO4KvL7Tj+icRwhLrp6YVAzBAkPRgBLzEDULQV1TWe/jjrYnRFk3qiS3rcMWKUQobE0UEu99MZWZSrdGjVWWC2cpD7eiFqqA/Cg1zbRhjq741RIZKi1w6dVRjMVkGRqlsELEgIcymbqmzS47tLKpTU6cBR+zU9VC7BrAlDMXVMEBgnUVNJfac2Jf10+5mShnEumm0DwQSMVsgwIlTKS5bjKL7KbsBPRWr0F8qoNCZ8llWHs6VteH5mFIJlXnYyzVqzZdt/CyveOnolFkCAMOtvQrAPmBobzEuOoxS7M6pxysnN90ZVkx5vHq6AusPcc81o4egXZ6sropZ9wd24eY9A0AwQiwji7+BH/rc5KuRe17o8RrvOgvdPXMfaR0biYlWb6s87T4mvNWsFxyl9QRABI0KkkIidT57GdhNOFLQIGQIAUNmkK/rd+iPi3OvNYwQrcQJhBPB894/lNoMTkMBQioaL12orc6/XJ4I69rNiEYNRYV2zsLjOPiDy8RIhJsQfFiuHclXfM1AQAQoe6z7LUeRVuzz19TXq9pyTRRWTbMJXBwgJ8MH/ti8AADBP7cWti8r4yCDkbHkEje0GKF76vE89gggIdOCdb0WjxgS9ifdGLdUYjdnHckujOgym6f0JMoTAz0cMP5+bNvjf+N1htEDEMJB6iyCTdN0aIUCAb1e71mCx0yeIAImX8/e/XWc/mCNYWbY4o7DcUtOqmcxHfmLMUPyy5U821zR7/wIAiPzrQUyMGYpvV83saQuV+/a0i576yC7+GLAAnjgJkSioKq/katnFopIh1C8I8B78cBoQSACfLSq5rE/VlvrmlvM/Zl2IN1st0wAAGjUgEuVAPiQcIvHw/vReqmqBPHkfwgKlKH17YddYyfsAdL0CjRoD5Mn7EH/HEPy8fh5UGgNGv3oIABxGn4IIaOMxvRWBEsh8RNAZb/oBnd6Q8/3pc6Ht2g77uJ1lE9DapIe3JBMBwZNAiMNdFY5SaA0W+PnctKHDaOlxglaWg9bAQWeyAgAodfzud0MQAY08dmwZQjAhKgDny9rAclzl6ZzLreXXa52lqVKYTdOhbmyA1D8XUr9E9LFx26Q1YuzqrwHAbgUAgMKaNoxd/TUs1v5nqyACKnrl4P1hXnwI+8nxy+fOXMyfzFE6gvcAlCqg0yqg7yhSREeIG3SsXSBkZTmH6383jBa23/ZuCMoFqpr0vPxASIC3aMqdftM4SgURfXdMyLiKnU+P+eqlKaqwAInTPTAhEESAlaW4co1fkLMlaQYem+J67hIxLACHNz0BX4kYj0+NDS3d8Xjw1kfHVXiJGY+eEhGcDWaVtvIbgBAcSl2IlQvu4/1hZPLYCJx/NwnRoTe31gOkEvLaovtHFv/zUebJiYoSITY7tE9ox6sNOpSr+PkCEUOw44XZyH4vGXMSRkIscjzs2OhhSH91PrLeWYyIYY6zzZGKIK8vVs2NzVw7Szte4Vct1P5u2DyT53fnzeEYcoxnXxoVJCpct+CuOOLKNy8ArR0GnCuqRXWTBnqTBYpgP0wcrUBs5FCX9FisHJLeOVp04FKjAgzDb4OCYhcOLnmp+68g52SxsEU/nsumdarmOIVsPpL/GO9S/2B/X8y/f5SQoW1Q2dCG/2QWjoOJbYNUehoyeSJcvCeXhDlKGy8VFlfklpT1pKkrdp3AlPGRLj89d2GysHh222EYugKeIOh1D0BvqESAvBUS30l89fD1AYaahsbMfd8c9c8tLpvSO0fvNJjxSOpXaNbw8weeAKXA4u2HcaGk7pYWbgS0bZPQqsoBa6nho8uGAI4h1lvH6ujszDp4NEP9Q1b2dIvV6jA8LatVY87az9EyCCRwlGLZ+z/g4E/9nJJj2QS0NodCqz4PSnW3tvb+Y0MAJbSi+7eFtZb8kHU+/+D3GdM6dJ0Rzgy7fLUB01Z+ior6Nl43IgQGkxWLNn+NnYdz+Ih7w2SajJYGHXTabODGniyD8t5Cdu47afeVo4VlFZKL+cUPUlCXP/bJZRLsXj4PT85wa7veDpevNmDx9u9QUNUkTAFhShAQaAbjPxeHnu15d+zXr1lbJoFyZ+HmAYk5CSPx9vOzMDZ6mDtq0KzRY9uX5/DuNxecJjZOQbABP6Zusr3kCDM3zgPIZ3DziAxDCB6bGouUufGYee8IiFz48nylvBGfnshD+rEr0Bn57S71Aw7ANkzl1kGp7P+ITA/+oAwGx2wAhUcOSYUEyvBQfAymxUUhNnIIokLkCPL3ASEErVoDWrR6FFY14dLVBpy8cg1ltR7LfXJAsRwnU887anT+SGYp7wFl0gD0u1l5G6IewFpkrN8P9F19wn9Ozt74MLjfxEFJA0Dfg8FnK86ucf+gpA0eV3qjXfQiKN2M2/KoLI6AIctwYr3nj8raYJYyHJTZANwuh6VxBQyzAideP+1qR/fqBR7alACGpoGSX+u4vBqEbEbgmJ04NIjH5W1BCWZtWghK3gIQ5b4+XrCAYBeodyoy/qFxR5HnaoZmb5eB068GBqFkhsUK/JR6m5TM3IrZWyLB0a0A9XzRFCWrcHL97Vk0ZYeHNs4AYdIA6n7ZHCFvQixPw7Flt3/ZnA2USgZnmKcBCCycJAfAsH/DCaXADMg5Bqd2eN4bQTCZ1wCEb+nszxBhBY6n/rZLZ+0wY/MYiGjfxdMEtaBY5yx89SQGl4BudGWbrwCYBEAKkGIAn8HK7sLPykEtn/8/zE19fO7n0IAAAAAASUVORK5CYII=\"\n",
    "     style=\"display:block;margin:auto;width:5%\"/>\n",
    "<br>\n",
    "\n",
    "<div style=\"text-align:center; font-size:200%;\">\n",
    " <b>GoF: Template Method Pattern</b>\n",
    "</div>\n",
    "<br/>\n",
    "<div style=\"text-align:center; font-size:120%;\">Dr. Matthias Hölzl</div>\n",
    "<br/>\n",
    "<div style=\"text-align:center;\">Coding-Akademie München</div>\n",
    "<br/>\n",
    "<!-- 11 GoF Template Method Pattern.ipynb -->\n",
    "<!-- slides/module_450_design_patterns/topic_210_template_method.cpp -->"
   ]
  },
  {
   "cell_type": "markdown",
   "id": "754f03245523cddc",
   "metadata": {
    "lang": "de",
    "slideshow": {
     "slide_type": "slide"
    },
    "tags": [
     "slide"
    ]
   },
   "source": [
    "## Template Method (Behavioral Pattern)\n",
    "\n",
    "### Zweck\n",
    "\n",
    "Definiere ein Verhalten oder einen Algorithmus, in dem bestimmte Schritte zur\n",
    "Implementierung oder Modifikation in Unterklassen vorgesehen sind. Die\n",
    "Unterklassen können individuelle Schritte, die vom Algorithmus ausgeführt\n",
    "werden überschreiben, haben aber keinen Einfluss auf seine Gesamtstruktur."
   ]
  },
  {
   "cell_type": "markdown",
   "id": "02f013e371f9003b",
   "metadata": {
    "lang": "de",
    "slideshow": {
     "slide_type": "slide"
    },
    "tags": [
     "slide"
    ]
   },
   "source": [
    "\n",
    "## Template Method (Behavioral Pattern)\n",
    "\n",
    "### Motivation\n",
    "\n",
    "- Eine Anwendung, die mit verschiedenen Arten von Dokumenten umgehen muss.\n",
    "- In manchen Operationen der Anwendung gibt es Gemeinsamkeiten, aber auch\n",
    "  Unterschiede zwischen den verschiedenen Dokumenten\n",
    "- Z.B. ist der Ablauf zum Speichern eines Dokuments immer gleich, aber die\n",
    "  Art und Weise, wie die einzelnen Dokumenttypen gespeichert werden, ist\n",
    "  unterschiedlich\n",
    "- Die Anwendung definiert konkrete Operationen, die abstrakte Operationen\n",
    "  aufrufen, die Teil ihrer Ausführung sind\n",
    "- Instanzen der Anwendung implementieren die virtuellen Methoden"
   ]
  },
  {
   "cell_type": "markdown",
   "id": "0df6574f4abece85",
   "metadata": {
    "lang": "de",
    "slideshow": {
     "slide_type": "subslide"
    },
    "tags": [
     "subslide"
    ]
   },
   "source": [
    "\n",
    "### Klassendiagramm\n",
    "\n",
    "<img src=\"img/template_method_example.svg\"\n",
    "     style=\"display:block;margin:auto;width:40%\"/>"
   ]
  },
  {
   "cell_type": "code",
   "execution_count": null,
   "id": "71a12c6d97d810e7",
   "metadata": {
    "slideshow": {
     "slide_type": "subslide"
    },
    "tags": [
     "keep",
     "subslide"
    ]
   },
   "outputs": [],
   "source": [
    "#include <iostream>\n",
    "#include <string>"
   ]
  },
  {
   "cell_type": "code",
   "execution_count": null,
   "id": "9409a66d1c0a7776",
   "metadata": {
    "tags": [
     "keep"
    ]
   },
   "outputs": [],
   "source": [
    "class Document {\n",
    "public:\n",
    "  virtual ~Document() = default;\n",
    "\n",
    "  void Save() const {\n",
    "    std::cout << \"Saving to existing file.\\n\";\n",
    "    DoSave();\n",
    "    std::cout << \"Document saved.\\n\\n\";\n",
    "  }\n",
    "\n",
    "  void SaveAs() const {\n",
    "    std::cout << \"Asking user for file name.\\n\";\n",
    "    DoSave();\n",
    "    std::cout << \"Document saved.\\n\\n\";\n",
    "  }\n",
    "\n",
    "protected:\n",
    "    virtual void DoSave() const = 0;\n",
    "};"
   ]
  },
  {
   "cell_type": "code",
   "execution_count": null,
   "id": "cda007fe9750342e",
   "metadata": {
    "slideshow": {
     "slide_type": "subslide"
    },
    "tags": [
     "keep",
     "subslide"
    ]
   },
   "outputs": [],
   "source": [
    "class TextDocument : public Document {\n",
    "  void DoSave() const override {\n",
    "    std::cout << \"-> Saving text document in DOCX format.\\n\";\n",
    "  }\n",
    "};"
   ]
  },
  {
   "cell_type": "code",
   "execution_count": null,
   "id": "f6849b86aedf75ce",
   "metadata": {
    "tags": [
     "keep"
    ]
   },
   "outputs": [],
   "source": [
    "class SpreadsheetDocument : public Document {\n",
    "  void DoSave() const override {\n",
    "    std::cout << \"-> Saving spreadsheet in XLSX format.\\n\";\n",
    "  }\n",
    "};"
   ]
  },
  {
   "cell_type": "code",
   "execution_count": null,
   "id": "86f9dd958efd2c59",
   "metadata": {
    "slideshow": {
     "slide_type": "subslide"
    },
    "tags": [
     "keep",
     "subslide"
    ]
   },
   "outputs": [],
   "source": [
    "SpreadsheetDocument spreadsheet;\n",
    "spreadsheet.Save();\n",
    "spreadsheet.SaveAs();"
   ]
  },
  {
   "cell_type": "code",
   "execution_count": null,
   "id": "3e84a0dd712b4901",
   "metadata": {
    "tags": [
     "keep"
    ]
   },
   "outputs": [],
   "source": [
    "TextDocument text;\n",
    "text.Save();\n",
    "text.SaveAs();"
   ]
  },
  {
   "cell_type": "code",
   "execution_count": null,
   "id": "381112b1d8fc51e6",
   "metadata": {
    "slideshow": {
     "slide_type": "subslide"
    },
    "tags": [
     "keep",
     "subslide"
    ]
   },
   "outputs": [],
   "source": [
    "const Document* doc = &spreadsheet;\n",
    "doc->Save();"
   ]
  },
  {
   "cell_type": "code",
   "execution_count": null,
   "id": "6d25947b337f4ff9",
   "metadata": {
    "tags": [
     "keep"
    ]
   },
   "outputs": [],
   "source": [
    "doc = &text;\n",
    "doc->SaveAs();"
   ]
  },
  {
   "cell_type": "markdown",
   "id": "a00831495989e701",
   "metadata": {
    "lang": "de",
    "slideshow": {
     "slide_type": "slide"
    },
    "tags": [
     "slide"
    ]
   },
   "source": [
    "\n",
    "## Template Method (Behavioral Pattern)\n",
    "\n",
    "### Anwendbarkeit\n",
    "\n",
    "- Um die invarianten Teile eines Algorithmus einmal zu implementieren und\n",
    "  Verhaltensvariationen in Unterklassen zu realisieren\n",
    "- Zentralisieren von gemeinsamem Verhalten in einer Klasse, um\n",
    "  Code-Duplizierung zu vermeiden\n",
    "- Kontrolle der Erweiterung von Verhalten durch Unterklassen"
   ]
  },
  {
   "cell_type": "markdown",
   "id": "4fe1cb225520c8ee",
   "metadata": {
    "lang": "de",
    "slideshow": {
     "slide_type": "slide"
    },
    "tags": [
     "slide"
    ]
   },
   "source": [
    "\n",
    "## Template Method (Behavioral Pattern)\n",
    "\n",
    "### Structure\n",
    "\n",
    "<img src=\"img/pat_template_method.svg\"\n",
    "     style=\"display:block;margin:auto;width:40%\"/>"
   ]
  },
  {
   "cell_type": "markdown",
   "id": "58b5529db50d60e7",
   "metadata": {
    "lang": "de",
    "slideshow": {
     "slide_type": "slide"
    },
    "tags": [
     "slide"
    ]
   },
   "source": [
    "\n",
    "## Template Method (Behavioral Pattern)\n",
    "\n",
    "### Teilnehmer\n",
    "\n",
    "- `AbstractClass`:\n",
    "  - definiert abstrakte *primitive Operationen*, die konkrete Unterklassen\n",
    "    implementieren (Hooks)\n",
    "  - implementiert eine Template-Methode, die das Skelett eines Algorithmus\n",
    "    definiert\n",
    "- `ConcreteClass`:\n",
    "  - implementiert die primitiven Operationen"
   ]
  },
  {
   "cell_type": "markdown",
   "id": "89ea0f9cd9f174fc",
   "metadata": {
    "lang": "de",
    "slideshow": {
     "slide_type": "slide"
    },
    "tags": [
     "slide"
    ]
   },
   "source": [
    "\n",
    "## Template Method (Behavioral Pattern)\n",
    "\n",
    "### Interaktionen\n",
    "\n",
    "`ConcreteClass` verlässt sich auf `AbstractClass`, um die invarianten Schritte\n",
    "des Algorithmus zu implementieren"
   ]
  },
  {
   "cell_type": "markdown",
   "id": "63c35cb5f4d7267e",
   "metadata": {
    "lang": "de",
    "slideshow": {
     "slide_type": "slide"
    },
    "tags": [
     "slide"
    ]
   },
   "source": [
    "\n",
    "## Template Method (Behavioral Pattern)\n",
    "\n",
    "### Consequences\n",
    "\n",
    "- Template Methods sind eine grundlegende Strategie, zur Wiederverwendung von\n",
    "  Code\n",
    "- Sie führen zu einem invertierten Kontrollfluss, der oft als \"Hollywood\n",
    "  Prinzip\" bezeichnet wird (\"Don't call us, we'll call you\")\n",
    "- Es ist für Template Methods essentiell, klar zu definieren, welche\n",
    "  Methoden überschrieben werden *müssen* und welche *optional* sind"
   ]
  },
  {
   "cell_type": "markdown",
   "id": "1e0d9a0b1282dc64",
   "metadata": {
    "lang": "de",
    "slideshow": {
     "slide_type": "subslide"
    },
    "tags": [
     "subslide"
    ]
   },
   "source": [
    "\n",
    "## Workshop: Mode-Design\n",
    "\n",
    "### Stilvolle Kleidung mit dem Template Method Pattern\n",
    "\n",
    "Die Welt der Mode ist groß, mit unzähligen Stilen, Materialien und\n",
    "Designmustern. Wenn es jedoch um den eigentlichen Herstellungsprozess\n",
    "verschiedener Kleidungsstücke geht, gibt es bestimmte Schritte, die relativ\n",
    "konstant bleiben. Zum Beispiel könnte der Prozess Folgendes beinhalten:\n",
    "- Entwickeln eines Designmusters für das Kleidungsstück\n",
    "- Auswahl des richtigen Materials\n",
    "- Schneiden des Materials nach dem Muster\n",
    "- Zusammennähen der Teile\n",
    "- Hinzufügen von Veredelungs-Details"
   ]
  },
  {
   "cell_type": "markdown",
   "id": "f7bd7c00f3fbdaa2",
   "metadata": {
    "lang": "de",
    "lines_to_next_cell": 2,
    "slideshow": {
     "slide_type": "subslide"
    },
    "tags": [
     "subslide"
    ]
   },
   "source": [
    "\n",
    "Ihre Aufgabe als angehender Modedesigner (und Programmierer!) ist es, einen\n",
    "systematischen Ansatz zur Gestaltung verschiedener Arten von Kleidung zu\n",
    "entwickeln. Aber nicht nur irgendeinen Ansatz, wir brauchen einen effizienten\n",
    "und erweiterbaren Ansatz. Nehmen wir an, Sie möchten sowohl Kleider als auch\n",
    "Anzüge entwerfen. Während der Gesamtprozess ähnlich ist, variieren die\n",
    "Details erheblich. Wenn Sie z.B. Veredelungs-details hinzufügen, benötigen\n",
    "Kleider möglicherweise Spitzen-Details, während bei Anzügen die Platzierung\n",
    "der Knöpfe wichtig ist.\n",
    "\n",
    "Das Ziel ist es, ein System zu entwickeln, in dem die generischen Schritte\n",
    "einmal definiert werden, die spezifischen Schritte jedoch je nach\n",
    "Kleidungsstück angepasst werden können.\n",
    "\n",
    "1. Definieren Sie einen generischen Prozess zur Herstellung von Kleidung\n",
    "   basierend auf den oben beschriebenen Schritten.\n",
    "2. Identifizieren Sie Schritte, die allen Kleidungsstücken gemeinsam sind.\n",
    "3. Identifizieren Sie Schritte, die für jeden Kleidungstyp einzigartig und\n",
    "   spezifisch sind.\n",
    "4. Implementieren Sie diesen Prozess mit dem Template Method Design Pattern\n",
    "   in C++.\n",
    "5. Implementieren Sie konkrete Klassen zur Herstellung von Anzügen und\n",
    "   Kleidern."
   ]
  },
  {
   "cell_type": "code",
   "execution_count": null,
   "id": "a0ee650c342d197c",
   "metadata": {
    "slideshow": {
     "slide_type": "subslide"
    },
    "tags": [
     "subslide"
    ]
   },
   "outputs": [],
   "source": [
    "#include <iostream>"
   ]
  },
  {
   "cell_type": "code",
   "execution_count": null,
   "id": "f6a83d5010a09d7a",
   "metadata": {},
   "outputs": [],
   "source": [
    "class Clothing {\n",
    "public:\n",
    "    // The template method\n",
    "    void DesignClothing() {\n",
    "        DevelopDesignPattern();\n",
    "        ChooseMaterial();\n",
    "        CutPattern();\n",
    "        Sew();\n",
    "        AddDetails();\n",
    "    }\n",
    "\n",
    "    virtual void DevelopDesignPattern() = 0;\n",
    "\n",
    "    virtual void ChooseMaterial() {\n",
    "        std::cout << \"You can't go wrong with cotton as material.\\n\";\n",
    "    }\n",
    "\n",
    "    void CutPattern() {\n",
    "        std::cout << \"Cutting based on the design pattern.\\n\";\n",
    "    }\n",
    "\n",
    "    void Sew() {\n",
    "        std::cout << \"Sewing pieces together.\\n\";\n",
    "    }\n",
    "\n",
    "    virtual void AddDetails() = 0;\n",
    "};"
   ]
  },
  {
   "cell_type": "code",
   "execution_count": null,
   "id": "d75aaf5e3b624153",
   "metadata": {
    "slideshow": {
     "slide_type": "subslide"
    },
    "tags": [
     "subslide"
    ]
   },
   "outputs": [],
   "source": [
    "class Dress : public Clothing {\n",
    "public:\n",
    "    void DevelopDesignPattern() override {\n",
    "        std::cout << \"Dress: Developing a design pattern for the dress.\\n\";\n",
    "    }\n",
    "\n",
    "    void ChooseMaterial() override {\n",
    "        std::cout << \"Dress: Choosing satin material.\\n\";\n",
    "    }\n",
    "\n",
    "    void AddDetails() override {\n",
    "        std::cout << \"Dress: Adding lace and sequins to the dress.\\n\";\n",
    "    }\n",
    "};"
   ]
  },
  {
   "cell_type": "code",
   "execution_count": null,
   "id": "9004c52a3caf4519",
   "metadata": {
    "slideshow": {
     "slide_type": "subslide"
    },
    "tags": [
     "subslide"
    ]
   },
   "outputs": [],
   "source": [
    "class Suit : public Clothing {\n",
    "public:\n",
    "    void DevelopDesignPattern() override {\n",
    "        std::cout << \"Suit: Developing a design pattern for the suit.\\n\";\n",
    "    }\n",
    "\n",
    "    void ChooseMaterial() override {\n",
    "        std::cout << \"Suit: Choosing wool material.\\n\";\n",
    "    }\n",
    "\n",
    "    void AddDetails() override {\n",
    "        std::cout << \"Suit: Adding buttons and pockets to the suit.\\n\";\n",
    "    }\n",
    "};"
   ]
  },
  {
   "cell_type": "code",
   "execution_count": null,
   "id": "204d63647a166292",
   "metadata": {
    "slideshow": {
     "slide_type": "subslide"
    },
    "tags": [
     "subslide"
    ]
   },
   "outputs": [],
   "source": [
    "class TShirt : public Clothing {\n",
    "public:\n",
    "    void DevelopDesignPattern() override {\n",
    "        std::cout << \"TShirt: Developing a design pattern for the T-Shirt.\\n\";\n",
    "    }\n",
    "\n",
    "    void AddDetails() override {\n",
    "        std::cout << \"TShirt: Adding a logo to the T-Shirt.\\n\";\n",
    "    }\n",
    "};"
   ]
  },
  {
   "cell_type": "code",
   "execution_count": null,
   "id": "76308f2829e3fa1e",
   "metadata": {
    "slideshow": {
     "slide_type": "subslide"
    },
    "tags": [
     "subslide"
    ]
   },
   "outputs": [],
   "source": [
    "std::cout << \"Designing a Dress:\\n\";\n",
    "Dress dress;\n",
    "dress.DesignClothing();"
   ]
  },
  {
   "cell_type": "code",
   "execution_count": null,
   "id": "49c00822ac58c179",
   "metadata": {
    "slideshow": {
     "slide_type": "subslide"
    },
    "tags": [
     "subslide"
    ]
   },
   "outputs": [],
   "source": [
    "std::cout << \"\\nDesigning a Suit:\\n\";\n",
    "Suit suit;\n",
    "suit.DesignClothing();"
   ]
  },
  {
   "cell_type": "code",
   "execution_count": null,
   "id": "8496323b228265f4",
   "metadata": {
    "slideshow": {
     "slide_type": "subslide"
    },
    "tags": [
     "subslide"
    ]
   },
   "outputs": [],
   "source": [
    "std::cout << \"\\nDesigning a T-Shirt:\\n\";\n",
    "TShirt tShirt;\n",
    "tShirt.DesignClothing();"
   ]
  }
 ],
 "metadata": {
  "kernelspec": {
   "display_name": "C++17",
   "language": "C++17",
   "name": "xcpp17"
  },
  "language_info": {
   "codemirror_mode": "text/x-c++src",
   "file_extension": ".cpp",
   "mimetype": "text/x-c++src",
   "name": "c++",
   "version": "17"
  }
 },
 "nbformat": 4,
 "nbformat_minor": 5
}
