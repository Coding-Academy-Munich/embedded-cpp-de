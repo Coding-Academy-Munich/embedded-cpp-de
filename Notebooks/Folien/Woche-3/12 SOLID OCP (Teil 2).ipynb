{
 "cells": [
  {
   "cell_type": "markdown",
   "id": "1a51c157ba924a9f",
   "metadata": {
    "lang": "de",
    "slideshow": {
     "slide_type": "slide"
    },
    "tags": [
     "slide"
    ]
   },
   "source": [
    "\n",
    "<img src=\"data:image/png;base64,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\"\n",
    "     style=\"display:block;margin:auto;width:5%\"/>\n",
    "<br>\n",
    "\n",
    "<div style=\"text-align:center; font-size:200%;\">\n",
    " <b>SOLID: OCP (Teil 2)</b>\n",
    "</div>\n",
    "<br/>\n",
    "<div style=\"text-align:center; font-size:120%;\">Dr. Matthias Hölzl</div>\n",
    "<br/>\n",
    "<div style=\"text-align:center;\">Coding-Akademie München</div>\n",
    "<br/>\n",
    "<!-- 12 SOLID OCP (Teil 2).ipynb -->\n",
    "<!-- slides/module_500_solid_grasp/topic_340_solic_ocp_part2.cpp -->"
   ]
  },
  {
   "cell_type": "markdown",
   "id": "41ac3116f09d8a54",
   "metadata": {
    "lang": "de",
    "slideshow": {
     "slide_type": "subslide"
    },
    "tags": [
     "subslide"
    ]
   },
   "source": [
    "\n",
    "## Wiederholung: OCP-Verletzung\n",
    "\n",
    "<img src=\"img/movie_v0.svg\" alt=\"MovieV0\"\n",
    "     style=\"display:block;margin:auto;width:50%\"/>"
   ]
  },
  {
   "cell_type": "markdown",
   "id": "d67e797a3a37aa23",
   "metadata": {
    "lang": "de",
    "slideshow": {
     "slide_type": "subslide"
    },
    "tags": [
     "subslide"
    ]
   },
   "source": [
    "\n",
    "## Lösungsversuch 1: Vererbung\n",
    "\n",
    "<img src=\"img/movie_v2.svg\" alt=\"MovieV2\"\n",
    "     style=\"display:block;margin:auto;width:70%\"/>"
   ]
  },
  {
   "cell_type": "markdown",
   "id": "455adc169508e662",
   "metadata": {
    "lang": "de",
    "slideshow": {
     "slide_type": "subslide"
    },
    "tags": [
     "subslide"
    ]
   },
   "source": [
    "\n",
    "- OCP ist erfüllt\n",
    "- Großer Scope der Vererbung\n",
    "  - Preisberechnung ist das wichtigste an Filmen?\n",
    "- Nur eindimensionale Klassifikation\n",
    "- Keine Möglichkeit, Preisschema zu wechseln"
   ]
  },
  {
   "cell_type": "markdown",
   "id": "6d78e1f3cabff0e8",
   "metadata": {
    "lang": "de",
    "slideshow": {
     "slide_type": "subslide"
    },
    "tags": [
     "subslide"
    ]
   },
   "source": [
    "\n",
    "## Lösungsversuch 2: Strategie-Muster\n",
    "\n",
    "<img src=\"img/movie_v3.svg\" alt=\"MovieV3\"\n",
    "     style=\"display:block;margin:auto;width:80%\"/>"
   ]
  },
  {
   "cell_type": "markdown",
   "id": "cebc960a3989d448",
   "metadata": {
    "lang": "de",
    "slideshow": {
     "slide_type": "subslide"
    },
    "tags": [
     "subslide"
    ]
   },
   "source": [
    "\n",
    "- OCP ist erfüllt\n",
    "- Vererbung ist auf die Preisberechnung beschränkt\n",
    "- Mehrdimensionale Klassifikation ist einfach\n",
    "- Preisschema kann zur Laufzeit gewechselt werden"
   ]
  },
  {
   "cell_type": "markdown",
   "id": "3f08e9a984126a54",
   "metadata": {
    "lang": "de",
    "slideshow": {
     "slide_type": "subslide"
    },
    "tags": [
     "subslide"
    ]
   },
   "source": [
    "\n",
    "## Implementierung"
   ]
  },
  {
   "cell_type": "code",
   "execution_count": null,
   "id": "7b13bc8e27adfa4c",
   "metadata": {
    "tags": [
     "keep"
    ]
   },
   "outputs": [],
   "source": [
    "#include <iostream>\n",
    "#include <memory>\n",
    "#include <string>\n",
    "#include <vector>"
   ]
  },
  {
   "cell_type": "code",
   "execution_count": null,
   "id": "0773bf3f1520429d",
   "metadata": {
    "slideshow": {
     "slide_type": "subslide"
    },
    "tags": [
     "keep",
     "subslide"
    ]
   },
   "outputs": [],
   "source": [
    "class Movie;"
   ]
  },
  {
   "cell_type": "code",
   "execution_count": null,
   "id": "1b5050aed7fe9faa",
   "metadata": {
    "tags": [
     "keep"
    ]
   },
   "outputs": [],
   "source": [
    "class PricingStrategy {\n",
    "public:\n",
    "    virtual ~PricingStrategy() = default;\n",
    "    virtual double ComputePrice(const Movie&) const = 0;\n",
    "};"
   ]
  },
  {
   "cell_type": "code",
   "execution_count": null,
   "id": "654d1ac98f87ea4f",
   "metadata": {
    "lines_to_next_cell": 2,
    "slideshow": {
     "slide_type": "subslide"
    },
    "tags": [
     "keep",
     "subslide"
    ]
   },
   "outputs": [],
   "source": [
    "class RegularPriceStrategy : public PricingStrategy {\n",
    "public:\n",
    "    double ComputePrice(const Movie&) const override { return 4.99; }\n",
    "};"
   ]
  },
  {
   "cell_type": "code",
   "execution_count": null,
   "id": "cab9ddf48d114317",
   "metadata": {
    "tags": [
     "keep"
    ]
   },
   "outputs": [],
   "source": [
    "class ChildrenPriceStrategy : public PricingStrategy {\n",
    "public:\n",
    "    double ComputePrice(const Movie&) const override { return 5.99; }\n",
    "};"
   ]
  },
  {
   "cell_type": "code",
   "execution_count": null,
   "id": "3ebd95c051da33d7",
   "metadata": {
    "tags": [
     "keep"
    ]
   },
   "outputs": [],
   "source": [
    "class NewReleasePriceStrategy : public PricingStrategy {\n",
    "public:\n",
    "    double ComputePrice(const Movie&) const override { return 6.99; }\n",
    "};"
   ]
  },
  {
   "cell_type": "code",
   "execution_count": null,
   "id": "2b71c9db428c680e",
   "metadata": {
    "slideshow": {
     "slide_type": "subslide"
    },
    "tags": [
     "keep",
     "subslide"
    ]
   },
   "outputs": [],
   "source": [
    "class Movie {\n",
    "public:\n",
    "    Movie(std::string title, std::unique_ptr<PricingStrategy> pricing_strategy)\n",
    "        : title_(std::move(title)), pricing_strategy_(std::move(pricing_strategy)) {}\n",
    "\n",
    "    double ComputePrice() const { return pricing_strategy_->ComputePrice(*this); }\n",
    "\n",
    "    void PrintInfo() const {\n",
    "        std::cout << title_ << \" costs \" << ComputePrice() << std::endl;\n",
    "    }\n",
    "\n",
    "private:\n",
    "    std::string title_;\n",
    "    std::unique_ptr<PricingStrategy> pricing_strategy_;\n",
    "};"
   ]
  },
  {
   "cell_type": "code",
   "execution_count": null,
   "id": "a4e711a322286c42",
   "metadata": {
    "slideshow": {
     "slide_type": "subslide"
    },
    "tags": [
     "keep",
     "subslide"
    ]
   },
   "outputs": [],
   "source": [
    "std::vector<Movie> movies;\n",
    "movies.emplace_back(\"Casablanca\", std::make_unique<RegularPriceStrategy>());\n",
    "movies.emplace_back(\"Shrek\", std::make_unique<ChildrenPriceStrategy>());\n",
    "movies.emplace_back(\"Brand New\", std::make_unique<NewReleasePriceStrategy>());"
   ]
  },
  {
   "cell_type": "code",
   "execution_count": null,
   "id": "803243de20bd2613",
   "metadata": {
    "tags": [
     "keep"
    ]
   },
   "outputs": [],
   "source": [
    "for (const auto& movie : movies) {\n",
    "    movie.PrintInfo();\n",
    "}"
   ]
  },
  {
   "cell_type": "markdown",
   "id": "7d258a92bfe34e34",
   "metadata": {
    "lang": "de",
    "slideshow": {
     "slide_type": "subslide"
    },
    "tags": [
     "subslide"
    ]
   },
   "source": [
    "\n",
    "## Workshop: Berechnung von ÖPNV-Fahrpreisen\n",
    "\n",
    "In einer modernen Stadt stehen verschiedene öffentliche Verkehrsmittel zur\n",
    "Verfügung – Busse, U-Bahnen, Züge, Boote, etc. Jedes dieser Verkehrsmittel\n",
    "hat seine eigene Methode zur Fahrpreisberechnung. Zum Beispiel können\n",
    "Bustarife auf Pauschalpreisen basieren, U-Bahnen können auf\n",
    "Entfernungstarifen basieren und Boote können Premiumtarife für\n",
    "landschaftlich reizvolle Strecken haben."
   ]
  },
  {
   "cell_type": "markdown",
   "id": "7780f7fb98c91f01",
   "metadata": {
    "lang": "de",
    "slideshow": {
     "slide_type": "subslide"
    },
    "tags": [
     "subslide"
    ]
   },
   "source": [
    "\n",
    "Sie haben ein rudimentäres Fahrpreisberechnungssystem, das den Fahrpreis\n",
    "basierend auf dem Verkehrsmittel bestimmt. Leider verstößt dieses System\n",
    "gegen das OCP, da es ohne Modifikation nicht für die Erweiterung geöffnet\n",
    "ist. Jedes Mal, wenn ein neues Verkehrsmittel hinzugefügt werden muss, muss\n",
    "das Kernsystem geändert werden.\n",
    "\n",
    "Ihre Aufgabe ist es, das System so zu refaktorisieren, dass es dem OCP\n",
    "entspricht. Genauer gesagt, werden Sie die `switch`-Anweisung aus der\n",
    "Fahrpreisberechnungslogik entfernen. Das Ziel ist es, das System leicht\n",
    "erweiterbar zu machen, so dass neue Verkehrsmittel hinzugefügt werden können,\n",
    "ohne den vorhandenen Code zu ändern."
   ]
  },
  {
   "cell_type": "code",
   "execution_count": null,
   "id": "a0ee650c342d197c",
   "metadata": {
    "slideshow": {
     "slide_type": "subslide"
    },
    "tags": [
     "keep",
     "subslide"
    ]
   },
   "outputs": [],
   "source": [
    "#include <iostream>"
   ]
  },
  {
   "cell_type": "code",
   "execution_count": null,
   "id": "f82f80054f8d870e",
   "metadata": {
    "tags": [
     "keep"
    ]
   },
   "outputs": [],
   "source": [
    "enum class TransportType\n",
    "{\n",
    "    BUS,\n",
    "    SUBWAY,\n",
    "    TRAIN,\n",
    "    BOAT\n",
    "};"
   ]
  },
  {
   "cell_type": "code",
   "execution_count": null,
   "id": "a3df96c58588f94b",
   "metadata": {
    "lines_to_next_cell": 2,
    "slideshow": {
     "slide_type": "subslide"
    },
    "tags": [
     "keep",
     "subslide"
    ]
   },
   "outputs": [],
   "source": [
    "class Transport {\n",
    "public:\n",
    "    Transport(TransportType type) : type_(type) {}\n",
    "\n",
    "    double CalculateFare(double distance) {\n",
    "        switch (type_) {\n",
    "        case TransportType::BUS: return 2.50; // flat rate\n",
    "        case TransportType::SUBWAY:\n",
    "            return 1.50 + (distance * 0.20); // base rate + per km\n",
    "        case TransportType::TRAIN:\n",
    "            return 5.00 + (distance * 0.15);    // base rate + per km\n",
    "        case TransportType::BOAT: return 10.00; // premium rate\n",
    "        default: return 0.0;\n",
    "        }\n",
    "    }\n",
    "\n",
    "private:\n",
    "    TransportType type_;\n",
    "};"
   ]
  },
  {
   "cell_type": "code",
   "execution_count": null,
   "id": "e747ffa7903e0f25",
   "metadata": {
    "slideshow": {
     "slide_type": "subslide"
    },
    "tags": [
     "keep",
     "subslide"
    ]
   },
   "outputs": [],
   "source": [
    "Transport bus(TransportType::BUS);\n",
    "std::cout << \"Bus fare: $\" << bus.CalculateFare(10) << \"\\n\";"
   ]
  },
  {
   "cell_type": "code",
   "execution_count": null,
   "id": "cdca844d637638c8",
   "metadata": {
    "tags": [
     "keep"
    ]
   },
   "outputs": [],
   "source": [
    "Transport subway(TransportType::SUBWAY);\n",
    "std::cout << \"Subway fare: $\" << subway.CalculateFare(10) << \"\\n\";"
   ]
  },
  {
   "cell_type": "code",
   "execution_count": null,
   "id": "b4537e4e38e2d2db",
   "metadata": {
    "tags": [
     "keep"
    ]
   },
   "outputs": [],
   "source": [
    "Transport train(TransportType::TRAIN);\n",
    "std::cout << \"Train fare: $\" << train.CalculateFare(10) << \"\\n\";"
   ]
  },
  {
   "cell_type": "code",
   "execution_count": null,
   "id": "28ced26965b078db",
   "metadata": {
    "tags": [
     "keep"
    ]
   },
   "outputs": [],
   "source": [
    "Transport boat(TransportType::BOAT);\n",
    "std::cout << \"Boat fare: $\" << boat.CalculateFare(10) << \"\\n\";"
   ]
  },
  {
   "cell_type": "code",
   "execution_count": null,
   "id": "30262e3a0dd518a5",
   "metadata": {
    "slideshow": {
     "slide_type": "subslide"
    },
    "tags": [
     "alt",
     "subslide"
    ]
   },
   "outputs": [],
   "source": [
    "#include <iostream>\n",
    "#include <memory>"
   ]
  },
  {
   "cell_type": "code",
   "execution_count": null,
   "id": "64e1e684e7f3dfc6",
   "metadata": {
    "tags": [
     "alt"
    ]
   },
   "outputs": [],
   "source": [
    "class FareCalculationStrategy {\n",
    "public:\n",
    "    FareCalculationStrategy() = default;\n",
    "    FareCalculationStrategy(const FareCalculationStrategy&) = delete;\n",
    "    FareCalculationStrategy& operator=(const FareCalculationStrategy&) = delete;\n",
    "    FareCalculationStrategy(FareCalculationStrategy&&) = delete;\n",
    "    FareCalculationStrategy& operator=(FareCalculationStrategy&&) = delete;\n",
    "    virtual ~FareCalculationStrategy() = default;\n",
    "\n",
    "    virtual double CalculateFare(double distance) = 0;\n",
    "};"
   ]
  },
  {
   "cell_type": "code",
   "execution_count": null,
   "id": "1af53a888d0e13e8",
   "metadata": {
    "slideshow": {
     "slide_type": "subslide"
    },
    "tags": [
     "alt",
     "subslide"
    ]
   },
   "outputs": [],
   "source": [
    "class BusFare : public FareCalculationStrategy {\n",
    "public:\n",
    "    double CalculateFare(double distance) override {\n",
    "        return 2.50; // flat rate\n",
    "    }\n",
    "};"
   ]
  },
  {
   "cell_type": "code",
   "execution_count": null,
   "id": "cccf63ebe8f9f9f2",
   "metadata": {
    "tags": [
     "alt"
    ]
   },
   "outputs": [],
   "source": [
    "class SubwayFare : public FareCalculationStrategy {\n",
    "public:\n",
    "    double CalculateFare(double distance) override {\n",
    "        return 1.50 + (distance * 0.20); // base rate + per km\n",
    "    }\n",
    "};"
   ]
  },
  {
   "cell_type": "code",
   "execution_count": null,
   "id": "cf5fd2adc8837f95",
   "metadata": {
    "slideshow": {
     "slide_type": "subslide"
    },
    "tags": [
     "alt",
     "subslide"
    ]
   },
   "outputs": [],
   "source": [
    "class TrainFare : public FareCalculationStrategy {\n",
    "public:\n",
    "    double CalculateFare(double distance) override {\n",
    "        return 5.00 + (distance * 0.15); // base rate + per km\n",
    "    }\n",
    "};"
   ]
  },
  {
   "cell_type": "code",
   "execution_count": null,
   "id": "427f4f3119756aea",
   "metadata": {
    "tags": [
     "alt"
    ]
   },
   "outputs": [],
   "source": [
    "class BoatFare : public FareCalculationStrategy {\n",
    "public:\n",
    "    double CalculateFare(double distance) override {\n",
    "        return 10.00; // premium rate\n",
    "    }\n",
    "};"
   ]
  },
  {
   "cell_type": "code",
   "execution_count": null,
   "id": "dac217e986cf76a1",
   "metadata": {
    "slideshow": {
     "slide_type": "subslide"
    },
    "tags": [
     "alt",
     "subslide"
    ]
   },
   "outputs": [],
   "source": [
    "class Transport {\n",
    "public:\n",
    "    Transport(std::unique_ptr<FareCalculationStrategy> fareStrategy)\n",
    "        : fareStrategy_{std::move(fareStrategy)} {}\n",
    "\n",
    "    double ComputeFare(double distance) { return fareStrategy_->CalculateFare(distance); }\n",
    "\n",
    "private:\n",
    "    std::unique_ptr<FareCalculationStrategy> fareStrategy_;\n",
    "};"
   ]
  },
  {
   "cell_type": "code",
   "execution_count": null,
   "id": "8138e491b093faf9",
   "metadata": {
    "slideshow": {
     "slide_type": "subslide"
    },
    "tags": [
     "alt",
     "subslide"
    ]
   },
   "outputs": [],
   "source": [
    "Transport bus(std::make_unique<BusFare>());\n",
    "std::cout << \"Bus fare: $\" << bus.ComputeFare(10) << \"\\n\";"
   ]
  },
  {
   "cell_type": "code",
   "execution_count": null,
   "id": "49e034d51a43f47d",
   "metadata": {
    "tags": [
     "alt"
    ]
   },
   "outputs": [],
   "source": [
    "Transport subway(std::make_unique<SubwayFare>());\n",
    "std::cout << \"Subway fare: $\" << subway.ComputeFare(10) << \"\\n\";"
   ]
  },
  {
   "cell_type": "code",
   "execution_count": null,
   "id": "34c37440f881e5d1",
   "metadata": {
    "tags": [
     "alt"
    ]
   },
   "outputs": [],
   "source": [
    "Transport train(std::make_unique<TrainFare>());\n",
    "std::cout << \"Train fare: $\" << train.ComputeFare(10) << \"\\n\";"
   ]
  },
  {
   "cell_type": "code",
   "execution_count": null,
   "id": "b6bf7fc3def0711b",
   "metadata": {
    "lines_to_next_cell": 2,
    "tags": [
     "alt"
    ]
   },
   "outputs": [],
   "source": [
    "Transport boat(std::make_unique<BoatFare>());\n",
    "std::cout << \"Boat fare: $\" << boat.ComputeFare(10) << \"\\n\";"
   ]
  },
  {
   "cell_type": "markdown",
   "id": "65723c0628fbbaf5",
   "metadata": {
    "lang": "de",
    "slideshow": {
     "slide_type": "subslide"
    },
    "tags": [
     "subslide"
    ]
   },
   "source": [
    "\n",
    "## Extra-Workshop: Smart Home Device Control System mit Strategy\n",
    "\n",
    "In einem früheren Workshop haben wir ein System zur Kontrolle von Smart Home\n",
    "Devices implementiert.\n",
    "\n",
    "Lösen Sie das OCP-Problem für dieses System mit dem Strategy-Muster."
   ]
  },
  {
   "cell_type": "code",
   "execution_count": null,
   "id": "af6056c59e7adcfa",
   "metadata": {
    "slideshow": {
     "slide_type": "subslide"
    },
    "tags": [
     "subslide"
    ]
   },
   "outputs": [],
   "source": [
    "class DeviceStrategy {\n",
    "public:\n",
    "    virtual ~DeviceStrategy() = default;\n",
    "    virtual void Control() = 0;\n",
    "    virtual void GetStatus() const = 0;\n",
    "};"
   ]
  },
  {
   "cell_type": "code",
   "execution_count": null,
   "id": "04f59cacb5afad00",
   "metadata": {
    "slideshow": {
     "slide_type": "subslide"
    },
    "tags": [
     "subslide",
     "alt"
    ]
   },
   "outputs": [],
   "source": [
    "#include <iostream>"
   ]
  },
  {
   "cell_type": "code",
   "execution_count": null,
   "id": "67d6b1529057ad7e",
   "metadata": {
    "tags": [
     "alt"
    ]
   },
   "outputs": [],
   "source": [
    "class LightStrategy : public DeviceStrategy {\n",
    "public:\n",
    "    void Control() override { std::cout << \"Light control\\n\"; }\n",
    "    void GetStatus() const override { std::cout << \"Light status\\n\"; }\n",
    "};"
   ]
  },
  {
   "cell_type": "code",
   "execution_count": null,
   "id": "d3efc22916f412c8",
   "metadata": {
    "tags": [
     "alt"
    ]
   },
   "outputs": [],
   "source": [
    "class ThermostatStrategy : public DeviceStrategy {\n",
    "public:\n",
    "    void Control() override { std::cout << \"Thermostat control\\n\"; }\n",
    "    void GetStatus() const override { std::cout << \"Thermostat status\\n\"; }\n",
    "};"
   ]
  },
  {
   "cell_type": "code",
   "execution_count": null,
   "id": "cc531255401222f9",
   "metadata": {
    "tags": [
     "alt"
    ]
   },
   "outputs": [],
   "source": [
    "class SecurityCameraStrategy : public DeviceStrategy {\n",
    "public:\n",
    "    void Control() override { std::cout << \"Security camera control\\n\"; }\n",
    "    void GetStatus() const override { std::cout << \"Security camera status\\n\"; }\n",
    "};"
   ]
  },
  {
   "cell_type": "code",
   "execution_count": null,
   "id": "561e0f797d0768ab",
   "metadata": {
    "tags": [
     "alt"
    ]
   },
   "outputs": [],
   "source": [
    "class SmartLockStrategy : public DeviceStrategy {\n",
    "public:\n",
    "    void Control() override { std::cout << \"Smart lock control\\n\"; }\n",
    "    void GetStatus() const override { std::cout << \"Smart lock status\\n\"; }\n",
    "};"
   ]
  },
  {
   "cell_type": "code",
   "execution_count": null,
   "id": "54783b57f6f0e812",
   "metadata": {
    "slideshow": {
     "slide_type": "subslide"
    },
    "tags": [
     "subslide",
     "alt"
    ]
   },
   "outputs": [],
   "source": [
    "#include <memory>"
   ]
  },
  {
   "cell_type": "code",
   "execution_count": null,
   "id": "957890ed74b755c4",
   "metadata": {
    "tags": [
     "alt"
    ]
   },
   "outputs": [],
   "source": [
    "class SmartHomeDevice {\n",
    "public:\n",
    "    SmartHomeDevice(std::unique_ptr<DeviceStrategy> strategy)\n",
    "        : strategy_{std::move(strategy)} {}\n",
    "\n",
    "    void Control() { strategy_->Control(); }\n",
    "    void GetStatus() { strategy_->GetStatus(); }\n",
    "\n",
    "private:\n",
    "    std::unique_ptr<DeviceStrategy> strategy_;\n",
    "};"
   ]
  },
  {
   "cell_type": "code",
   "execution_count": null,
   "id": "42991d571ff878d8",
   "metadata": {
    "slideshow": {
     "slide_type": "subslide"
    },
    "tags": [
     "subslide",
     "alt"
    ]
   },
   "outputs": [],
   "source": [
    "#include <vector>"
   ]
  },
  {
   "cell_type": "code",
   "execution_count": null,
   "id": "9cdb351c6bd0f629",
   "metadata": {
    "tags": [
     "alt"
    ]
   },
   "outputs": [],
   "source": [
    "std::vector<SmartHomeDevice> devices;"
   ]
  },
  {
   "cell_type": "code",
   "execution_count": null,
   "id": "71914959200b72dc",
   "metadata": {
    "tags": [
     "alt"
    ]
   },
   "outputs": [],
   "source": [
    "devices.emplace_back(std::make_unique<LightStrategy>());\n",
    "devices.emplace_back(std::make_unique<ThermostatStrategy>());\n",
    "devices.emplace_back(std::make_unique<SecurityCameraStrategy>());\n",
    "devices.emplace_back(std::make_unique<SmartLockStrategy>());"
   ]
  },
  {
   "cell_type": "code",
   "execution_count": null,
   "id": "050cd16e6ffae8a5",
   "metadata": {
    "tags": [
     "alt"
    ]
   },
   "outputs": [],
   "source": [
    "for (auto& device : devices) {\n",
    "    device.Control();\n",
    "    device.GetStatus();\n",
    "}"
   ]
  }
 ],
 "metadata": {
  "kernelspec": {
   "display_name": "C++17",
   "language": "C++17",
   "name": "xcpp17"
  },
  "language_info": {
   "codemirror_mode": "text/x-c++src",
   "file_extension": ".cpp",
   "mimetype": "text/x-c++src",
   "name": "c++",
   "version": "17"
  }
 },
 "nbformat": 4,
 "nbformat_minor": 5
}
